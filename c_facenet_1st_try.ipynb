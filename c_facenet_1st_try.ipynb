{
 "cells": [
  {
   "cell_type": "code",
   "execution_count": 1,
   "metadata": {},
   "outputs": [
    {
     "name": "stderr",
     "output_type": "stream",
     "text": [
      "c:\\Tesis\\Tesis\\Codigo\\model_pytorch\\venv2\\lib\\site-packages\\tqdm\\auto.py:21: TqdmWarning: IProgress not found. Please update jupyter and ipywidgets. See https://ipywidgets.readthedocs.io/en/stable/user_install.html\n",
      "  from .autonotebook import tqdm as notebook_tqdm\n"
     ]
    }
   ],
   "source": [
    "# Importing libraries\n",
    "import time\n",
    "import copy\n",
    "\n",
    "import torch\n",
    "import torch.nn as nn\n",
    "import torch.optim as optim\n",
    "import torchvision\n",
    "import torchvision.transforms as transforms\n",
    "\n",
    "import numpy as np\n",
    "import pandas as pd\n",
    "import matplotlib.pyplot as plt\n",
    "\n",
    "from torch import nn\n",
    "from torch.utils.data import DataLoader\n",
    "from torchvision.utils import make_grid\n",
    "\n",
    "import tqdm\n",
    "from tqdm.auto import tqdm;"
   ]
  },
  {
   "cell_type": "code",
   "execution_count": 2,
   "metadata": {},
   "outputs": [],
   "source": [
    "# Define the manual seed\n",
    "torch.manual_seed(42)\n",
    "torch.cuda.manual_seed(42)"
   ]
  },
  {
   "cell_type": "code",
   "execution_count": 3,
   "metadata": {},
   "outputs": [
    {
     "name": "stdout",
     "output_type": "stream",
     "text": [
      "The device is: cuda\n",
      "Number of gpus: 1\n",
      "NVIDIA GeForce RTX 4070 Laptop GPU\n"
     ]
    }
   ],
   "source": [
    "# Make a device agnostic code\n",
    "device = \"cuda\" if torch.cuda.is_available() else \"cpu\"\n",
    "print(f\"The device is: {device}\")\n",
    "n_gpus = torch.cuda.device_count()\n",
    "print(f\"Number of gpus: {n_gpus}\")\n",
    "!nvidia-smi --query-gpu=name --format=csv,noheader"
   ]
  },
  {
   "cell_type": "code",
   "execution_count": 4,
   "metadata": {},
   "outputs": [],
   "source": [
    "class ConvBlock (nn.Module):\n",
    "    def __init__(self,\n",
    "                 in_channels: int,\n",
    "                 out_channels: int,\n",
    "                 **kwargs): # this means that the key arguments are arbitrary\n",
    "        super().__init__()\n",
    "\n",
    "        self.relu = nn.ReLU()\n",
    "        self.conv = nn.Conv2d(in_channels=in_channels,\n",
    "                              out_channels=out_channels,\n",
    "                              **kwargs,\n",
    "                              device=device)\n",
    "        self.batchnorm = nn.BatchNorm2d(num_features=out_channels) # to improve performance\n",
    "    \n",
    "    def forward(self,x):\n",
    "        x = self.conv(x)\n",
    "        x = self.batchnorm(x)\n",
    "        x = self.relu(x)\n",
    "        return x"
   ]
  },
  {
   "cell_type": "code",
   "execution_count": 5,
   "metadata": {},
   "outputs": [],
   "source": [
    "class InceptionBlock (nn.Module):\n",
    "        def __init__(self,\n",
    "                in_channels: int,\n",
    "                out_1x1: int,\n",
    "\n",
    "                red_3x3: int,\n",
    "                out_3x3: int,\n",
    "\n",
    "                red_5x5: int,\n",
    "                out_5x5: int,\n",
    "\n",
    "                out_1x1pool: int,\n",
    "                \n",
    "                l2_mode:bool):\n",
    "        \n",
    "                super().__init__()\n",
    "\n",
    "                self.branch1 = ConvBlock(in_channels=in_channels,\n",
    "                                        out_channels=out_1x1,\n",
    "                                        kernel_size=1)\n",
    "                \n",
    "                self.branch2 = nn.Sequential(\n",
    "                        ConvBlock(in_channels=in_channels,\n",
    "                                out_channels=red_3x3,\n",
    "                                kernel_size=1),\n",
    "                        ConvBlock(in_channels=red_3x3,\n",
    "                                out_channels=out_3x3,\n",
    "                                kernel_size=3,\n",
    "                                padding=1) # ojo (btw no ponemos el S bc por defecto es 1)\n",
    "                )\n",
    "                self.branch3 = nn.Sequential(\n",
    "                        ConvBlock(in_channels=in_channels,\n",
    "                                out_channels=red_5x5,\n",
    "                                kernel_size=1),\n",
    "                        ConvBlock(in_channels=red_5x5,\n",
    "                                out_channels=out_5x5,\n",
    "                                kernel_size=5,\n",
    "                                padding=2) # ojo (btw no ponemos el S bc por defecto es 1)\n",
    "                )\n",
    "                self.branch4 = nn.Sequential(\n",
    "                        nn.MaxPool2d(kernel_size=3,stride=1,padding=1),\n",
    "                        ConvBlock(in_channels=in_channels,\n",
    "                                out_channels=out_1x1pool,\n",
    "                                kernel_size=1)\n",
    "                )\n",
    "\n",
    "        def forward(self,x):\n",
    "        # N x filters x 28 x 28 → 0th x 1st x 2nd x 3rd dimension (we use 1)\n",
    "                return torch.cat([self.branch1(x),self.branch2(x),self.branch3(x),self.branch4(x)],1)"
   ]
  },
  {
   "cell_type": "code",
   "execution_count": 6,
   "metadata": {},
   "outputs": [],
   "source": [
    "class NN2 (nn.Module):\n",
    "    def __init__(self,\n",
    "                in_channels = 3,\n",
    "                use_auxiliary = True):\n",
    "        super().__init__()\n",
    "\n",
    "        self.conv1 = ConvBlock(in_channels=in_channels,\n",
    "                            out_channels=64,\n",
    "                            kernel_size=7,\n",
    "                            stride=2,\n",
    "                            padding=3)\n",
    "        \n",
    "        self.inception2 = ConvBlock(in_channels=64,\n",
    "                                    out_channels=192,\n",
    "                                    kernel_size=3,\n",
    "                                    stride=1,\n",
    "                                    padding=1)\n",
    "        \n",
    "        self.inception3a = InceptionBlock( in_channels= 192, out_1x1= 64, red_3x3= 96, out_3x3= 128, red_5x5= 16,out_5x5= 32, out_1x1pool= 32)\n",
    "        self.inception3b = InceptionBlock( in_channels= 256, out_1x1= 64, red_3x3= 96, out_3x3= 128, red_5x5= 32,out_5x5= 64, out_1x1pool= 64)\n",
    "        self.inception3c = InceptionBlock( in_channels= 320, out_1x1= 0, red_3x3= 128, out_3x3= 256, red_5x5= 32,out_5x5= 64, out_1x1pool= 2)\n",
    "        \n",
    "        self.inception4a = InceptionBlock( in_channels= 640, out_1x1= 256, red_3x3= 96, out_3x3= 192, red_5x5= 32,out_5x5= 64, out_1x1pool= 32)\n",
    "        self.inception4b = InceptionBlock( in_channels= 640, out_1x1= 224, red_3x3= 112, out_3x3= 224, red_5x5= 32,out_5x5= 64, out_1x1pool= 64)\n",
    "        self.inception4c = InceptionBlock( in_channels= 640, out_1x1= 192, red_3x3= 128, out_3x3= 256, red_5x5= 32,out_5x5= 64, out_1x1pool= 2)\n",
    "        self.inception4d = InceptionBlock( in_channels= 640, out_1x1= 160, red_3x3= 144, out_3x3= 288, red_5x5= 32,out_5x5= 64, out_1x1pool= 32)\n",
    "        self.inception4e = InceptionBlock( in_channels= 640, out_1x1= 0,   red_3x3= 160, out_3x3= 256, red_5x5= 64,out_5x5= 128, out_1x1pool= 64)\n",
    "        \n",
    "        \n",
    "        self.inception5a = InceptionBlock( in_channels= 1024, out_1x1= 384, red_3x3= 192, out_3x3= 384, red_5x5= 48,out_5x5= 128, out_1x1pool= 128)\n",
    "        self.inception5b = InceptionBlock( in_channels= 1024, out_1x1= 384, red_3x3= 192, out_3x3= 384, red_5x5= 48,out_5x5= 128, out_1x1pool= 128)\n",
    "        \n",
    "        self.maxpool = nn.MaxPool2d(kernel_size=3,stride=2,padding=1)\n",
    "        self.avgpool = nn.AvgPool2d(kernel_size=1) # stride? padding?\n",
    "        \n",
    "        self.FC = nn.Linear(1024,128)\n",
    "\n",
    "    def forward(self,x):\n",
    "        x = self.conv1(x)\n",
    "        x = self.maxpool(x)\n",
    "\n",
    "        x = self.inception2(x)\n",
    "        x = self.maxpool(x)\n",
    "\n",
    "        x = self.inception3a(x)\n",
    "        x = self.inception3b(x)\n",
    "        x = self.inception3c(x)\n",
    "\n",
    "        x = self.inception4a(x)\n",
    "        x = self.inception4b(x)\n",
    "        x = self.inception4c(x)\n",
    "        x = self.inception4d(x)\n",
    "        x = self.inception4e(x)\n",
    "\n",
    "        x = self.inception5a(x)\n",
    "        x = self.inception5b(x)\n",
    "\n",
    "        x = self.avgpool(x)\n",
    "        x = self.FC(x)\n",
    "        x = nn.functional.normalize(x,p=2,dim=1)\n",
    "\n",
    "        return x"
   ]
  },
  {
   "cell_type": "code",
   "execution_count": 7,
   "metadata": {},
   "outputs": [
    {
     "name": "stdout",
     "output_type": "stream",
     "text": [
      "Are the models in the 'cuda' device? True\n"
     ]
    },
    {
     "name": "stderr",
     "output_type": "stream",
     "text": [
      "c:\\Tesis\\Tesis\\Codigo\\model_pytorch\\venv2\\lib\\site-packages\\torch\\nn\\init.py:453: UserWarning: Initializing zero-element tensors is a no-op\n",
      "  warnings.warn(\"Initializing zero-element tensors is a no-op\")\n"
     ]
    }
   ],
   "source": [
    "model_1 = NN2().to(device)\n",
    "print(f\"Are the models in the 'cuda' device? {next(model_1.parameters()).is_cuda}\")"
   ]
  },
  {
   "cell_type": "code",
   "execution_count": null,
   "metadata": {},
   "outputs": [],
   "source": []
  }
 ],
 "metadata": {
  "kernelspec": {
   "display_name": "venv2",
   "language": "python",
   "name": "python3"
  },
  "language_info": {
   "codemirror_mode": {
    "name": "ipython",
    "version": 3
   },
   "file_extension": ".py",
   "mimetype": "text/x-python",
   "name": "python",
   "nbconvert_exporter": "python",
   "pygments_lexer": "ipython3",
   "version": "3.10.11"
  }
 },
 "nbformat": 4,
 "nbformat_minor": 2
}
