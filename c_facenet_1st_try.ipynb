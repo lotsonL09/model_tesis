{
 "cells": [
  {
   "cell_type": "markdown",
   "metadata": {},
   "source": [
    "## 1. Libraries"
   ]
  },
  {
   "cell_type": "code",
   "execution_count": 123,
   "metadata": {},
   "outputs": [],
   "source": [
    "# Importing libraries\n",
    "import time\n",
    "import copy\n",
    "\n",
    "import torch\n",
    "import torch.nn as nn\n",
    "import torch.optim as optim\n",
    "import torchvision\n",
    "import torchvision.transforms as transforms\n",
    "\n",
    "import numpy as np\n",
    "import pandas as pd\n",
    "import matplotlib.pyplot as plt\n",
    "\n",
    "from torch import nn\n",
    "from torch.utils.data import DataLoader\n",
    "from torchvision.utils import make_grid\n",
    "\n",
    "import tqdm\n",
    "from tqdm.auto import tqdm;"
   ]
  },
  {
   "cell_type": "code",
   "execution_count": 124,
   "metadata": {},
   "outputs": [],
   "source": [
    "# Define the manual seed\n",
    "torch.manual_seed(42)\n",
    "torch.cuda.manual_seed(42)"
   ]
  },
  {
   "cell_type": "code",
   "execution_count": 125,
   "metadata": {},
   "outputs": [
    {
     "name": "stdout",
     "output_type": "stream",
     "text": [
      "The device is: cuda\n",
      "Number of gpus: 1\n",
      "NVIDIA GeForce RTX 2060\n"
     ]
    }
   ],
   "source": [
    "# Make a device agnostic code\n",
    "device = \"cuda\" if torch.cuda.is_available() else \"cpu\"\n",
    "print(f\"The device is: {device}\")\n",
    "n_gpus = torch.cuda.device_count()\n",
    "print(f\"Number of gpus: {n_gpus}\")\n",
    "!nvidia-smi --query-gpu=name --format=csv,noheader"
   ]
  },
  {
   "cell_type": "markdown",
   "metadata": {},
   "source": [
    "## 2. Some Blocks\n"
   ]
  },
  {
   "cell_type": "code",
   "execution_count": 126,
   "metadata": {},
   "outputs": [],
   "source": [
    "class ConvBlock (nn.Module):\n",
    "    def __init__(self,\n",
    "                 in_channels: int,\n",
    "                 out_channels: int,\n",
    "                 **kwargs): # this means that the key arguments are arbitrary\n",
    "        super().__init__()\n",
    "\n",
    "        self.conv = nn.Conv2d(in_channels=in_channels,\n",
    "                              out_channels=out_channels,\n",
    "                              **kwargs,\n",
    "                              device=device)\n",
    "        self.batchnorm = nn.BatchNorm2d(num_features=out_channels) # to improve performance\n",
    "        self.relu = nn.ReLU()\n",
    "\n",
    "    def forward(self,x):\n",
    "        x = self.conv(x)\n",
    "        x = self.batchnorm(x)\n",
    "        x = self.relu(x)\n",
    "        return x"
   ]
  },
  {
   "cell_type": "code",
   "execution_count": 127,
   "metadata": {},
   "outputs": [],
   "source": [
    "class L2NormLayer (nn.Module):\n",
    "    def __init__(self,dim=1):\n",
    "        super().__init__()\n",
    "        self.dim=dim\n",
    "\n",
    "    def forward (self,x):\n",
    "        return nn.functional.normalize(x,p=2,dim=self.dim)"
   ]
  },
  {
   "cell_type": "code",
   "execution_count": 128,
   "metadata": {},
   "outputs": [],
   "source": [
    "class  InceptionBlock_2 (nn.Module):\n",
    "    def __init__(self,\n",
    "                 \n",
    "                 in_channels: int,\n",
    "                 red_3x3: int,\n",
    "                 out_3x3: int):\n",
    "        \n",
    "        super().__init__()\n",
    "\n",
    "        self.branch2 = nn.Sequential(\n",
    "            ConvBlock(in_channels=in_channels,\n",
    "                      out_channels=red_3x3,\n",
    "                      kernel_size=1),\n",
    "            ConvBlock(in_channels=red_3x3,\n",
    "                      out_channels=out_3x3,\n",
    "                      kernel_size=3,\n",
    "                      padding=1) # ojo (btw no ponemos el S bc por defecto es 1)\n",
    "        )\n",
    "\n",
    "    def forward(self,x):\n",
    "        # N x filters x 28 x 28 → 0th x 1st x 2nd x 3rd dimension (we use 1)\n",
    "        return self.branch2(x)"
   ]
  },
  {
   "cell_type": "code",
   "execution_count": 129,
   "metadata": {},
   "outputs": [],
   "source": [
    "from typing import Literal\n",
    "\n",
    "class InceptionBlock_m3x3 (nn.Module):\n",
    "    def __init__(self,\n",
    "                 \n",
    "                 in_channels: int,\n",
    "                 \n",
    "                 red_3x3: int,\n",
    "                 out_3x3: int,\n",
    "                 \n",
    "                 red_5x5: int,\n",
    "                 out_5x5: int): ## change later\n",
    "        \n",
    "        super().__init__()\n",
    "        \n",
    "        ## Branch 2\n",
    "        self.branch2 = nn.Sequential(\n",
    "            ConvBlock(in_channels=in_channels,\n",
    "                      out_channels=red_3x3,\n",
    "                      kernel_size=1),\n",
    "            ConvBlock(in_channels=red_3x3,\n",
    "                      out_channels=out_3x3,\n",
    "                      kernel_size=3,\n",
    "                      padding=1,\n",
    "                      stride=2) # ojo (btw no ponemos el S bc por defecto es 1)\n",
    "        )\n",
    "        \n",
    "        ## Branch 3\n",
    "        self.branch3 = nn.Sequential(\n",
    "            ConvBlock(in_channels=in_channels,\n",
    "                      out_channels=red_5x5,\n",
    "                      kernel_size=1),\n",
    "            ConvBlock(in_channels=red_5x5,\n",
    "                      out_channels=out_5x5,\n",
    "                      kernel_size=5,\n",
    "                      padding=2,\n",
    "                      stride=2) # ojo (btw no ponemos el S bc por defecto es 1)\n",
    "        )\n",
    "\n",
    "        ## Branch 4\n",
    "        self.branch4 = nn.MaxPool2d(kernel_size=3,stride=2,padding=1)\n",
    "\n",
    "    def forward(self,x):\n",
    "        # N x filters x 28 x 28 → 0th x 1st x 2nd x 3rd dimension (we use 1)\n",
    "        return torch.cat([self.branch2(x),self.branch3(x),self.branch4(x)],1)"
   ]
  },
  {
   "cell_type": "code",
   "execution_count": 130,
   "metadata": {},
   "outputs": [],
   "source": [
    "from typing import Literal\n",
    "\n",
    "class InceptionBlock (nn.Module):\n",
    "    def __init__(self,\n",
    "                 \n",
    "                 in_channels: int,\n",
    "                 out_1x1: int,\n",
    "\n",
    "                 red_3x3: int,\n",
    "                 out_3x3: int,\n",
    "\n",
    "                 red_5x5: int,\n",
    "                 out_5x5: int,\n",
    "\n",
    "                 out_1x1pool: int,\n",
    "                 \n",
    "                 pool_type: Literal['l2', 'max']):\n",
    "        \n",
    "        super().__init__()\n",
    "\n",
    "        ## Branch 1\n",
    "        self.branch1 = ConvBlock(in_channels=in_channels,\n",
    "                                 out_channels=out_1x1,\n",
    "                                 kernel_size=1)\n",
    "        \n",
    "        ## Branch 2\n",
    "        self.branch2 = nn.Sequential(\n",
    "            ConvBlock(in_channels=in_channels,\n",
    "                      out_channels=red_3x3,\n",
    "                      kernel_size=1),\n",
    "            ConvBlock(in_channels=red_3x3,\n",
    "                      out_channels=out_3x3,\n",
    "                      kernel_size=3,\n",
    "                      padding=1) # ojo (btw no ponemos el S bc por defecto es 1)\n",
    "        )\n",
    "        \n",
    "        ## Branch 3\n",
    "        self.branch3 = nn.Sequential(\n",
    "            ConvBlock(in_channels=in_channels,\n",
    "                      out_channels=red_5x5,\n",
    "                      kernel_size=1),\n",
    "            ConvBlock(in_channels=red_5x5,\n",
    "                      out_channels=out_5x5,\n",
    "                      kernel_size=5,\n",
    "                      padding=2) # ojo (btw no ponemos el S bc por defecto es 1)\n",
    "        )\n",
    "\n",
    "        ## Branch 4\n",
    "        if pool_type == 'max':\n",
    "            self.branch4 = nn.Sequential(\n",
    "                nn.MaxPool2d(kernel_size=3,stride=1,padding=1),\n",
    "                ConvBlock(in_channels=in_channels,\n",
    "                          out_channels=out_1x1pool,\n",
    "                          kernel_size=1)\n",
    "            )\n",
    "        elif pool_type == 'l2':\n",
    "            self.branch4 = nn.Sequential(\n",
    "                L2NormLayer(),\n",
    "                ConvBlock(in_channels=in_channels,\n",
    "                          out_channels=out_1x1pool,\n",
    "                          kernel_size=1)\n",
    "            )\n",
    "\n",
    "    def forward(self,x):\n",
    "        # N x filters x 28 x 28 → 0th x 1st x 2nd x 3rd dimension (we use 1)\n",
    "        output = []\n",
    "\n",
    "        if self.branch1 is not None:\n",
    "            output.append(self.branch1(x))\n",
    "        output.append(self.branch2(x))\n",
    "        output.append(self.branch3(x))\n",
    "        output.append(self.branch4(x))\n",
    "\n",
    "        return torch.cat(output,1)"
   ]
  },
  {
   "cell_type": "markdown",
   "metadata": {},
   "source": [
    "## 3. The model"
   ]
  },
  {
   "cell_type": "code",
   "execution_count": 131,
   "metadata": {},
   "outputs": [],
   "source": [
    "class NN2 (nn.Module):\n",
    "    def __init__(self,\n",
    "                 in_channels = 3):\n",
    "        super().__init__()\n",
    "\n",
    "        self.conv1 = ConvBlock(in_channels=in_channels,\n",
    "                               out_channels=64,\n",
    "                               kernel_size=7,\n",
    "                               stride=2,\n",
    "                               padding=3)\n",
    "        \n",
    "        # In this order: 'in_channels',red_3x3,out_3x3\n",
    "        self.inception2 = InceptionBlock_2(64,64,192)\n",
    "\n",
    "        # In this order: in_channels,red_3x3,out_3x3,red_5x5,out_5x5\n",
    "        self.inception3c = InceptionBlock_m3x3(320,128,256,32, 64)\n",
    "        self.inception4e = InceptionBlock_m3x3(640,160,256,64,128)\n",
    "\n",
    "        # In this order: in_channels,out_1x1,red_3x3,out_3x3,red_5x5,out_5x5,out_1x1pool\n",
    "        self.inception3a = InceptionBlock( 192, 64, 96,128,16, 32, 32, pool_type='max')\n",
    "        self.inception3b = InceptionBlock( 256, 64, 96,128,32, 64, 64, pool_type='l2')\n",
    "\n",
    "        self.inception4a = InceptionBlock( 640,256, 96,192,32, 64,128, pool_type='l2')\n",
    "        self.inception4b = InceptionBlock( 640,224,112,224,32, 64,128, pool_type='l2')\n",
    "        self.inception4c = InceptionBlock( 640,192,128,256,32, 64,128, pool_type='l2')\n",
    "        self.inception4d = InceptionBlock( 640,160,144,288,32, 64,128, pool_type='l2')\n",
    "        \n",
    "        self.inception5a = InceptionBlock(1024,384,192,384,48,128,128, pool_type='l2')\n",
    "        self.inception5b = InceptionBlock(1024,384,192,384,48,128,128, pool_type='max')\n",
    "        \n",
    "        self.maxpool = nn.MaxPool2d(kernel_size=3,stride=2,padding=1)\n",
    "        self.avgpool = nn.AvgPool2d(kernel_size=7) # stride? padding?\n",
    "        \n",
    "        self.FC = nn.Linear(1024,128)\n",
    "        self.norm = nn.BatchNorm2d(num_features=64)\n",
    "\n",
    "    def forward(self,x):\n",
    "        x = self.conv1(x)\n",
    "        x = self.maxpool(x)\n",
    "        x = self.norm(x)\n",
    "        \n",
    "        x = self.inception2(x)\n",
    "\n",
    "        x = self.maxpool(x)\n",
    "\n",
    "        x = self.inception3a(x)\n",
    "        x = self.inception3b(x)\n",
    "        x = self.inception3c(x)\n",
    "\n",
    "        x = self.inception4a(x)\n",
    "        x = self.inception4b(x)\n",
    "        x = self.inception4c(x)\n",
    "        x = self.inception4d(x)\n",
    "        x = self.inception4e(x)\n",
    "\n",
    "        x = self.inception5a(x)\n",
    "        x = self.inception5b(x)\n",
    "\n",
    "        x = self.avgpool(x)\n",
    "        x = x.view(x.shape[0],-1)\n",
    "        x = self.FC(x)\n",
    "        x = nn.functional.normalize(x,p=2,dim=1)\n",
    "\n",
    "        return x"
   ]
  },
  {
   "cell_type": "code",
   "execution_count": 132,
   "metadata": {},
   "outputs": [
    {
     "name": "stdout",
     "output_type": "stream",
     "text": [
      "Are the models in the 'cuda' device? True\n"
     ]
    }
   ],
   "source": [
    "model_1 = NN2().to(device)\n",
    "print(f\"Are the models in the 'cuda' device? {next(model_1.parameters()).is_cuda}\")"
   ]
  },
  {
   "cell_type": "markdown",
   "metadata": {},
   "source": [
    "## 4. Verify the dimensions of the model"
   ]
  },
  {
   "cell_type": "code",
   "execution_count": 133,
   "metadata": {},
   "outputs": [
    {
     "data": {
      "text/plain": [
       "tensor([[-0.1502,  0.0332, -0.0110,  ...,  0.0455,  0.1069, -0.1147],\n",
       "        [-0.1504,  0.0750, -0.0012,  ..., -0.0346,  0.1119, -0.0966],\n",
       "        [-0.1584,  0.0091,  0.0219,  ...,  0.0311,  0.0820, -0.1038],\n",
       "        ...,\n",
       "        [-0.1212,  0.0738,  0.0434,  ..., -0.0308,  0.0923, -0.0892],\n",
       "        [-0.1215,  0.0827,  0.0106,  ..., -0.0486,  0.1086, -0.0663],\n",
       "        [-0.1538,  0.0641, -0.0034,  ..., -0.0161,  0.1292, -0.1398]],\n",
       "       device='cuda:0', grad_fn=<DivBackward0>)"
      ]
     },
     "execution_count": 133,
     "metadata": {},
     "output_type": "execute_result"
    }
   ],
   "source": [
    "another_random_tensor = torch.randn(12,3,224,224).to(device)\n",
    "model_1(another_random_tensor)"
   ]
  },
  {
   "cell_type": "code",
   "execution_count": 134,
   "metadata": {},
   "outputs": [
    {
     "data": {
      "text/plain": [
       "==========================================================================================\n",
       "Layer (type:depth-idx)                   Output Shape              Param #\n",
       "==========================================================================================\n",
       "NN2                                      [51, 128]                 --\n",
       "├─ConvBlock: 1-1                         [51, 64, 112, 112]        --\n",
       "│    └─Conv2d: 2-1                       [51, 64, 112, 112]        9,472\n",
       "│    └─BatchNorm2d: 2-2                  [51, 64, 112, 112]        128\n",
       "│    └─ReLU: 2-3                         [51, 64, 112, 112]        --\n",
       "├─MaxPool2d: 1-2                         [51, 64, 56, 56]          --\n",
       "├─BatchNorm2d: 1-3                       [51, 64, 56, 56]          128\n",
       "├─InceptionBlock_2: 1-4                  [51, 192, 56, 56]         --\n",
       "│    └─Sequential: 2-4                   [51, 192, 56, 56]         --\n",
       "│    │    └─ConvBlock: 3-1               [51, 64, 56, 56]          4,288\n",
       "│    │    └─ConvBlock: 3-2               [51, 192, 56, 56]         111,168\n",
       "├─MaxPool2d: 1-5                         [51, 192, 28, 28]         --\n",
       "├─InceptionBlock: 1-6                    [51, 256, 28, 28]         --\n",
       "│    └─ConvBlock: 2-5                    [51, 64, 28, 28]          --\n",
       "│    │    └─Conv2d: 3-3                  [51, 64, 28, 28]          12,352\n",
       "│    │    └─BatchNorm2d: 3-4             [51, 64, 28, 28]          128\n",
       "│    │    └─ReLU: 3-5                    [51, 64, 28, 28]          --\n",
       "│    └─Sequential: 2-6                   [51, 128, 28, 28]         --\n",
       "│    │    └─ConvBlock: 3-6               [51, 96, 28, 28]          18,720\n",
       "│    │    └─ConvBlock: 3-7               [51, 128, 28, 28]         110,976\n",
       "│    └─Sequential: 2-7                   [51, 32, 28, 28]          --\n",
       "│    │    └─ConvBlock: 3-8               [51, 16, 28, 28]          3,120\n",
       "│    │    └─ConvBlock: 3-9               [51, 32, 28, 28]          12,896\n",
       "│    └─Sequential: 2-8                   [51, 32, 28, 28]          --\n",
       "│    │    └─MaxPool2d: 3-10              [51, 192, 28, 28]         --\n",
       "│    │    └─ConvBlock: 3-11              [51, 32, 28, 28]          6,240\n",
       "├─InceptionBlock: 1-7                    [51, 320, 28, 28]         --\n",
       "│    └─ConvBlock: 2-9                    [51, 64, 28, 28]          --\n",
       "│    │    └─Conv2d: 3-12                 [51, 64, 28, 28]          16,448\n",
       "│    │    └─BatchNorm2d: 3-13            [51, 64, 28, 28]          128\n",
       "│    │    └─ReLU: 3-14                   [51, 64, 28, 28]          --\n",
       "│    └─Sequential: 2-10                  [51, 128, 28, 28]         --\n",
       "│    │    └─ConvBlock: 3-15              [51, 96, 28, 28]          24,864\n",
       "│    │    └─ConvBlock: 3-16              [51, 128, 28, 28]         110,976\n",
       "│    └─Sequential: 2-11                  [51, 64, 28, 28]          --\n",
       "│    │    └─ConvBlock: 3-17              [51, 32, 28, 28]          8,288\n",
       "│    │    └─ConvBlock: 3-18              [51, 64, 28, 28]          51,392\n",
       "│    └─Sequential: 2-12                  [51, 64, 28, 28]          --\n",
       "│    │    └─L2NormLayer: 3-19            [51, 256, 28, 28]         --\n",
       "│    │    └─ConvBlock: 3-20              [51, 64, 28, 28]          16,576\n",
       "├─InceptionBlock_m3x3: 1-8               [51, 640, 14, 14]         --\n",
       "│    └─Sequential: 2-13                  [51, 256, 14, 14]         --\n",
       "│    │    └─ConvBlock: 3-21              [51, 128, 28, 28]         41,344\n",
       "│    │    └─ConvBlock: 3-22              [51, 256, 14, 14]         295,680\n",
       "│    └─Sequential: 2-14                  [51, 64, 14, 14]          --\n",
       "│    │    └─ConvBlock: 3-23              [51, 32, 28, 28]          10,336\n",
       "│    │    └─ConvBlock: 3-24              [51, 64, 14, 14]          51,392\n",
       "│    └─MaxPool2d: 2-15                   [51, 320, 14, 14]         --\n",
       "├─InceptionBlock: 1-9                    [51, 640, 14, 14]         --\n",
       "│    └─ConvBlock: 2-16                   [51, 256, 14, 14]         --\n",
       "│    │    └─Conv2d: 3-25                 [51, 256, 14, 14]         164,096\n",
       "│    │    └─BatchNorm2d: 3-26            [51, 256, 14, 14]         512\n",
       "│    │    └─ReLU: 3-27                   [51, 256, 14, 14]         --\n",
       "│    └─Sequential: 2-17                  [51, 192, 14, 14]         --\n",
       "│    │    └─ConvBlock: 3-28              [51, 96, 14, 14]          61,728\n",
       "│    │    └─ConvBlock: 3-29              [51, 192, 14, 14]         166,464\n",
       "│    └─Sequential: 2-18                  [51, 64, 14, 14]          --\n",
       "│    │    └─ConvBlock: 3-30              [51, 32, 14, 14]          20,576\n",
       "│    │    └─ConvBlock: 3-31              [51, 64, 14, 14]          51,392\n",
       "│    └─Sequential: 2-19                  [51, 128, 14, 14]         --\n",
       "│    │    └─L2NormLayer: 3-32            [51, 640, 14, 14]         --\n",
       "│    │    └─ConvBlock: 3-33              [51, 128, 14, 14]         82,304\n",
       "├─InceptionBlock: 1-10                   [51, 640, 14, 14]         --\n",
       "│    └─ConvBlock: 2-20                   [51, 224, 14, 14]         --\n",
       "│    │    └─Conv2d: 3-34                 [51, 224, 14, 14]         143,584\n",
       "│    │    └─BatchNorm2d: 3-35            [51, 224, 14, 14]         448\n",
       "│    │    └─ReLU: 3-36                   [51, 224, 14, 14]         --\n",
       "│    └─Sequential: 2-21                  [51, 224, 14, 14]         --\n",
       "│    │    └─ConvBlock: 3-37              [51, 112, 14, 14]         72,016\n",
       "│    │    └─ConvBlock: 3-38              [51, 224, 14, 14]         226,464\n",
       "│    └─Sequential: 2-22                  [51, 64, 14, 14]          --\n",
       "│    │    └─ConvBlock: 3-39              [51, 32, 14, 14]          20,576\n",
       "│    │    └─ConvBlock: 3-40              [51, 64, 14, 14]          51,392\n",
       "│    └─Sequential: 2-23                  [51, 128, 14, 14]         --\n",
       "│    │    └─L2NormLayer: 3-41            [51, 640, 14, 14]         --\n",
       "│    │    └─ConvBlock: 3-42              [51, 128, 14, 14]         82,304\n",
       "├─InceptionBlock: 1-11                   [51, 640, 14, 14]         --\n",
       "│    └─ConvBlock: 2-24                   [51, 192, 14, 14]         --\n",
       "│    │    └─Conv2d: 3-43                 [51, 192, 14, 14]         123,072\n",
       "│    │    └─BatchNorm2d: 3-44            [51, 192, 14, 14]         384\n",
       "│    │    └─ReLU: 3-45                   [51, 192, 14, 14]         --\n",
       "│    └─Sequential: 2-25                  [51, 256, 14, 14]         --\n",
       "│    │    └─ConvBlock: 3-46              [51, 128, 14, 14]         82,304\n",
       "│    │    └─ConvBlock: 3-47              [51, 256, 14, 14]         295,680\n",
       "│    └─Sequential: 2-26                  [51, 64, 14, 14]          --\n",
       "│    │    └─ConvBlock: 3-48              [51, 32, 14, 14]          20,576\n",
       "│    │    └─ConvBlock: 3-49              [51, 64, 14, 14]          51,392\n",
       "│    └─Sequential: 2-27                  [51, 128, 14, 14]         --\n",
       "│    │    └─L2NormLayer: 3-50            [51, 640, 14, 14]         --\n",
       "│    │    └─ConvBlock: 3-51              [51, 128, 14, 14]         82,304\n",
       "├─InceptionBlock: 1-12                   [51, 640, 14, 14]         --\n",
       "│    └─ConvBlock: 2-28                   [51, 160, 14, 14]         --\n",
       "│    │    └─Conv2d: 3-52                 [51, 160, 14, 14]         102,560\n",
       "│    │    └─BatchNorm2d: 3-53            [51, 160, 14, 14]         320\n",
       "│    │    └─ReLU: 3-54                   [51, 160, 14, 14]         --\n",
       "│    └─Sequential: 2-29                  [51, 288, 14, 14]         --\n",
       "│    │    └─ConvBlock: 3-55              [51, 144, 14, 14]         92,592\n",
       "│    │    └─ConvBlock: 3-56              [51, 288, 14, 14]         374,112\n",
       "│    └─Sequential: 2-30                  [51, 64, 14, 14]          --\n",
       "│    │    └─ConvBlock: 3-57              [51, 32, 14, 14]          20,576\n",
       "│    │    └─ConvBlock: 3-58              [51, 64, 14, 14]          51,392\n",
       "│    └─Sequential: 2-31                  [51, 128, 14, 14]         --\n",
       "│    │    └─L2NormLayer: 3-59            [51, 640, 14, 14]         --\n",
       "│    │    └─ConvBlock: 3-60              [51, 128, 14, 14]         82,304\n",
       "├─InceptionBlock_m3x3: 1-13              [51, 1024, 7, 7]          --\n",
       "│    └─Sequential: 2-32                  [51, 256, 7, 7]           --\n",
       "│    │    └─ConvBlock: 3-61              [51, 160, 14, 14]         102,880\n",
       "│    │    └─ConvBlock: 3-62              [51, 256, 7, 7]           369,408\n",
       "│    └─Sequential: 2-33                  [51, 128, 7, 7]           --\n",
       "│    │    └─ConvBlock: 3-63              [51, 64, 14, 14]          41,152\n",
       "│    │    └─ConvBlock: 3-64              [51, 128, 7, 7]           205,184\n",
       "│    └─MaxPool2d: 2-34                   [51, 640, 7, 7]           --\n",
       "├─InceptionBlock: 1-14                   [51, 1024, 7, 7]          --\n",
       "│    └─ConvBlock: 2-35                   [51, 384, 7, 7]           --\n",
       "│    │    └─Conv2d: 3-65                 [51, 384, 7, 7]           393,600\n",
       "│    │    └─BatchNorm2d: 3-66            [51, 384, 7, 7]           768\n",
       "│    │    └─ReLU: 3-67                   [51, 384, 7, 7]           --\n",
       "│    └─Sequential: 2-36                  [51, 384, 7, 7]           --\n",
       "│    │    └─ConvBlock: 3-68              [51, 192, 7, 7]           197,184\n",
       "│    │    └─ConvBlock: 3-69              [51, 384, 7, 7]           664,704\n",
       "│    └─Sequential: 2-37                  [51, 128, 7, 7]           --\n",
       "│    │    └─ConvBlock: 3-70              [51, 48, 7, 7]            49,296\n",
       "│    │    └─ConvBlock: 3-71              [51, 128, 7, 7]           153,984\n",
       "│    └─Sequential: 2-38                  [51, 128, 7, 7]           --\n",
       "│    │    └─L2NormLayer: 3-72            [51, 1024, 7, 7]          --\n",
       "│    │    └─ConvBlock: 3-73              [51, 128, 7, 7]           131,456\n",
       "├─InceptionBlock: 1-15                   [51, 1024, 7, 7]          --\n",
       "│    └─ConvBlock: 2-39                   [51, 384, 7, 7]           --\n",
       "│    │    └─Conv2d: 3-74                 [51, 384, 7, 7]           393,600\n",
       "│    │    └─BatchNorm2d: 3-75            [51, 384, 7, 7]           768\n",
       "│    │    └─ReLU: 3-76                   [51, 384, 7, 7]           --\n",
       "│    └─Sequential: 2-40                  [51, 384, 7, 7]           --\n",
       "│    │    └─ConvBlock: 3-77              [51, 192, 7, 7]           197,184\n",
       "│    │    └─ConvBlock: 3-78              [51, 384, 7, 7]           664,704\n",
       "│    └─Sequential: 2-41                  [51, 128, 7, 7]           --\n",
       "│    │    └─ConvBlock: 3-79              [51, 48, 7, 7]            49,296\n",
       "│    │    └─ConvBlock: 3-80              [51, 128, 7, 7]           153,984\n",
       "│    └─Sequential: 2-42                  [51, 128, 7, 7]           --\n",
       "│    │    └─MaxPool2d: 3-81              [51, 1024, 7, 7]          --\n",
       "│    │    └─ConvBlock: 3-82              [51, 128, 7, 7]           131,456\n",
       "├─AvgPool2d: 1-16                        [51, 1024, 1, 1]          --\n",
       "├─Linear: 1-17                           [51, 128]                 131,200\n",
       "==========================================================================================\n",
       "Total params: 7,472,272\n",
       "Trainable params: 7,472,272\n",
       "Non-trainable params: 0\n",
       "Total mult-adds (G): 81.59\n",
       "==========================================================================================\n",
       "Input size (MB): 30.71\n",
       "Forward/backward pass size (MB): 2726.64\n",
       "Params size (MB): 29.89\n",
       "Estimated Total Size (MB): 2787.24\n",
       "=========================================================================================="
      ]
     },
     "execution_count": 134,
     "metadata": {},
     "output_type": "execute_result"
    }
   ],
   "source": [
    "random_tensor = torch.randn(51,3,224,224).to(device)\n",
    "\n",
    "from torchinfo import summary\n",
    "\n",
    "summary(model_1,random_tensor.shape)"
   ]
  },
  {
   "cell_type": "markdown",
   "metadata": {},
   "source": [
    "## 5. Working with the data"
   ]
  },
  {
   "cell_type": "code",
   "execution_count": 135,
   "metadata": {},
   "outputs": [],
   "source": [
    "# Define the transformations we will apply to images\n",
    "# they need to match the size of images the architecture was developed for\n",
    "\n",
    "transform = transforms.Compose([\n",
    "    transforms.Resize((224,224)),   # 224x224 px\n",
    "    transforms.ToTensor()           # Convert to tensor\n",
    "])"
   ]
  },
  {
   "cell_type": "code",
   "execution_count": 136,
   "metadata": {},
   "outputs": [],
   "source": [
    "# The path of the dataset\n",
    "from pathlib import Path\n",
    "\n",
    "root_data_path=Path('model_data')\n",
    "\n",
    "train_path=root_data_path / 'train'\n",
    "test_path=root_data_path / 'test'"
   ]
  },
  {
   "cell_type": "code",
   "execution_count": 137,
   "metadata": {},
   "outputs": [],
   "source": [
    "# Define the dataset\n",
    "\n",
    "train_data = torchvision.datasets.ImageFolder(train_path,\n",
    "                                              transform=transform)\n",
    "\n",
    "test_data = torchvision.datasets.ImageFolder(test_path,\n",
    "                                             transform=transform)"
   ]
  },
  {
   "cell_type": "code",
   "execution_count": 138,
   "metadata": {},
   "outputs": [
    {
     "name": "stdout",
     "output_type": "stream",
     "text": [
      "DataLoaders: (<torch.utils.data.dataloader.DataLoader object at 0x000002C4B78F2140>, <torch.utils.data.dataloader.DataLoader object at 0x000002C4B78F2F50>)\n",
      "Length of train_dataloader: 400 batches of 10...\n",
      "Length of test_dataloader: 100 batches of 10...\n"
     ]
    }
   ],
   "source": [
    "# Split the data\n",
    "\n",
    "BATCH_SIZE = 10\n",
    "\n",
    "train_dataloader = DataLoader(dataset=train_data,\n",
    "                              batch_size=BATCH_SIZE,\n",
    "                              shuffle=True,\n",
    "                              num_workers=4*n_gpus)\n",
    "\n",
    "test_dataloader = DataLoader(dataset=test_data,\n",
    "                             batch_size=BATCH_SIZE,\n",
    "                             shuffle=True,\n",
    "                             num_workers=4*n_gpus)\n",
    "\n",
    "# Let's check out what what we've created\n",
    "print(f\"DataLoaders: {train_dataloader, test_dataloader}\")\n",
    "print(f\"Length of train_dataloader: {len(train_dataloader)} batches of {BATCH_SIZE}...\")\n",
    "print(f\"Length of test_dataloader: {len(test_dataloader)} batches of {BATCH_SIZE}...\")"
   ]
  },
  {
   "cell_type": "code",
   "execution_count": 140,
   "metadata": {},
   "outputs": [
    {
     "data": {
      "text/plain": [
       "(torch.Size([10, 3, 224, 224]), torch.Size([10]))"
      ]
     },
     "execution_count": 140,
     "metadata": {},
     "output_type": "execute_result"
    }
   ],
   "source": [
    "# Check out what's inside the training dataloader\n",
    "train_features_batch, train_labels_batch = next(iter(train_dataloader))\n",
    "train_features_batch.shape, train_labels_batch.shape"
   ]
  },
  {
   "cell_type": "markdown",
   "metadata": {},
   "source": [
    "## 6. Setup loss function, optimizer and timer"
   ]
  },
  {
   "cell_type": "code",
   "execution_count": 142,
   "metadata": {},
   "outputs": [],
   "source": [
    "# Setup loss function and optimizer\n",
    "loss_fn = nn.TripletMarginLoss(margin=0.2,p=2,eps=1e-7)\n",
    "optimizer = optim.Adam(params=model_1.parameters(),\n",
    "                       lr = 0.001,\n",
    "                       weight_decay=1e-3)\n",
    "\n",
    "# Smth new!\n",
    "lr_scheduler = optim.lr_scheduler.ReduceLROnPlateau(optimizer=optimizer,\n",
    "                                                    patience=5)\n",
    "# current_lrs = lr_scheduler.get_last_lr() ← use it like this"
   ]
  },
  {
   "cell_type": "code",
   "execution_count": 143,
   "metadata": {},
   "outputs": [],
   "source": [
    "# Function to time our experiment\n",
    "\n",
    "from timeit import default_timer as timer\n",
    "\n",
    "def print_train_time(start: float,\n",
    "                     end: float,\n",
    "                     device: torch.device = None):\n",
    "    \"\"\"Print diff between start and end time:\"\"\"\n",
    "    total_time = end - start\n",
    "    print(f\"Train time on {device}: {total_time:.3f} seconds\")\n",
    "    return total_time"
   ]
  },
  {
   "cell_type": "markdown",
   "metadata": {},
   "source": [
    "## 7. For the triplet loss"
   ]
  },
  {
   "cell_type": "code",
   "execution_count": 144,
   "metadata": {},
   "outputs": [],
   "source": [
    "# Importing libraries\n",
    "\n",
    "from pytorch_metric_learning.distances import CosineSimilarity\n",
    "from pytorch_metric_learning.reducers import ThresholdReducer\n",
    "from pytorch_metric_learning.regularizers import LpRegularizer\n",
    "from pytorch_metric_learning import losses\n",
    "from pytorch_metric_learning.miners import TripletMarginMiner\n",
    "\n",
    "# Creating the variables\n",
    "\n",
    "distance=CosineSimilarity()\n",
    "reducer = ThresholdReducer(high=0.3)\n",
    "embedding_regularizer = LpRegularizer()"
   ]
  },
  {
   "cell_type": "code",
   "execution_count": 145,
   "metadata": {},
   "outputs": [],
   "source": [
    "loss_func = losses.TripletMarginLoss(distance = CosineSimilarity(), \n",
    "                                    reducer = ThresholdReducer(high=0.3), \n",
    "                                    embedding_regularizer = LpRegularizer())"
   ]
  },
  {
   "cell_type": "code",
   "execution_count": 146,
   "metadata": {},
   "outputs": [],
   "source": [
    "mining_func=TripletMarginMiner(margin=0.2,distance=distance,type_of_triplets='hard')"
   ]
  },
  {
   "cell_type": "markdown",
   "metadata": {},
   "source": [
    "## 8. `train_step` and `test_step`"
   ]
  },
  {
   "cell_type": "code",
   "execution_count": 147,
   "metadata": {},
   "outputs": [],
   "source": [
    "from sklearn.neighbors import KNeighborsClassifier\n",
    "\n",
    "knn_classifier = KNeighborsClassifier(n_neighbors=1)  "
   ]
  },
  {
   "cell_type": "code",
   "execution_count": 151,
   "metadata": {},
   "outputs": [],
   "source": [
    "def train_step(model:torch.nn.Module,\n",
    "               dataloader:torch.utils.data.dataloader,\n",
    "               loss_fn:torch.nn.Module,\n",
    "               optimizer:torch.optim.Optimizer,\n",
    "               mining_func,\n",
    "               device = device,\n",
    "               knn_classifier = None):\n",
    "    \n",
    "    \"\"\"Preforms a training with model trying to learn on data_loader.\"\"\"\n",
    "\n",
    "    # For the training\n",
    "    train_loss=0,0\n",
    "\n",
    "    # For the testing\n",
    "    all_embeddings = []\n",
    "    all_labels = []\n",
    "\n",
    "    # Put model into training mode\n",
    "    model.train()\n",
    "\n",
    "    # Add a loop to loop through the training batcher\n",
    "    for batch, (X,y) in enumerate(dataloader):\n",
    "\n",
    "        # Put data on target device\n",
    "        X,y = X.to(device),y.to(device)\n",
    "\n",
    "        # 1. Forward pass\n",
    "        y_pred = model(X)\n",
    "\n",
    "        indices_tuple=mining_func(y_pred,y) # it gives you the index\n",
    "\n",
    "        # 2. Calculate the loss (and accuracy)\n",
    "        anchors=y_pred[indices_tuple[0]]\n",
    "        positives=y_pred[indices_tuple[1]]\n",
    "        negatives=y_pred[indices_tuple[2]]\n",
    "\n",
    "        loss=loss_fn(anchors,positives,negatives)\n",
    "\n",
    "        loss=torch.nan_to_num(loss,nan=0.0)\n",
    "\n",
    "        train_loss+=loss.item()\n",
    "\n",
    "        # 3.Optimizer zero grad\n",
    "\n",
    "        optimizer.zero_grad()\n",
    "\n",
    "        # 4. Loss backward\n",
    "        loss.backward()\n",
    "\n",
    "        # 5. Optimizer step\n",
    "        optimizer.step()\n",
    "    \n",
    "    # Adjust metrics to get average loss per batch\n",
    "    train_loss= train_loss/len(dataloader)\n",
    "    \n",
    "\n",
    "    return train_loss , accuracy"
   ]
  },
  {
   "cell_type": "code",
   "execution_count": 152,
   "metadata": {},
   "outputs": [],
   "source": [
    "def test_step(\n",
    "        model:torch.nn.Module,\n",
    "        dataloader:torch.utils.data.dataloader,\n",
    "        loss_fn:torch.nn.Module,\n",
    "        mining_func,\n",
    "        device=device):\n",
    "    \n",
    "    # Put model in eval mode\n",
    "    model.eval()\n",
    "\n",
    "    test_loss,test_acc=0,0\n",
    "\n",
    "    with torch.inference_mode():\n",
    "        # Loop through DataLoader batches\n",
    "\n",
    "        for batch, (X,y) in enumerate(dataloader):\n",
    "            # Send data to the target device\n",
    "            X,y=X.to(device),y.to(device)\n",
    "\n",
    "            # 1. Forward pass\n",
    "            embeddings=model(X)\n",
    "\n",
    "            indices_tuple=mining_func(embeddings,y)\n",
    "\n",
    "            anchors=embeddings[indices_tuple[0]]\n",
    "            positives=embeddings[indices_tuple[1]]\n",
    "            negatives=embeddings[indices_tuple[2]]\n",
    "\n",
    "            # 2. Calculate the loss\n",
    "            loss=loss_fn(anchors,positives,negatives)\n",
    "\n",
    "            loss=torch.nan_to_num(loss,nan=0.0)\n",
    "\n",
    "            test_loss+=loss.item()\n",
    "\n",
    "            # 3. Calculate the accuracy\n",
    "    \n",
    "    # Adjust the metrics to get averague loss and accuracy per batch\n",
    "    test_loss=test_loss / len(dataloader)\n",
    "    \n",
    "    # test_acc=test_acc / len(dataloader)\n",
    "\n",
    "    return test_loss #,test_acc"
   ]
  },
  {
   "cell_type": "code",
   "execution_count": 153,
   "metadata": {},
   "outputs": [
    {
     "ename": "TypeError",
     "evalue": "can only concatenate tuple (not \"float\") to tuple",
     "output_type": "error",
     "traceback": [
      "\u001b[1;31m---------------------------------------------------------------------------\u001b[0m",
      "\u001b[1;31mTypeError\u001b[0m                                 Traceback (most recent call last)",
      "Cell \u001b[1;32mIn[153], line 1\u001b[0m\n\u001b[1;32m----> 1\u001b[0m train_loss_model \u001b[38;5;241m=\u001b[39m \u001b[43mtrain_step\u001b[49m\u001b[43m(\u001b[49m\u001b[43mmodel\u001b[49m\u001b[38;5;241;43m=\u001b[39;49m\u001b[43mmodel_1\u001b[49m\u001b[43m,\u001b[49m\n\u001b[0;32m      2\u001b[0m \u001b[43m                              \u001b[49m\u001b[43mdataloader\u001b[49m\u001b[38;5;241;43m=\u001b[39;49m\u001b[43mtrain_dataloader\u001b[49m\u001b[43m,\u001b[49m\n\u001b[0;32m      3\u001b[0m \u001b[43m                              \u001b[49m\u001b[43mloss_fn\u001b[49m\u001b[38;5;241;43m=\u001b[39;49m\u001b[43mloss_fn\u001b[49m\u001b[43m,\u001b[49m\n\u001b[0;32m      4\u001b[0m \u001b[43m                              \u001b[49m\u001b[43moptimizer\u001b[49m\u001b[38;5;241;43m=\u001b[39;49m\u001b[43moptimizer\u001b[49m\u001b[43m,\u001b[49m\n\u001b[0;32m      5\u001b[0m \u001b[43m                              \u001b[49m\u001b[43mmining_func\u001b[49m\u001b[38;5;241;43m=\u001b[39;49m\u001b[43mmining_func\u001b[49m\u001b[43m,\u001b[49m\n\u001b[0;32m      6\u001b[0m \u001b[43m                              \u001b[49m\u001b[43mdevice\u001b[49m\u001b[38;5;241;43m=\u001b[39;49m\u001b[43mdevice\u001b[49m\u001b[43m)\u001b[49m\n\u001b[0;32m      8\u001b[0m test_loss_model \u001b[38;5;241m=\u001b[39m test_step(model\u001b[38;5;241m=\u001b[39mmodel_1,\n\u001b[0;32m      9\u001b[0m                             dataloader\u001b[38;5;241m=\u001b[39mtest_dataloader,\n\u001b[0;32m     10\u001b[0m                             loss_fn\u001b[38;5;241m=\u001b[39mloss_fn,\n\u001b[0;32m     11\u001b[0m                             mining_func\u001b[38;5;241m=\u001b[39mmining_func,\n\u001b[0;32m     12\u001b[0m                             device\u001b[38;5;241m=\u001b[39mdevice)\n",
      "Cell \u001b[1;32mIn[151], line 41\u001b[0m, in \u001b[0;36mtrain_step\u001b[1;34m(model, dataloader, loss_fn, optimizer, mining_func, device, knn_classifier)\u001b[0m\n\u001b[0;32m     37\u001b[0m loss\u001b[38;5;241m=\u001b[39mloss_fn(anchors,positives,negatives)\n\u001b[0;32m     39\u001b[0m loss\u001b[38;5;241m=\u001b[39mtorch\u001b[38;5;241m.\u001b[39mnan_to_num(loss,nan\u001b[38;5;241m=\u001b[39m\u001b[38;5;241m0.0\u001b[39m)\n\u001b[1;32m---> 41\u001b[0m train_loss\u001b[38;5;241m+\u001b[39m\u001b[38;5;241m=\u001b[39mloss\u001b[38;5;241m.\u001b[39mitem()\n\u001b[0;32m     43\u001b[0m \u001b[38;5;66;03m# 3.Optimizer zero grad\u001b[39;00m\n\u001b[0;32m     45\u001b[0m optimizer\u001b[38;5;241m.\u001b[39mzero_grad()\n",
      "\u001b[1;31mTypeError\u001b[0m: can only concatenate tuple (not \"float\") to tuple"
     ]
    }
   ],
   "source": [
    "train_loss_model = train_step(model=model_1,\n",
    "                              dataloader=train_dataloader,\n",
    "                              loss_fn=loss_fn,\n",
    "                              optimizer=optimizer,\n",
    "                              mining_func=mining_func,\n",
    "                              device=device)\n",
    "\n",
    "test_loss_model = test_step(model=model_1,\n",
    "                            dataloader=test_dataloader,\n",
    "                            loss_fn=loss_fn,\n",
    "                            mining_func=mining_func,\n",
    "                            device=device)"
   ]
  },
  {
   "cell_type": "code",
   "execution_count": null,
   "metadata": {},
   "outputs": [
    {
     "name": "stdout",
     "output_type": "stream",
     "text": [
      "The train loss is: 0.1980000028014183\n",
      "The test loss is:  0.20000000268220902\n"
     ]
    }
   ],
   "source": [
    "print(f\"The train loss is: {train_loss_model}\\nThe test loss is:  {test_loss_model}\")"
   ]
  },
  {
   "cell_type": "markdown",
   "metadata": {},
   "source": [
    "## 9. `train_model`"
   ]
  },
  {
   "cell_type": "code",
   "execution_count": null,
   "metadata": {},
   "outputs": [],
   "source": [
    "def train_model(model:torch.nn.Module,\n",
    "        train_dataloader:torch.utils.data.dataloader,\n",
    "        test_dataloader:torch.utils.data.dataloader,\n",
    "        optimizer:torch.optim.Optimizer,\n",
    "        loss_fn:torch.nn.Module,\n",
    "        minig_func_train,\n",
    "        minig_func_test,\n",
    "        epochs=5,\n",
    "        device=device):\n",
    "\n",
    "        # Creating empty results dictionary\n",
    "        results={\"train_loss\":[],\n",
    "                \"test_loss\":[]}\n",
    "        \n",
    "        # Loop through training and testing step for a number of epochs\n",
    "        for epoch in tqdm(range(epochs)):\n",
    "                train_loss=train_step(model=model,\n",
    "                                    dataloader=train_dataloader,\n",
    "                                    loss_fn=loss_fn,\n",
    "                                    optimizer=optimizer,\n",
    "                                    mining_func=mining_func,\n",
    "                                    device=device)\n",
    "                test_loss=test_step(model=model,\n",
    "                                    dataloader=test_dataloader,\n",
    "                                    loss_fn=loss_fn,\n",
    "                                    mining_func=mining_func,\n",
    "                                    device=device)\n",
    "        \n",
    "                # Print\n",
    "                print(f\"Epoch: {epoch} | Train loss:{train_loss} | Test loss : {test_loss}\")\n",
    "                \n",
    "                # Update dictonaries\n",
    "                results[\"train_loss\"].append(train_loss)\n",
    "                results[\"test_loss\"].append(test_loss)\n",
    "\n",
    "        return results"
   ]
  },
  {
   "cell_type": "code",
   "execution_count": null,
   "metadata": {},
   "outputs": [
    {
     "ename": "TypeError",
     "evalue": "train_model() got an unexpected keyword argument 'minig_func'",
     "output_type": "error",
     "traceback": [
      "\u001b[1;31m---------------------------------------------------------------------------\u001b[0m",
      "\u001b[1;31mTypeError\u001b[0m                                 Traceback (most recent call last)",
      "Cell \u001b[1;32mIn[69], line 1\u001b[0m\n\u001b[1;32m----> 1\u001b[0m results_model_1\u001b[38;5;241m=\u001b[39m\u001b[43mtrain_model\u001b[49m\u001b[43m(\u001b[49m\n\u001b[0;32m      2\u001b[0m \u001b[43m    \u001b[49m\u001b[43mmodel\u001b[49m\u001b[38;5;241;43m=\u001b[39;49m\u001b[43mmodel_1\u001b[49m\u001b[43m,\u001b[49m\n\u001b[0;32m      3\u001b[0m \u001b[43m    \u001b[49m\u001b[43mtrain_dataloader\u001b[49m\u001b[38;5;241;43m=\u001b[39;49m\u001b[43mtrain_dataloader\u001b[49m\u001b[43m,\u001b[49m\n\u001b[0;32m      4\u001b[0m \u001b[43m    \u001b[49m\u001b[43mtest_dataloader\u001b[49m\u001b[38;5;241;43m=\u001b[39;49m\u001b[43mtest_dataloader\u001b[49m\u001b[43m,\u001b[49m\n\u001b[0;32m      5\u001b[0m \u001b[43m    \u001b[49m\u001b[43moptimizer\u001b[49m\u001b[38;5;241;43m=\u001b[39;49m\u001b[43moptimizer\u001b[49m\u001b[43m,\u001b[49m\n\u001b[0;32m      6\u001b[0m \u001b[43m    \u001b[49m\u001b[43mloss_fn\u001b[49m\u001b[38;5;241;43m=\u001b[39;49m\u001b[43mloss_fn\u001b[49m\u001b[43m,\u001b[49m\n\u001b[0;32m      7\u001b[0m \u001b[43m    \u001b[49m\u001b[43mminig_func\u001b[49m\u001b[38;5;241;43m=\u001b[39;49m\u001b[43mminig_func\u001b[49m\u001b[43m,\u001b[49m\n\u001b[0;32m      8\u001b[0m \u001b[43m    \u001b[49m\u001b[43mepochs\u001b[49m\u001b[38;5;241;43m=\u001b[39;49m\u001b[38;5;241;43m10\u001b[39;49m\u001b[43m,\u001b[49m\n\u001b[0;32m      9\u001b[0m \u001b[43m    \u001b[49m\u001b[43mdevice\u001b[49m\u001b[38;5;241;43m=\u001b[39;49m\u001b[43mdevice\u001b[49m\n\u001b[0;32m     10\u001b[0m \u001b[43m)\u001b[49m\n",
      "\u001b[1;31mTypeError\u001b[0m: train_model() got an unexpected keyword argument 'minig_func'"
     ]
    }
   ],
   "source": [
    "results_model_1=train_model(\n",
    "    model=model_1,\n",
    "    train_dataloader=train_dataloader,\n",
    "    test_dataloader=test_dataloader,\n",
    "    optimizer=optimizer,\n",
    "    loss_fn=loss_fn,\n",
    "    minig_func=minig_func,\n",
    "    epochs=10,\n",
    "    device=device\n",
    ")"
   ]
  },
  {
   "cell_type": "code",
   "execution_count": null,
   "metadata": {},
   "outputs": [
    {
     "data": {
      "text/plain": [
       "{'train_loss': [0.05000000447034836,\n",
       "  0.05000000074505806,\n",
       "  0.05000000447034836,\n",
       "  0.05000000074505806,\n",
       "  0.05000000447034836,\n",
       "  0.05000000074505806,\n",
       "  0.0,\n",
       "  0.05000000447034836,\n",
       "  0.05000000074505806,\n",
       "  0.05000000447034836],\n",
       " 'test_loss': [0.0, 0.0, 0.0, 0.0, 0.0, 0.0, 0.0, 0.0, 0.0, 0.0]}"
      ]
     },
     "execution_count": 59,
     "metadata": {},
     "output_type": "execute_result"
    }
   ],
   "source": [
    "results_model_1"
   ]
  }
 ],
 "metadata": {
  "kernelspec": {
   "display_name": "venv2",
   "language": "python",
   "name": "python3"
  },
  "language_info": {
   "codemirror_mode": {
    "name": "ipython",
    "version": 3
   },
   "file_extension": ".py",
   "mimetype": "text/x-python",
   "name": "python",
   "nbconvert_exporter": "python",
   "pygments_lexer": "ipython3",
   "version": "3.10.11"
  }
 },
 "nbformat": 4,
 "nbformat_minor": 2
}
