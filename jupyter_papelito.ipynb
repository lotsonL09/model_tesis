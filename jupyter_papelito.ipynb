{
 "cells": [
  {
   "cell_type": "code",
   "execution_count": 1,
   "metadata": {},
   "outputs": [],
   "source": [
    "import torch"
   ]
  },
  {
   "cell_type": "code",
   "execution_count": 10,
   "metadata": {},
   "outputs": [
    {
     "name": "stdout",
     "output_type": "stream",
     "text": [
      "----------------------------------------------------\n",
      "d1:  tensor(0.5196)\n",
      "d2:  tensor(10.2191)\n",
      "----------------------------------------------------\n",
      "d1:  tensor(0.8660)\n",
      "d2:  tensor(2.3452)\n",
      "----------------------------------------------------\n",
      "d1:  tensor(0.1732)\n",
      "d2:  tensor(6.2185)\n",
      "----------------------------------------------------\n",
      "d1:  tensor(0.3464)\n",
      "d2:  tensor(5.2612)\n",
      "VAL metric : 1.0000 | FAR metric : 0.0000\n"
     ]
    }
   ],
   "source": [
    "anchor = torch.tensor([[1.0, 2.0, 3.0],[1.2, 2.2, 3.2],[1.1, 2.1, 3.1],[1.6, 2.6, 3.6]])\n",
    "positive = torch.tensor([[1.5, 2.5, 3.5],[1.3, 2.3, 3.3],[1.3, 2.3, 3.3],[1.3, 2.3, 3.3]])\n",
    "negative=torch.tensor([[2.0, 3.5, 4.5],[2.5, 6.5, 7.5],[5.5, 4.5, 1.5],[7.5, 8.5, 9.5]])\n",
    "\n",
    "treshold=1.0\n",
    "\n",
    "count_TA=0\n",
    "\n",
    "count_FA=0\n",
    "\n",
    "count_P=anchor.size(0)\n",
    "\n",
    "for a,p,n in zip(anchor,positive,negative):\n",
    "    print('----------------------------------------------------')\n",
    "    print('d1: ',d1)\n",
    "    print('d2: ',d2)\n",
    "    d1 = torch.norm(a - p, p=2) # pd +\n",
    "    d2 = torch.norm(a - n, p=2) # nd -\n",
    "    if d1 < treshold:\n",
    "        count_TA+=1\n",
    "\n",
    "    if d2 < treshold:\n",
    "        count_FA+=1\n",
    "    \n",
    "\n",
    "val=count_TA/count_P\n",
    "\n",
    "far=count_FA/count_P\n",
    "\n",
    "print(f\"VAL metric : {val:.4f} | FAR metric : {far:.4f}\")\n"
   ]
  },
  {
   "cell_type": "code",
   "execution_count": null,
   "metadata": {},
   "outputs": [],
   "source": []
  }
 ],
 "metadata": {
  "kernelspec": {
   "display_name": "venv2",
   "language": "python",
   "name": "python3"
  },
  "language_info": {
   "codemirror_mode": {
    "name": "ipython",
    "version": 3
   },
   "file_extension": ".py",
   "mimetype": "text/x-python",
   "name": "python",
   "nbconvert_exporter": "python",
   "pygments_lexer": "ipython3",
   "version": "3.10.11"
  }
 },
 "nbformat": 4,
 "nbformat_minor": 2
}
