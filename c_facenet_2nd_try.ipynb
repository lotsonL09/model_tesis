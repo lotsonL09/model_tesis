{
 "cells": [
  {
   "cell_type": "code",
   "execution_count": 1,
   "metadata": {},
   "outputs": [
    {
     "name": "stderr",
     "output_type": "stream",
     "text": [
      "c:\\Tesis\\Tesis\\Codigo\\model_pytorch\\venv2\\lib\\site-packages\\tqdm\\auto.py:21: TqdmWarning: IProgress not found. Please update jupyter and ipywidgets. See https://ipywidgets.readthedocs.io/en/stable/user_install.html\n",
      "  from .autonotebook import tqdm as notebook_tqdm\n"
     ]
    }
   ],
   "source": [
    "import torch\n",
    "import torch.nn as nn\n",
    "import torch.optim as optim\n",
    "import torchvision\n",
    "import torchvision.transforms as transforms\n",
    "\n",
    "import matplotlib.pyplot as plt\n",
    "\n",
    "from torch.utils.data import DataLoader\n",
    "\n",
    "import tqdm\n",
    "from tqdm.auto import tqdm;"
   ]
  },
  {
   "cell_type": "code",
   "execution_count": 2,
   "metadata": {},
   "outputs": [],
   "source": [
    "#SOLO EJECUTAR UNA VEZ POR DIA\n",
    "INTENTO=1"
   ]
  },
  {
   "cell_type": "code",
   "execution_count": 3,
   "metadata": {},
   "outputs": [
    {
     "data": {
      "text/plain": [
       "'cuda'"
      ]
     },
     "execution_count": 3,
     "metadata": {},
     "output_type": "execute_result"
    }
   ],
   "source": [
    "# Make a device agnostic code\n",
    "device = \"cuda\" if torch.cuda.is_available() else \"cpu\"\n",
    "device"
   ]
  },
  {
   "cell_type": "code",
   "execution_count": 4,
   "metadata": {},
   "outputs": [
    {
     "name": "stdout",
     "output_type": "stream",
     "text": [
      "Number of gpus: 1\n"
     ]
    }
   ],
   "source": [
    "#GPUS\n",
    "n_gpus = torch.cuda.device_count()\n",
    "print(f\"Number of gpus: {n_gpus}\")"
   ]
  },
  {
   "cell_type": "code",
   "execution_count": 5,
   "metadata": {},
   "outputs": [],
   "source": [
    "class ConvBlock (nn.Module):\n",
    "    def __init__(self,\n",
    "                in_channels: int,\n",
    "                out_channels: int,\n",
    "                 **kwargs): # this means that the key arguments are arbitrary\n",
    "        super().__init__()\n",
    "\n",
    "        self.relu = nn.ReLU()\n",
    "        self.conv = nn.Conv2d(in_channels=in_channels,\n",
    "                            out_channels=out_channels,\n",
    "                              **kwargs,\n",
    "                            device=device)\n",
    "        self.batchnorm = nn.BatchNorm2d(num_features=out_channels) # to improve performance\n",
    "    \n",
    "    def forward(self,x):\n",
    "        x = self.conv(x)\n",
    "        x = self.batchnorm(x)\n",
    "        x = self.relu(x)\n",
    "        return x"
   ]
  },
  {
   "cell_type": "code",
   "execution_count": 6,
   "metadata": {},
   "outputs": [],
   "source": [
    "class L2NormLayer(nn.Module):\n",
    "    def __init__(self,dim=1):\n",
    "        super().__init__()\n",
    "        self.dim=dim\n",
    "    \n",
    "    def forward(self,x):\n",
    "        return nn.functional.normalize(x,p=2,dim=self.dim)"
   ]
  },
  {
   "cell_type": "code",
   "execution_count": 7,
   "metadata": {},
   "outputs": [],
   "source": [
    "class InceptionBlock (nn.Module):\n",
    "        def __init__(self,\n",
    "                in_channels: int,\n",
    "                out_1x1: int,\n",
    "\n",
    "                red_3x3: int,\n",
    "                out_3x3: int,\n",
    "\n",
    "                red_5x5: int,\n",
    "                out_5x5: int,\n",
    "\n",
    "                out_1x1pool: int,\n",
    "                \n",
    "                l2_mode:bool=False):\n",
    "        \n",
    "                super().__init__()\n",
    "\n",
    "                self.branch1 = ConvBlock(in_channels=in_channels,\n",
    "                                        out_channels=out_1x1,\n",
    "                                        kernel_size=1)\n",
    "                \n",
    "                self.branch2 = nn.Sequential(\n",
    "                        ConvBlock(in_channels=in_channels,\n",
    "                                out_channels=red_3x3,\n",
    "                                kernel_size=1),\n",
    "                        ConvBlock(in_channels=red_3x3,\n",
    "                                out_channels=out_3x3,\n",
    "                                kernel_size=3,\n",
    "                                padding=1) \n",
    "                )\n",
    "                \n",
    "                self.branch3 = nn.Sequential(\n",
    "                        ConvBlock(in_channels=in_channels,\n",
    "                                out_channels=red_5x5,\n",
    "                                kernel_size=1),\n",
    "                        ConvBlock(in_channels=red_5x5,\n",
    "                                out_channels=out_5x5,\n",
    "                                kernel_size=5,\n",
    "                                padding=2)\n",
    "                )\n",
    "\n",
    "                if l2_mode:\n",
    "                        self.branch4=nn.Sequential(\n",
    "                                L2NormLayer(dim=1),\n",
    "                                ConvBlock(in_channels=in_channels,\n",
    "                                out_channels=out_1x1pool,\n",
    "                                kernel_size=1)\n",
    "                        )\n",
    "                else:\n",
    "                        self.branch4 = nn.Sequential(\n",
    "                                nn.MaxPool2d(kernel_size=3,stride=1,padding=1),\n",
    "                                ConvBlock(in_channels=in_channels,\n",
    "                                        out_channels=out_1x1pool,\n",
    "                                        kernel_size=1)\n",
    "                        )\n",
    "\n",
    "        def forward(self,x):\n",
    "        # N x filters x 28 x 28 → 0th x 1st x 2nd x 3rd dimension (we use 1)\n",
    "                return torch.cat([self.branch1(x),self.branch2(x),self.branch3(x),self.branch4(x)],1)"
   ]
  },
  {
   "cell_type": "code",
   "execution_count": 8,
   "metadata": {},
   "outputs": [],
   "source": [
    "class InceptionBlock_2(nn.Module):\n",
    "    def __init__(self, \n",
    "                in_channels:int, \n",
    "                red_3x3:int,\n",
    "                out_3x3:int) -> None:\n",
    "        super().__init__()\n",
    "        self.branch=nn.Sequential(\n",
    "            ConvBlock(in_channels=in_channels,\n",
    "                    out_channels=red_3x3,\n",
    "                    kernel_size=1),\n",
    "            ConvBlock(in_channels=red_3x3,\n",
    "                    out_channels=out_3x3,\n",
    "                    kernel_size=3)\n",
    "        )\n",
    "    def forward(self,x):\n",
    "        return self.branch(x)"
   ]
  },
  {
   "cell_type": "code",
   "execution_count": 9,
   "metadata": {},
   "outputs": [],
   "source": [
    "class InceptionBlock_m_3x3 (nn.Module):\n",
    "        def __init__(self,\n",
    "                in_channels: int,\n",
    "\n",
    "                red_3x3: int,\n",
    "                out_3x3: int,\n",
    "\n",
    "                red_5x5: int,\n",
    "                out_5x5: int):\n",
    "        \n",
    "                super().__init__()\n",
    "\n",
    "                self.branch2 = nn.Sequential(\n",
    "                        ConvBlock(in_channels=in_channels,\n",
    "                                out_channels=red_3x3,\n",
    "                                kernel_size=1),\n",
    "                        ConvBlock(in_channels=red_3x3,\n",
    "                                out_channels=out_3x3,\n",
    "                                kernel_size=3,\n",
    "                                padding=1,\n",
    "                                stride=2) # ojo (btw no ponemos el S bc por defecto es 1)\n",
    "                )\n",
    "                \n",
    "                self.branch3 = nn.Sequential(\n",
    "                        ConvBlock(in_channels=in_channels,\n",
    "                                out_channels=red_5x5,\n",
    "                                kernel_size=1),\n",
    "                        ConvBlock(in_channels=red_5x5,\n",
    "                                out_channels=out_5x5,\n",
    "                                kernel_size=5,\n",
    "                                padding=2,\n",
    "                                stride=2) # ojo (btw no ponemos el S bc por defecto es 1)\n",
    "                )\n",
    "\n",
    "                self.branch4 = nn.Sequential(\n",
    "                        nn.MaxPool2d(kernel_size=3,stride=2,padding=1), \n",
    "                )\n",
    "\n",
    "        def forward(self,x):\n",
    "        # N x filters x 28 x 28 → 0th x 1st x 2nd x 3rd dimension (we use 1)\n",
    "                return torch.cat([self.branch2(x),self.branch3(x),self.branch4(x)],1)"
   ]
  },
  {
   "cell_type": "markdown",
   "metadata": {},
   "source": [
    "## Structure of the Model"
   ]
  },
  {
   "cell_type": "code",
   "execution_count": 10,
   "metadata": {},
   "outputs": [],
   "source": [
    "class NN2 (nn.Module):\n",
    "    def __init__(self,\n",
    "                in_channels = 3):\n",
    "        super().__init__()\n",
    "\n",
    "        self.conv1 = ConvBlock(in_channels=in_channels,\n",
    "                            out_channels=64,\n",
    "                            kernel_size=7,\n",
    "                            stride=2,\n",
    "                            padding=3)\n",
    "        \n",
    "        self.inception2 = InceptionBlock_2(in_channels=64, #la cantidad de canales que entran y salen es la misma. ¿esto es correcto?\n",
    "                                        red_3x3=64,\n",
    "                                        out_3x3=192)\n",
    "    \n",
    "        self.inception3a = InceptionBlock( in_channels= 192, out_1x1= 64, red_3x3= 96, out_3x3= 128, red_5x5= 16,out_5x5= 32, out_1x1pool= 32)#ok\n",
    "        self.inception3b = InceptionBlock( in_channels= 256, out_1x1= 64, red_3x3= 96, out_3x3= 128, red_5x5= 32,out_5x5= 64, out_1x1pool= 64,l2_mode=True)\n",
    "        #modificar desactivando branch 1 y 4\n",
    "        self.inception3c = InceptionBlock_m_3x3( in_channels= 320, red_3x3= 128, out_3x3= 256, red_5x5= 32,out_5x5= 64)\n",
    "        \n",
    "        self.inception4a = InceptionBlock( in_channels= 640, out_1x1= 256, red_3x3= 96, out_3x3= 192, red_5x5= 32,out_5x5= 64, out_1x1pool= 128,l2_mode=True)\n",
    "        self.inception4b = InceptionBlock( in_channels= 640, out_1x1= 224, red_3x3= 112, out_3x3= 224, red_5x5= 32,out_5x5= 64, out_1x1pool= 128,l2_mode=True)\n",
    "        self.inception4c = InceptionBlock( in_channels= 640, out_1x1= 192, red_3x3= 128, out_3x3= 256, red_5x5= 32,out_5x5= 64, out_1x1pool= 128,l2_mode=True)\n",
    "        self.inception4d = InceptionBlock( in_channels= 640, out_1x1= 160, red_3x3= 144, out_3x3= 288, red_5x5= 32,out_5x5= 64, out_1x1pool= 128,l2_mode=True)\n",
    "        #modificar desactivando branch 1 y 4\n",
    "        self.inception4e = InceptionBlock_m_3x3( in_channels= 640, red_3x3= 160, out_3x3= 256, red_5x5= 64,out_5x5= 128)\n",
    "        \n",
    "        self.inception5a = InceptionBlock( in_channels= 1024, out_1x1= 384, red_3x3= 192, out_3x3= 384, red_5x5= 48,out_5x5= 128, out_1x1pool= 128,l2_mode=True)\n",
    "        self.inception5b = InceptionBlock( in_channels= 1024, out_1x1= 384, red_3x3= 192, out_3x3= 384, red_5x5= 48,out_5x5= 128, out_1x1pool= 128)#ok\n",
    "        \n",
    "        self.maxpool = nn.MaxPool2d(kernel_size=3,stride=2,padding=1) #por que se aplico un max pool?\n",
    "\n",
    "        self.avgpool = nn.AvgPool2d(kernel_size=7) # stride? padding?\n",
    "        \n",
    "        self.FC = nn.Linear(1024,128)\n",
    "\n",
    "        self.norm=nn.BatchNorm2d(num_features=64)\n",
    "\n",
    "\n",
    "    def forward(self,x):\n",
    "        x = self.conv1(x)\n",
    "        x = self.maxpool(x)\n",
    "\n",
    "        x=self.norm(x)\n",
    "\n",
    "        x = self.inception2(x)\n",
    "        x = self.maxpool(x)\n",
    "\n",
    "        x = self.inception3a(x)\n",
    "        x = self.inception3b(x)\n",
    "        x = self.inception3c(x)\n",
    "\n",
    "        x = self.inception4a(x)\n",
    "        x = self.inception4b(x)\n",
    "        x = self.inception4c(x)\n",
    "        x = self.inception4d(x)\n",
    "        x = self.inception4e(x)\n",
    "\n",
    "        x = self.inception5a(x)\n",
    "        x = self.inception5b(x)\n",
    "        #print('Despues del inception 5b',x.shape)\n",
    "        x = self.avgpool(x)\n",
    "        #print('Despues del avg pool',x.shape)\n",
    "\n",
    "        x=x.view(x.shape[0],-1)\n",
    "\n",
    "        x = self.FC(x)\n",
    "        #print('Despues de fully connected layer',x.shape)\n",
    "        x = nn.functional.normalize(x,p=2,dim=1)\n",
    "\n",
    "        return x"
   ]
  },
  {
   "cell_type": "markdown",
   "metadata": {},
   "source": [
    "## Transform"
   ]
  },
  {
   "cell_type": "code",
   "execution_count": 11,
   "metadata": {},
   "outputs": [],
   "source": [
    "transform=transforms.Compose([\n",
    "    transforms.Resize((224,224)),  #Para pasar a 224 x 224 pixels\n",
    "    transforms.ToTensor()          #Para convertir la imagen a tensor\n",
    "])"
   ]
  },
  {
   "cell_type": "markdown",
   "metadata": {},
   "source": [
    "## Path of dataset"
   ]
  },
  {
   "cell_type": "code",
   "execution_count": 12,
   "metadata": {},
   "outputs": [
    {
     "name": "stdout",
     "output_type": "stream",
     "text": [
      "c:\\Tesis\\Tesis\\Codigo\\model_pytorch\n"
     ]
    }
   ],
   "source": [
    "import os\n",
    "\n",
    "print(os.getcwd())"
   ]
  },
  {
   "cell_type": "code",
   "execution_count": 13,
   "metadata": {},
   "outputs": [
    {
     "data": {
      "text/plain": [
       "WindowsPath('data/train')"
      ]
     },
     "execution_count": 13,
     "metadata": {},
     "output_type": "execute_result"
    }
   ],
   "source": [
    "from pathlib import Path\n",
    "\n",
    "root_data_path=Path('data')\n",
    "train_path=root_data_path / 'train'\n",
    "\n",
    "test_path=root_data_path / 'test'\n",
    "\n",
    "train_path"
   ]
  },
  {
   "cell_type": "code",
   "execution_count": 14,
   "metadata": {},
   "outputs": [
    {
     "data": {
      "text/plain": [
       "torch.Size([3, 224, 224])"
      ]
     },
     "execution_count": 14,
     "metadata": {},
     "output_type": "execute_result"
    }
   ],
   "source": [
    "img_path_list=list(test_path.glob('*/*.jpg'))\n",
    "\n",
    "import random\n",
    "from PIL import Image\n",
    "\n",
    "random_image_path=random.choice(img_path_list)\n",
    "img=Image.open(random_image_path)\n",
    "\n",
    "transform(img).shape"
   ]
  },
  {
   "cell_type": "code",
   "execution_count": 15,
   "metadata": {},
   "outputs": [],
   "source": [
    "train_data=torchvision.datasets.ImageFolder(train_path,\n",
    "                                        transform=transform,\n",
    "                                        target_transform=None)\n",
    "\n",
    "test_data=torchvision.datasets.ImageFolder(test_path,\n",
    "                                        transform=transform)"
   ]
  },
  {
   "cell_type": "code",
   "execution_count": 16,
   "metadata": {},
   "outputs": [
    {
     "data": {
      "text/plain": [
       "[('data\\\\train\\\\Brayan\\\\a_rostro_1.jpg', 0),\n",
       " ('data\\\\train\\\\Brayan\\\\a_rostro_102.jpg', 0),\n",
       " ('data\\\\train\\\\Brayan\\\\a_rostro_109.jpg', 0),\n",
       " ('data\\\\train\\\\Brayan\\\\a_rostro_113.jpg', 0),\n",
       " ('data\\\\train\\\\Brayan\\\\a_rostro_120.jpg', 0),\n",
       " ('data\\\\train\\\\Brayan\\\\a_rostro_124.jpg', 0),\n",
       " ('data\\\\train\\\\Brayan\\\\a_rostro_131.jpg', 0),\n",
       " ('data\\\\train\\\\Brayan\\\\a_rostro_137.jpg', 0),\n",
       " ('data\\\\train\\\\Brayan\\\\a_rostro_145.jpg', 0),\n",
       " ('data\\\\train\\\\Brayan\\\\a_rostro_146.jpg', 0),\n",
       " ('data\\\\train\\\\Brayan\\\\a_rostro_16.jpg', 0),\n",
       " ('data\\\\train\\\\Brayan\\\\a_rostro_163.jpg', 0),\n",
       " ('data\\\\train\\\\Brayan\\\\a_rostro_170.jpg', 0),\n",
       " ('data\\\\train\\\\Brayan\\\\a_rostro_176.jpg', 0),\n",
       " ('data\\\\train\\\\Brayan\\\\a_rostro_183.jpg', 0),\n",
       " ('data\\\\train\\\\Brayan\\\\a_rostro_185.jpg', 0),\n",
       " ('data\\\\train\\\\Brayan\\\\a_rostro_194.jpg', 0),\n",
       " ('data\\\\train\\\\Brayan\\\\a_rostro_200.jpg', 0),\n",
       " ('data\\\\train\\\\Brayan\\\\a_rostro_210.jpg', 0),\n",
       " ('data\\\\train\\\\Brayan\\\\a_rostro_238.jpg', 0),\n",
       " ('data\\\\train\\\\Brayan\\\\a_rostro_239.jpg', 0),\n",
       " ('data\\\\train\\\\Brayan\\\\a_rostro_24.jpg', 0),\n",
       " ('data\\\\train\\\\Brayan\\\\a_rostro_240.jpg', 0),\n",
       " ('data\\\\train\\\\Brayan\\\\a_rostro_241.jpg', 0),\n",
       " ('data\\\\train\\\\Brayan\\\\a_rostro_243.jpg', 0),\n",
       " ('data\\\\train\\\\Brayan\\\\a_rostro_245.jpg', 0),\n",
       " ('data\\\\train\\\\Brayan\\\\a_rostro_25.jpg', 0),\n",
       " ('data\\\\train\\\\Brayan\\\\a_rostro_250.jpg', 0),\n",
       " ('data\\\\train\\\\Brayan\\\\a_rostro_254.jpg', 0),\n",
       " ('data\\\\train\\\\Brayan\\\\a_rostro_264.jpg', 0),\n",
       " ('data\\\\train\\\\Brayan\\\\a_rostro_272.jpg', 0),\n",
       " ('data\\\\train\\\\Brayan\\\\a_rostro_283.jpg', 0),\n",
       " ('data\\\\train\\\\Brayan\\\\a_rostro_288.jpg', 0),\n",
       " ('data\\\\train\\\\Brayan\\\\a_rostro_293.jpg', 0),\n",
       " ('data\\\\train\\\\Brayan\\\\a_rostro_306.jpg', 0),\n",
       " ('data\\\\train\\\\Brayan\\\\a_rostro_314.jpg', 0),\n",
       " ('data\\\\train\\\\Brayan\\\\a_rostro_319.jpg', 0),\n",
       " ('data\\\\train\\\\Brayan\\\\a_rostro_321.jpg', 0),\n",
       " ('data\\\\train\\\\Brayan\\\\a_rostro_328.jpg', 0),\n",
       " ('data\\\\train\\\\Brayan\\\\a_rostro_330.jpg', 0),\n",
       " ('data\\\\train\\\\Brayan\\\\a_rostro_332.jpg', 0),\n",
       " ('data\\\\train\\\\Brayan\\\\a_rostro_34.jpg', 0),\n",
       " ('data\\\\train\\\\Brayan\\\\a_rostro_341.jpg', 0),\n",
       " ('data\\\\train\\\\Brayan\\\\a_rostro_357.jpg', 0),\n",
       " ('data\\\\train\\\\Brayan\\\\a_rostro_358.jpg', 0),\n",
       " ('data\\\\train\\\\Brayan\\\\a_rostro_362.jpg', 0),\n",
       " ('data\\\\train\\\\Brayan\\\\a_rostro_365.jpg', 0),\n",
       " ('data\\\\train\\\\Brayan\\\\a_rostro_368.jpg', 0),\n",
       " ('data\\\\train\\\\Brayan\\\\a_rostro_372.jpg', 0),\n",
       " ('data\\\\train\\\\Brayan\\\\a_rostro_384.jpg', 0),\n",
       " ('data\\\\train\\\\Brayan\\\\a_rostro_393.jpg', 0),\n",
       " ('data\\\\train\\\\Brayan\\\\a_rostro_403.jpg', 0),\n",
       " ('data\\\\train\\\\Brayan\\\\a_rostro_405.jpg', 0),\n",
       " ('data\\\\train\\\\Brayan\\\\a_rostro_410.jpg', 0),\n",
       " ('data\\\\train\\\\Brayan\\\\a_rostro_423.jpg', 0),\n",
       " ('data\\\\train\\\\Brayan\\\\a_rostro_425.jpg', 0),\n",
       " ('data\\\\train\\\\Brayan\\\\a_rostro_429.jpg', 0),\n",
       " ('data\\\\train\\\\Brayan\\\\a_rostro_435.jpg', 0),\n",
       " ('data\\\\train\\\\Brayan\\\\a_rostro_450.jpg', 0),\n",
       " ('data\\\\train\\\\Brayan\\\\a_rostro_459.jpg', 0),\n",
       " ('data\\\\train\\\\Brayan\\\\a_rostro_46.jpg', 0),\n",
       " ('data\\\\train\\\\Brayan\\\\a_rostro_460.jpg', 0),\n",
       " ('data\\\\train\\\\Brayan\\\\a_rostro_463.jpg', 0),\n",
       " ('data\\\\train\\\\Brayan\\\\a_rostro_465.jpg', 0),\n",
       " ('data\\\\train\\\\Brayan\\\\a_rostro_470.jpg', 0),\n",
       " ('data\\\\train\\\\Brayan\\\\a_rostro_48.jpg', 0),\n",
       " ('data\\\\train\\\\Brayan\\\\a_rostro_484.jpg', 0),\n",
       " ('data\\\\train\\\\Brayan\\\\a_rostro_487.jpg', 0),\n",
       " ('data\\\\train\\\\Brayan\\\\a_rostro_492.jpg', 0),\n",
       " ('data\\\\train\\\\Brayan\\\\a_rostro_52.jpg', 0),\n",
       " ('data\\\\train\\\\Brayan\\\\a_rostro_60.jpg', 0),\n",
       " ('data\\\\train\\\\Brayan\\\\a_rostro_62.jpg', 0),\n",
       " ('data\\\\train\\\\Brayan\\\\a_rostro_66.jpg', 0),\n",
       " ('data\\\\train\\\\Brayan\\\\a_rostro_7.jpg', 0),\n",
       " ('data\\\\train\\\\Brayan\\\\a_rostro_73.jpg', 0),\n",
       " ('data\\\\train\\\\Brayan\\\\a_rostro_77.jpg', 0),\n",
       " ('data\\\\train\\\\Brayan\\\\a_rostro_79.jpg', 0),\n",
       " ('data\\\\train\\\\Brayan\\\\a_rostro_85.jpg', 0),\n",
       " ('data\\\\train\\\\Brayan\\\\a_rostro_9.jpg', 0),\n",
       " ('data\\\\train\\\\Brayan\\\\a_rostro_97.jpg', 0),\n",
       " ('data\\\\train\\\\Brayan\\\\a_rostro_99.jpg', 0),\n",
       " ('data\\\\train\\\\Brayan\\\\rostro_1.jpg', 0),\n",
       " ('data\\\\train\\\\Brayan\\\\rostro_102.jpg', 0),\n",
       " ('data\\\\train\\\\Brayan\\\\rostro_104.jpg', 0),\n",
       " ('data\\\\train\\\\Brayan\\\\rostro_105.jpg', 0),\n",
       " ('data\\\\train\\\\Brayan\\\\rostro_106.jpg', 0),\n",
       " ('data\\\\train\\\\Brayan\\\\rostro_107.jpg', 0),\n",
       " ('data\\\\train\\\\Brayan\\\\rostro_109.jpg', 0),\n",
       " ('data\\\\train\\\\Brayan\\\\rostro_110.jpg', 0),\n",
       " ('data\\\\train\\\\Brayan\\\\rostro_111.jpg', 0),\n",
       " ('data\\\\train\\\\Brayan\\\\rostro_113.jpg', 0),\n",
       " ('data\\\\train\\\\Brayan\\\\rostro_115.jpg', 0),\n",
       " ('data\\\\train\\\\Brayan\\\\rostro_116.jpg', 0),\n",
       " ('data\\\\train\\\\Brayan\\\\rostro_118.jpg', 0),\n",
       " ('data\\\\train\\\\Brayan\\\\rostro_119.jpg', 0),\n",
       " ('data\\\\train\\\\Brayan\\\\rostro_12.jpg', 0),\n",
       " ('data\\\\train\\\\Brayan\\\\rostro_120.jpg', 0),\n",
       " ('data\\\\train\\\\Brayan\\\\rostro_121.jpg', 0),\n",
       " ('data\\\\train\\\\Brayan\\\\rostro_122.jpg', 0),\n",
       " ('data\\\\train\\\\Brayan\\\\rostro_124.jpg', 0),\n",
       " ('data\\\\train\\\\Brayan\\\\rostro_126.jpg', 0),\n",
       " ('data\\\\train\\\\Brayan\\\\rostro_129.jpg', 0),\n",
       " ('data\\\\train\\\\Brayan\\\\rostro_13.jpg', 0),\n",
       " ('data\\\\train\\\\Brayan\\\\rostro_131.jpg', 0),\n",
       " ('data\\\\train\\\\Brayan\\\\rostro_132.jpg', 0),\n",
       " ('data\\\\train\\\\Brayan\\\\rostro_133.jpg', 0),\n",
       " ('data\\\\train\\\\Brayan\\\\rostro_134.jpg', 0),\n",
       " ('data\\\\train\\\\Brayan\\\\rostro_136.jpg', 0),\n",
       " ('data\\\\train\\\\Brayan\\\\rostro_137.jpg', 0),\n",
       " ('data\\\\train\\\\Brayan\\\\rostro_14.jpg', 0),\n",
       " ('data\\\\train\\\\Brayan\\\\rostro_140.jpg', 0),\n",
       " ('data\\\\train\\\\Brayan\\\\rostro_141.jpg', 0),\n",
       " ('data\\\\train\\\\Brayan\\\\rostro_142.jpg', 0),\n",
       " ('data\\\\train\\\\Brayan\\\\rostro_143.jpg', 0),\n",
       " ('data\\\\train\\\\Brayan\\\\rostro_145.jpg', 0),\n",
       " ('data\\\\train\\\\Brayan\\\\rostro_146.jpg', 0),\n",
       " ('data\\\\train\\\\Brayan\\\\rostro_147.jpg', 0),\n",
       " ('data\\\\train\\\\Brayan\\\\rostro_148.jpg', 0),\n",
       " ('data\\\\train\\\\Brayan\\\\rostro_15.jpg', 0),\n",
       " ('data\\\\train\\\\Brayan\\\\rostro_152.jpg', 0),\n",
       " ('data\\\\train\\\\Brayan\\\\rostro_153.jpg', 0),\n",
       " ('data\\\\train\\\\Brayan\\\\rostro_155.jpg', 0),\n",
       " ('data\\\\train\\\\Brayan\\\\rostro_157.jpg', 0),\n",
       " ('data\\\\train\\\\Brayan\\\\rostro_158.jpg', 0),\n",
       " ('data\\\\train\\\\Brayan\\\\rostro_159.jpg', 0),\n",
       " ('data\\\\train\\\\Brayan\\\\rostro_16.jpg', 0),\n",
       " ('data\\\\train\\\\Brayan\\\\rostro_160.jpg', 0),\n",
       " ('data\\\\train\\\\Brayan\\\\rostro_161.jpg', 0),\n",
       " ('data\\\\train\\\\Brayan\\\\rostro_162.jpg', 0),\n",
       " ('data\\\\train\\\\Brayan\\\\rostro_163.jpg', 0),\n",
       " ('data\\\\train\\\\Brayan\\\\rostro_164.jpg', 0),\n",
       " ('data\\\\train\\\\Brayan\\\\rostro_168.jpg', 0),\n",
       " ('data\\\\train\\\\Brayan\\\\rostro_17.jpg', 0),\n",
       " ('data\\\\train\\\\Brayan\\\\rostro_170.jpg', 0),\n",
       " ('data\\\\train\\\\Brayan\\\\rostro_171.jpg', 0),\n",
       " ('data\\\\train\\\\Brayan\\\\rostro_175.jpg', 0),\n",
       " ('data\\\\train\\\\Brayan\\\\rostro_176.jpg', 0),\n",
       " ('data\\\\train\\\\Brayan\\\\rostro_177.jpg', 0),\n",
       " ('data\\\\train\\\\Brayan\\\\rostro_178.jpg', 0),\n",
       " ('data\\\\train\\\\Brayan\\\\rostro_179.jpg', 0),\n",
       " ('data\\\\train\\\\Brayan\\\\rostro_180.jpg', 0),\n",
       " ('data\\\\train\\\\Brayan\\\\rostro_181.jpg', 0),\n",
       " ('data\\\\train\\\\Brayan\\\\rostro_183.jpg', 0),\n",
       " ('data\\\\train\\\\Brayan\\\\rostro_184.jpg', 0),\n",
       " ('data\\\\train\\\\Brayan\\\\rostro_185.jpg', 0),\n",
       " ('data\\\\train\\\\Brayan\\\\rostro_186.jpg', 0),\n",
       " ('data\\\\train\\\\Brayan\\\\rostro_188.jpg', 0),\n",
       " ('data\\\\train\\\\Brayan\\\\rostro_189.jpg', 0),\n",
       " ('data\\\\train\\\\Brayan\\\\rostro_190.jpg', 0),\n",
       " ('data\\\\train\\\\Brayan\\\\rostro_194.jpg', 0),\n",
       " ('data\\\\train\\\\Brayan\\\\rostro_195.jpg', 0),\n",
       " ('data\\\\train\\\\Brayan\\\\rostro_196.jpg', 0),\n",
       " ('data\\\\train\\\\Brayan\\\\rostro_197.jpg', 0),\n",
       " ('data\\\\train\\\\Brayan\\\\rostro_2.jpg', 0),\n",
       " ('data\\\\train\\\\Brayan\\\\rostro_20.jpg', 0),\n",
       " ('data\\\\train\\\\Brayan\\\\rostro_200.jpg', 0),\n",
       " ('data\\\\train\\\\Brayan\\\\rostro_201.jpg', 0),\n",
       " ('data\\\\train\\\\Brayan\\\\rostro_204.jpg', 0),\n",
       " ('data\\\\train\\\\Brayan\\\\rostro_205.jpg', 0),\n",
       " ('data\\\\train\\\\Brayan\\\\rostro_206.jpg', 0),\n",
       " ('data\\\\train\\\\Brayan\\\\rostro_207.jpg', 0),\n",
       " ('data\\\\train\\\\Brayan\\\\rostro_208.jpg', 0),\n",
       " ('data\\\\train\\\\Brayan\\\\rostro_209.jpg', 0),\n",
       " ('data\\\\train\\\\Brayan\\\\rostro_21.jpg', 0),\n",
       " ('data\\\\train\\\\Brayan\\\\rostro_210.jpg', 0),\n",
       " ('data\\\\train\\\\Brayan\\\\rostro_213.jpg', 0),\n",
       " ('data\\\\train\\\\Brayan\\\\rostro_216.jpg', 0),\n",
       " ('data\\\\train\\\\Brayan\\\\rostro_217.jpg', 0),\n",
       " ('data\\\\train\\\\Brayan\\\\rostro_218.jpg', 0),\n",
       " ('data\\\\train\\\\Brayan\\\\rostro_219.jpg', 0),\n",
       " ('data\\\\train\\\\Brayan\\\\rostro_220.jpg', 0),\n",
       " ('data\\\\train\\\\Brayan\\\\rostro_221.jpg', 0),\n",
       " ('data\\\\train\\\\Brayan\\\\rostro_222.jpg', 0),\n",
       " ('data\\\\train\\\\Brayan\\\\rostro_223.jpg', 0),\n",
       " ('data\\\\train\\\\Brayan\\\\rostro_224.jpg', 0),\n",
       " ('data\\\\train\\\\Brayan\\\\rostro_225.jpg', 0),\n",
       " ('data\\\\train\\\\Brayan\\\\rostro_226.jpg', 0),\n",
       " ('data\\\\train\\\\Brayan\\\\rostro_229.jpg', 0),\n",
       " ('data\\\\train\\\\Brayan\\\\rostro_230.jpg', 0),\n",
       " ('data\\\\train\\\\Brayan\\\\rostro_233.jpg', 0),\n",
       " ('data\\\\train\\\\Brayan\\\\rostro_234.jpg', 0),\n",
       " ('data\\\\train\\\\Brayan\\\\rostro_236.jpg', 0),\n",
       " ('data\\\\train\\\\Brayan\\\\rostro_238.jpg', 0),\n",
       " ('data\\\\train\\\\Brayan\\\\rostro_239.jpg', 0),\n",
       " ('data\\\\train\\\\Brayan\\\\rostro_24.jpg', 0),\n",
       " ('data\\\\train\\\\Brayan\\\\rostro_240.jpg', 0),\n",
       " ('data\\\\train\\\\Brayan\\\\rostro_241.jpg', 0),\n",
       " ('data\\\\train\\\\Brayan\\\\rostro_243.jpg', 0),\n",
       " ('data\\\\train\\\\Brayan\\\\rostro_245.jpg', 0),\n",
       " ('data\\\\train\\\\Brayan\\\\rostro_247.jpg', 0),\n",
       " ('data\\\\train\\\\Brayan\\\\rostro_249.jpg', 0),\n",
       " ('data\\\\train\\\\Brayan\\\\rostro_25.jpg', 0),\n",
       " ('data\\\\train\\\\Brayan\\\\rostro_250.jpg', 0),\n",
       " ('data\\\\train\\\\Brayan\\\\rostro_253.jpg', 0),\n",
       " ('data\\\\train\\\\Brayan\\\\rostro_254.jpg', 0),\n",
       " ('data\\\\train\\\\Brayan\\\\rostro_258.jpg', 0),\n",
       " ('data\\\\train\\\\Brayan\\\\rostro_26.jpg', 0),\n",
       " ('data\\\\train\\\\Brayan\\\\rostro_260.jpg', 0),\n",
       " ('data\\\\train\\\\Brayan\\\\rostro_261.jpg', 0),\n",
       " ('data\\\\train\\\\Brayan\\\\rostro_262.jpg', 0),\n",
       " ('data\\\\train\\\\Brayan\\\\rostro_264.jpg', 0),\n",
       " ('data\\\\train\\\\Brayan\\\\rostro_266.jpg', 0),\n",
       " ('data\\\\train\\\\Brayan\\\\rostro_267.jpg', 0),\n",
       " ('data\\\\train\\\\Brayan\\\\rostro_268.jpg', 0),\n",
       " ('data\\\\train\\\\Brayan\\\\rostro_27.jpg', 0),\n",
       " ('data\\\\train\\\\Brayan\\\\rostro_270.jpg', 0),\n",
       " ('data\\\\train\\\\Brayan\\\\rostro_271.jpg', 0),\n",
       " ('data\\\\train\\\\Brayan\\\\rostro_272.jpg', 0),\n",
       " ('data\\\\train\\\\Brayan\\\\rostro_273.jpg', 0),\n",
       " ('data\\\\train\\\\Brayan\\\\rostro_274.jpg', 0),\n",
       " ('data\\\\train\\\\Brayan\\\\rostro_277.jpg', 0),\n",
       " ('data\\\\train\\\\Brayan\\\\rostro_279.jpg', 0),\n",
       " ('data\\\\train\\\\Brayan\\\\rostro_280.jpg', 0),\n",
       " ('data\\\\train\\\\Brayan\\\\rostro_281.jpg', 0),\n",
       " ('data\\\\train\\\\Brayan\\\\rostro_282.jpg', 0),\n",
       " ('data\\\\train\\\\Brayan\\\\rostro_283.jpg', 0),\n",
       " ('data\\\\train\\\\Brayan\\\\rostro_284.jpg', 0),\n",
       " ('data\\\\train\\\\Brayan\\\\rostro_287.jpg', 0),\n",
       " ('data\\\\train\\\\Brayan\\\\rostro_288.jpg', 0),\n",
       " ('data\\\\train\\\\Brayan\\\\rostro_29.jpg', 0),\n",
       " ('data\\\\train\\\\Brayan\\\\rostro_290.jpg', 0),\n",
       " ('data\\\\train\\\\Brayan\\\\rostro_291.jpg', 0),\n",
       " ('data\\\\train\\\\Brayan\\\\rostro_292.jpg', 0),\n",
       " ('data\\\\train\\\\Brayan\\\\rostro_293.jpg', 0),\n",
       " ('data\\\\train\\\\Brayan\\\\rostro_297.jpg', 0),\n",
       " ('data\\\\train\\\\Brayan\\\\rostro_298.jpg', 0),\n",
       " ('data\\\\train\\\\Brayan\\\\rostro_30.jpg', 0),\n",
       " ('data\\\\train\\\\Brayan\\\\rostro_300.jpg', 0),\n",
       " ('data\\\\train\\\\Brayan\\\\rostro_302.jpg', 0),\n",
       " ('data\\\\train\\\\Brayan\\\\rostro_303.jpg', 0),\n",
       " ('data\\\\train\\\\Brayan\\\\rostro_306.jpg', 0),\n",
       " ('data\\\\train\\\\Brayan\\\\rostro_307.jpg', 0),\n",
       " ('data\\\\train\\\\Brayan\\\\rostro_308.jpg', 0),\n",
       " ('data\\\\train\\\\Brayan\\\\rostro_309.jpg', 0),\n",
       " ('data\\\\train\\\\Brayan\\\\rostro_31.jpg', 0),\n",
       " ('data\\\\train\\\\Brayan\\\\rostro_312.jpg', 0),\n",
       " ('data\\\\train\\\\Brayan\\\\rostro_313.jpg', 0),\n",
       " ('data\\\\train\\\\Brayan\\\\rostro_314.jpg', 0),\n",
       " ('data\\\\train\\\\Brayan\\\\rostro_315.jpg', 0),\n",
       " ('data\\\\train\\\\Brayan\\\\rostro_318.jpg', 0),\n",
       " ('data\\\\train\\\\Brayan\\\\rostro_319.jpg', 0),\n",
       " ('data\\\\train\\\\Brayan\\\\rostro_32.jpg', 0),\n",
       " ('data\\\\train\\\\Brayan\\\\rostro_321.jpg', 0),\n",
       " ('data\\\\train\\\\Brayan\\\\rostro_322.jpg', 0),\n",
       " ('data\\\\train\\\\Brayan\\\\rostro_323.jpg', 0),\n",
       " ('data\\\\train\\\\Brayan\\\\rostro_326.jpg', 0),\n",
       " ('data\\\\train\\\\Brayan\\\\rostro_327.jpg', 0),\n",
       " ('data\\\\train\\\\Brayan\\\\rostro_328.jpg', 0),\n",
       " ('data\\\\train\\\\Brayan\\\\rostro_330.jpg', 0),\n",
       " ('data\\\\train\\\\Brayan\\\\rostro_332.jpg', 0),\n",
       " ('data\\\\train\\\\Brayan\\\\rostro_333.jpg', 0),\n",
       " ('data\\\\train\\\\Brayan\\\\rostro_334.jpg', 0),\n",
       " ('data\\\\train\\\\Brayan\\\\rostro_337.jpg', 0),\n",
       " ('data\\\\train\\\\Brayan\\\\rostro_339.jpg', 0),\n",
       " ('data\\\\train\\\\Brayan\\\\rostro_34.jpg', 0),\n",
       " ('data\\\\train\\\\Brayan\\\\rostro_340.jpg', 0),\n",
       " ('data\\\\train\\\\Brayan\\\\rostro_341.jpg', 0),\n",
       " ('data\\\\train\\\\Brayan\\\\rostro_342.jpg', 0),\n",
       " ('data\\\\train\\\\Brayan\\\\rostro_343.jpg', 0),\n",
       " ('data\\\\train\\\\Brayan\\\\rostro_344.jpg', 0),\n",
       " ('data\\\\train\\\\Brayan\\\\rostro_347.jpg', 0),\n",
       " ('data\\\\train\\\\Brayan\\\\rostro_349.jpg', 0),\n",
       " ('data\\\\train\\\\Brayan\\\\rostro_351.jpg', 0),\n",
       " ('data\\\\train\\\\Brayan\\\\rostro_352.jpg', 0),\n",
       " ('data\\\\train\\\\Brayan\\\\rostro_353.jpg', 0),\n",
       " ('data\\\\train\\\\Brayan\\\\rostro_354.jpg', 0),\n",
       " ('data\\\\train\\\\Brayan\\\\rostro_357.jpg', 0),\n",
       " ('data\\\\train\\\\Brayan\\\\rostro_358.jpg', 0),\n",
       " ('data\\\\train\\\\Brayan\\\\rostro_36.jpg', 0),\n",
       " ('data\\\\train\\\\Brayan\\\\rostro_361.jpg', 0),\n",
       " ('data\\\\train\\\\Brayan\\\\rostro_362.jpg', 0),\n",
       " ('data\\\\train\\\\Brayan\\\\rostro_364.jpg', 0),\n",
       " ('data\\\\train\\\\Brayan\\\\rostro_365.jpg', 0),\n",
       " ('data\\\\train\\\\Brayan\\\\rostro_366.jpg', 0),\n",
       " ('data\\\\train\\\\Brayan\\\\rostro_367.jpg', 0),\n",
       " ('data\\\\train\\\\Brayan\\\\rostro_368.jpg', 0),\n",
       " ('data\\\\train\\\\Brayan\\\\rostro_371.jpg', 0),\n",
       " ('data\\\\train\\\\Brayan\\\\rostro_372.jpg', 0),\n",
       " ('data\\\\train\\\\Brayan\\\\rostro_374.jpg', 0),\n",
       " ('data\\\\train\\\\Brayan\\\\rostro_375.jpg', 0),\n",
       " ('data\\\\train\\\\Brayan\\\\rostro_379.jpg', 0),\n",
       " ('data\\\\train\\\\Brayan\\\\rostro_38.jpg', 0),\n",
       " ('data\\\\train\\\\Brayan\\\\rostro_380.jpg', 0),\n",
       " ('data\\\\train\\\\Brayan\\\\rostro_381.jpg', 0),\n",
       " ('data\\\\train\\\\Brayan\\\\rostro_382.jpg', 0),\n",
       " ('data\\\\train\\\\Brayan\\\\rostro_383.jpg', 0),\n",
       " ('data\\\\train\\\\Brayan\\\\rostro_384.jpg', 0),\n",
       " ('data\\\\train\\\\Brayan\\\\rostro_386.jpg', 0),\n",
       " ('data\\\\train\\\\Brayan\\\\rostro_387.jpg', 0),\n",
       " ('data\\\\train\\\\Brayan\\\\rostro_389.jpg', 0),\n",
       " ('data\\\\train\\\\Brayan\\\\rostro_392.jpg', 0),\n",
       " ('data\\\\train\\\\Brayan\\\\rostro_393.jpg', 0),\n",
       " ('data\\\\train\\\\Brayan\\\\rostro_394.jpg', 0),\n",
       " ('data\\\\train\\\\Brayan\\\\rostro_395.jpg', 0),\n",
       " ('data\\\\train\\\\Brayan\\\\rostro_396.jpg', 0),\n",
       " ('data\\\\train\\\\Brayan\\\\rostro_397.jpg', 0),\n",
       " ('data\\\\train\\\\Brayan\\\\rostro_400.jpg', 0),\n",
       " ('data\\\\train\\\\Brayan\\\\rostro_402.jpg', 0),\n",
       " ('data\\\\train\\\\Brayan\\\\rostro_403.jpg', 0),\n",
       " ('data\\\\train\\\\Brayan\\\\rostro_404.jpg', 0),\n",
       " ('data\\\\train\\\\Brayan\\\\rostro_405.jpg', 0),\n",
       " ('data\\\\train\\\\Brayan\\\\rostro_409.jpg', 0),\n",
       " ('data\\\\train\\\\Brayan\\\\rostro_41.jpg', 0),\n",
       " ('data\\\\train\\\\Brayan\\\\rostro_410.jpg', 0),\n",
       " ('data\\\\train\\\\Brayan\\\\rostro_411.jpg', 0),\n",
       " ('data\\\\train\\\\Brayan\\\\rostro_412.jpg', 0),\n",
       " ('data\\\\train\\\\Brayan\\\\rostro_416.jpg', 0),\n",
       " ('data\\\\train\\\\Brayan\\\\rostro_417.jpg', 0),\n",
       " ('data\\\\train\\\\Brayan\\\\rostro_418.jpg', 0),\n",
       " ('data\\\\train\\\\Brayan\\\\rostro_419.jpg', 0),\n",
       " ('data\\\\train\\\\Brayan\\\\rostro_422.jpg', 0),\n",
       " ('data\\\\train\\\\Brayan\\\\rostro_423.jpg', 0),\n",
       " ('data\\\\train\\\\Brayan\\\\rostro_424.jpg', 0),\n",
       " ('data\\\\train\\\\Brayan\\\\rostro_425.jpg', 0),\n",
       " ('data\\\\train\\\\Brayan\\\\rostro_426.jpg', 0),\n",
       " ('data\\\\train\\\\Brayan\\\\rostro_428.jpg', 0),\n",
       " ('data\\\\train\\\\Brayan\\\\rostro_429.jpg', 0),\n",
       " ('data\\\\train\\\\Brayan\\\\rostro_43.jpg', 0),\n",
       " ('data\\\\train\\\\Brayan\\\\rostro_431.jpg', 0),\n",
       " ('data\\\\train\\\\Brayan\\\\rostro_432.jpg', 0),\n",
       " ('data\\\\train\\\\Brayan\\\\rostro_434.jpg', 0),\n",
       " ('data\\\\train\\\\Brayan\\\\rostro_435.jpg', 0),\n",
       " ('data\\\\train\\\\Brayan\\\\rostro_437.jpg', 0),\n",
       " ('data\\\\train\\\\Brayan\\\\rostro_441.jpg', 0),\n",
       " ('data\\\\train\\\\Brayan\\\\rostro_442.jpg', 0),\n",
       " ('data\\\\train\\\\Brayan\\\\rostro_443.jpg', 0),\n",
       " ('data\\\\train\\\\Brayan\\\\rostro_444.jpg', 0),\n",
       " ('data\\\\train\\\\Brayan\\\\rostro_446.jpg', 0),\n",
       " ('data\\\\train\\\\Brayan\\\\rostro_448.jpg', 0),\n",
       " ('data\\\\train\\\\Brayan\\\\rostro_449.jpg', 0),\n",
       " ('data\\\\train\\\\Brayan\\\\rostro_450.jpg', 0),\n",
       " ('data\\\\train\\\\Brayan\\\\rostro_451.jpg', 0),\n",
       " ('data\\\\train\\\\Brayan\\\\rostro_452.jpg', 0),\n",
       " ('data\\\\train\\\\Brayan\\\\rostro_454.jpg', 0),\n",
       " ('data\\\\train\\\\Brayan\\\\rostro_455.jpg', 0),\n",
       " ('data\\\\train\\\\Brayan\\\\rostro_456.jpg', 0),\n",
       " ('data\\\\train\\\\Brayan\\\\rostro_459.jpg', 0),\n",
       " ('data\\\\train\\\\Brayan\\\\rostro_46.jpg', 0),\n",
       " ('data\\\\train\\\\Brayan\\\\rostro_460.jpg', 0),\n",
       " ('data\\\\train\\\\Brayan\\\\rostro_462.jpg', 0),\n",
       " ('data\\\\train\\\\Brayan\\\\rostro_463.jpg', 0),\n",
       " ('data\\\\train\\\\Brayan\\\\rostro_465.jpg', 0),\n",
       " ('data\\\\train\\\\Brayan\\\\rostro_467.jpg', 0),\n",
       " ('data\\\\train\\\\Brayan\\\\rostro_469.jpg', 0),\n",
       " ('data\\\\train\\\\Brayan\\\\rostro_470.jpg', 0),\n",
       " ('data\\\\train\\\\Brayan\\\\rostro_471.jpg', 0),\n",
       " ('data\\\\train\\\\Brayan\\\\rostro_472.jpg', 0),\n",
       " ('data\\\\train\\\\Brayan\\\\rostro_475.jpg', 0),\n",
       " ('data\\\\train\\\\Brayan\\\\rostro_477.jpg', 0),\n",
       " ('data\\\\train\\\\Brayan\\\\rostro_478.jpg', 0),\n",
       " ('data\\\\train\\\\Brayan\\\\rostro_48.jpg', 0),\n",
       " ('data\\\\train\\\\Brayan\\\\rostro_480.jpg', 0),\n",
       " ('data\\\\train\\\\Brayan\\\\rostro_481.jpg', 0),\n",
       " ('data\\\\train\\\\Brayan\\\\rostro_482.jpg', 0),\n",
       " ('data\\\\train\\\\Brayan\\\\rostro_484.jpg', 0),\n",
       " ('data\\\\train\\\\Brayan\\\\rostro_486.jpg', 0),\n",
       " ('data\\\\train\\\\Brayan\\\\rostro_487.jpg', 0),\n",
       " ('data\\\\train\\\\Brayan\\\\rostro_49.jpg', 0),\n",
       " ('data\\\\train\\\\Brayan\\\\rostro_490.jpg', 0),\n",
       " ('data\\\\train\\\\Brayan\\\\rostro_491.jpg', 0),\n",
       " ('data\\\\train\\\\Brayan\\\\rostro_492.jpg', 0),\n",
       " ('data\\\\train\\\\Brayan\\\\rostro_495.jpg', 0),\n",
       " ('data\\\\train\\\\Brayan\\\\rostro_496.jpg', 0),\n",
       " ('data\\\\train\\\\Brayan\\\\rostro_497.jpg', 0),\n",
       " ('data\\\\train\\\\Brayan\\\\rostro_499.jpg', 0),\n",
       " ('data\\\\train\\\\Brayan\\\\rostro_5.jpg', 0),\n",
       " ('data\\\\train\\\\Brayan\\\\rostro_50.jpg', 0),\n",
       " ('data\\\\train\\\\Brayan\\\\rostro_51.jpg', 0),\n",
       " ('data\\\\train\\\\Brayan\\\\rostro_52.jpg', 0),\n",
       " ('data\\\\train\\\\Brayan\\\\rostro_53.jpg', 0),\n",
       " ('data\\\\train\\\\Brayan\\\\rostro_54.jpg', 0),\n",
       " ('data\\\\train\\\\Brayan\\\\rostro_55.jpg', 0),\n",
       " ('data\\\\train\\\\Brayan\\\\rostro_56.jpg', 0),\n",
       " ('data\\\\train\\\\Brayan\\\\rostro_58.jpg', 0),\n",
       " ('data\\\\train\\\\Brayan\\\\rostro_6.jpg', 0),\n",
       " ('data\\\\train\\\\Brayan\\\\rostro_60.jpg', 0),\n",
       " ('data\\\\train\\\\Brayan\\\\rostro_62.jpg', 0),\n",
       " ('data\\\\train\\\\Brayan\\\\rostro_63.jpg', 0),\n",
       " ('data\\\\train\\\\Brayan\\\\rostro_64.jpg', 0),\n",
       " ('data\\\\train\\\\Brayan\\\\rostro_66.jpg', 0),\n",
       " ('data\\\\train\\\\Brayan\\\\rostro_69.jpg', 0),\n",
       " ('data\\\\train\\\\Brayan\\\\rostro_7.jpg', 0),\n",
       " ('data\\\\train\\\\Brayan\\\\rostro_71.jpg', 0),\n",
       " ('data\\\\train\\\\Brayan\\\\rostro_73.jpg', 0),\n",
       " ('data\\\\train\\\\Brayan\\\\rostro_77.jpg', 0),\n",
       " ('data\\\\train\\\\Brayan\\\\rostro_79.jpg', 0),\n",
       " ('data\\\\train\\\\Brayan\\\\rostro_81.jpg', 0),\n",
       " ('data\\\\train\\\\Brayan\\\\rostro_82.jpg', 0),\n",
       " ('data\\\\train\\\\Brayan\\\\rostro_83.jpg', 0),\n",
       " ('data\\\\train\\\\Brayan\\\\rostro_84.jpg', 0),\n",
       " ('data\\\\train\\\\Brayan\\\\rostro_85.jpg', 0),\n",
       " ('data\\\\train\\\\Brayan\\\\rostro_86.jpg', 0),\n",
       " ('data\\\\train\\\\Brayan\\\\rostro_9.jpg', 0),\n",
       " ('data\\\\train\\\\Brayan\\\\rostro_91.jpg', 0),\n",
       " ('data\\\\train\\\\Brayan\\\\rostro_94.jpg', 0),\n",
       " ('data\\\\train\\\\Brayan\\\\rostro_95.jpg', 0),\n",
       " ('data\\\\train\\\\Brayan\\\\rostro_96.jpg', 0),\n",
       " ('data\\\\train\\\\Brayan\\\\rostro_97.jpg', 0),\n",
       " ('data\\\\train\\\\Brayan\\\\rostro_98.jpg', 0),\n",
       " ('data\\\\train\\\\Brayan\\\\rostro_99.jpg', 0),\n",
       " ('data\\\\train\\\\Carlos_Cruz\\\\a_rostro_103.jpg', 1),\n",
       " ('data\\\\train\\\\Carlos_Cruz\\\\a_rostro_106.jpg', 1),\n",
       " ('data\\\\train\\\\Carlos_Cruz\\\\a_rostro_118.jpg', 1),\n",
       " ('data\\\\train\\\\Carlos_Cruz\\\\a_rostro_123.jpg', 1),\n",
       " ('data\\\\train\\\\Carlos_Cruz\\\\a_rostro_129.jpg', 1),\n",
       " ('data\\\\train\\\\Carlos_Cruz\\\\a_rostro_134.jpg', 1),\n",
       " ('data\\\\train\\\\Carlos_Cruz\\\\a_rostro_140.jpg', 1),\n",
       " ('data\\\\train\\\\Carlos_Cruz\\\\a_rostro_146.jpg', 1),\n",
       " ('data\\\\train\\\\Carlos_Cruz\\\\a_rostro_147.jpg', 1),\n",
       " ('data\\\\train\\\\Carlos_Cruz\\\\a_rostro_15.jpg', 1),\n",
       " ('data\\\\train\\\\Carlos_Cruz\\\\a_rostro_159.jpg', 1),\n",
       " ('data\\\\train\\\\Carlos_Cruz\\\\a_rostro_168.jpg', 1),\n",
       " ('data\\\\train\\\\Carlos_Cruz\\\\a_rostro_177.jpg', 1),\n",
       " ('data\\\\train\\\\Carlos_Cruz\\\\a_rostro_179.jpg', 1),\n",
       " ('data\\\\train\\\\Carlos_Cruz\\\\a_rostro_180.jpg', 1),\n",
       " ('data\\\\train\\\\Carlos_Cruz\\\\a_rostro_184.jpg', 1),\n",
       " ('data\\\\train\\\\Carlos_Cruz\\\\a_rostro_187.jpg', 1),\n",
       " ('data\\\\train\\\\Carlos_Cruz\\\\a_rostro_19.jpg', 1),\n",
       " ('data\\\\train\\\\Carlos_Cruz\\\\a_rostro_197.jpg', 1),\n",
       " ('data\\\\train\\\\Carlos_Cruz\\\\a_rostro_203.jpg', 1),\n",
       " ('data\\\\train\\\\Carlos_Cruz\\\\a_rostro_215.jpg', 1),\n",
       " ('data\\\\train\\\\Carlos_Cruz\\\\a_rostro_219.jpg', 1),\n",
       " ('data\\\\train\\\\Carlos_Cruz\\\\a_rostro_228.jpg', 1),\n",
       " ('data\\\\train\\\\Carlos_Cruz\\\\a_rostro_234.jpg', 1),\n",
       " ('data\\\\train\\\\Carlos_Cruz\\\\a_rostro_236.jpg', 1),\n",
       " ('data\\\\train\\\\Carlos_Cruz\\\\a_rostro_242.jpg', 1),\n",
       " ('data\\\\train\\\\Carlos_Cruz\\\\a_rostro_25.jpg', 1),\n",
       " ('data\\\\train\\\\Carlos_Cruz\\\\a_rostro_250.jpg', 1),\n",
       " ('data\\\\train\\\\Carlos_Cruz\\\\a_rostro_274.jpg', 1),\n",
       " ('data\\\\train\\\\Carlos_Cruz\\\\a_rostro_282.jpg', 1),\n",
       " ('data\\\\train\\\\Carlos_Cruz\\\\a_rostro_290.jpg', 1),\n",
       " ('data\\\\train\\\\Carlos_Cruz\\\\a_rostro_301.jpg', 1),\n",
       " ('data\\\\train\\\\Carlos_Cruz\\\\a_rostro_304.jpg', 1),\n",
       " ('data\\\\train\\\\Carlos_Cruz\\\\a_rostro_315.jpg', 1),\n",
       " ('data\\\\train\\\\Carlos_Cruz\\\\a_rostro_321.jpg', 1),\n",
       " ('data\\\\train\\\\Carlos_Cruz\\\\a_rostro_33.jpg', 1),\n",
       " ('data\\\\train\\\\Carlos_Cruz\\\\a_rostro_332.jpg', 1),\n",
       " ('data\\\\train\\\\Carlos_Cruz\\\\a_rostro_336.jpg', 1),\n",
       " ('data\\\\train\\\\Carlos_Cruz\\\\a_rostro_337.jpg', 1),\n",
       " ('data\\\\train\\\\Carlos_Cruz\\\\a_rostro_35.jpg', 1),\n",
       " ('data\\\\train\\\\Carlos_Cruz\\\\a_rostro_357.jpg', 1),\n",
       " ('data\\\\train\\\\Carlos_Cruz\\\\a_rostro_359.jpg', 1),\n",
       " ('data\\\\train\\\\Carlos_Cruz\\\\a_rostro_361.jpg', 1),\n",
       " ('data\\\\train\\\\Carlos_Cruz\\\\a_rostro_368.jpg', 1),\n",
       " ('data\\\\train\\\\Carlos_Cruz\\\\a_rostro_37.jpg', 1),\n",
       " ('data\\\\train\\\\Carlos_Cruz\\\\a_rostro_371.jpg', 1),\n",
       " ('data\\\\train\\\\Carlos_Cruz\\\\a_rostro_375.jpg', 1),\n",
       " ('data\\\\train\\\\Carlos_Cruz\\\\a_rostro_38.jpg', 1),\n",
       " ('data\\\\train\\\\Carlos_Cruz\\\\a_rostro_380.jpg', 1),\n",
       " ('data\\\\train\\\\Carlos_Cruz\\\\a_rostro_383.jpg', 1),\n",
       " ('data\\\\train\\\\Carlos_Cruz\\\\a_rostro_401.jpg', 1),\n",
       " ('data\\\\train\\\\Carlos_Cruz\\\\a_rostro_405.jpg', 1),\n",
       " ('data\\\\train\\\\Carlos_Cruz\\\\a_rostro_422.jpg', 1),\n",
       " ('data\\\\train\\\\Carlos_Cruz\\\\a_rostro_426.jpg', 1),\n",
       " ('data\\\\train\\\\Carlos_Cruz\\\\a_rostro_446.jpg', 1),\n",
       " ('data\\\\train\\\\Carlos_Cruz\\\\a_rostro_447.jpg', 1),\n",
       " ('data\\\\train\\\\Carlos_Cruz\\\\a_rostro_452.jpg', 1),\n",
       " ('data\\\\train\\\\Carlos_Cruz\\\\a_rostro_467.jpg', 1),\n",
       " ('data\\\\train\\\\Carlos_Cruz\\\\a_rostro_468.jpg', 1),\n",
       " ('data\\\\train\\\\Carlos_Cruz\\\\a_rostro_474.jpg', 1),\n",
       " ('data\\\\train\\\\Carlos_Cruz\\\\a_rostro_477.jpg', 1),\n",
       " ('data\\\\train\\\\Carlos_Cruz\\\\a_rostro_484.jpg', 1),\n",
       " ('data\\\\train\\\\Carlos_Cruz\\\\a_rostro_486.jpg', 1),\n",
       " ('data\\\\train\\\\Carlos_Cruz\\\\a_rostro_494.jpg', 1),\n",
       " ('data\\\\train\\\\Carlos_Cruz\\\\a_rostro_53.jpg', 1),\n",
       " ('data\\\\train\\\\Carlos_Cruz\\\\a_rostro_6.jpg', 1),\n",
       " ('data\\\\train\\\\Carlos_Cruz\\\\a_rostro_60.jpg', 1),\n",
       " ('data\\\\train\\\\Carlos_Cruz\\\\a_rostro_83.jpg', 1),\n",
       " ('data\\\\train\\\\Carlos_Cruz\\\\a_rostro_84.jpg', 1),\n",
       " ('data\\\\train\\\\Carlos_Cruz\\\\a_rostro_86.jpg', 1),\n",
       " ('data\\\\train\\\\Carlos_Cruz\\\\rostro_0.jpg', 1),\n",
       " ('data\\\\train\\\\Carlos_Cruz\\\\rostro_102.jpg', 1),\n",
       " ('data\\\\train\\\\Carlos_Cruz\\\\rostro_103.jpg', 1),\n",
       " ('data\\\\train\\\\Carlos_Cruz\\\\rostro_105.jpg', 1),\n",
       " ('data\\\\train\\\\Carlos_Cruz\\\\rostro_106.jpg', 1),\n",
       " ('data\\\\train\\\\Carlos_Cruz\\\\rostro_108.jpg', 1),\n",
       " ('data\\\\train\\\\Carlos_Cruz\\\\rostro_109.jpg', 1),\n",
       " ('data\\\\train\\\\Carlos_Cruz\\\\rostro_11.jpg', 1),\n",
       " ('data\\\\train\\\\Carlos_Cruz\\\\rostro_110.jpg', 1),\n",
       " ('data\\\\train\\\\Carlos_Cruz\\\\rostro_112.jpg', 1),\n",
       " ('data\\\\train\\\\Carlos_Cruz\\\\rostro_113.jpg', 1),\n",
       " ('data\\\\train\\\\Carlos_Cruz\\\\rostro_115.jpg', 1),\n",
       " ('data\\\\train\\\\Carlos_Cruz\\\\rostro_116.jpg', 1),\n",
       " ('data\\\\train\\\\Carlos_Cruz\\\\rostro_117.jpg', 1),\n",
       " ('data\\\\train\\\\Carlos_Cruz\\\\rostro_118.jpg', 1),\n",
       " ('data\\\\train\\\\Carlos_Cruz\\\\rostro_120.jpg', 1),\n",
       " ('data\\\\train\\\\Carlos_Cruz\\\\rostro_121.jpg', 1),\n",
       " ('data\\\\train\\\\Carlos_Cruz\\\\rostro_122.jpg', 1),\n",
       " ('data\\\\train\\\\Carlos_Cruz\\\\rostro_123.jpg', 1),\n",
       " ('data\\\\train\\\\Carlos_Cruz\\\\rostro_128.jpg', 1),\n",
       " ('data\\\\train\\\\Carlos_Cruz\\\\rostro_129.jpg', 1),\n",
       " ('data\\\\train\\\\Carlos_Cruz\\\\rostro_13.jpg', 1),\n",
       " ('data\\\\train\\\\Carlos_Cruz\\\\rostro_132.jpg', 1),\n",
       " ('data\\\\train\\\\Carlos_Cruz\\\\rostro_133.jpg', 1),\n",
       " ('data\\\\train\\\\Carlos_Cruz\\\\rostro_134.jpg', 1),\n",
       " ('data\\\\train\\\\Carlos_Cruz\\\\rostro_135.jpg', 1),\n",
       " ('data\\\\train\\\\Carlos_Cruz\\\\rostro_137.jpg', 1),\n",
       " ('data\\\\train\\\\Carlos_Cruz\\\\rostro_138.jpg', 1),\n",
       " ('data\\\\train\\\\Carlos_Cruz\\\\rostro_139.jpg', 1),\n",
       " ('data\\\\train\\\\Carlos_Cruz\\\\rostro_14.jpg', 1),\n",
       " ('data\\\\train\\\\Carlos_Cruz\\\\rostro_140.jpg', 1),\n",
       " ('data\\\\train\\\\Carlos_Cruz\\\\rostro_142.jpg', 1),\n",
       " ('data\\\\train\\\\Carlos_Cruz\\\\rostro_143.jpg', 1),\n",
       " ('data\\\\train\\\\Carlos_Cruz\\\\rostro_146.jpg', 1),\n",
       " ('data\\\\train\\\\Carlos_Cruz\\\\rostro_147.jpg', 1),\n",
       " ('data\\\\train\\\\Carlos_Cruz\\\\rostro_149.jpg', 1),\n",
       " ('data\\\\train\\\\Carlos_Cruz\\\\rostro_15.jpg', 1),\n",
       " ('data\\\\train\\\\Carlos_Cruz\\\\rostro_150.jpg', 1),\n",
       " ('data\\\\train\\\\Carlos_Cruz\\\\rostro_151.jpg', 1),\n",
       " ('data\\\\train\\\\Carlos_Cruz\\\\rostro_152.jpg', 1),\n",
       " ('data\\\\train\\\\Carlos_Cruz\\\\rostro_154.jpg', 1),\n",
       " ('data\\\\train\\\\Carlos_Cruz\\\\rostro_156.jpg', 1),\n",
       " ('data\\\\train\\\\Carlos_Cruz\\\\rostro_159.jpg', 1),\n",
       " ('data\\\\train\\\\Carlos_Cruz\\\\rostro_163.jpg', 1),\n",
       " ('data\\\\train\\\\Carlos_Cruz\\\\rostro_165.jpg', 1),\n",
       " ('data\\\\train\\\\Carlos_Cruz\\\\rostro_167.jpg', 1),\n",
       " ('data\\\\train\\\\Carlos_Cruz\\\\rostro_168.jpg', 1),\n",
       " ('data\\\\train\\\\Carlos_Cruz\\\\rostro_169.jpg', 1),\n",
       " ('data\\\\train\\\\Carlos_Cruz\\\\rostro_17.jpg', 1),\n",
       " ('data\\\\train\\\\Carlos_Cruz\\\\rostro_171.jpg', 1),\n",
       " ('data\\\\train\\\\Carlos_Cruz\\\\rostro_172.jpg', 1),\n",
       " ('data\\\\train\\\\Carlos_Cruz\\\\rostro_174.jpg', 1),\n",
       " ('data\\\\train\\\\Carlos_Cruz\\\\rostro_175.jpg', 1),\n",
       " ('data\\\\train\\\\Carlos_Cruz\\\\rostro_176.jpg', 1),\n",
       " ('data\\\\train\\\\Carlos_Cruz\\\\rostro_177.jpg', 1),\n",
       " ('data\\\\train\\\\Carlos_Cruz\\\\rostro_178.jpg', 1),\n",
       " ('data\\\\train\\\\Carlos_Cruz\\\\rostro_179.jpg', 1),\n",
       " ('data\\\\train\\\\Carlos_Cruz\\\\rostro_18.jpg', 1),\n",
       " ('data\\\\train\\\\Carlos_Cruz\\\\rostro_180.jpg', 1),\n",
       " ('data\\\\train\\\\Carlos_Cruz\\\\rostro_181.jpg', 1),\n",
       " ('data\\\\train\\\\Carlos_Cruz\\\\rostro_183.jpg', 1),\n",
       " ('data\\\\train\\\\Carlos_Cruz\\\\rostro_184.jpg', 1),\n",
       " ('data\\\\train\\\\Carlos_Cruz\\\\rostro_185.jpg', 1),\n",
       " ('data\\\\train\\\\Carlos_Cruz\\\\rostro_186.jpg', 1),\n",
       " ('data\\\\train\\\\Carlos_Cruz\\\\rostro_187.jpg', 1),\n",
       " ('data\\\\train\\\\Carlos_Cruz\\\\rostro_19.jpg', 1),\n",
       " ('data\\\\train\\\\Carlos_Cruz\\\\rostro_190.jpg', 1),\n",
       " ('data\\\\train\\\\Carlos_Cruz\\\\rostro_192.jpg', 1),\n",
       " ('data\\\\train\\\\Carlos_Cruz\\\\rostro_197.jpg', 1),\n",
       " ('data\\\\train\\\\Carlos_Cruz\\\\rostro_198.jpg', 1),\n",
       " ('data\\\\train\\\\Carlos_Cruz\\\\rostro_199.jpg', 1),\n",
       " ('data\\\\train\\\\Carlos_Cruz\\\\rostro_2.jpg', 1),\n",
       " ('data\\\\train\\\\Carlos_Cruz\\\\rostro_20.jpg', 1),\n",
       " ('data\\\\train\\\\Carlos_Cruz\\\\rostro_202.jpg', 1),\n",
       " ('data\\\\train\\\\Carlos_Cruz\\\\rostro_203.jpg', 1),\n",
       " ('data\\\\train\\\\Carlos_Cruz\\\\rostro_204.jpg', 1),\n",
       " ('data\\\\train\\\\Carlos_Cruz\\\\rostro_205.jpg', 1),\n",
       " ('data\\\\train\\\\Carlos_Cruz\\\\rostro_208.jpg', 1),\n",
       " ('data\\\\train\\\\Carlos_Cruz\\\\rostro_209.jpg', 1),\n",
       " ('data\\\\train\\\\Carlos_Cruz\\\\rostro_210.jpg', 1),\n",
       " ('data\\\\train\\\\Carlos_Cruz\\\\rostro_211.jpg', 1),\n",
       " ('data\\\\train\\\\Carlos_Cruz\\\\rostro_214.jpg', 1),\n",
       " ('data\\\\train\\\\Carlos_Cruz\\\\rostro_215.jpg', 1),\n",
       " ('data\\\\train\\\\Carlos_Cruz\\\\rostro_216.jpg', 1),\n",
       " ('data\\\\train\\\\Carlos_Cruz\\\\rostro_217.jpg', 1),\n",
       " ('data\\\\train\\\\Carlos_Cruz\\\\rostro_219.jpg', 1),\n",
       " ('data\\\\train\\\\Carlos_Cruz\\\\rostro_22.jpg', 1),\n",
       " ('data\\\\train\\\\Carlos_Cruz\\\\rostro_220.jpg', 1),\n",
       " ('data\\\\train\\\\Carlos_Cruz\\\\rostro_224.jpg', 1),\n",
       " ('data\\\\train\\\\Carlos_Cruz\\\\rostro_226.jpg', 1),\n",
       " ('data\\\\train\\\\Carlos_Cruz\\\\rostro_228.jpg', 1),\n",
       " ('data\\\\train\\\\Carlos_Cruz\\\\rostro_229.jpg', 1),\n",
       " ('data\\\\train\\\\Carlos_Cruz\\\\rostro_23.jpg', 1),\n",
       " ('data\\\\train\\\\Carlos_Cruz\\\\rostro_230.jpg', 1),\n",
       " ('data\\\\train\\\\Carlos_Cruz\\\\rostro_231.jpg', 1),\n",
       " ('data\\\\train\\\\Carlos_Cruz\\\\rostro_233.jpg', 1),\n",
       " ('data\\\\train\\\\Carlos_Cruz\\\\rostro_234.jpg', 1),\n",
       " ('data\\\\train\\\\Carlos_Cruz\\\\rostro_235.jpg', 1),\n",
       " ('data\\\\train\\\\Carlos_Cruz\\\\rostro_236.jpg', 1),\n",
       " ('data\\\\train\\\\Carlos_Cruz\\\\rostro_237.jpg', 1),\n",
       " ('data\\\\train\\\\Carlos_Cruz\\\\rostro_239.jpg', 1),\n",
       " ('data\\\\train\\\\Carlos_Cruz\\\\rostro_24.jpg', 1),\n",
       " ('data\\\\train\\\\Carlos_Cruz\\\\rostro_240.jpg', 1),\n",
       " ('data\\\\train\\\\Carlos_Cruz\\\\rostro_241.jpg', 1),\n",
       " ('data\\\\train\\\\Carlos_Cruz\\\\rostro_242.jpg', 1),\n",
       " ('data\\\\train\\\\Carlos_Cruz\\\\rostro_243.jpg', 1),\n",
       " ('data\\\\train\\\\Carlos_Cruz\\\\rostro_245.jpg', 1),\n",
       " ('data\\\\train\\\\Carlos_Cruz\\\\rostro_246.jpg', 1),\n",
       " ('data\\\\train\\\\Carlos_Cruz\\\\rostro_249.jpg', 1),\n",
       " ('data\\\\train\\\\Carlos_Cruz\\\\rostro_25.jpg', 1),\n",
       " ('data\\\\train\\\\Carlos_Cruz\\\\rostro_250.jpg', 1),\n",
       " ('data\\\\train\\\\Carlos_Cruz\\\\rostro_251.jpg', 1),\n",
       " ('data\\\\train\\\\Carlos_Cruz\\\\rostro_253.jpg', 1),\n",
       " ('data\\\\train\\\\Carlos_Cruz\\\\rostro_256.jpg', 1),\n",
       " ('data\\\\train\\\\Carlos_Cruz\\\\rostro_257.jpg', 1),\n",
       " ('data\\\\train\\\\Carlos_Cruz\\\\rostro_258.jpg', 1),\n",
       " ('data\\\\train\\\\Carlos_Cruz\\\\rostro_259.jpg', 1),\n",
       " ('data\\\\train\\\\Carlos_Cruz\\\\rostro_260.jpg', 1),\n",
       " ('data\\\\train\\\\Carlos_Cruz\\\\rostro_262.jpg', 1),\n",
       " ('data\\\\train\\\\Carlos_Cruz\\\\rostro_263.jpg', 1),\n",
       " ('data\\\\train\\\\Carlos_Cruz\\\\rostro_264.jpg', 1),\n",
       " ('data\\\\train\\\\Carlos_Cruz\\\\rostro_265.jpg', 1),\n",
       " ('data\\\\train\\\\Carlos_Cruz\\\\rostro_267.jpg', 1),\n",
       " ('data\\\\train\\\\Carlos_Cruz\\\\rostro_268.jpg', 1),\n",
       " ('data\\\\train\\\\Carlos_Cruz\\\\rostro_269.jpg', 1),\n",
       " ('data\\\\train\\\\Carlos_Cruz\\\\rostro_270.jpg', 1),\n",
       " ('data\\\\train\\\\Carlos_Cruz\\\\rostro_271.jpg', 1),\n",
       " ('data\\\\train\\\\Carlos_Cruz\\\\rostro_272.jpg', 1),\n",
       " ('data\\\\train\\\\Carlos_Cruz\\\\rostro_274.jpg', 1),\n",
       " ('data\\\\train\\\\Carlos_Cruz\\\\rostro_276.jpg', 1),\n",
       " ('data\\\\train\\\\Carlos_Cruz\\\\rostro_278.jpg', 1),\n",
       " ('data\\\\train\\\\Carlos_Cruz\\\\rostro_279.jpg', 1),\n",
       " ('data\\\\train\\\\Carlos_Cruz\\\\rostro_280.jpg', 1),\n",
       " ('data\\\\train\\\\Carlos_Cruz\\\\rostro_282.jpg', 1),\n",
       " ('data\\\\train\\\\Carlos_Cruz\\\\rostro_286.jpg', 1),\n",
       " ('data\\\\train\\\\Carlos_Cruz\\\\rostro_287.jpg', 1),\n",
       " ('data\\\\train\\\\Carlos_Cruz\\\\rostro_288.jpg', 1),\n",
       " ('data\\\\train\\\\Carlos_Cruz\\\\rostro_289.jpg', 1),\n",
       " ('data\\\\train\\\\Carlos_Cruz\\\\rostro_290.jpg', 1),\n",
       " ('data\\\\train\\\\Carlos_Cruz\\\\rostro_291.jpg', 1),\n",
       " ('data\\\\train\\\\Carlos_Cruz\\\\rostro_292.jpg', 1),\n",
       " ('data\\\\train\\\\Carlos_Cruz\\\\rostro_293.jpg', 1),\n",
       " ('data\\\\train\\\\Carlos_Cruz\\\\rostro_295.jpg', 1),\n",
       " ('data\\\\train\\\\Carlos_Cruz\\\\rostro_296.jpg', 1),\n",
       " ('data\\\\train\\\\Carlos_Cruz\\\\rostro_298.jpg', 1),\n",
       " ('data\\\\train\\\\Carlos_Cruz\\\\rostro_299.jpg', 1),\n",
       " ('data\\\\train\\\\Carlos_Cruz\\\\rostro_3.jpg', 1),\n",
       " ('data\\\\train\\\\Carlos_Cruz\\\\rostro_30.jpg', 1),\n",
       " ('data\\\\train\\\\Carlos_Cruz\\\\rostro_301.jpg', 1),\n",
       " ('data\\\\train\\\\Carlos_Cruz\\\\rostro_304.jpg', 1),\n",
       " ('data\\\\train\\\\Carlos_Cruz\\\\rostro_305.jpg', 1),\n",
       " ('data\\\\train\\\\Carlos_Cruz\\\\rostro_306.jpg', 1),\n",
       " ('data\\\\train\\\\Carlos_Cruz\\\\rostro_308.jpg', 1),\n",
       " ('data\\\\train\\\\Carlos_Cruz\\\\rostro_310.jpg', 1),\n",
       " ('data\\\\train\\\\Carlos_Cruz\\\\rostro_312.jpg', 1),\n",
       " ('data\\\\train\\\\Carlos_Cruz\\\\rostro_313.jpg', 1),\n",
       " ('data\\\\train\\\\Carlos_Cruz\\\\rostro_314.jpg', 1),\n",
       " ('data\\\\train\\\\Carlos_Cruz\\\\rostro_315.jpg', 1),\n",
       " ('data\\\\train\\\\Carlos_Cruz\\\\rostro_316.jpg', 1),\n",
       " ('data\\\\train\\\\Carlos_Cruz\\\\rostro_318.jpg', 1),\n",
       " ('data\\\\train\\\\Carlos_Cruz\\\\rostro_319.jpg', 1),\n",
       " ('data\\\\train\\\\Carlos_Cruz\\\\rostro_321.jpg', 1),\n",
       " ('data\\\\train\\\\Carlos_Cruz\\\\rostro_326.jpg', 1),\n",
       " ('data\\\\train\\\\Carlos_Cruz\\\\rostro_329.jpg', 1),\n",
       " ('data\\\\train\\\\Carlos_Cruz\\\\rostro_33.jpg', 1),\n",
       " ('data\\\\train\\\\Carlos_Cruz\\\\rostro_330.jpg', 1),\n",
       " ('data\\\\train\\\\Carlos_Cruz\\\\rostro_331.jpg', 1),\n",
       " ('data\\\\train\\\\Carlos_Cruz\\\\rostro_332.jpg', 1),\n",
       " ('data\\\\train\\\\Carlos_Cruz\\\\rostro_333.jpg', 1),\n",
       " ('data\\\\train\\\\Carlos_Cruz\\\\rostro_335.jpg', 1),\n",
       " ('data\\\\train\\\\Carlos_Cruz\\\\rostro_336.jpg', 1),\n",
       " ('data\\\\train\\\\Carlos_Cruz\\\\rostro_337.jpg', 1),\n",
       " ('data\\\\train\\\\Carlos_Cruz\\\\rostro_338.jpg', 1),\n",
       " ('data\\\\train\\\\Carlos_Cruz\\\\rostro_339.jpg', 1),\n",
       " ('data\\\\train\\\\Carlos_Cruz\\\\rostro_34.jpg', 1),\n",
       " ('data\\\\train\\\\Carlos_Cruz\\\\rostro_340.jpg', 1),\n",
       " ('data\\\\train\\\\Carlos_Cruz\\\\rostro_341.jpg', 1),\n",
       " ('data\\\\train\\\\Carlos_Cruz\\\\rostro_343.jpg', 1),\n",
       " ('data\\\\train\\\\Carlos_Cruz\\\\rostro_344.jpg', 1),\n",
       " ('data\\\\train\\\\Carlos_Cruz\\\\rostro_346.jpg', 1),\n",
       " ('data\\\\train\\\\Carlos_Cruz\\\\rostro_347.jpg', 1),\n",
       " ('data\\\\train\\\\Carlos_Cruz\\\\rostro_348.jpg', 1),\n",
       " ('data\\\\train\\\\Carlos_Cruz\\\\rostro_35.jpg', 1),\n",
       " ('data\\\\train\\\\Carlos_Cruz\\\\rostro_351.jpg', 1),\n",
       " ('data\\\\train\\\\Carlos_Cruz\\\\rostro_352.jpg', 1),\n",
       " ('data\\\\train\\\\Carlos_Cruz\\\\rostro_353.jpg', 1),\n",
       " ('data\\\\train\\\\Carlos_Cruz\\\\rostro_354.jpg', 1),\n",
       " ('data\\\\train\\\\Carlos_Cruz\\\\rostro_356.jpg', 1),\n",
       " ('data\\\\train\\\\Carlos_Cruz\\\\rostro_357.jpg', 1),\n",
       " ('data\\\\train\\\\Carlos_Cruz\\\\rostro_359.jpg', 1),\n",
       " ('data\\\\train\\\\Carlos_Cruz\\\\rostro_361.jpg', 1),\n",
       " ('data\\\\train\\\\Carlos_Cruz\\\\rostro_362.jpg', 1),\n",
       " ('data\\\\train\\\\Carlos_Cruz\\\\rostro_367.jpg', 1),\n",
       " ('data\\\\train\\\\Carlos_Cruz\\\\rostro_368.jpg', 1),\n",
       " ('data\\\\train\\\\Carlos_Cruz\\\\rostro_369.jpg', 1),\n",
       " ('data\\\\train\\\\Carlos_Cruz\\\\rostro_37.jpg', 1),\n",
       " ('data\\\\train\\\\Carlos_Cruz\\\\rostro_370.jpg', 1),\n",
       " ('data\\\\train\\\\Carlos_Cruz\\\\rostro_371.jpg', 1),\n",
       " ('data\\\\train\\\\Carlos_Cruz\\\\rostro_372.jpg', 1),\n",
       " ('data\\\\train\\\\Carlos_Cruz\\\\rostro_373.jpg', 1),\n",
       " ('data\\\\train\\\\Carlos_Cruz\\\\rostro_375.jpg', 1),\n",
       " ('data\\\\train\\\\Carlos_Cruz\\\\rostro_376.jpg', 1),\n",
       " ('data\\\\train\\\\Carlos_Cruz\\\\rostro_378.jpg', 1),\n",
       " ('data\\\\train\\\\Carlos_Cruz\\\\rostro_38.jpg', 1),\n",
       " ('data\\\\train\\\\Carlos_Cruz\\\\rostro_380.jpg', 1),\n",
       " ('data\\\\train\\\\Carlos_Cruz\\\\rostro_382.jpg', 1),\n",
       " ('data\\\\train\\\\Carlos_Cruz\\\\rostro_383.jpg', 1),\n",
       " ('data\\\\train\\\\Carlos_Cruz\\\\rostro_384.jpg', 1),\n",
       " ('data\\\\train\\\\Carlos_Cruz\\\\rostro_385.jpg', 1),\n",
       " ('data\\\\train\\\\Carlos_Cruz\\\\rostro_386.jpg', 1),\n",
       " ('data\\\\train\\\\Carlos_Cruz\\\\rostro_387.jpg', 1),\n",
       " ('data\\\\train\\\\Carlos_Cruz\\\\rostro_388.jpg', 1),\n",
       " ('data\\\\train\\\\Carlos_Cruz\\\\rostro_389.jpg', 1),\n",
       " ('data\\\\train\\\\Carlos_Cruz\\\\rostro_391.jpg', 1),\n",
       " ('data\\\\train\\\\Carlos_Cruz\\\\rostro_394.jpg', 1),\n",
       " ('data\\\\train\\\\Carlos_Cruz\\\\rostro_395.jpg', 1),\n",
       " ('data\\\\train\\\\Carlos_Cruz\\\\rostro_396.jpg', 1),\n",
       " ('data\\\\train\\\\Carlos_Cruz\\\\rostro_397.jpg', 1),\n",
       " ('data\\\\train\\\\Carlos_Cruz\\\\rostro_4.jpg', 1),\n",
       " ('data\\\\train\\\\Carlos_Cruz\\\\rostro_401.jpg', 1),\n",
       " ('data\\\\train\\\\Carlos_Cruz\\\\rostro_402.jpg', 1),\n",
       " ('data\\\\train\\\\Carlos_Cruz\\\\rostro_404.jpg', 1),\n",
       " ('data\\\\train\\\\Carlos_Cruz\\\\rostro_405.jpg', 1),\n",
       " ('data\\\\train\\\\Carlos_Cruz\\\\rostro_406.jpg', 1),\n",
       " ('data\\\\train\\\\Carlos_Cruz\\\\rostro_407.jpg', 1),\n",
       " ('data\\\\train\\\\Carlos_Cruz\\\\rostro_408.jpg', 1),\n",
       " ('data\\\\train\\\\Carlos_Cruz\\\\rostro_41.jpg', 1),\n",
       " ('data\\\\train\\\\Carlos_Cruz\\\\rostro_411.jpg', 1),\n",
       " ('data\\\\train\\\\Carlos_Cruz\\\\rostro_414.jpg', 1),\n",
       " ('data\\\\train\\\\Carlos_Cruz\\\\rostro_415.jpg', 1),\n",
       " ('data\\\\train\\\\Carlos_Cruz\\\\rostro_416.jpg', 1),\n",
       " ('data\\\\train\\\\Carlos_Cruz\\\\rostro_417.jpg', 1),\n",
       " ('data\\\\train\\\\Carlos_Cruz\\\\rostro_418.jpg', 1),\n",
       " ('data\\\\train\\\\Carlos_Cruz\\\\rostro_419.jpg', 1),\n",
       " ('data\\\\train\\\\Carlos_Cruz\\\\rostro_420.jpg', 1),\n",
       " ('data\\\\train\\\\Carlos_Cruz\\\\rostro_421.jpg', 1),\n",
       " ('data\\\\train\\\\Carlos_Cruz\\\\rostro_422.jpg', 1),\n",
       " ('data\\\\train\\\\Carlos_Cruz\\\\rostro_423.jpg', 1),\n",
       " ('data\\\\train\\\\Carlos_Cruz\\\\rostro_424.jpg', 1),\n",
       " ('data\\\\train\\\\Carlos_Cruz\\\\rostro_426.jpg', 1),\n",
       " ('data\\\\train\\\\Carlos_Cruz\\\\rostro_427.jpg', 1),\n",
       " ('data\\\\train\\\\Carlos_Cruz\\\\rostro_430.jpg', 1),\n",
       " ('data\\\\train\\\\Carlos_Cruz\\\\rostro_431.jpg', 1),\n",
       " ('data\\\\train\\\\Carlos_Cruz\\\\rostro_432.jpg', 1),\n",
       " ('data\\\\train\\\\Carlos_Cruz\\\\rostro_434.jpg', 1),\n",
       " ('data\\\\train\\\\Carlos_Cruz\\\\rostro_436.jpg', 1),\n",
       " ('data\\\\train\\\\Carlos_Cruz\\\\rostro_437.jpg', 1),\n",
       " ('data\\\\train\\\\Carlos_Cruz\\\\rostro_438.jpg', 1),\n",
       " ('data\\\\train\\\\Carlos_Cruz\\\\rostro_44.jpg', 1),\n",
       " ('data\\\\train\\\\Carlos_Cruz\\\\rostro_440.jpg', 1),\n",
       " ('data\\\\train\\\\Carlos_Cruz\\\\rostro_442.jpg', 1),\n",
       " ('data\\\\train\\\\Carlos_Cruz\\\\rostro_444.jpg', 1),\n",
       " ('data\\\\train\\\\Carlos_Cruz\\\\rostro_445.jpg', 1),\n",
       " ('data\\\\train\\\\Carlos_Cruz\\\\rostro_446.jpg', 1),\n",
       " ('data\\\\train\\\\Carlos_Cruz\\\\rostro_447.jpg', 1),\n",
       " ('data\\\\train\\\\Carlos_Cruz\\\\rostro_449.jpg', 1),\n",
       " ('data\\\\train\\\\Carlos_Cruz\\\\rostro_45.jpg', 1),\n",
       " ('data\\\\train\\\\Carlos_Cruz\\\\rostro_452.jpg', 1),\n",
       " ('data\\\\train\\\\Carlos_Cruz\\\\rostro_453.jpg', 1),\n",
       " ('data\\\\train\\\\Carlos_Cruz\\\\rostro_454.jpg', 1),\n",
       " ('data\\\\train\\\\Carlos_Cruz\\\\rostro_457.jpg', 1),\n",
       " ('data\\\\train\\\\Carlos_Cruz\\\\rostro_458.jpg', 1),\n",
       " ('data\\\\train\\\\Carlos_Cruz\\\\rostro_459.jpg', 1),\n",
       " ('data\\\\train\\\\Carlos_Cruz\\\\rostro_46.jpg', 1),\n",
       " ('data\\\\train\\\\Carlos_Cruz\\\\rostro_462.jpg', 1),\n",
       " ('data\\\\train\\\\Carlos_Cruz\\\\rostro_466.jpg', 1),\n",
       " ('data\\\\train\\\\Carlos_Cruz\\\\rostro_467.jpg', 1),\n",
       " ('data\\\\train\\\\Carlos_Cruz\\\\rostro_468.jpg', 1),\n",
       " ('data\\\\train\\\\Carlos_Cruz\\\\rostro_469.jpg', 1),\n",
       " ('data\\\\train\\\\Carlos_Cruz\\\\rostro_47.jpg', 1),\n",
       " ('data\\\\train\\\\Carlos_Cruz\\\\rostro_472.jpg', 1),\n",
       " ('data\\\\train\\\\Carlos_Cruz\\\\rostro_473.jpg', 1),\n",
       " ('data\\\\train\\\\Carlos_Cruz\\\\rostro_474.jpg', 1),\n",
       " ('data\\\\train\\\\Carlos_Cruz\\\\rostro_476.jpg', 1),\n",
       " ('data\\\\train\\\\Carlos_Cruz\\\\rostro_477.jpg', 1),\n",
       " ('data\\\\train\\\\Carlos_Cruz\\\\rostro_478.jpg', 1),\n",
       " ('data\\\\train\\\\Carlos_Cruz\\\\rostro_479.jpg', 1),\n",
       " ('data\\\\train\\\\Carlos_Cruz\\\\rostro_48.jpg', 1),\n",
       " ('data\\\\train\\\\Carlos_Cruz\\\\rostro_481.jpg', 1),\n",
       " ('data\\\\train\\\\Carlos_Cruz\\\\rostro_482.jpg', 1),\n",
       " ('data\\\\train\\\\Carlos_Cruz\\\\rostro_483.jpg', 1),\n",
       " ('data\\\\train\\\\Carlos_Cruz\\\\rostro_484.jpg', 1),\n",
       " ('data\\\\train\\\\Carlos_Cruz\\\\rostro_486.jpg', 1),\n",
       " ('data\\\\train\\\\Carlos_Cruz\\\\rostro_488.jpg', 1),\n",
       " ('data\\\\train\\\\Carlos_Cruz\\\\rostro_489.jpg', 1),\n",
       " ('data\\\\train\\\\Carlos_Cruz\\\\rostro_49.jpg', 1),\n",
       " ('data\\\\train\\\\Carlos_Cruz\\\\rostro_491.jpg', 1),\n",
       " ('data\\\\train\\\\Carlos_Cruz\\\\rostro_492.jpg', 1),\n",
       " ('data\\\\train\\\\Carlos_Cruz\\\\rostro_494.jpg', 1),\n",
       " ('data\\\\train\\\\Carlos_Cruz\\\\rostro_495.jpg', 1),\n",
       " ('data\\\\train\\\\Carlos_Cruz\\\\rostro_496.jpg', 1),\n",
       " ('data\\\\train\\\\Carlos_Cruz\\\\rostro_499.jpg', 1),\n",
       " ('data\\\\train\\\\Carlos_Cruz\\\\rostro_50.jpg', 1),\n",
       " ('data\\\\train\\\\Carlos_Cruz\\\\rostro_51.jpg', 1),\n",
       " ('data\\\\train\\\\Carlos_Cruz\\\\rostro_52.jpg', 1),\n",
       " ('data\\\\train\\\\Carlos_Cruz\\\\rostro_53.jpg', 1),\n",
       " ('data\\\\train\\\\Carlos_Cruz\\\\rostro_54.jpg', 1),\n",
       " ('data\\\\train\\\\Carlos_Cruz\\\\rostro_55.jpg', 1),\n",
       " ('data\\\\train\\\\Carlos_Cruz\\\\rostro_57.jpg', 1),\n",
       " ('data\\\\train\\\\Carlos_Cruz\\\\rostro_58.jpg', 1),\n",
       " ('data\\\\train\\\\Carlos_Cruz\\\\rostro_6.jpg', 1),\n",
       " ('data\\\\train\\\\Carlos_Cruz\\\\rostro_60.jpg', 1),\n",
       " ('data\\\\train\\\\Carlos_Cruz\\\\rostro_61.jpg', 1),\n",
       " ('data\\\\train\\\\Carlos_Cruz\\\\rostro_63.jpg', 1),\n",
       " ('data\\\\train\\\\Carlos_Cruz\\\\rostro_64.jpg', 1),\n",
       " ('data\\\\train\\\\Carlos_Cruz\\\\rostro_65.jpg', 1),\n",
       " ('data\\\\train\\\\Carlos_Cruz\\\\rostro_66.jpg', 1),\n",
       " ('data\\\\train\\\\Carlos_Cruz\\\\rostro_67.jpg', 1),\n",
       " ('data\\\\train\\\\Carlos_Cruz\\\\rostro_68.jpg', 1),\n",
       " ('data\\\\train\\\\Carlos_Cruz\\\\rostro_69.jpg', 1),\n",
       " ('data\\\\train\\\\Carlos_Cruz\\\\rostro_70.jpg', 1),\n",
       " ('data\\\\train\\\\Carlos_Cruz\\\\rostro_71.jpg', 1),\n",
       " ('data\\\\train\\\\Carlos_Cruz\\\\rostro_72.jpg', 1),\n",
       " ('data\\\\train\\\\Carlos_Cruz\\\\rostro_73.jpg', 1),\n",
       " ('data\\\\train\\\\Carlos_Cruz\\\\rostro_74.jpg', 1),\n",
       " ('data\\\\train\\\\Carlos_Cruz\\\\rostro_79.jpg', 1),\n",
       " ('data\\\\train\\\\Carlos_Cruz\\\\rostro_80.jpg', 1),\n",
       " ('data\\\\train\\\\Carlos_Cruz\\\\rostro_81.jpg', 1),\n",
       " ('data\\\\train\\\\Carlos_Cruz\\\\rostro_82.jpg', 1),\n",
       " ('data\\\\train\\\\Carlos_Cruz\\\\rostro_83.jpg', 1),\n",
       " ('data\\\\train\\\\Carlos_Cruz\\\\rostro_84.jpg', 1),\n",
       " ('data\\\\train\\\\Carlos_Cruz\\\\rostro_85.jpg', 1),\n",
       " ('data\\\\train\\\\Carlos_Cruz\\\\rostro_86.jpg', 1),\n",
       " ('data\\\\train\\\\Carlos_Cruz\\\\rostro_87.jpg', 1),\n",
       " ('data\\\\train\\\\Carlos_Cruz\\\\rostro_9.jpg', 1),\n",
       " ('data\\\\train\\\\Carlos_Cruz\\\\rostro_91.jpg', 1),\n",
       " ('data\\\\train\\\\Carlos_Cruz\\\\rostro_92.jpg', 1),\n",
       " ('data\\\\train\\\\Carlos_Cruz\\\\rostro_94.jpg', 1),\n",
       " ('data\\\\train\\\\Carlos_Cruz\\\\rostro_95.jpg', 1),\n",
       " ('data\\\\train\\\\Carlos_Cruz\\\\rostro_97.jpg', 1),\n",
       " ('data\\\\train\\\\Carlos_Pacherres\\\\rostro_0.jpg', 2),\n",
       " ('data\\\\train\\\\Carlos_Pacherres\\\\rostro_1.jpg', 2),\n",
       " ('data\\\\train\\\\Carlos_Pacherres\\\\rostro_10.jpg', 2),\n",
       " ('data\\\\train\\\\Carlos_Pacherres\\\\rostro_100.jpg', 2),\n",
       " ('data\\\\train\\\\Carlos_Pacherres\\\\rostro_101.jpg', 2),\n",
       " ('data\\\\train\\\\Carlos_Pacherres\\\\rostro_102.jpg', 2),\n",
       " ('data\\\\train\\\\Carlos_Pacherres\\\\rostro_103.jpg', 2),\n",
       " ('data\\\\train\\\\Carlos_Pacherres\\\\rostro_104.jpg', 2),\n",
       " ('data\\\\train\\\\Carlos_Pacherres\\\\rostro_105.jpg', 2),\n",
       " ('data\\\\train\\\\Carlos_Pacherres\\\\rostro_106.jpg', 2),\n",
       " ('data\\\\train\\\\Carlos_Pacherres\\\\rostro_107.jpg', 2),\n",
       " ('data\\\\train\\\\Carlos_Pacherres\\\\rostro_11.jpg', 2),\n",
       " ('data\\\\train\\\\Carlos_Pacherres\\\\rostro_111.jpg', 2),\n",
       " ('data\\\\train\\\\Carlos_Pacherres\\\\rostro_113.jpg', 2),\n",
       " ('data\\\\train\\\\Carlos_Pacherres\\\\rostro_114.jpg', 2),\n",
       " ('data\\\\train\\\\Carlos_Pacherres\\\\rostro_115.jpg', 2),\n",
       " ('data\\\\train\\\\Carlos_Pacherres\\\\rostro_116.jpg', 2),\n",
       " ('data\\\\train\\\\Carlos_Pacherres\\\\rostro_117.jpg', 2),\n",
       " ('data\\\\train\\\\Carlos_Pacherres\\\\rostro_118.jpg', 2),\n",
       " ('data\\\\train\\\\Carlos_Pacherres\\\\rostro_119.jpg', 2),\n",
       " ('data\\\\train\\\\Carlos_Pacherres\\\\rostro_12.jpg', 2),\n",
       " ('data\\\\train\\\\Carlos_Pacherres\\\\rostro_120.jpg', 2),\n",
       " ('data\\\\train\\\\Carlos_Pacherres\\\\rostro_121.jpg', 2),\n",
       " ('data\\\\train\\\\Carlos_Pacherres\\\\rostro_122.jpg', 2),\n",
       " ('data\\\\train\\\\Carlos_Pacherres\\\\rostro_123.jpg', 2),\n",
       " ('data\\\\train\\\\Carlos_Pacherres\\\\rostro_124.jpg', 2),\n",
       " ('data\\\\train\\\\Carlos_Pacherres\\\\rostro_125.jpg', 2),\n",
       " ('data\\\\train\\\\Carlos_Pacherres\\\\rostro_126.jpg', 2),\n",
       " ('data\\\\train\\\\Carlos_Pacherres\\\\rostro_129.jpg', 2),\n",
       " ('data\\\\train\\\\Carlos_Pacherres\\\\rostro_130.jpg', 2),\n",
       " ('data\\\\train\\\\Carlos_Pacherres\\\\rostro_132.jpg', 2),\n",
       " ('data\\\\train\\\\Carlos_Pacherres\\\\rostro_133.jpg', 2),\n",
       " ('data\\\\train\\\\Carlos_Pacherres\\\\rostro_134.jpg', 2),\n",
       " ('data\\\\train\\\\Carlos_Pacherres\\\\rostro_135.jpg', 2),\n",
       " ('data\\\\train\\\\Carlos_Pacherres\\\\rostro_136.jpg', 2),\n",
       " ('data\\\\train\\\\Carlos_Pacherres\\\\rostro_138.jpg', 2),\n",
       " ('data\\\\train\\\\Carlos_Pacherres\\\\rostro_139.jpg', 2),\n",
       " ('data\\\\train\\\\Carlos_Pacherres\\\\rostro_14.jpg', 2),\n",
       " ('data\\\\train\\\\Carlos_Pacherres\\\\rostro_142.jpg', 2),\n",
       " ('data\\\\train\\\\Carlos_Pacherres\\\\rostro_143.jpg', 2),\n",
       " ('data\\\\train\\\\Carlos_Pacherres\\\\rostro_144.jpg', 2),\n",
       " ('data\\\\train\\\\Carlos_Pacherres\\\\rostro_146.jpg', 2),\n",
       " ('data\\\\train\\\\Carlos_Pacherres\\\\rostro_147.jpg', 2),\n",
       " ('data\\\\train\\\\Carlos_Pacherres\\\\rostro_148.jpg', 2),\n",
       " ('data\\\\train\\\\Carlos_Pacherres\\\\rostro_149.jpg', 2),\n",
       " ('data\\\\train\\\\Carlos_Pacherres\\\\rostro_15.jpg', 2),\n",
       " ('data\\\\train\\\\Carlos_Pacherres\\\\rostro_150.jpg', 2),\n",
       " ('data\\\\train\\\\Carlos_Pacherres\\\\rostro_151.jpg', 2),\n",
       " ('data\\\\train\\\\Carlos_Pacherres\\\\rostro_152.jpg', 2),\n",
       " ('data\\\\train\\\\Carlos_Pacherres\\\\rostro_153.jpg', 2),\n",
       " ('data\\\\train\\\\Carlos_Pacherres\\\\rostro_154.jpg', 2),\n",
       " ('data\\\\train\\\\Carlos_Pacherres\\\\rostro_155.jpg', 2),\n",
       " ('data\\\\train\\\\Carlos_Pacherres\\\\rostro_157.jpg', 2),\n",
       " ('data\\\\train\\\\Carlos_Pacherres\\\\rostro_158.jpg', 2),\n",
       " ('data\\\\train\\\\Carlos_Pacherres\\\\rostro_159.jpg', 2),\n",
       " ('data\\\\train\\\\Carlos_Pacherres\\\\rostro_16.jpg', 2),\n",
       " ('data\\\\train\\\\Carlos_Pacherres\\\\rostro_160.jpg', 2),\n",
       " ('data\\\\train\\\\Carlos_Pacherres\\\\rostro_161.jpg', 2),\n",
       " ('data\\\\train\\\\Carlos_Pacherres\\\\rostro_162.jpg', 2),\n",
       " ('data\\\\train\\\\Carlos_Pacherres\\\\rostro_163.jpg', 2),\n",
       " ('data\\\\train\\\\Carlos_Pacherres\\\\rostro_164.jpg', 2),\n",
       " ('data\\\\train\\\\Carlos_Pacherres\\\\rostro_166.jpg', 2),\n",
       " ('data\\\\train\\\\Carlos_Pacherres\\\\rostro_167.jpg', 2),\n",
       " ('data\\\\train\\\\Carlos_Pacherres\\\\rostro_169.jpg', 2),\n",
       " ('data\\\\train\\\\Carlos_Pacherres\\\\rostro_170.jpg', 2),\n",
       " ('data\\\\train\\\\Carlos_Pacherres\\\\rostro_171.jpg', 2),\n",
       " ('data\\\\train\\\\Carlos_Pacherres\\\\rostro_173.jpg', 2),\n",
       " ('data\\\\train\\\\Carlos_Pacherres\\\\rostro_174.jpg', 2),\n",
       " ('data\\\\train\\\\Carlos_Pacherres\\\\rostro_175.jpg', 2),\n",
       " ('data\\\\train\\\\Carlos_Pacherres\\\\rostro_176.jpg', 2),\n",
       " ('data\\\\train\\\\Carlos_Pacherres\\\\rostro_178.jpg', 2),\n",
       " ('data\\\\train\\\\Carlos_Pacherres\\\\rostro_179.jpg', 2),\n",
       " ('data\\\\train\\\\Carlos_Pacherres\\\\rostro_180.jpg', 2),\n",
       " ('data\\\\train\\\\Carlos_Pacherres\\\\rostro_182.jpg', 2),\n",
       " ('data\\\\train\\\\Carlos_Pacherres\\\\rostro_183.jpg', 2),\n",
       " ('data\\\\train\\\\Carlos_Pacherres\\\\rostro_184.jpg', 2),\n",
       " ('data\\\\train\\\\Carlos_Pacherres\\\\rostro_185.jpg', 2),\n",
       " ('data\\\\train\\\\Carlos_Pacherres\\\\rostro_186.jpg', 2),\n",
       " ('data\\\\train\\\\Carlos_Pacherres\\\\rostro_187.jpg', 2),\n",
       " ('data\\\\train\\\\Carlos_Pacherres\\\\rostro_189.jpg', 2),\n",
       " ('data\\\\train\\\\Carlos_Pacherres\\\\rostro_19.jpg', 2),\n",
       " ('data\\\\train\\\\Carlos_Pacherres\\\\rostro_190.jpg', 2),\n",
       " ('data\\\\train\\\\Carlos_Pacherres\\\\rostro_191.jpg', 2),\n",
       " ('data\\\\train\\\\Carlos_Pacherres\\\\rostro_192.jpg', 2),\n",
       " ('data\\\\train\\\\Carlos_Pacherres\\\\rostro_193.jpg', 2),\n",
       " ('data\\\\train\\\\Carlos_Pacherres\\\\rostro_194.jpg', 2),\n",
       " ('data\\\\train\\\\Carlos_Pacherres\\\\rostro_195.jpg', 2),\n",
       " ('data\\\\train\\\\Carlos_Pacherres\\\\rostro_196.jpg', 2),\n",
       " ('data\\\\train\\\\Carlos_Pacherres\\\\rostro_199.jpg', 2),\n",
       " ('data\\\\train\\\\Carlos_Pacherres\\\\rostro_2.jpg', 2),\n",
       " ('data\\\\train\\\\Carlos_Pacherres\\\\rostro_20.jpg', 2),\n",
       " ('data\\\\train\\\\Carlos_Pacherres\\\\rostro_200.jpg', 2),\n",
       " ('data\\\\train\\\\Carlos_Pacherres\\\\rostro_201.jpg', 2),\n",
       " ('data\\\\train\\\\Carlos_Pacherres\\\\rostro_202.jpg', 2),\n",
       " ('data\\\\train\\\\Carlos_Pacherres\\\\rostro_204.jpg', 2),\n",
       " ('data\\\\train\\\\Carlos_Pacherres\\\\rostro_205.jpg', 2),\n",
       " ('data\\\\train\\\\Carlos_Pacherres\\\\rostro_207.jpg', 2),\n",
       " ('data\\\\train\\\\Carlos_Pacherres\\\\rostro_208.jpg', 2),\n",
       " ('data\\\\train\\\\Carlos_Pacherres\\\\rostro_209.jpg', 2),\n",
       " ('data\\\\train\\\\Carlos_Pacherres\\\\rostro_21.jpg', 2),\n",
       " ('data\\\\train\\\\Carlos_Pacherres\\\\rostro_210.jpg', 2),\n",
       " ('data\\\\train\\\\Carlos_Pacherres\\\\rostro_211.jpg', 2),\n",
       " ('data\\\\train\\\\Carlos_Pacherres\\\\rostro_212.jpg', 2),\n",
       " ('data\\\\train\\\\Carlos_Pacherres\\\\rostro_213.jpg', 2),\n",
       " ('data\\\\train\\\\Carlos_Pacherres\\\\rostro_214.jpg', 2),\n",
       " ('data\\\\train\\\\Carlos_Pacherres\\\\rostro_215.jpg', 2),\n",
       " ('data\\\\train\\\\Carlos_Pacherres\\\\rostro_218.jpg', 2),\n",
       " ('data\\\\train\\\\Carlos_Pacherres\\\\rostro_219.jpg', 2),\n",
       " ('data\\\\train\\\\Carlos_Pacherres\\\\rostro_22.jpg', 2),\n",
       " ('data\\\\train\\\\Carlos_Pacherres\\\\rostro_220.jpg', 2),\n",
       " ('data\\\\train\\\\Carlos_Pacherres\\\\rostro_222.jpg', 2),\n",
       " ('data\\\\train\\\\Carlos_Pacherres\\\\rostro_223.jpg', 2),\n",
       " ('data\\\\train\\\\Carlos_Pacherres\\\\rostro_224.jpg', 2),\n",
       " ('data\\\\train\\\\Carlos_Pacherres\\\\rostro_226.jpg', 2),\n",
       " ('data\\\\train\\\\Carlos_Pacherres\\\\rostro_227.jpg', 2),\n",
       " ('data\\\\train\\\\Carlos_Pacherres\\\\rostro_228.jpg', 2),\n",
       " ('data\\\\train\\\\Carlos_Pacherres\\\\rostro_229.jpg', 2),\n",
       " ('data\\\\train\\\\Carlos_Pacherres\\\\rostro_23.jpg', 2),\n",
       " ('data\\\\train\\\\Carlos_Pacherres\\\\rostro_230.jpg', 2),\n",
       " ('data\\\\train\\\\Carlos_Pacherres\\\\rostro_231.jpg', 2),\n",
       " ('data\\\\train\\\\Carlos_Pacherres\\\\rostro_233.jpg', 2),\n",
       " ('data\\\\train\\\\Carlos_Pacherres\\\\rostro_235.jpg', 2),\n",
       " ('data\\\\train\\\\Carlos_Pacherres\\\\rostro_236.jpg', 2),\n",
       " ('data\\\\train\\\\Carlos_Pacherres\\\\rostro_237.jpg', 2),\n",
       " ('data\\\\train\\\\Carlos_Pacherres\\\\rostro_238.jpg', 2),\n",
       " ('data\\\\train\\\\Carlos_Pacherres\\\\rostro_239.jpg', 2),\n",
       " ('data\\\\train\\\\Carlos_Pacherres\\\\rostro_24.jpg', 2),\n",
       " ('data\\\\train\\\\Carlos_Pacherres\\\\rostro_240.jpg', 2),\n",
       " ('data\\\\train\\\\Carlos_Pacherres\\\\rostro_243.jpg', 2),\n",
       " ('data\\\\train\\\\Carlos_Pacherres\\\\rostro_245.jpg', 2),\n",
       " ('data\\\\train\\\\Carlos_Pacherres\\\\rostro_246.jpg', 2),\n",
       " ('data\\\\train\\\\Carlos_Pacherres\\\\rostro_247.jpg', 2),\n",
       " ('data\\\\train\\\\Carlos_Pacherres\\\\rostro_248.jpg', 2),\n",
       " ('data\\\\train\\\\Carlos_Pacherres\\\\rostro_249.jpg', 2),\n",
       " ('data\\\\train\\\\Carlos_Pacherres\\\\rostro_25.jpg', 2),\n",
       " ('data\\\\train\\\\Carlos_Pacherres\\\\rostro_250.jpg', 2),\n",
       " ('data\\\\train\\\\Carlos_Pacherres\\\\rostro_251.jpg', 2),\n",
       " ('data\\\\train\\\\Carlos_Pacherres\\\\rostro_253.jpg', 2),\n",
       " ('data\\\\train\\\\Carlos_Pacherres\\\\rostro_254.jpg', 2),\n",
       " ('data\\\\train\\\\Carlos_Pacherres\\\\rostro_255.jpg', 2),\n",
       " ('data\\\\train\\\\Carlos_Pacherres\\\\rostro_256.jpg', 2),\n",
       " ('data\\\\train\\\\Carlos_Pacherres\\\\rostro_257.jpg', 2),\n",
       " ('data\\\\train\\\\Carlos_Pacherres\\\\rostro_258.jpg', 2),\n",
       " ('data\\\\train\\\\Carlos_Pacherres\\\\rostro_259.jpg', 2),\n",
       " ('data\\\\train\\\\Carlos_Pacherres\\\\rostro_26.jpg', 2),\n",
       " ('data\\\\train\\\\Carlos_Pacherres\\\\rostro_260.jpg', 2),\n",
       " ('data\\\\train\\\\Carlos_Pacherres\\\\rostro_261.jpg', 2),\n",
       " ('data\\\\train\\\\Carlos_Pacherres\\\\rostro_263.jpg', 2),\n",
       " ('data\\\\train\\\\Carlos_Pacherres\\\\rostro_264.jpg', 2),\n",
       " ('data\\\\train\\\\Carlos_Pacherres\\\\rostro_266.jpg', 2),\n",
       " ('data\\\\train\\\\Carlos_Pacherres\\\\rostro_267.jpg', 2),\n",
       " ('data\\\\train\\\\Carlos_Pacherres\\\\rostro_268.jpg', 2),\n",
       " ('data\\\\train\\\\Carlos_Pacherres\\\\rostro_269.jpg', 2),\n",
       " ('data\\\\train\\\\Carlos_Pacherres\\\\rostro_27.jpg', 2),\n",
       " ('data\\\\train\\\\Carlos_Pacherres\\\\rostro_270.jpg', 2),\n",
       " ('data\\\\train\\\\Carlos_Pacherres\\\\rostro_271.jpg', 2),\n",
       " ('data\\\\train\\\\Carlos_Pacherres\\\\rostro_273.jpg', 2),\n",
       " ('data\\\\train\\\\Carlos_Pacherres\\\\rostro_274.jpg', 2),\n",
       " ('data\\\\train\\\\Carlos_Pacherres\\\\rostro_275.jpg', 2),\n",
       " ('data\\\\train\\\\Carlos_Pacherres\\\\rostro_277.jpg', 2),\n",
       " ('data\\\\train\\\\Carlos_Pacherres\\\\rostro_278.jpg', 2),\n",
       " ('data\\\\train\\\\Carlos_Pacherres\\\\rostro_279.jpg', 2),\n",
       " ('data\\\\train\\\\Carlos_Pacherres\\\\rostro_28.jpg', 2),\n",
       " ('data\\\\train\\\\Carlos_Pacherres\\\\rostro_280.jpg', 2),\n",
       " ('data\\\\train\\\\Carlos_Pacherres\\\\rostro_281.jpg', 2),\n",
       " ('data\\\\train\\\\Carlos_Pacherres\\\\rostro_282.jpg', 2),\n",
       " ('data\\\\train\\\\Carlos_Pacherres\\\\rostro_283.jpg', 2),\n",
       " ('data\\\\train\\\\Carlos_Pacherres\\\\rostro_284.jpg', 2),\n",
       " ('data\\\\train\\\\Carlos_Pacherres\\\\rostro_285.jpg', 2),\n",
       " ('data\\\\train\\\\Carlos_Pacherres\\\\rostro_286.jpg', 2),\n",
       " ('data\\\\train\\\\Carlos_Pacherres\\\\rostro_287.jpg', 2),\n",
       " ('data\\\\train\\\\Carlos_Pacherres\\\\rostro_288.jpg', 2),\n",
       " ('data\\\\train\\\\Carlos_Pacherres\\\\rostro_289.jpg', 2),\n",
       " ('data\\\\train\\\\Carlos_Pacherres\\\\rostro_29.jpg', 2),\n",
       " ('data\\\\train\\\\Carlos_Pacherres\\\\rostro_290.jpg', 2),\n",
       " ('data\\\\train\\\\Carlos_Pacherres\\\\rostro_291.jpg', 2),\n",
       " ('data\\\\train\\\\Carlos_Pacherres\\\\rostro_293.jpg', 2),\n",
       " ('data\\\\train\\\\Carlos_Pacherres\\\\rostro_297.jpg', 2),\n",
       " ('data\\\\train\\\\Carlos_Pacherres\\\\rostro_298.jpg', 2),\n",
       " ('data\\\\train\\\\Carlos_Pacherres\\\\rostro_299.jpg', 2),\n",
       " ('data\\\\train\\\\Carlos_Pacherres\\\\rostro_3.jpg', 2),\n",
       " ('data\\\\train\\\\Carlos_Pacherres\\\\rostro_30.jpg', 2),\n",
       " ('data\\\\train\\\\Carlos_Pacherres\\\\rostro_300.jpg', 2),\n",
       " ('data\\\\train\\\\Carlos_Pacherres\\\\rostro_304.jpg', 2),\n",
       " ('data\\\\train\\\\Carlos_Pacherres\\\\rostro_305.jpg', 2),\n",
       " ('data\\\\train\\\\Carlos_Pacherres\\\\rostro_306.jpg', 2),\n",
       " ('data\\\\train\\\\Carlos_Pacherres\\\\rostro_307.jpg', 2),\n",
       " ('data\\\\train\\\\Carlos_Pacherres\\\\rostro_308.jpg', 2),\n",
       " ('data\\\\train\\\\Carlos_Pacherres\\\\rostro_309.jpg', 2),\n",
       " ('data\\\\train\\\\Carlos_Pacherres\\\\rostro_310.jpg', 2),\n",
       " ('data\\\\train\\\\Carlos_Pacherres\\\\rostro_311.jpg', 2),\n",
       " ('data\\\\train\\\\Carlos_Pacherres\\\\rostro_312.jpg', 2),\n",
       " ('data\\\\train\\\\Carlos_Pacherres\\\\rostro_313.jpg', 2),\n",
       " ('data\\\\train\\\\Carlos_Pacherres\\\\rostro_315.jpg', 2),\n",
       " ('data\\\\train\\\\Carlos_Pacherres\\\\rostro_316.jpg', 2),\n",
       " ('data\\\\train\\\\Carlos_Pacherres\\\\rostro_317.jpg', 2),\n",
       " ('data\\\\train\\\\Carlos_Pacherres\\\\rostro_318.jpg', 2),\n",
       " ('data\\\\train\\\\Carlos_Pacherres\\\\rostro_319.jpg', 2),\n",
       " ('data\\\\train\\\\Carlos_Pacherres\\\\rostro_32.jpg', 2),\n",
       " ('data\\\\train\\\\Carlos_Pacherres\\\\rostro_320.jpg', 2),\n",
       " ...]"
      ]
     },
     "execution_count": 16,
     "metadata": {},
     "output_type": "execute_result"
    }
   ],
   "source": [
    "train_data.samples"
   ]
  },
  {
   "cell_type": "markdown",
   "metadata": {},
   "source": [
    "## Split the data"
   ]
  },
  {
   "cell_type": "code",
   "execution_count": 17,
   "metadata": {},
   "outputs": [
    {
     "data": {
      "text/plain": [
       "{'Brayan': 0,\n",
       " 'Carlos_Cruz': 1,\n",
       " 'Carlos_Pacherres': 2,\n",
       " 'Cinthia': 3,\n",
       " 'Eduardo_Crisanto': 4,\n",
       " 'Elvis': 5,\n",
       " 'Irene_Alvarado': 6,\n",
       " 'Pamela': 7,\n",
       " 'Rodrigo': 8,\n",
       " 'William': 9,\n",
       " 'William_Ipanaque': 10}"
      ]
     },
     "execution_count": 17,
     "metadata": {},
     "output_type": "execute_result"
    }
   ],
   "source": [
    "train_data.class_to_idx"
   ]
  },
  {
   "cell_type": "code",
   "execution_count": 18,
   "metadata": {},
   "outputs": [],
   "source": [
    "def get_val_far_metrics(anchors,positives,negatives,treshold=0.5):\n",
    "\n",
    "    count_FA=0\n",
    "    count_TA=0\n",
    "    \n",
    "    count_P=anchors.size(0)\n",
    "\n",
    "\n",
    "    for a,p,n in zip(anchors,positives,negatives):\n",
    "        d1 = torch.norm(a - p, p=2) \n",
    "        d2 = torch.norm(a - n, p=2) \n",
    "        if d1 < treshold:\n",
    "            count_TA+=1\n",
    "\n",
    "        if d2 < treshold:\n",
    "            count_FA+=1\n",
    "\n",
    "    if count_P == 0:\n",
    "        return 0,0\n",
    "    else:\n",
    "        val_metric=count_TA/count_P\n",
    "\n",
    "        far_metric=count_FA/count_P\n",
    "\n",
    "        return val_metric,far_metric"
   ]
  },
  {
   "cell_type": "code",
   "execution_count": 19,
   "metadata": {},
   "outputs": [],
   "source": [
    "def train_step(\n",
    "        model:torch.nn.Module,\n",
    "        dataloader:torch.utils.data.dataloader,\n",
    "        loss_fn,\n",
    "        optimizer:torch.optim.Optimizer,\n",
    "        mining_func,\n",
    "        treshold:int,\n",
    "        device):\n",
    "    \n",
    "    model.train()\n",
    "\n",
    "    train_loss,train_val,train_far=0,0,0\n",
    "\n",
    "    for batch, (X,y) in enumerate(dataloader):\n",
    "        #Send data to the target device\n",
    "        X,y=X.to(device),y.to(device)\n",
    "\n",
    "        #1. Forward pass\n",
    "        embeddings=model(X) #Output model logits\n",
    "\n",
    "        indices_tuple=mining_func(embeddings,y)\n",
    "\n",
    "        #2. Calculate the loss\n",
    "\n",
    "        anchors=embeddings[indices_tuple[0]]\n",
    "        positives=embeddings[indices_tuple[1]]\n",
    "        negatives=embeddings[indices_tuple[2]]\n",
    "\n",
    "        loss=loss_fn(embeddings,y,indices_tuple)\n",
    "\n",
    "        loss=torch.nan_to_num(loss,nan=0.0)\n",
    "\n",
    "        train_loss+=loss.item()\n",
    "\n",
    "        #3.Optimizer zero grad\n",
    "        optimizer.zero_grad()\n",
    "\n",
    "        #4. Loss backward\n",
    "        loss.backward()\n",
    "\n",
    "        #5. Optimizer step\n",
    "        optimizer.step()\n",
    "\n",
    "        #Calculate VAL and FAR metrics\n",
    "\n",
    "        val_metric,far_metric=get_val_far_metrics(anchors=anchors,positives=positives,negatives=negatives,treshold=treshold)\n",
    "\n",
    "        train_val+=val_metric\n",
    "        train_far+=far_metric\n",
    "\n",
    "    #Adjust metrics to get average loss and accuracy per batch\n",
    "    train_loss= train_loss/len(dataloader)\n",
    "    train_val=train_val / len(dataloader)\n",
    "    train_far=train_far / len(dataloader)\n",
    "    \n",
    "    #return train_loss,train_acc\n",
    "    return train_loss,train_val,train_far"
   ]
  },
  {
   "cell_type": "code",
   "execution_count": 20,
   "metadata": {},
   "outputs": [],
   "source": [
    "def test_step(\n",
    "        model:torch.nn.Module,\n",
    "        dataloader:torch.utils.data.dataloader,\n",
    "        loss_fn,\n",
    "        mining_func,\n",
    "        treshold:int,\n",
    "        device=device):\n",
    "    \n",
    "    #Put model in eval mode\n",
    "    model.eval()\n",
    "\n",
    "    test_loss,test_val,test_far=0,0,0\n",
    "\n",
    "    with torch.inference_mode():\n",
    "        #Loop through DataLoader batches\n",
    "\n",
    "        for batch, (X,y) in enumerate(dataloader):\n",
    "            #Send data to the target device\n",
    "            X,y=X.to(device),y.to(device)\n",
    "\n",
    "            #1. Forward pass\n",
    "            embeddings=model(X)\n",
    "\n",
    "            indices_tuple=mining_func(embeddings,y)\n",
    "\n",
    "            anchors=embeddings[indices_tuple[0]]\n",
    "            positives=embeddings[indices_tuple[1]]\n",
    "            negatives=embeddings[indices_tuple[2]]\n",
    "\n",
    "            #2. Calculate the loss\n",
    "            loss=loss_fn(embeddings,y,indices_tuple)\n",
    "\n",
    "            loss=torch.nan_to_num(loss,nan=0.0)\n",
    "\n",
    "            test_loss+=loss.item()\n",
    "\n",
    "            #3. Calculate VAL and FAR metrics\n",
    "\n",
    "            val_metric,far_metric=get_val_far_metrics(anchors=anchors,positives=positives,negatives=negatives,treshold=treshold)\n",
    "\n",
    "            test_val+=val_metric\n",
    "            test_far+=far_metric\n",
    "        \n",
    "\n",
    "\n",
    "    #Adjust the metrics to get averague loss and accuracy per batch\n",
    "    test_loss=test_loss / len(dataloader)\n",
    "    test_val=test_val / len(dataloader)\n",
    "    test_far=test_far / len(dataloader)\n",
    "\n",
    "    #return test_loss,test_acc\n",
    "    return test_loss,test_val,test_far"
   ]
  },
  {
   "cell_type": "code",
   "execution_count": 21,
   "metadata": {},
   "outputs": [],
   "source": [
    "def train_model(model:torch.nn.Module,\n",
    "        train_dataloader:torch.utils.data.dataloader,\n",
    "        test_dataloader:torch.utils.data.dataloader,\n",
    "        optimizer:torch.optim.Optimizer,\n",
    "        loss_fn,\n",
    "        minig_func,\n",
    "        lr_scheduler:torch.optim.lr_scheduler,\n",
    "        treshold:int,\n",
    "        epochs=5,\n",
    "        device=device):\n",
    "\n",
    "        #2. Create empty results dictionary\n",
    "        # results={\"train_loss\":[],\n",
    "        #         \"train_acc\":[],\n",
    "        #         \"test_loss\":[],\n",
    "        #         \"test_acc\":[]}\n",
    "\n",
    "        results={\"train_loss\":[],\n",
    "                \"test_loss\":[],\n",
    "                \"train_val\":[],\n",
    "                \"test_val\":[],\n",
    "                \"train_far\":[],\n",
    "                \"test_far\":[],}\n",
    "\n",
    "        #3. Loop through training and testing step for a number of epochs\n",
    "        for epoch in tqdm(range(epochs)):\n",
    "                train_loss,train_val,train_far=train_step(model=model,\n",
    "                                dataloader=train_dataloader,\n",
    "                                loss_fn=loss_fn,\n",
    "                                optimizer=optimizer,\n",
    "                                mining_func=minig_func,\n",
    "                                treshold=treshold,\n",
    "                                device=device)\n",
    "                test_loss,test_val,test_far=test_step(model=model,\n",
    "                                dataloader=test_dataloader,\n",
    "                                loss_fn=loss_fn,\n",
    "                                mining_func=minig_func,\n",
    "                                treshold=treshold,\n",
    "                                device=device)\n",
    "\n",
    "                lr_scheduler.step(test_loss)\n",
    "\n",
    "                #4. Print out what's happening\n",
    "                print(f\"Epoch: {epoch} | Train loss:{train_loss:.4f} | Test loss : {test_loss:.4f}\")\n",
    "                print(f\"Epoch: {epoch} | Train val:{train_val:.4f}  | Test val : {test_val:.4f}\")\n",
    "                print(f\"Epoch: {epoch} | Train far:{train_far:.4f}  | Test far : {test_far:.4f}\")\n",
    "                #5. Update results diccionary\n",
    "                results[\"train_loss\"].append(train_loss)\n",
    "                results[\"test_loss\"].append(test_loss)\n",
    "                results[\"train_val\"].append(train_val)\n",
    "                results[\"test_val\"].append(test_val)\n",
    "                results[\"train_far\"].append(train_far)\n",
    "                results[\"test_far\"].append(test_far)\n",
    "\n",
    "        return results"
   ]
  },
  {
   "cell_type": "code",
   "execution_count": 22,
   "metadata": {},
   "outputs": [],
   "source": [
    "from typing import Dict,List\n",
    "\n",
    "def plot_loss_curves(results:Dict[str,List[float]],dir):\n",
    "    \"\"\"\n",
    "    Plots training curves of a results dictionary.\n",
    "    \"\"\"\n",
    "    #Get the loss values of the results dictionary (training and test)\n",
    "    train_loss=results[\"train_loss\"]\n",
    "    test_loss=results[\"test_loss\"]\n",
    "\n",
    "    #Get the val values of the results dictionary (training and test)\n",
    "    train_val=results[\"train_val\"]\n",
    "    test_val=results[\"test_val\"]\n",
    "\n",
    "    #Get the far values of the results dictionary (training and test)\n",
    "    train_far=results[\"train_far\"]\n",
    "    test_far=results[\"test_far\"]\n",
    "\n",
    "    #Figure out how many epochs there where\n",
    "    epochs=range(len(results[\"train_loss\"]))\n",
    "\n",
    "    plt.figure(figsize=(15,7))\n",
    "\n",
    "    #Plot the loss\n",
    "    plt.subplot(1,3,1)\n",
    "    plt.plot(epochs,train_loss,label='train_loss')\n",
    "    plt.plot(epochs,test_loss,label='test_loss')\n",
    "    plt.title(\"Loss\")\n",
    "    plt.xlabel(\"Epochs\")\n",
    "    plt.legend()\n",
    "\n",
    "    #Plot the VAL\n",
    "    plt.subplot(1,3,2)\n",
    "    plt.plot(epochs,train_val,label='train_val')\n",
    "    plt.plot(epochs,test_val,label='test_val')\n",
    "    plt.title(\"VAL\")\n",
    "    plt.xlabel(\"Epochs\")\n",
    "    plt.legend()\n",
    "\n",
    "    #Plot the FAR\n",
    "    plt.subplot(1,3,3)\n",
    "    plt.plot(epochs,train_far,label='train_far')\n",
    "    plt.plot(epochs,test_far,label='test_far')\n",
    "    plt.title(\"FAR\")\n",
    "    plt.xlabel(\"Epochs\")\n",
    "    plt.legend()\n",
    "    plt.savefig(dir)"
   ]
  },
  {
   "cell_type": "markdown",
   "metadata": {},
   "source": [
    "### Hyper parameters (cambiarlos!)"
   ]
  },
  {
   "cell_type": "code",
   "execution_count": 23,
   "metadata": {},
   "outputs": [],
   "source": [
    "from enum import Enum\n",
    "class HyperParameters(Enum):\n",
    "    BATCH_SIZE=32\n",
    "    NUM_EPOCHS=50\n",
    "    LR=0.01\n",
    "    TRIPLE_LOSS_MARGIN=0.2\n",
    "    TYPE_OF_TRIPLETS='hard'\n",
    "    LR_SCHEDULER_PATIENCE=10\n",
    "    THRESHOLD_METRICS=0.2\n"
   ]
  },
  {
   "cell_type": "code",
   "execution_count": 24,
   "metadata": {},
   "outputs": [],
   "source": [
    "train_loader=DataLoader(dataset=train_data,\n",
    "                        batch_size=HyperParameters.BATCH_SIZE.value,\n",
    "                        num_workers=2,\n",
    "                        shuffle=True)\n",
    "\n",
    "test_loader=DataLoader(dataset=test_data,\n",
    "                        batch_size=HyperParameters.BATCH_SIZE.value,\n",
    "                        num_workers=2,\n",
    "                        shuffle=False)"
   ]
  },
  {
   "cell_type": "markdown",
   "metadata": {},
   "source": [
    "### PyTorch-Metric-Learning stuff\n",
    "\n",
    "**Distance:** With a similarity measure, the TripletMarginLoss internally swaps the anchor-positive and anchor-negative terms: [san - sap + margin]+. In other words, it will try to make the anchor-negative similarities smaller than the anchor-positive similarities.\n",
    "\n",
    "> The returned mat[i,j] is the cosine similarity between query_emb[i] and ref_emb[j]. This class is equivalent to DotProductSimilarity(normalize_embeddings=True).\n",
    "\n",
    "**Reducer:** This computes the average loss, using only the losses that are greater than 0. For example, if the losses are [0, 2, 0, 3], then this reducer will return 2.5.\n",
    "\n",
    "`reducers.AvgNonZeroReducer(**kwargs)`\n",
    "\n",
    "This class is equivalent to using ThresholdReducer(low=0). See ThresholdReducer.\n",
    "\n",
    "> *ThresholdReducer*: This computes the average loss, using only the losses that fall within a specified range."
   ]
  },
  {
   "cell_type": "code",
   "execution_count": 25,
   "metadata": {},
   "outputs": [],
   "source": [
    "from pytorch_metric_learning import losses,distances,reducers,regularizers\n",
    "from pytorch_metric_learning.miners import TripletMarginMiner\n",
    "\n",
    "# (1) loss_fn=nn.TripletMarginLoss(margin=HyperParameters.TRIPLE_LOSS_MARGIN.value,p=2)\n",
    "# (2) loss_func = losses.TripletMarginLoss(distance = CosineSimilarity(), \n",
    "#                                     reducer = ThresholdReducer(high=0.3), \n",
    "#                                     embedding_regularizer = LpRegularizer())\n",
    "\n",
    "# (3) loss_func=losses.TripletMarginLoss(margin=0.2)\n",
    "\n",
    "distance = distances.CosineSimilarity()\n",
    "reducer = reducers.ThresholdReducer(low=0)\n",
    "loss_func = losses.TripletMarginLoss(margin=0.2,distance=distance,reducer=reducer)\n",
    "\n"
   ]
  },
  {
   "cell_type": "code",
   "execution_count": 26,
   "metadata": {},
   "outputs": [],
   "source": [
    "model_1 = NN2(in_channels=3).to(device)\n",
    "\n",
    "optimizer=optim.Adam(params=model_1.parameters(),\n",
    "                    lr=0.001)\n",
    "\n",
    "lr_scheduler = optim.lr_scheduler.ReduceLROnPlateau(optimizer=optimizer,\n",
    "                                                    patience=HyperParameters.LR_SCHEDULER_PATIENCE.value)"
   ]
  },
  {
   "cell_type": "code",
   "execution_count": 27,
   "metadata": {},
   "outputs": [],
   "source": [
    "minig_func=TripletMarginMiner(margin=0.2,distance=distance,type_of_triplets=HyperParameters.TYPE_OF_TRIPLETS.value)"
   ]
  },
  {
   "cell_type": "code",
   "execution_count": 29,
   "metadata": {},
   "outputs": [
    {
     "name": "stderr",
     "output_type": "stream",
     "text": [
      "  2%|▏         | 1/50 [00:25<20:34, 25.19s/it]"
     ]
    },
    {
     "name": "stdout",
     "output_type": "stream",
     "text": [
      "Epoch: 0 | Train loss:0.1826 | Test loss : 0.0857\n",
      "Epoch: 0 | Train val:0.8735  | Test val : 3.0000\n",
      "Epoch: 0 | Train far:0.8825  | Test far : 3.0000\n"
     ]
    },
    {
     "name": "stderr",
     "output_type": "stream",
     "text": [
      "  4%|▍         | 2/50 [00:48<19:10, 23.97s/it]"
     ]
    },
    {
     "name": "stdout",
     "output_type": "stream",
     "text": [
      "Epoch: 1 | Train loss:0.1422 | Test loss : 0.1143\n",
      "Epoch: 1 | Train val:0.7101  | Test val : 4.0000\n",
      "Epoch: 1 | Train far:0.7101  | Test far : 4.0000\n"
     ]
    },
    {
     "name": "stderr",
     "output_type": "stream",
     "text": [
      "  6%|▌         | 3/50 [01:11<18:22, 23.46s/it]"
     ]
    },
    {
     "name": "stdout",
     "output_type": "stream",
     "text": [
      "Epoch: 2 | Train loss:0.1030 | Test loss : 0.1143\n",
      "Epoch: 2 | Train val:0.5145  | Test val : 4.0000\n",
      "Epoch: 2 | Train far:0.5145  | Test far : 4.0000\n"
     ]
    },
    {
     "name": "stderr",
     "output_type": "stream",
     "text": [
      "  8%|▊         | 4/50 [01:33<17:45, 23.16s/it]"
     ]
    },
    {
     "name": "stdout",
     "output_type": "stream",
     "text": [
      "Epoch: 3 | Train loss:0.0696 | Test loss : 0.0286\n",
      "Epoch: 3 | Train val:0.3478  | Test val : 1.0000\n",
      "Epoch: 3 | Train far:0.3478  | Test far : 1.0000\n"
     ]
    },
    {
     "name": "stderr",
     "output_type": "stream",
     "text": [
      " 10%|█         | 5/50 [01:56<17:17, 23.05s/it]"
     ]
    },
    {
     "name": "stdout",
     "output_type": "stream",
     "text": [
      "Epoch: 4 | Train loss:0.0392 | Test loss : 0.0857\n",
      "Epoch: 4 | Train val:0.1957  | Test val : 3.0000\n",
      "Epoch: 4 | Train far:0.1957  | Test far : 3.0000\n"
     ]
    },
    {
     "name": "stderr",
     "output_type": "stream",
     "text": [
      " 12%|█▏        | 6/50 [02:19<16:49, 22.93s/it]"
     ]
    },
    {
     "name": "stdout",
     "output_type": "stream",
     "text": [
      "Epoch: 5 | Train loss:0.0609 | Test loss : 0.0000\n",
      "Epoch: 5 | Train val:0.3043  | Test val : 0.0000\n",
      "Epoch: 5 | Train far:0.3043  | Test far : 0.0000\n"
     ]
    },
    {
     "name": "stderr",
     "output_type": "stream",
     "text": [
      " 14%|█▍        | 7/50 [02:42<16:21, 22.83s/it]"
     ]
    },
    {
     "name": "stdout",
     "output_type": "stream",
     "text": [
      "Epoch: 6 | Train loss:0.0464 | Test loss : 0.0571\n",
      "Epoch: 6 | Train val:0.2319  | Test val : 2.0000\n",
      "Epoch: 6 | Train far:0.2319  | Test far : 2.0000\n"
     ]
    },
    {
     "name": "stderr",
     "output_type": "stream",
     "text": [
      " 16%|█▌        | 8/50 [03:04<15:57, 22.80s/it]"
     ]
    },
    {
     "name": "stdout",
     "output_type": "stream",
     "text": [
      "Epoch: 7 | Train loss:0.0479 | Test loss : 0.0000\n",
      "Epoch: 7 | Train val:0.2391  | Test val : 0.0000\n",
      "Epoch: 7 | Train far:0.2391  | Test far : 0.0000\n"
     ]
    },
    {
     "name": "stderr",
     "output_type": "stream",
     "text": [
      " 18%|█▊        | 9/50 [03:27<15:33, 22.78s/it]"
     ]
    },
    {
     "name": "stdout",
     "output_type": "stream",
     "text": [
      "Epoch: 8 | Train loss:0.0406 | Test loss : 0.0000\n",
      "Epoch: 8 | Train val:0.2029  | Test val : 0.0000\n",
      "Epoch: 8 | Train far:0.2029  | Test far : 0.0000\n"
     ]
    },
    {
     "name": "stderr",
     "output_type": "stream",
     "text": [
      " 20%|██        | 10/50 [03:50<15:11, 22.78s/it]"
     ]
    },
    {
     "name": "stdout",
     "output_type": "stream",
     "text": [
      "Epoch: 9 | Train loss:0.0290 | Test loss : 0.0000\n",
      "Epoch: 9 | Train val:0.1449  | Test val : 0.0000\n",
      "Epoch: 9 | Train far:0.1449  | Test far : 0.0000\n"
     ]
    },
    {
     "name": "stderr",
     "output_type": "stream",
     "text": [
      " 22%|██▏       | 11/50 [04:13<14:50, 22.84s/it]"
     ]
    },
    {
     "name": "stdout",
     "output_type": "stream",
     "text": [
      "Epoch: 10 | Train loss:0.0029 | Test loss : 0.0000\n",
      "Epoch: 10 | Train val:0.0145  | Test val : 0.0000\n",
      "Epoch: 10 | Train far:0.0145  | Test far : 0.0000\n"
     ]
    },
    {
     "name": "stderr",
     "output_type": "stream",
     "text": [
      " 24%|██▍       | 12/50 [04:37<14:42, 23.24s/it]"
     ]
    },
    {
     "name": "stdout",
     "output_type": "stream",
     "text": [
      "Epoch: 11 | Train loss:0.0174 | Test loss : 0.0000\n",
      "Epoch: 11 | Train val:0.0870  | Test val : 0.0000\n",
      "Epoch: 11 | Train far:0.0870  | Test far : 0.0000\n"
     ]
    },
    {
     "name": "stderr",
     "output_type": "stream",
     "text": [
      " 26%|██▌       | 13/50 [05:01<14:32, 23.59s/it]"
     ]
    },
    {
     "name": "stdout",
     "output_type": "stream",
     "text": [
      "Epoch: 12 | Train loss:0.0595 | Test loss : 0.0000\n",
      "Epoch: 12 | Train val:0.2971  | Test val : 0.0000\n",
      "Epoch: 12 | Train far:0.2971  | Test far : 0.0000\n"
     ]
    },
    {
     "name": "stderr",
     "output_type": "stream",
     "text": [
      " 28%|██▊       | 14/50 [05:26<14:18, 23.84s/it]"
     ]
    },
    {
     "name": "stdout",
     "output_type": "stream",
     "text": [
      "Epoch: 13 | Train loss:0.0305 | Test loss : 0.0000\n",
      "Epoch: 13 | Train val:0.1522  | Test val : 0.0000\n",
      "Epoch: 13 | Train far:0.1522  | Test far : 0.0000\n"
     ]
    },
    {
     "name": "stderr",
     "output_type": "stream",
     "text": [
      " 30%|███       | 15/50 [05:50<13:55, 23.88s/it]"
     ]
    },
    {
     "name": "stdout",
     "output_type": "stream",
     "text": [
      "Epoch: 14 | Train loss:0.0203 | Test loss : 0.0000\n",
      "Epoch: 14 | Train val:0.1014  | Test val : 0.0000\n",
      "Epoch: 14 | Train far:0.1014  | Test far : 0.0000\n"
     ]
    },
    {
     "name": "stderr",
     "output_type": "stream",
     "text": [
      " 32%|███▏      | 16/50 [06:13<13:26, 23.71s/it]"
     ]
    },
    {
     "name": "stdout",
     "output_type": "stream",
     "text": [
      "Epoch: 15 | Train loss:0.0290 | Test loss : 0.0857\n",
      "Epoch: 15 | Train val:0.1449  | Test val : 3.0000\n",
      "Epoch: 15 | Train far:0.1449  | Test far : 3.0000\n"
     ]
    },
    {
     "name": "stderr",
     "output_type": "stream",
     "text": [
      " 34%|███▍      | 17/50 [06:37<13:00, 23.65s/it]"
     ]
    },
    {
     "name": "stdout",
     "output_type": "stream",
     "text": [
      "Epoch: 16 | Train loss:0.0290 | Test loss : 0.0000\n",
      "Epoch: 16 | Train val:0.1449  | Test val : 0.0000\n",
      "Epoch: 16 | Train far:0.1449  | Test far : 0.0000\n"
     ]
    },
    {
     "name": "stderr",
     "output_type": "stream",
     "text": [
      " 36%|███▌      | 18/50 [07:00<12:32, 23.51s/it]"
     ]
    },
    {
     "name": "stdout",
     "output_type": "stream",
     "text": [
      "Epoch: 17 | Train loss:0.0029 | Test loss : 0.0000\n",
      "Epoch: 17 | Train val:0.0145  | Test val : 0.0000\n",
      "Epoch: 17 | Train far:0.0145  | Test far : 0.0000\n"
     ]
    },
    {
     "name": "stderr",
     "output_type": "stream",
     "text": [
      " 38%|███▊      | 19/50 [07:22<12:01, 23.29s/it]"
     ]
    },
    {
     "name": "stdout",
     "output_type": "stream",
     "text": [
      "Epoch: 18 | Train loss:0.0014 | Test loss : 0.0000\n",
      "Epoch: 18 | Train val:0.0072  | Test val : 0.0000\n",
      "Epoch: 18 | Train far:0.0072  | Test far : 0.0000\n"
     ]
    },
    {
     "name": "stderr",
     "output_type": "stream",
     "text": [
      " 40%|████      | 20/50 [07:46<11:39, 23.33s/it]"
     ]
    },
    {
     "name": "stdout",
     "output_type": "stream",
     "text": [
      "Epoch: 19 | Train loss:0.0014 | Test loss : 0.0000\n",
      "Epoch: 19 | Train val:0.0072  | Test val : 0.0000\n",
      "Epoch: 19 | Train far:0.0072  | Test far : 0.0000\n"
     ]
    },
    {
     "name": "stderr",
     "output_type": "stream",
     "text": [
      " 42%|████▏     | 21/50 [08:09<11:17, 23.38s/it]"
     ]
    },
    {
     "name": "stdout",
     "output_type": "stream",
     "text": [
      "Epoch: 20 | Train loss:0.0014 | Test loss : 0.0000\n",
      "Epoch: 20 | Train val:0.0072  | Test val : 0.0000\n",
      "Epoch: 20 | Train far:0.0072  | Test far : 0.0000\n"
     ]
    },
    {
     "name": "stderr",
     "output_type": "stream",
     "text": [
      " 44%|████▍     | 22/50 [08:35<11:14, 24.07s/it]"
     ]
    },
    {
     "name": "stdout",
     "output_type": "stream",
     "text": [
      "Epoch: 21 | Train loss:0.0000 | Test loss : 0.0000\n",
      "Epoch: 21 | Train val:0.0000  | Test val : 0.0000\n",
      "Epoch: 21 | Train far:0.0000  | Test far : 0.0000\n"
     ]
    },
    {
     "name": "stderr",
     "output_type": "stream",
     "text": [
      " 46%|████▌     | 23/50 [08:59<10:44, 23.88s/it]"
     ]
    },
    {
     "name": "stdout",
     "output_type": "stream",
     "text": [
      "Epoch: 22 | Train loss:0.0000 | Test loss : 0.0000\n",
      "Epoch: 22 | Train val:0.0000  | Test val : 0.0000\n",
      "Epoch: 22 | Train far:0.0000  | Test far : 0.0000\n"
     ]
    },
    {
     "name": "stderr",
     "output_type": "stream",
     "text": [
      " 48%|████▊     | 24/50 [09:21<10:10, 23.50s/it]"
     ]
    },
    {
     "name": "stdout",
     "output_type": "stream",
     "text": [
      "Epoch: 23 | Train loss:0.0000 | Test loss : 0.0000\n",
      "Epoch: 23 | Train val:0.0000  | Test val : 0.0000\n",
      "Epoch: 23 | Train far:0.0000  | Test far : 0.0000\n"
     ]
    },
    {
     "name": "stderr",
     "output_type": "stream",
     "text": [
      " 50%|█████     | 25/50 [09:45<09:50, 23.62s/it]"
     ]
    },
    {
     "name": "stdout",
     "output_type": "stream",
     "text": [
      "Epoch: 24 | Train loss:0.0000 | Test loss : 0.0000\n",
      "Epoch: 24 | Train val:0.0000  | Test val : 0.0000\n",
      "Epoch: 24 | Train far:0.0000  | Test far : 0.0000\n"
     ]
    },
    {
     "name": "stderr",
     "output_type": "stream",
     "text": [
      " 52%|█████▏    | 26/50 [10:08<09:18, 23.28s/it]"
     ]
    },
    {
     "name": "stdout",
     "output_type": "stream",
     "text": [
      "Epoch: 25 | Train loss:0.0000 | Test loss : 0.0000\n",
      "Epoch: 25 | Train val:0.0000  | Test val : 0.0000\n",
      "Epoch: 25 | Train far:0.0000  | Test far : 0.0000\n"
     ]
    },
    {
     "name": "stderr",
     "output_type": "stream",
     "text": [
      " 54%|█████▍    | 27/50 [10:30<08:47, 22.95s/it]"
     ]
    },
    {
     "name": "stdout",
     "output_type": "stream",
     "text": [
      "Epoch: 26 | Train loss:0.0000 | Test loss : 0.0000\n",
      "Epoch: 26 | Train val:0.0000  | Test val : 0.0000\n",
      "Epoch: 26 | Train far:0.0000  | Test far : 0.0000\n"
     ]
    },
    {
     "name": "stderr",
     "output_type": "stream",
     "text": [
      " 56%|█████▌    | 28/50 [10:52<08:20, 22.73s/it]"
     ]
    },
    {
     "name": "stdout",
     "output_type": "stream",
     "text": [
      "Epoch: 27 | Train loss:0.0000 | Test loss : 0.0000\n",
      "Epoch: 27 | Train val:0.0000  | Test val : 0.0000\n",
      "Epoch: 27 | Train far:0.0000  | Test far : 0.0000\n"
     ]
    },
    {
     "name": "stderr",
     "output_type": "stream",
     "text": [
      " 58%|█████▊    | 29/50 [11:14<07:52, 22.50s/it]"
     ]
    },
    {
     "name": "stdout",
     "output_type": "stream",
     "text": [
      "Epoch: 28 | Train loss:0.0000 | Test loss : 0.0000\n",
      "Epoch: 28 | Train val:0.0000  | Test val : 0.0000\n",
      "Epoch: 28 | Train far:0.0000  | Test far : 0.0000\n"
     ]
    },
    {
     "name": "stderr",
     "output_type": "stream",
     "text": [
      " 60%|██████    | 30/50 [11:36<07:27, 22.40s/it]"
     ]
    },
    {
     "name": "stdout",
     "output_type": "stream",
     "text": [
      "Epoch: 29 | Train loss:0.0000 | Test loss : 0.0000\n",
      "Epoch: 29 | Train val:0.0000  | Test val : 0.0000\n",
      "Epoch: 29 | Train far:0.0000  | Test far : 0.0000\n"
     ]
    },
    {
     "name": "stderr",
     "output_type": "stream",
     "text": [
      " 62%|██████▏   | 31/50 [12:00<07:16, 23.00s/it]"
     ]
    },
    {
     "name": "stdout",
     "output_type": "stream",
     "text": [
      "Epoch: 30 | Train loss:0.0000 | Test loss : 0.0000\n",
      "Epoch: 30 | Train val:0.0000  | Test val : 0.0000\n",
      "Epoch: 30 | Train far:0.0000  | Test far : 0.0000\n"
     ]
    },
    {
     "name": "stderr",
     "output_type": "stream",
     "text": [
      " 64%|██████▍   | 32/50 [12:24<06:58, 23.24s/it]"
     ]
    },
    {
     "name": "stdout",
     "output_type": "stream",
     "text": [
      "Epoch: 31 | Train loss:0.0000 | Test loss : 0.0000\n",
      "Epoch: 31 | Train val:0.0000  | Test val : 0.0000\n",
      "Epoch: 31 | Train far:0.0000  | Test far : 0.0000\n"
     ]
    },
    {
     "name": "stderr",
     "output_type": "stream",
     "text": [
      " 66%|██████▌   | 33/50 [12:48<06:35, 23.29s/it]"
     ]
    },
    {
     "name": "stdout",
     "output_type": "stream",
     "text": [
      "Epoch: 32 | Train loss:0.0000 | Test loss : 0.0000\n",
      "Epoch: 32 | Train val:0.0000  | Test val : 0.0000\n",
      "Epoch: 32 | Train far:0.0000  | Test far : 0.0000\n"
     ]
    },
    {
     "name": "stderr",
     "output_type": "stream",
     "text": [
      " 68%|██████▊   | 34/50 [13:11<06:11, 23.24s/it]"
     ]
    },
    {
     "name": "stdout",
     "output_type": "stream",
     "text": [
      "Epoch: 33 | Train loss:0.0000 | Test loss : 0.0000\n",
      "Epoch: 33 | Train val:0.0000  | Test val : 0.0000\n",
      "Epoch: 33 | Train far:0.0000  | Test far : 0.0000\n"
     ]
    },
    {
     "name": "stderr",
     "output_type": "stream",
     "text": [
      " 70%|███████   | 35/50 [13:34<05:47, 23.18s/it]"
     ]
    },
    {
     "name": "stdout",
     "output_type": "stream",
     "text": [
      "Epoch: 34 | Train loss:0.0000 | Test loss : 0.0000\n",
      "Epoch: 34 | Train val:0.0000  | Test val : 0.0000\n",
      "Epoch: 34 | Train far:0.0000  | Test far : 0.0000\n"
     ]
    },
    {
     "name": "stderr",
     "output_type": "stream",
     "text": [
      " 72%|███████▏  | 36/50 [13:57<05:23, 23.10s/it]"
     ]
    },
    {
     "name": "stdout",
     "output_type": "stream",
     "text": [
      "Epoch: 35 | Train loss:0.0000 | Test loss : 0.0000\n",
      "Epoch: 35 | Train val:0.0000  | Test val : 0.0000\n",
      "Epoch: 35 | Train far:0.0000  | Test far : 0.0000\n"
     ]
    },
    {
     "name": "stderr",
     "output_type": "stream",
     "text": [
      " 74%|███████▍  | 37/50 [14:20<05:00, 23.09s/it]"
     ]
    },
    {
     "name": "stdout",
     "output_type": "stream",
     "text": [
      "Epoch: 36 | Train loss:0.0000 | Test loss : 0.0000\n",
      "Epoch: 36 | Train val:0.0000  | Test val : 0.0000\n",
      "Epoch: 36 | Train far:0.0000  | Test far : 0.0000\n"
     ]
    },
    {
     "name": "stderr",
     "output_type": "stream",
     "text": [
      " 76%|███████▌  | 38/50 [14:43<04:36, 23.05s/it]"
     ]
    },
    {
     "name": "stdout",
     "output_type": "stream",
     "text": [
      "Epoch: 37 | Train loss:0.0000 | Test loss : 0.0000\n",
      "Epoch: 37 | Train val:0.0000  | Test val : 0.0000\n",
      "Epoch: 37 | Train far:0.0000  | Test far : 0.0000\n"
     ]
    },
    {
     "name": "stderr",
     "output_type": "stream",
     "text": [
      " 78%|███████▊  | 39/50 [15:05<04:10, 22.78s/it]"
     ]
    },
    {
     "name": "stdout",
     "output_type": "stream",
     "text": [
      "Epoch: 38 | Train loss:0.0000 | Test loss : 0.0000\n",
      "Epoch: 38 | Train val:0.0000  | Test val : 0.0000\n",
      "Epoch: 38 | Train far:0.0000  | Test far : 0.0000\n"
     ]
    },
    {
     "name": "stderr",
     "output_type": "stream",
     "text": [
      " 80%|████████  | 40/50 [15:27<03:46, 22.64s/it]"
     ]
    },
    {
     "name": "stdout",
     "output_type": "stream",
     "text": [
      "Epoch: 39 | Train loss:0.0000 | Test loss : 0.0000\n",
      "Epoch: 39 | Train val:0.0000  | Test val : 0.0000\n",
      "Epoch: 39 | Train far:0.0000  | Test far : 0.0000\n"
     ]
    },
    {
     "name": "stderr",
     "output_type": "stream",
     "text": [
      " 82%|████████▏ | 41/50 [15:50<03:23, 22.61s/it]"
     ]
    },
    {
     "name": "stdout",
     "output_type": "stream",
     "text": [
      "Epoch: 40 | Train loss:0.0000 | Test loss : 0.0000\n",
      "Epoch: 40 | Train val:0.0000  | Test val : 0.0000\n",
      "Epoch: 40 | Train far:0.0000  | Test far : 0.0000\n"
     ]
    },
    {
     "name": "stderr",
     "output_type": "stream",
     "text": [
      " 84%|████████▍ | 42/50 [16:12<02:59, 22.49s/it]"
     ]
    },
    {
     "name": "stdout",
     "output_type": "stream",
     "text": [
      "Epoch: 41 | Train loss:0.0000 | Test loss : 0.0000\n",
      "Epoch: 41 | Train val:0.0000  | Test val : 0.0000\n",
      "Epoch: 41 | Train far:0.0000  | Test far : 0.0000\n"
     ]
    },
    {
     "name": "stderr",
     "output_type": "stream",
     "text": [
      " 86%|████████▌ | 43/50 [16:34<02:36, 22.39s/it]"
     ]
    },
    {
     "name": "stdout",
     "output_type": "stream",
     "text": [
      "Epoch: 42 | Train loss:0.0014 | Test loss : 0.0000\n",
      "Epoch: 42 | Train val:0.0072  | Test val : 0.0000\n",
      "Epoch: 42 | Train far:0.0072  | Test far : 0.0000\n"
     ]
    },
    {
     "name": "stderr",
     "output_type": "stream",
     "text": [
      " 88%|████████▊ | 44/50 [16:56<02:14, 22.35s/it]"
     ]
    },
    {
     "name": "stdout",
     "output_type": "stream",
     "text": [
      "Epoch: 43 | Train loss:0.0000 | Test loss : 0.0000\n",
      "Epoch: 43 | Train val:0.0000  | Test val : 0.0000\n",
      "Epoch: 43 | Train far:0.0000  | Test far : 0.0000\n"
     ]
    },
    {
     "name": "stderr",
     "output_type": "stream",
     "text": [
      " 90%|█████████ | 45/50 [17:19<01:51, 22.31s/it]"
     ]
    },
    {
     "name": "stdout",
     "output_type": "stream",
     "text": [
      "Epoch: 44 | Train loss:0.0000 | Test loss : 0.0000\n",
      "Epoch: 44 | Train val:0.0000  | Test val : 0.0000\n",
      "Epoch: 44 | Train far:0.0000  | Test far : 0.0000\n"
     ]
    },
    {
     "name": "stderr",
     "output_type": "stream",
     "text": [
      " 92%|█████████▏| 46/50 [17:41<01:29, 22.26s/it]"
     ]
    },
    {
     "name": "stdout",
     "output_type": "stream",
     "text": [
      "Epoch: 45 | Train loss:0.0000 | Test loss : 0.0000\n",
      "Epoch: 45 | Train val:0.0000  | Test val : 0.0000\n",
      "Epoch: 45 | Train far:0.0000  | Test far : 0.0000\n"
     ]
    },
    {
     "name": "stderr",
     "output_type": "stream",
     "text": [
      " 94%|█████████▍| 47/50 [18:03<01:06, 22.27s/it]"
     ]
    },
    {
     "name": "stdout",
     "output_type": "stream",
     "text": [
      "Epoch: 46 | Train loss:0.0000 | Test loss : 0.0000\n",
      "Epoch: 46 | Train val:0.0000  | Test val : 0.0000\n",
      "Epoch: 46 | Train far:0.0000  | Test far : 0.0000\n"
     ]
    },
    {
     "name": "stderr",
     "output_type": "stream",
     "text": [
      " 96%|█████████▌| 48/50 [18:25<00:44, 22.22s/it]"
     ]
    },
    {
     "name": "stdout",
     "output_type": "stream",
     "text": [
      "Epoch: 47 | Train loss:0.0000 | Test loss : 0.0000\n",
      "Epoch: 47 | Train val:0.0000  | Test val : 0.0000\n",
      "Epoch: 47 | Train far:0.0000  | Test far : 0.0000\n"
     ]
    },
    {
     "name": "stderr",
     "output_type": "stream",
     "text": [
      " 98%|█████████▊| 49/50 [18:48<00:22, 22.30s/it]"
     ]
    },
    {
     "name": "stdout",
     "output_type": "stream",
     "text": [
      "Epoch: 48 | Train loss:0.0000 | Test loss : 0.0000\n",
      "Epoch: 48 | Train val:0.0000  | Test val : 0.0000\n",
      "Epoch: 48 | Train far:0.0000  | Test far : 0.0000\n"
     ]
    },
    {
     "name": "stderr",
     "output_type": "stream",
     "text": [
      "100%|██████████| 50/50 [19:10<00:00, 23.02s/it]"
     ]
    },
    {
     "name": "stdout",
     "output_type": "stream",
     "text": [
      "Epoch: 49 | Train loss:0.0000 | Test loss : 0.0000\n",
      "Epoch: 49 | Train val:0.0000  | Test val : 0.0000\n",
      "Epoch: 49 | Train far:0.0000  | Test far : 0.0000\n"
     ]
    },
    {
     "name": "stderr",
     "output_type": "stream",
     "text": [
      "\n"
     ]
    }
   ],
   "source": [
    "results_model_1=train_model(\n",
    "    model=model_1,\n",
    "    train_dataloader=train_loader,\n",
    "    test_dataloader=test_loader,\n",
    "    optimizer=optimizer,\n",
    "    loss_fn=loss_func,\n",
    "    minig_func=minig_func,\n",
    "    lr_scheduler=lr_scheduler,\n",
    "    treshold=HyperParameters.THRESHOLD_METRICS.value,\n",
    "    epochs=HyperParameters.NUM_EPOCHS.value,\n",
    "    device=device\n",
    ")"
   ]
  },
  {
   "cell_type": "markdown",
   "metadata": {},
   "source": [
    "## SAVE THE MODEL"
   ]
  },
  {
   "cell_type": "code",
   "execution_count": 30,
   "metadata": {},
   "outputs": [
    {
     "data": {
      "text/plain": [
       "'2024_08_27'"
      ]
     },
     "execution_count": 30,
     "metadata": {},
     "output_type": "execute_result"
    }
   ],
   "source": [
    "from datetime import date\n",
    "\n",
    "day=date.today().strftime('%Y_%m_%d')\n",
    "\n",
    "day"
   ]
  },
  {
   "cell_type": "code",
   "execution_count": 31,
   "metadata": {},
   "outputs": [
    {
     "name": "stdout",
     "output_type": "stream",
     "text": [
      "Saving model to: models_william\\2024_08_27\\2\\model_50_epochs.pth\n"
     ]
    },
    {
     "data": {
      "image/png": "[encoded data removed]",
      "text/plain": [
       "<Figure size 1500x700 with 3 Axes>"
      ]
     },
     "metadata": {},
     "output_type": "display_data"
    }
   ],
   "source": [
    "from datetime import date\n",
    "\n",
    "#Create model directory path\n",
    "MODEL_PATH=Path('models_william')\n",
    "MODEL_PATH.mkdir(parents=True,\n",
    "                exist_ok=True)\n",
    "\n",
    "DAY=date.today().strftime('%Y_%m_%d')\n",
    "\n",
    "DAY_PATH=MODEL_PATH/DAY\n",
    "\n",
    "DAY_PATH.mkdir(parents=True,\n",
    "        exist_ok=True)\n",
    "\n",
    "INTENTO_PATH=DAY_PATH/str(INTENTO)\n",
    "\n",
    "INTENTO_PATH.mkdir(parents=True,\n",
    "        exist_ok=True)\n",
    "\n",
    "INTENTO=4 ## THIS -> INTENTO+=1\n",
    "\n",
    "#Create model save\n",
    "MODEL_NAME=f'model_{HyperParameters.NUM_EPOCHS.value}_epochs.pth'\n",
    "MODEL_SAVE_PATH=INTENTO_PATH / MODEL_NAME\n",
    "\n",
    "print(f\"Saving model to: {MODEL_SAVE_PATH}\")\n",
    "torch.save(obj=model_1.state_dict(),\n",
    "        f=MODEL_SAVE_PATH)\n",
    "\n",
    "PATH_SETTINGS=INTENTO_PATH/'settings.txt'\n",
    "with open(PATH_SETTINGS,'w') as f:\n",
    "        for param in HyperParameters:\n",
    "                row=f\"{param.name} : {param.value} \\n\"\n",
    "                f.writelines(row)\n",
    "\n",
    "\n",
    "plot_loss_curves(results_model_1,dir=INTENTO_PATH/'metrics_graphic.png')\n"
   ]
  },
  {
   "cell_type": "code",
   "execution_count": 32,
   "metadata": {},
   "outputs": [
    {
     "name": "stdout",
     "output_type": "stream",
     "text": [
      "BATCH_SIZE : 32 \n",
      "\n",
      "NUM_EPOCHS : 50 \n",
      "\n",
      "LR : 0.01 \n",
      "\n",
      "TRIPLE_LOSS_MARGIN : 0.2 \n",
      "\n",
      "TYPE_OF_TRIPLETS : hard \n",
      "\n",
      "LR_SCHEDULER_PATIENCE : 10 \n",
      "\n"
     ]
    }
   ],
   "source": [
    "for param in HyperParameters:\n",
    "    row=f\"{param.name} : {param.value} \\n\"\n",
    "    print(row)"
   ]
  },
  {
   "cell_type": "code",
   "execution_count": null,
   "metadata": {},
   "outputs": [],
   "source": []
  }
 ],
 "metadata": {
  "kernelspec": {
   "display_name": "venv2",
   "language": "python",
   "name": "python3"
  },
  "language_info": {
   "codemirror_mode": {
    "name": "ipython",
    "version": 3
   },
   "file_extension": ".py",
   "mimetype": "text/x-python",
   "name": "python",
   "nbconvert_exporter": "python",
   "pygments_lexer": "ipython3",
   "version": "3.10.11"
  }
 },
 "nbformat": 4,
 "nbformat_minor": 2
}
