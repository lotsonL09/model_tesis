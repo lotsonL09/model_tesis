{
 "cells": [
  {
   "cell_type": "code",
   "execution_count": 1,
   "metadata": {},
   "outputs": [
    {
     "name": "stderr",
     "output_type": "stream",
     "text": [
      "c:\\Tesis\\Tesis\\Codigo\\model_pytorch\\venv2\\lib\\site-packages\\tqdm\\auto.py:21: TqdmWarning: IProgress not found. Please update jupyter and ipywidgets. See https://ipywidgets.readthedocs.io/en/stable/user_install.html\n",
      "  from .autonotebook import tqdm as notebook_tqdm\n"
     ]
    }
   ],
   "source": [
    "import time\n",
    "import copy\n",
    "\n",
    "import torch\n",
    "import torch.nn as nn\n",
    "import torch.optim as optim\n",
    "import torchvision\n",
    "import torchvision.transforms as transforms\n",
    "\n",
    "import numpy as np\n",
    "import pandas as pd\n",
    "import matplotlib.pyplot as plt\n",
    "\n",
    "from torch import nn\n",
    "from torch.utils.data import DataLoader\n",
    "from torchvision.utils import make_grid\n",
    "\n",
    "import tqdm\n",
    "from tqdm.auto import tqdm;"
   ]
  },
  {
   "cell_type": "code",
   "execution_count": 2,
   "metadata": {},
   "outputs": [],
   "source": [
    "# Make a device agnostic code\n",
    "device = \"cuda\" if torch.cuda.is_available() else \"cpu\""
   ]
  },
  {
   "cell_type": "code",
   "execution_count": 3,
   "metadata": {},
   "outputs": [
    {
     "data": {
      "text/plain": [
       "'cuda'"
      ]
     },
     "execution_count": 3,
     "metadata": {},
     "output_type": "execute_result"
    }
   ],
   "source": [
    "device"
   ]
  },
  {
   "cell_type": "code",
   "execution_count": 4,
   "metadata": {},
   "outputs": [
    {
     "name": "stdout",
     "output_type": "stream",
     "text": [
      "Number of gpus: 1\n"
     ]
    }
   ],
   "source": [
    "#GPUS\n",
    "n_gpus = torch.cuda.device_count()\n",
    "print(f\"Number of gpus: {n_gpus}\")"
   ]
  },
  {
   "cell_type": "code",
   "execution_count": 5,
   "metadata": {},
   "outputs": [],
   "source": [
    "class ConvBlock (nn.Module):\n",
    "    def __init__(self,\n",
    "                in_channels: int,\n",
    "                out_channels: int,\n",
    "                 **kwargs): # this means that the key arguments are arbitrary\n",
    "        super().__init__()\n",
    "\n",
    "        self.relu = nn.ReLU()\n",
    "        self.conv = nn.Conv2d(in_channels=in_channels,\n",
    "                            out_channels=out_channels,\n",
    "                              **kwargs,\n",
    "                            device=device)\n",
    "        self.batchnorm = nn.BatchNorm2d(num_features=out_channels) # to improve performance\n",
    "    \n",
    "    def forward(self,x):\n",
    "        x = self.conv(x)\n",
    "        x = self.batchnorm(x)\n",
    "        x = self.relu(x)\n",
    "        return x"
   ]
  },
  {
   "cell_type": "code",
   "execution_count": 6,
   "metadata": {},
   "outputs": [],
   "source": [
    "class L2NormLayer(nn.Module):\n",
    "    def __init__(self,dim=1):\n",
    "        super().__init__()\n",
    "        self.dim=dim\n",
    "    \n",
    "    def forward(self,x):\n",
    "        return nn.functional.normalize(x,p=2,dim=self.dim)"
   ]
  },
  {
   "cell_type": "code",
   "execution_count": 7,
   "metadata": {},
   "outputs": [],
   "source": [
    "class InceptionBlock (nn.Module):\n",
    "        def __init__(self,\n",
    "                in_channels: int,\n",
    "                out_1x1: int,\n",
    "\n",
    "                red_3x3: int,\n",
    "                out_3x3: int,\n",
    "\n",
    "                red_5x5: int,\n",
    "                out_5x5: int,\n",
    "\n",
    "                out_1x1pool: int,\n",
    "                \n",
    "                l2_mode:bool=False):\n",
    "        \n",
    "                super().__init__()\n",
    "\n",
    "                self.branch1 = ConvBlock(in_channels=in_channels,\n",
    "                                        out_channels=out_1x1,\n",
    "                                        kernel_size=1)\n",
    "                \n",
    "                self.branch2 = nn.Sequential(\n",
    "                        ConvBlock(in_channels=in_channels,\n",
    "                                out_channels=red_3x3,\n",
    "                                kernel_size=1),\n",
    "                        ConvBlock(in_channels=red_3x3,\n",
    "                                out_channels=out_3x3,\n",
    "                                kernel_size=3,\n",
    "                                padding=1) # ojo (btw no ponemos el S bc por defecto es 1)\n",
    "                )\n",
    "                \n",
    "                self.branch3 = nn.Sequential(\n",
    "                        ConvBlock(in_channels=in_channels,\n",
    "                                out_channels=red_5x5,\n",
    "                                kernel_size=1),\n",
    "                        ConvBlock(in_channels=red_5x5,\n",
    "                                out_channels=out_5x5,\n",
    "                                kernel_size=5,\n",
    "                                padding=2) # ojo (btw no ponemos el S bc por defecto es 1)\n",
    "                )\n",
    "\n",
    "                if l2_mode:\n",
    "                        self.branch4=nn.Sequential(\n",
    "                                L2NormLayer(dim=1),\n",
    "                                ConvBlock(in_channels=in_channels,\n",
    "                                out_channels=out_1x1pool,\n",
    "                                kernel_size=1)\n",
    "                        )\n",
    "                else:\n",
    "                        self.branch4 = nn.Sequential(\n",
    "                                nn.MaxPool2d(kernel_size=3,stride=1,padding=1),\n",
    "                                ConvBlock(in_channels=in_channels,\n",
    "                                        out_channels=out_1x1pool,\n",
    "                                        kernel_size=1)\n",
    "                        )\n",
    "\n",
    "        def forward(self,x):\n",
    "        # N x filters x 28 x 28 → 0th x 1st x 2nd x 3rd dimension (we use 1)\n",
    "                return torch.cat([self.branch1(x),self.branch2(x),self.branch3(x),self.branch4(x)],1)"
   ]
  },
  {
   "cell_type": "code",
   "execution_count": 8,
   "metadata": {},
   "outputs": [],
   "source": [
    "class InceptionBlock_2(nn.Module):\n",
    "    def __init__(self, \n",
    "                in_channels:int, \n",
    "                red_3x3:int,\n",
    "                out_3x3:int) -> None:\n",
    "        super().__init__()\n",
    "        self.branch=nn.Sequential(\n",
    "            ConvBlock(in_channels=in_channels,\n",
    "                    out_channels=red_3x3,\n",
    "                    kernel_size=1),\n",
    "            ConvBlock(in_channels=red_3x3,\n",
    "                    out_channels=out_3x3,\n",
    "                    kernel_size=3)\n",
    "        )\n",
    "    def forward(self,x):\n",
    "        return self.branch(x)"
   ]
  },
  {
   "cell_type": "code",
   "execution_count": 9,
   "metadata": {},
   "outputs": [],
   "source": [
    "class InceptionBlock_m_3x3 (nn.Module):\n",
    "        def __init__(self,\n",
    "                in_channels: int,\n",
    "\n",
    "                red_3x3: int,\n",
    "                out_3x3: int,\n",
    "\n",
    "                red_5x5: int,\n",
    "                out_5x5: int):\n",
    "        \n",
    "                super().__init__()\n",
    "\n",
    "                self.branch2 = nn.Sequential(\n",
    "                        ConvBlock(in_channels=in_channels,\n",
    "                                out_channels=red_3x3,\n",
    "                                kernel_size=1),\n",
    "                        ConvBlock(in_channels=red_3x3,\n",
    "                                out_channels=out_3x3,\n",
    "                                kernel_size=3,\n",
    "                                padding=1,\n",
    "                                stride=2) # ojo (btw no ponemos el S bc por defecto es 1)\n",
    "                )\n",
    "                \n",
    "                self.branch3 = nn.Sequential(\n",
    "                        ConvBlock(in_channels=in_channels,\n",
    "                                out_channels=red_5x5,\n",
    "                                kernel_size=1),\n",
    "                        ConvBlock(in_channels=red_5x5,\n",
    "                                out_channels=out_5x5,\n",
    "                                kernel_size=5,\n",
    "                                padding=2,\n",
    "                                stride=2) # ojo (btw no ponemos el S bc por defecto es 1)\n",
    "                )\n",
    "\n",
    "                self.branch4 = nn.Sequential(\n",
    "                        nn.MaxPool2d(kernel_size=3,stride=2,padding=1), \n",
    "                )\n",
    "\n",
    "        def forward(self,x):\n",
    "        # N x filters x 28 x 28 → 0th x 1st x 2nd x 3rd dimension (we use 1)\n",
    "                return torch.cat([self.branch2(x),self.branch3(x),self.branch4(x)],1)"
   ]
  },
  {
   "cell_type": "markdown",
   "metadata": {},
   "source": [
    "## Structure of the Model"
   ]
  },
  {
   "cell_type": "code",
   "execution_count": 10,
   "metadata": {},
   "outputs": [],
   "source": [
    "class NN2 (nn.Module):\n",
    "    def __init__(self,\n",
    "                in_channels = 3):\n",
    "        super().__init__()\n",
    "\n",
    "        self.conv1 = ConvBlock(in_channels=in_channels,\n",
    "                            out_channels=64,\n",
    "                            kernel_size=7,\n",
    "                            stride=2,\n",
    "                            padding=3)\n",
    "        \n",
    "        self.inception2 = InceptionBlock_2(in_channels=64, #la cantidad de canales que entran y salen es la misma. ¿esto es correcto?\n",
    "                                        red_3x3=64,\n",
    "                                        out_3x3=192)\n",
    "    \n",
    "        self.inception3a = InceptionBlock( in_channels= 192, out_1x1= 64, red_3x3= 96, out_3x3= 128, red_5x5= 16,out_5x5= 32, out_1x1pool= 32)#ok\n",
    "        self.inception3b = InceptionBlock( in_channels= 256, out_1x1= 64, red_3x3= 96, out_3x3= 128, red_5x5= 32,out_5x5= 64, out_1x1pool= 64,l2_mode=True)\n",
    "        #modificar desactivando branch 1 y 4\n",
    "        self.inception3c = InceptionBlock_m_3x3( in_channels= 320, red_3x3= 128, out_3x3= 256, red_5x5= 32,out_5x5= 64)\n",
    "        \n",
    "        self.inception4a = InceptionBlock( in_channels= 640, out_1x1= 256, red_3x3= 96, out_3x3= 192, red_5x5= 32,out_5x5= 64, out_1x1pool= 128,l2_mode=True)\n",
    "        self.inception4b = InceptionBlock( in_channels= 640, out_1x1= 224, red_3x3= 112, out_3x3= 224, red_5x5= 32,out_5x5= 64, out_1x1pool= 128,l2_mode=True)\n",
    "        self.inception4c = InceptionBlock( in_channels= 640, out_1x1= 192, red_3x3= 128, out_3x3= 256, red_5x5= 32,out_5x5= 64, out_1x1pool= 128,l2_mode=True)\n",
    "        self.inception4d = InceptionBlock( in_channels= 640, out_1x1= 160, red_3x3= 144, out_3x3= 288, red_5x5= 32,out_5x5= 64, out_1x1pool= 128,l2_mode=True)\n",
    "        #modificar desactivando branch 1 y 4\n",
    "        self.inception4e = InceptionBlock_m_3x3( in_channels= 640, red_3x3= 160, out_3x3= 256, red_5x5= 64,out_5x5= 128)\n",
    "        \n",
    "        self.inception5a = InceptionBlock( in_channels= 1024, out_1x1= 384, red_3x3= 192, out_3x3= 384, red_5x5= 48,out_5x5= 128, out_1x1pool= 128,l2_mode=True)\n",
    "        self.inception5b = InceptionBlock( in_channels= 1024, out_1x1= 384, red_3x3= 192, out_3x3= 384, red_5x5= 48,out_5x5= 128, out_1x1pool= 128)#ok\n",
    "        \n",
    "        self.maxpool = nn.MaxPool2d(kernel_size=3,stride=2,padding=1) #por que se aplico un max pool?\n",
    "\n",
    "        self.avgpool = nn.AvgPool2d(kernel_size=7) # stride? padding?\n",
    "        \n",
    "        self.FC = nn.Linear(1024,128)\n",
    "\n",
    "        self.norm=nn.BatchNorm2d(num_features=64)\n",
    "\n",
    "\n",
    "    def forward(self,x):\n",
    "        x = self.conv1(x)\n",
    "        x = self.maxpool(x)\n",
    "\n",
    "        x=self.norm(x)\n",
    "\n",
    "        x = self.inception2(x)\n",
    "        x = self.maxpool(x)\n",
    "\n",
    "        x = self.inception3a(x)\n",
    "        x = self.inception3b(x)\n",
    "        x = self.inception3c(x)\n",
    "\n",
    "        x = self.inception4a(x)\n",
    "        x = self.inception4b(x)\n",
    "        x = self.inception4c(x)\n",
    "        x = self.inception4d(x)\n",
    "        x = self.inception4e(x)\n",
    "\n",
    "        x = self.inception5a(x)\n",
    "        x = self.inception5b(x)\n",
    "        #print('Despues del inception 5b',x.shape)\n",
    "        x = self.avgpool(x)\n",
    "        #print('Despues del avg pool',x.shape)\n",
    "\n",
    "        x=x.view(x.shape[0],-1)\n",
    "\n",
    "        x = self.FC(x)\n",
    "        #print('Despues de fully connected layer',x.shape)\n",
    "        x = nn.functional.normalize(x,p=2,dim=1)\n",
    "\n",
    "        return x"
   ]
  },
  {
   "cell_type": "code",
   "execution_count": 11,
   "metadata": {},
   "outputs": [],
   "source": [
    "torch.manual_seed(42)\n",
    "model_1 = NN2(in_channels=3).to(device)"
   ]
  },
  {
   "cell_type": "code",
   "execution_count": 12,
   "metadata": {},
   "outputs": [],
   "source": [
    "#Sample de prueba\n",
    "\n",
    "sample=torch.randn(size=(1,3,224,224)).to(device)"
   ]
  },
  {
   "cell_type": "code",
   "execution_count": 13,
   "metadata": {},
   "outputs": [
    {
     "data": {
      "text/plain": [
       "torch.Size([1, 3, 224, 224])"
      ]
     },
     "execution_count": 13,
     "metadata": {},
     "output_type": "execute_result"
    }
   ],
   "source": [
    "sample.shape"
   ]
  },
  {
   "cell_type": "code",
   "execution_count": 14,
   "metadata": {},
   "outputs": [],
   "source": [
    "model_1.eval()\n",
    "with torch.inference_mode():\n",
    "    model_1(sample)"
   ]
  },
  {
   "cell_type": "markdown",
   "metadata": {},
   "source": [
    "## Transform"
   ]
  },
  {
   "cell_type": "code",
   "execution_count": 15,
   "metadata": {},
   "outputs": [],
   "source": [
    "transform=transforms.Compose([\n",
    "    transforms.Resize((224,224)),  #Para pasar a 224 x 224 pixels\n",
    "    transforms.ToTensor()          #Para convertir la imagen a tensor\n",
    "])"
   ]
  },
  {
   "cell_type": "markdown",
   "metadata": {},
   "source": [
    "## Path of dataset"
   ]
  },
  {
   "cell_type": "code",
   "execution_count": 16,
   "metadata": {},
   "outputs": [
    {
     "name": "stdout",
     "output_type": "stream",
     "text": [
      "c:\\Tesis\\Tesis\\Codigo\\model_pytorch\n"
     ]
    }
   ],
   "source": [
    "import os\n",
    "\n",
    "print(os.getcwd())"
   ]
  },
  {
   "cell_type": "code",
   "execution_count": 17,
   "metadata": {},
   "outputs": [
    {
     "data": {
      "text/plain": [
       "WindowsPath('data/train')"
      ]
     },
     "execution_count": 17,
     "metadata": {},
     "output_type": "execute_result"
    }
   ],
   "source": [
    "from pathlib import Path\n",
    "\n",
    "root_data_path=Path('data')\n",
    "train_path=root_data_path / 'train'\n",
    "\n",
    "test_path=root_data_path / 'test'\n",
    "\n",
    "train_path"
   ]
  },
  {
   "cell_type": "code",
   "execution_count": 18,
   "metadata": {},
   "outputs": [
    {
     "data": {
      "text/plain": [
       "torch.Size([3, 224, 224])"
      ]
     },
     "execution_count": 18,
     "metadata": {},
     "output_type": "execute_result"
    }
   ],
   "source": [
    "img_path_list=list(test_path.glob('*/*.jpg'))\n",
    "\n",
    "import random\n",
    "from PIL import Image\n",
    "\n",
    "random_image_path=random.choice(img_path_list)\n",
    "img=Image.open(random_image_path)\n",
    "\n",
    "transform(img).shape"
   ]
  },
  {
   "cell_type": "code",
   "execution_count": 19,
   "metadata": {},
   "outputs": [],
   "source": [
    "train_data=torchvision.datasets.ImageFolder(train_path,\n",
    "                                        transform=transform,\n",
    "                                        target_transform=None)\n",
    "\n",
    "test_data=torchvision.datasets.ImageFolder(test_path,\n",
    "                                        transform=transform)"
   ]
  },
  {
   "cell_type": "code",
   "execution_count": 20,
   "metadata": {},
   "outputs": [
    {
     "data": {
      "text/plain": [
       "[('data\\\\train\\\\Brayan\\\\a_rostro_1.jpg', 0),\n",
       " ('data\\\\train\\\\Brayan\\\\a_rostro_102.jpg', 0),\n",
       " ('data\\\\train\\\\Brayan\\\\a_rostro_109.jpg', 0),\n",
       " ('data\\\\train\\\\Brayan\\\\a_rostro_113.jpg', 0),\n",
       " ('data\\\\train\\\\Brayan\\\\a_rostro_120.jpg', 0),\n",
       " ('data\\\\train\\\\Brayan\\\\a_rostro_124.jpg', 0),\n",
       " ('data\\\\train\\\\Brayan\\\\a_rostro_131.jpg', 0),\n",
       " ('data\\\\train\\\\Brayan\\\\a_rostro_137.jpg', 0),\n",
       " ('data\\\\train\\\\Brayan\\\\a_rostro_145.jpg', 0),\n",
       " ('data\\\\train\\\\Brayan\\\\a_rostro_146.jpg', 0),\n",
       " ('data\\\\train\\\\Brayan\\\\a_rostro_16.jpg', 0),\n",
       " ('data\\\\train\\\\Brayan\\\\a_rostro_163.jpg', 0),\n",
       " ('data\\\\train\\\\Brayan\\\\a_rostro_170.jpg', 0),\n",
       " ('data\\\\train\\\\Brayan\\\\a_rostro_176.jpg', 0),\n",
       " ('data\\\\train\\\\Brayan\\\\a_rostro_183.jpg', 0),\n",
       " ('data\\\\train\\\\Brayan\\\\a_rostro_185.jpg', 0),\n",
       " ('data\\\\train\\\\Brayan\\\\a_rostro_194.jpg', 0),\n",
       " ('data\\\\train\\\\Brayan\\\\a_rostro_200.jpg', 0),\n",
       " ('data\\\\train\\\\Brayan\\\\a_rostro_210.jpg', 0),\n",
       " ('data\\\\train\\\\Brayan\\\\a_rostro_238.jpg', 0),\n",
       " ('data\\\\train\\\\Brayan\\\\a_rostro_239.jpg', 0),\n",
       " ('data\\\\train\\\\Brayan\\\\a_rostro_24.jpg', 0),\n",
       " ('data\\\\train\\\\Brayan\\\\a_rostro_240.jpg', 0),\n",
       " ('data\\\\train\\\\Brayan\\\\a_rostro_241.jpg', 0),\n",
       " ('data\\\\train\\\\Brayan\\\\a_rostro_243.jpg', 0),\n",
       " ('data\\\\train\\\\Brayan\\\\a_rostro_245.jpg', 0),\n",
       " ('data\\\\train\\\\Brayan\\\\a_rostro_25.jpg', 0),\n",
       " ('data\\\\train\\\\Brayan\\\\a_rostro_250.jpg', 0),\n",
       " ('data\\\\train\\\\Brayan\\\\a_rostro_254.jpg', 0),\n",
       " ('data\\\\train\\\\Brayan\\\\a_rostro_264.jpg', 0),\n",
       " ('data\\\\train\\\\Brayan\\\\a_rostro_272.jpg', 0),\n",
       " ('data\\\\train\\\\Brayan\\\\a_rostro_283.jpg', 0),\n",
       " ('data\\\\train\\\\Brayan\\\\a_rostro_288.jpg', 0),\n",
       " ('data\\\\train\\\\Brayan\\\\a_rostro_293.jpg', 0),\n",
       " ('data\\\\train\\\\Brayan\\\\a_rostro_306.jpg', 0),\n",
       " ('data\\\\train\\\\Brayan\\\\a_rostro_314.jpg', 0),\n",
       " ('data\\\\train\\\\Brayan\\\\a_rostro_319.jpg', 0),\n",
       " ('data\\\\train\\\\Brayan\\\\a_rostro_321.jpg', 0),\n",
       " ('data\\\\train\\\\Brayan\\\\a_rostro_328.jpg', 0),\n",
       " ('data\\\\train\\\\Brayan\\\\a_rostro_330.jpg', 0),\n",
       " ('data\\\\train\\\\Brayan\\\\a_rostro_332.jpg', 0),\n",
       " ('data\\\\train\\\\Brayan\\\\a_rostro_34.jpg', 0),\n",
       " ('data\\\\train\\\\Brayan\\\\a_rostro_341.jpg', 0),\n",
       " ('data\\\\train\\\\Brayan\\\\a_rostro_357.jpg', 0),\n",
       " ('data\\\\train\\\\Brayan\\\\a_rostro_358.jpg', 0),\n",
       " ('data\\\\train\\\\Brayan\\\\a_rostro_362.jpg', 0),\n",
       " ('data\\\\train\\\\Brayan\\\\a_rostro_365.jpg', 0),\n",
       " ('data\\\\train\\\\Brayan\\\\a_rostro_368.jpg', 0),\n",
       " ('data\\\\train\\\\Brayan\\\\a_rostro_372.jpg', 0),\n",
       " ('data\\\\train\\\\Brayan\\\\a_rostro_384.jpg', 0),\n",
       " ('data\\\\train\\\\Brayan\\\\a_rostro_393.jpg', 0),\n",
       " ('data\\\\train\\\\Brayan\\\\a_rostro_403.jpg', 0),\n",
       " ('data\\\\train\\\\Brayan\\\\a_rostro_405.jpg', 0),\n",
       " ('data\\\\train\\\\Brayan\\\\a_rostro_410.jpg', 0),\n",
       " ('data\\\\train\\\\Brayan\\\\a_rostro_423.jpg', 0),\n",
       " ('data\\\\train\\\\Brayan\\\\a_rostro_425.jpg', 0),\n",
       " ('data\\\\train\\\\Brayan\\\\a_rostro_429.jpg', 0),\n",
       " ('data\\\\train\\\\Brayan\\\\a_rostro_435.jpg', 0),\n",
       " ('data\\\\train\\\\Brayan\\\\a_rostro_450.jpg', 0),\n",
       " ('data\\\\train\\\\Brayan\\\\a_rostro_459.jpg', 0),\n",
       " ('data\\\\train\\\\Brayan\\\\a_rostro_46.jpg', 0),\n",
       " ('data\\\\train\\\\Brayan\\\\a_rostro_460.jpg', 0),\n",
       " ('data\\\\train\\\\Brayan\\\\a_rostro_463.jpg', 0),\n",
       " ('data\\\\train\\\\Brayan\\\\a_rostro_465.jpg', 0),\n",
       " ('data\\\\train\\\\Brayan\\\\a_rostro_470.jpg', 0),\n",
       " ('data\\\\train\\\\Brayan\\\\a_rostro_48.jpg', 0),\n",
       " ('data\\\\train\\\\Brayan\\\\a_rostro_484.jpg', 0),\n",
       " ('data\\\\train\\\\Brayan\\\\a_rostro_487.jpg', 0),\n",
       " ('data\\\\train\\\\Brayan\\\\a_rostro_492.jpg', 0),\n",
       " ('data\\\\train\\\\Brayan\\\\a_rostro_52.jpg', 0),\n",
       " ('data\\\\train\\\\Brayan\\\\a_rostro_60.jpg', 0),\n",
       " ('data\\\\train\\\\Brayan\\\\a_rostro_62.jpg', 0),\n",
       " ('data\\\\train\\\\Brayan\\\\a_rostro_66.jpg', 0),\n",
       " ('data\\\\train\\\\Brayan\\\\a_rostro_7.jpg', 0),\n",
       " ('data\\\\train\\\\Brayan\\\\a_rostro_73.jpg', 0),\n",
       " ('data\\\\train\\\\Brayan\\\\a_rostro_77.jpg', 0),\n",
       " ('data\\\\train\\\\Brayan\\\\a_rostro_79.jpg', 0),\n",
       " ('data\\\\train\\\\Brayan\\\\a_rostro_85.jpg', 0),\n",
       " ('data\\\\train\\\\Brayan\\\\a_rostro_9.jpg', 0),\n",
       " ('data\\\\train\\\\Brayan\\\\a_rostro_97.jpg', 0),\n",
       " ('data\\\\train\\\\Brayan\\\\a_rostro_99.jpg', 0),\n",
       " ('data\\\\train\\\\Brayan\\\\rostro_1.jpg', 0),\n",
       " ('data\\\\train\\\\Brayan\\\\rostro_102.jpg', 0),\n",
       " ('data\\\\train\\\\Brayan\\\\rostro_104.jpg', 0),\n",
       " ('data\\\\train\\\\Brayan\\\\rostro_105.jpg', 0),\n",
       " ('data\\\\train\\\\Brayan\\\\rostro_106.jpg', 0),\n",
       " ('data\\\\train\\\\Brayan\\\\rostro_107.jpg', 0),\n",
       " ('data\\\\train\\\\Brayan\\\\rostro_109.jpg', 0),\n",
       " ('data\\\\train\\\\Brayan\\\\rostro_110.jpg', 0),\n",
       " ('data\\\\train\\\\Brayan\\\\rostro_111.jpg', 0),\n",
       " ('data\\\\train\\\\Brayan\\\\rostro_113.jpg', 0),\n",
       " ('data\\\\train\\\\Brayan\\\\rostro_115.jpg', 0),\n",
       " ('data\\\\train\\\\Brayan\\\\rostro_116.jpg', 0),\n",
       " ('data\\\\train\\\\Brayan\\\\rostro_118.jpg', 0),\n",
       " ('data\\\\train\\\\Brayan\\\\rostro_119.jpg', 0),\n",
       " ('data\\\\train\\\\Brayan\\\\rostro_12.jpg', 0),\n",
       " ('data\\\\train\\\\Brayan\\\\rostro_120.jpg', 0),\n",
       " ('data\\\\train\\\\Brayan\\\\rostro_121.jpg', 0),\n",
       " ('data\\\\train\\\\Brayan\\\\rostro_122.jpg', 0),\n",
       " ('data\\\\train\\\\Brayan\\\\rostro_124.jpg', 0),\n",
       " ('data\\\\train\\\\Brayan\\\\rostro_126.jpg', 0),\n",
       " ('data\\\\train\\\\Brayan\\\\rostro_129.jpg', 0),\n",
       " ('data\\\\train\\\\Brayan\\\\rostro_13.jpg', 0),\n",
       " ('data\\\\train\\\\Brayan\\\\rostro_131.jpg', 0),\n",
       " ('data\\\\train\\\\Brayan\\\\rostro_132.jpg', 0),\n",
       " ('data\\\\train\\\\Brayan\\\\rostro_133.jpg', 0),\n",
       " ('data\\\\train\\\\Brayan\\\\rostro_134.jpg', 0),\n",
       " ('data\\\\train\\\\Brayan\\\\rostro_136.jpg', 0),\n",
       " ('data\\\\train\\\\Brayan\\\\rostro_137.jpg', 0),\n",
       " ('data\\\\train\\\\Brayan\\\\rostro_14.jpg', 0),\n",
       " ('data\\\\train\\\\Brayan\\\\rostro_140.jpg', 0),\n",
       " ('data\\\\train\\\\Brayan\\\\rostro_141.jpg', 0),\n",
       " ('data\\\\train\\\\Brayan\\\\rostro_142.jpg', 0),\n",
       " ('data\\\\train\\\\Brayan\\\\rostro_143.jpg', 0),\n",
       " ('data\\\\train\\\\Brayan\\\\rostro_145.jpg', 0),\n",
       " ('data\\\\train\\\\Brayan\\\\rostro_146.jpg', 0),\n",
       " ('data\\\\train\\\\Brayan\\\\rostro_147.jpg', 0),\n",
       " ('data\\\\train\\\\Brayan\\\\rostro_148.jpg', 0),\n",
       " ('data\\\\train\\\\Brayan\\\\rostro_15.jpg', 0),\n",
       " ('data\\\\train\\\\Brayan\\\\rostro_152.jpg', 0),\n",
       " ('data\\\\train\\\\Brayan\\\\rostro_153.jpg', 0),\n",
       " ('data\\\\train\\\\Brayan\\\\rostro_155.jpg', 0),\n",
       " ('data\\\\train\\\\Brayan\\\\rostro_157.jpg', 0),\n",
       " ('data\\\\train\\\\Brayan\\\\rostro_158.jpg', 0),\n",
       " ('data\\\\train\\\\Brayan\\\\rostro_159.jpg', 0),\n",
       " ('data\\\\train\\\\Brayan\\\\rostro_16.jpg', 0),\n",
       " ('data\\\\train\\\\Brayan\\\\rostro_160.jpg', 0),\n",
       " ('data\\\\train\\\\Brayan\\\\rostro_161.jpg', 0),\n",
       " ('data\\\\train\\\\Brayan\\\\rostro_162.jpg', 0),\n",
       " ('data\\\\train\\\\Brayan\\\\rostro_163.jpg', 0),\n",
       " ('data\\\\train\\\\Brayan\\\\rostro_164.jpg', 0),\n",
       " ('data\\\\train\\\\Brayan\\\\rostro_168.jpg', 0),\n",
       " ('data\\\\train\\\\Brayan\\\\rostro_17.jpg', 0),\n",
       " ('data\\\\train\\\\Brayan\\\\rostro_170.jpg', 0),\n",
       " ('data\\\\train\\\\Brayan\\\\rostro_171.jpg', 0),\n",
       " ('data\\\\train\\\\Brayan\\\\rostro_175.jpg', 0),\n",
       " ('data\\\\train\\\\Brayan\\\\rostro_176.jpg', 0),\n",
       " ('data\\\\train\\\\Brayan\\\\rostro_177.jpg', 0),\n",
       " ('data\\\\train\\\\Brayan\\\\rostro_178.jpg', 0),\n",
       " ('data\\\\train\\\\Brayan\\\\rostro_179.jpg', 0),\n",
       " ('data\\\\train\\\\Brayan\\\\rostro_180.jpg', 0),\n",
       " ('data\\\\train\\\\Brayan\\\\rostro_181.jpg', 0),\n",
       " ('data\\\\train\\\\Brayan\\\\rostro_183.jpg', 0),\n",
       " ('data\\\\train\\\\Brayan\\\\rostro_184.jpg', 0),\n",
       " ('data\\\\train\\\\Brayan\\\\rostro_185.jpg', 0),\n",
       " ('data\\\\train\\\\Brayan\\\\rostro_186.jpg', 0),\n",
       " ('data\\\\train\\\\Brayan\\\\rostro_188.jpg', 0),\n",
       " ('data\\\\train\\\\Brayan\\\\rostro_189.jpg', 0),\n",
       " ('data\\\\train\\\\Brayan\\\\rostro_190.jpg', 0),\n",
       " ('data\\\\train\\\\Brayan\\\\rostro_194.jpg', 0),\n",
       " ('data\\\\train\\\\Brayan\\\\rostro_195.jpg', 0),\n",
       " ('data\\\\train\\\\Brayan\\\\rostro_196.jpg', 0),\n",
       " ('data\\\\train\\\\Brayan\\\\rostro_197.jpg', 0),\n",
       " ('data\\\\train\\\\Brayan\\\\rostro_2.jpg', 0),\n",
       " ('data\\\\train\\\\Brayan\\\\rostro_20.jpg', 0),\n",
       " ('data\\\\train\\\\Brayan\\\\rostro_200.jpg', 0),\n",
       " ('data\\\\train\\\\Brayan\\\\rostro_201.jpg', 0),\n",
       " ('data\\\\train\\\\Brayan\\\\rostro_204.jpg', 0),\n",
       " ('data\\\\train\\\\Brayan\\\\rostro_205.jpg', 0),\n",
       " ('data\\\\train\\\\Brayan\\\\rostro_206.jpg', 0),\n",
       " ('data\\\\train\\\\Brayan\\\\rostro_207.jpg', 0),\n",
       " ('data\\\\train\\\\Brayan\\\\rostro_208.jpg', 0),\n",
       " ('data\\\\train\\\\Brayan\\\\rostro_209.jpg', 0),\n",
       " ('data\\\\train\\\\Brayan\\\\rostro_21.jpg', 0),\n",
       " ('data\\\\train\\\\Brayan\\\\rostro_210.jpg', 0),\n",
       " ('data\\\\train\\\\Brayan\\\\rostro_213.jpg', 0),\n",
       " ('data\\\\train\\\\Brayan\\\\rostro_216.jpg', 0),\n",
       " ('data\\\\train\\\\Brayan\\\\rostro_217.jpg', 0),\n",
       " ('data\\\\train\\\\Brayan\\\\rostro_218.jpg', 0),\n",
       " ('data\\\\train\\\\Brayan\\\\rostro_219.jpg', 0),\n",
       " ('data\\\\train\\\\Brayan\\\\rostro_220.jpg', 0),\n",
       " ('data\\\\train\\\\Brayan\\\\rostro_221.jpg', 0),\n",
       " ('data\\\\train\\\\Brayan\\\\rostro_222.jpg', 0),\n",
       " ('data\\\\train\\\\Brayan\\\\rostro_223.jpg', 0),\n",
       " ('data\\\\train\\\\Brayan\\\\rostro_224.jpg', 0),\n",
       " ('data\\\\train\\\\Brayan\\\\rostro_225.jpg', 0),\n",
       " ('data\\\\train\\\\Brayan\\\\rostro_226.jpg', 0),\n",
       " ('data\\\\train\\\\Brayan\\\\rostro_229.jpg', 0),\n",
       " ('data\\\\train\\\\Brayan\\\\rostro_230.jpg', 0),\n",
       " ('data\\\\train\\\\Brayan\\\\rostro_233.jpg', 0),\n",
       " ('data\\\\train\\\\Brayan\\\\rostro_234.jpg', 0),\n",
       " ('data\\\\train\\\\Brayan\\\\rostro_236.jpg', 0),\n",
       " ('data\\\\train\\\\Brayan\\\\rostro_238.jpg', 0),\n",
       " ('data\\\\train\\\\Brayan\\\\rostro_239.jpg', 0),\n",
       " ('data\\\\train\\\\Brayan\\\\rostro_24.jpg', 0),\n",
       " ('data\\\\train\\\\Brayan\\\\rostro_240.jpg', 0),\n",
       " ('data\\\\train\\\\Brayan\\\\rostro_241.jpg', 0),\n",
       " ('data\\\\train\\\\Brayan\\\\rostro_243.jpg', 0),\n",
       " ('data\\\\train\\\\Brayan\\\\rostro_245.jpg', 0),\n",
       " ('data\\\\train\\\\Brayan\\\\rostro_247.jpg', 0),\n",
       " ('data\\\\train\\\\Brayan\\\\rostro_249.jpg', 0),\n",
       " ('data\\\\train\\\\Brayan\\\\rostro_25.jpg', 0),\n",
       " ('data\\\\train\\\\Brayan\\\\rostro_250.jpg', 0),\n",
       " ('data\\\\train\\\\Brayan\\\\rostro_253.jpg', 0),\n",
       " ('data\\\\train\\\\Brayan\\\\rostro_254.jpg', 0),\n",
       " ('data\\\\train\\\\Brayan\\\\rostro_258.jpg', 0),\n",
       " ('data\\\\train\\\\Brayan\\\\rostro_26.jpg', 0),\n",
       " ('data\\\\train\\\\Brayan\\\\rostro_260.jpg', 0),\n",
       " ('data\\\\train\\\\Brayan\\\\rostro_261.jpg', 0),\n",
       " ('data\\\\train\\\\Brayan\\\\rostro_262.jpg', 0),\n",
       " ('data\\\\train\\\\Brayan\\\\rostro_264.jpg', 0),\n",
       " ('data\\\\train\\\\Brayan\\\\rostro_266.jpg', 0),\n",
       " ('data\\\\train\\\\Brayan\\\\rostro_267.jpg', 0),\n",
       " ('data\\\\train\\\\Brayan\\\\rostro_268.jpg', 0),\n",
       " ('data\\\\train\\\\Brayan\\\\rostro_27.jpg', 0),\n",
       " ('data\\\\train\\\\Brayan\\\\rostro_270.jpg', 0),\n",
       " ('data\\\\train\\\\Brayan\\\\rostro_271.jpg', 0),\n",
       " ('data\\\\train\\\\Brayan\\\\rostro_272.jpg', 0),\n",
       " ('data\\\\train\\\\Brayan\\\\rostro_273.jpg', 0),\n",
       " ('data\\\\train\\\\Brayan\\\\rostro_274.jpg', 0),\n",
       " ('data\\\\train\\\\Brayan\\\\rostro_277.jpg', 0),\n",
       " ('data\\\\train\\\\Brayan\\\\rostro_279.jpg', 0),\n",
       " ('data\\\\train\\\\Brayan\\\\rostro_280.jpg', 0),\n",
       " ('data\\\\train\\\\Brayan\\\\rostro_281.jpg', 0),\n",
       " ('data\\\\train\\\\Brayan\\\\rostro_282.jpg', 0),\n",
       " ('data\\\\train\\\\Brayan\\\\rostro_283.jpg', 0),\n",
       " ('data\\\\train\\\\Brayan\\\\rostro_284.jpg', 0),\n",
       " ('data\\\\train\\\\Brayan\\\\rostro_287.jpg', 0),\n",
       " ('data\\\\train\\\\Brayan\\\\rostro_288.jpg', 0),\n",
       " ('data\\\\train\\\\Brayan\\\\rostro_29.jpg', 0),\n",
       " ('data\\\\train\\\\Brayan\\\\rostro_290.jpg', 0),\n",
       " ('data\\\\train\\\\Brayan\\\\rostro_291.jpg', 0),\n",
       " ('data\\\\train\\\\Brayan\\\\rostro_292.jpg', 0),\n",
       " ('data\\\\train\\\\Brayan\\\\rostro_293.jpg', 0),\n",
       " ('data\\\\train\\\\Brayan\\\\rostro_297.jpg', 0),\n",
       " ('data\\\\train\\\\Brayan\\\\rostro_298.jpg', 0),\n",
       " ('data\\\\train\\\\Brayan\\\\rostro_30.jpg', 0),\n",
       " ('data\\\\train\\\\Brayan\\\\rostro_300.jpg', 0),\n",
       " ('data\\\\train\\\\Brayan\\\\rostro_302.jpg', 0),\n",
       " ('data\\\\train\\\\Brayan\\\\rostro_303.jpg', 0),\n",
       " ('data\\\\train\\\\Brayan\\\\rostro_306.jpg', 0),\n",
       " ('data\\\\train\\\\Brayan\\\\rostro_307.jpg', 0),\n",
       " ('data\\\\train\\\\Brayan\\\\rostro_308.jpg', 0),\n",
       " ('data\\\\train\\\\Brayan\\\\rostro_309.jpg', 0),\n",
       " ('data\\\\train\\\\Brayan\\\\rostro_31.jpg', 0),\n",
       " ('data\\\\train\\\\Brayan\\\\rostro_312.jpg', 0),\n",
       " ('data\\\\train\\\\Brayan\\\\rostro_313.jpg', 0),\n",
       " ('data\\\\train\\\\Brayan\\\\rostro_314.jpg', 0),\n",
       " ('data\\\\train\\\\Brayan\\\\rostro_315.jpg', 0),\n",
       " ('data\\\\train\\\\Brayan\\\\rostro_318.jpg', 0),\n",
       " ('data\\\\train\\\\Brayan\\\\rostro_319.jpg', 0),\n",
       " ('data\\\\train\\\\Brayan\\\\rostro_32.jpg', 0),\n",
       " ('data\\\\train\\\\Brayan\\\\rostro_321.jpg', 0),\n",
       " ('data\\\\train\\\\Brayan\\\\rostro_322.jpg', 0),\n",
       " ('data\\\\train\\\\Brayan\\\\rostro_323.jpg', 0),\n",
       " ('data\\\\train\\\\Brayan\\\\rostro_326.jpg', 0),\n",
       " ('data\\\\train\\\\Brayan\\\\rostro_327.jpg', 0),\n",
       " ('data\\\\train\\\\Brayan\\\\rostro_328.jpg', 0),\n",
       " ('data\\\\train\\\\Brayan\\\\rostro_330.jpg', 0),\n",
       " ('data\\\\train\\\\Brayan\\\\rostro_332.jpg', 0),\n",
       " ('data\\\\train\\\\Brayan\\\\rostro_333.jpg', 0),\n",
       " ('data\\\\train\\\\Brayan\\\\rostro_334.jpg', 0),\n",
       " ('data\\\\train\\\\Brayan\\\\rostro_337.jpg', 0),\n",
       " ('data\\\\train\\\\Brayan\\\\rostro_339.jpg', 0),\n",
       " ('data\\\\train\\\\Brayan\\\\rostro_34.jpg', 0),\n",
       " ('data\\\\train\\\\Brayan\\\\rostro_340.jpg', 0),\n",
       " ('data\\\\train\\\\Brayan\\\\rostro_341.jpg', 0),\n",
       " ('data\\\\train\\\\Brayan\\\\rostro_342.jpg', 0),\n",
       " ('data\\\\train\\\\Brayan\\\\rostro_343.jpg', 0),\n",
       " ('data\\\\train\\\\Brayan\\\\rostro_344.jpg', 0),\n",
       " ('data\\\\train\\\\Brayan\\\\rostro_347.jpg', 0),\n",
       " ('data\\\\train\\\\Brayan\\\\rostro_349.jpg', 0),\n",
       " ('data\\\\train\\\\Brayan\\\\rostro_351.jpg', 0),\n",
       " ('data\\\\train\\\\Brayan\\\\rostro_352.jpg', 0),\n",
       " ('data\\\\train\\\\Brayan\\\\rostro_353.jpg', 0),\n",
       " ('data\\\\train\\\\Brayan\\\\rostro_354.jpg', 0),\n",
       " ('data\\\\train\\\\Brayan\\\\rostro_357.jpg', 0),\n",
       " ('data\\\\train\\\\Brayan\\\\rostro_358.jpg', 0),\n",
       " ('data\\\\train\\\\Brayan\\\\rostro_36.jpg', 0),\n",
       " ('data\\\\train\\\\Brayan\\\\rostro_361.jpg', 0),\n",
       " ('data\\\\train\\\\Brayan\\\\rostro_362.jpg', 0),\n",
       " ('data\\\\train\\\\Brayan\\\\rostro_364.jpg', 0),\n",
       " ('data\\\\train\\\\Brayan\\\\rostro_365.jpg', 0),\n",
       " ('data\\\\train\\\\Brayan\\\\rostro_366.jpg', 0),\n",
       " ('data\\\\train\\\\Brayan\\\\rostro_367.jpg', 0),\n",
       " ('data\\\\train\\\\Brayan\\\\rostro_368.jpg', 0),\n",
       " ('data\\\\train\\\\Brayan\\\\rostro_371.jpg', 0),\n",
       " ('data\\\\train\\\\Brayan\\\\rostro_372.jpg', 0),\n",
       " ('data\\\\train\\\\Brayan\\\\rostro_374.jpg', 0),\n",
       " ('data\\\\train\\\\Brayan\\\\rostro_375.jpg', 0),\n",
       " ('data\\\\train\\\\Brayan\\\\rostro_379.jpg', 0),\n",
       " ('data\\\\train\\\\Brayan\\\\rostro_38.jpg', 0),\n",
       " ('data\\\\train\\\\Brayan\\\\rostro_380.jpg', 0),\n",
       " ('data\\\\train\\\\Brayan\\\\rostro_381.jpg', 0),\n",
       " ('data\\\\train\\\\Brayan\\\\rostro_382.jpg', 0),\n",
       " ('data\\\\train\\\\Brayan\\\\rostro_383.jpg', 0),\n",
       " ('data\\\\train\\\\Brayan\\\\rostro_384.jpg', 0),\n",
       " ('data\\\\train\\\\Brayan\\\\rostro_386.jpg', 0),\n",
       " ('data\\\\train\\\\Brayan\\\\rostro_387.jpg', 0),\n",
       " ('data\\\\train\\\\Brayan\\\\rostro_389.jpg', 0),\n",
       " ('data\\\\train\\\\Brayan\\\\rostro_392.jpg', 0),\n",
       " ('data\\\\train\\\\Brayan\\\\rostro_393.jpg', 0),\n",
       " ('data\\\\train\\\\Brayan\\\\rostro_394.jpg', 0),\n",
       " ('data\\\\train\\\\Brayan\\\\rostro_395.jpg', 0),\n",
       " ('data\\\\train\\\\Brayan\\\\rostro_396.jpg', 0),\n",
       " ('data\\\\train\\\\Brayan\\\\rostro_397.jpg', 0),\n",
       " ('data\\\\train\\\\Brayan\\\\rostro_400.jpg', 0),\n",
       " ('data\\\\train\\\\Brayan\\\\rostro_402.jpg', 0),\n",
       " ('data\\\\train\\\\Brayan\\\\rostro_403.jpg', 0),\n",
       " ('data\\\\train\\\\Brayan\\\\rostro_404.jpg', 0),\n",
       " ('data\\\\train\\\\Brayan\\\\rostro_405.jpg', 0),\n",
       " ('data\\\\train\\\\Brayan\\\\rostro_409.jpg', 0),\n",
       " ('data\\\\train\\\\Brayan\\\\rostro_41.jpg', 0),\n",
       " ('data\\\\train\\\\Brayan\\\\rostro_410.jpg', 0),\n",
       " ('data\\\\train\\\\Brayan\\\\rostro_411.jpg', 0),\n",
       " ('data\\\\train\\\\Brayan\\\\rostro_412.jpg', 0),\n",
       " ('data\\\\train\\\\Brayan\\\\rostro_416.jpg', 0),\n",
       " ('data\\\\train\\\\Brayan\\\\rostro_417.jpg', 0),\n",
       " ('data\\\\train\\\\Brayan\\\\rostro_418.jpg', 0),\n",
       " ('data\\\\train\\\\Brayan\\\\rostro_419.jpg', 0),\n",
       " ('data\\\\train\\\\Brayan\\\\rostro_422.jpg', 0),\n",
       " ('data\\\\train\\\\Brayan\\\\rostro_423.jpg', 0),\n",
       " ('data\\\\train\\\\Brayan\\\\rostro_424.jpg', 0),\n",
       " ('data\\\\train\\\\Brayan\\\\rostro_425.jpg', 0),\n",
       " ('data\\\\train\\\\Brayan\\\\rostro_426.jpg', 0),\n",
       " ('data\\\\train\\\\Brayan\\\\rostro_428.jpg', 0),\n",
       " ('data\\\\train\\\\Brayan\\\\rostro_429.jpg', 0),\n",
       " ('data\\\\train\\\\Brayan\\\\rostro_43.jpg', 0),\n",
       " ('data\\\\train\\\\Brayan\\\\rostro_431.jpg', 0),\n",
       " ('data\\\\train\\\\Brayan\\\\rostro_432.jpg', 0),\n",
       " ('data\\\\train\\\\Brayan\\\\rostro_434.jpg', 0),\n",
       " ('data\\\\train\\\\Brayan\\\\rostro_435.jpg', 0),\n",
       " ('data\\\\train\\\\Brayan\\\\rostro_437.jpg', 0),\n",
       " ('data\\\\train\\\\Brayan\\\\rostro_441.jpg', 0),\n",
       " ('data\\\\train\\\\Brayan\\\\rostro_442.jpg', 0),\n",
       " ('data\\\\train\\\\Brayan\\\\rostro_443.jpg', 0),\n",
       " ('data\\\\train\\\\Brayan\\\\rostro_444.jpg', 0),\n",
       " ('data\\\\train\\\\Brayan\\\\rostro_446.jpg', 0),\n",
       " ('data\\\\train\\\\Brayan\\\\rostro_448.jpg', 0),\n",
       " ('data\\\\train\\\\Brayan\\\\rostro_449.jpg', 0),\n",
       " ('data\\\\train\\\\Brayan\\\\rostro_450.jpg', 0),\n",
       " ('data\\\\train\\\\Brayan\\\\rostro_451.jpg', 0),\n",
       " ('data\\\\train\\\\Brayan\\\\rostro_452.jpg', 0),\n",
       " ('data\\\\train\\\\Brayan\\\\rostro_454.jpg', 0),\n",
       " ('data\\\\train\\\\Brayan\\\\rostro_455.jpg', 0),\n",
       " ('data\\\\train\\\\Brayan\\\\rostro_456.jpg', 0),\n",
       " ('data\\\\train\\\\Brayan\\\\rostro_459.jpg', 0),\n",
       " ('data\\\\train\\\\Brayan\\\\rostro_46.jpg', 0),\n",
       " ('data\\\\train\\\\Brayan\\\\rostro_460.jpg', 0),\n",
       " ('data\\\\train\\\\Brayan\\\\rostro_462.jpg', 0),\n",
       " ('data\\\\train\\\\Brayan\\\\rostro_463.jpg', 0),\n",
       " ('data\\\\train\\\\Brayan\\\\rostro_465.jpg', 0),\n",
       " ('data\\\\train\\\\Brayan\\\\rostro_467.jpg', 0),\n",
       " ('data\\\\train\\\\Brayan\\\\rostro_469.jpg', 0),\n",
       " ('data\\\\train\\\\Brayan\\\\rostro_470.jpg', 0),\n",
       " ('data\\\\train\\\\Brayan\\\\rostro_471.jpg', 0),\n",
       " ('data\\\\train\\\\Brayan\\\\rostro_472.jpg', 0),\n",
       " ('data\\\\train\\\\Brayan\\\\rostro_475.jpg', 0),\n",
       " ('data\\\\train\\\\Brayan\\\\rostro_477.jpg', 0),\n",
       " ('data\\\\train\\\\Brayan\\\\rostro_478.jpg', 0),\n",
       " ('data\\\\train\\\\Brayan\\\\rostro_48.jpg', 0),\n",
       " ('data\\\\train\\\\Brayan\\\\rostro_480.jpg', 0),\n",
       " ('data\\\\train\\\\Brayan\\\\rostro_481.jpg', 0),\n",
       " ('data\\\\train\\\\Brayan\\\\rostro_482.jpg', 0),\n",
       " ('data\\\\train\\\\Brayan\\\\rostro_484.jpg', 0),\n",
       " ('data\\\\train\\\\Brayan\\\\rostro_486.jpg', 0),\n",
       " ('data\\\\train\\\\Brayan\\\\rostro_487.jpg', 0),\n",
       " ('data\\\\train\\\\Brayan\\\\rostro_49.jpg', 0),\n",
       " ('data\\\\train\\\\Brayan\\\\rostro_490.jpg', 0),\n",
       " ('data\\\\train\\\\Brayan\\\\rostro_491.jpg', 0),\n",
       " ('data\\\\train\\\\Brayan\\\\rostro_492.jpg', 0),\n",
       " ('data\\\\train\\\\Brayan\\\\rostro_495.jpg', 0),\n",
       " ('data\\\\train\\\\Brayan\\\\rostro_496.jpg', 0),\n",
       " ('data\\\\train\\\\Brayan\\\\rostro_497.jpg', 0),\n",
       " ('data\\\\train\\\\Brayan\\\\rostro_499.jpg', 0),\n",
       " ('data\\\\train\\\\Brayan\\\\rostro_5.jpg', 0),\n",
       " ('data\\\\train\\\\Brayan\\\\rostro_50.jpg', 0),\n",
       " ('data\\\\train\\\\Brayan\\\\rostro_51.jpg', 0),\n",
       " ('data\\\\train\\\\Brayan\\\\rostro_52.jpg', 0),\n",
       " ('data\\\\train\\\\Brayan\\\\rostro_53.jpg', 0),\n",
       " ('data\\\\train\\\\Brayan\\\\rostro_54.jpg', 0),\n",
       " ('data\\\\train\\\\Brayan\\\\rostro_55.jpg', 0),\n",
       " ('data\\\\train\\\\Brayan\\\\rostro_56.jpg', 0),\n",
       " ('data\\\\train\\\\Brayan\\\\rostro_58.jpg', 0),\n",
       " ('data\\\\train\\\\Brayan\\\\rostro_6.jpg', 0),\n",
       " ('data\\\\train\\\\Brayan\\\\rostro_60.jpg', 0),\n",
       " ('data\\\\train\\\\Brayan\\\\rostro_62.jpg', 0),\n",
       " ('data\\\\train\\\\Brayan\\\\rostro_63.jpg', 0),\n",
       " ('data\\\\train\\\\Brayan\\\\rostro_64.jpg', 0),\n",
       " ('data\\\\train\\\\Brayan\\\\rostro_66.jpg', 0),\n",
       " ('data\\\\train\\\\Brayan\\\\rostro_69.jpg', 0),\n",
       " ('data\\\\train\\\\Brayan\\\\rostro_7.jpg', 0),\n",
       " ('data\\\\train\\\\Brayan\\\\rostro_71.jpg', 0),\n",
       " ('data\\\\train\\\\Brayan\\\\rostro_73.jpg', 0),\n",
       " ('data\\\\train\\\\Brayan\\\\rostro_77.jpg', 0),\n",
       " ('data\\\\train\\\\Brayan\\\\rostro_79.jpg', 0),\n",
       " ('data\\\\train\\\\Brayan\\\\rostro_81.jpg', 0),\n",
       " ('data\\\\train\\\\Brayan\\\\rostro_82.jpg', 0),\n",
       " ('data\\\\train\\\\Brayan\\\\rostro_83.jpg', 0),\n",
       " ('data\\\\train\\\\Brayan\\\\rostro_84.jpg', 0),\n",
       " ('data\\\\train\\\\Brayan\\\\rostro_85.jpg', 0),\n",
       " ('data\\\\train\\\\Brayan\\\\rostro_86.jpg', 0),\n",
       " ('data\\\\train\\\\Brayan\\\\rostro_9.jpg', 0),\n",
       " ('data\\\\train\\\\Brayan\\\\rostro_91.jpg', 0),\n",
       " ('data\\\\train\\\\Brayan\\\\rostro_94.jpg', 0),\n",
       " ('data\\\\train\\\\Brayan\\\\rostro_95.jpg', 0),\n",
       " ('data\\\\train\\\\Brayan\\\\rostro_96.jpg', 0),\n",
       " ('data\\\\train\\\\Brayan\\\\rostro_97.jpg', 0),\n",
       " ('data\\\\train\\\\Brayan\\\\rostro_98.jpg', 0),\n",
       " ('data\\\\train\\\\Brayan\\\\rostro_99.jpg', 0),\n",
       " ('data\\\\train\\\\Carlos_Cruz\\\\a_rostro_103.jpg', 1),\n",
       " ('data\\\\train\\\\Carlos_Cruz\\\\a_rostro_106.jpg', 1),\n",
       " ('data\\\\train\\\\Carlos_Cruz\\\\a_rostro_118.jpg', 1),\n",
       " ('data\\\\train\\\\Carlos_Cruz\\\\a_rostro_123.jpg', 1),\n",
       " ('data\\\\train\\\\Carlos_Cruz\\\\a_rostro_129.jpg', 1),\n",
       " ('data\\\\train\\\\Carlos_Cruz\\\\a_rostro_134.jpg', 1),\n",
       " ('data\\\\train\\\\Carlos_Cruz\\\\a_rostro_140.jpg', 1),\n",
       " ('data\\\\train\\\\Carlos_Cruz\\\\a_rostro_146.jpg', 1),\n",
       " ('data\\\\train\\\\Carlos_Cruz\\\\a_rostro_147.jpg', 1),\n",
       " ('data\\\\train\\\\Carlos_Cruz\\\\a_rostro_15.jpg', 1),\n",
       " ('data\\\\train\\\\Carlos_Cruz\\\\a_rostro_159.jpg', 1),\n",
       " ('data\\\\train\\\\Carlos_Cruz\\\\a_rostro_168.jpg', 1),\n",
       " ('data\\\\train\\\\Carlos_Cruz\\\\a_rostro_177.jpg', 1),\n",
       " ('data\\\\train\\\\Carlos_Cruz\\\\a_rostro_179.jpg', 1),\n",
       " ('data\\\\train\\\\Carlos_Cruz\\\\a_rostro_180.jpg', 1),\n",
       " ('data\\\\train\\\\Carlos_Cruz\\\\a_rostro_184.jpg', 1),\n",
       " ('data\\\\train\\\\Carlos_Cruz\\\\a_rostro_187.jpg', 1),\n",
       " ('data\\\\train\\\\Carlos_Cruz\\\\a_rostro_19.jpg', 1),\n",
       " ('data\\\\train\\\\Carlos_Cruz\\\\a_rostro_197.jpg', 1),\n",
       " ('data\\\\train\\\\Carlos_Cruz\\\\a_rostro_203.jpg', 1),\n",
       " ('data\\\\train\\\\Carlos_Cruz\\\\a_rostro_215.jpg', 1),\n",
       " ('data\\\\train\\\\Carlos_Cruz\\\\a_rostro_219.jpg', 1),\n",
       " ('data\\\\train\\\\Carlos_Cruz\\\\a_rostro_228.jpg', 1),\n",
       " ('data\\\\train\\\\Carlos_Cruz\\\\a_rostro_234.jpg', 1),\n",
       " ('data\\\\train\\\\Carlos_Cruz\\\\a_rostro_236.jpg', 1),\n",
       " ('data\\\\train\\\\Carlos_Cruz\\\\a_rostro_242.jpg', 1),\n",
       " ('data\\\\train\\\\Carlos_Cruz\\\\a_rostro_25.jpg', 1),\n",
       " ('data\\\\train\\\\Carlos_Cruz\\\\a_rostro_250.jpg', 1),\n",
       " ('data\\\\train\\\\Carlos_Cruz\\\\a_rostro_274.jpg', 1),\n",
       " ('data\\\\train\\\\Carlos_Cruz\\\\a_rostro_282.jpg', 1),\n",
       " ('data\\\\train\\\\Carlos_Cruz\\\\a_rostro_290.jpg', 1),\n",
       " ('data\\\\train\\\\Carlos_Cruz\\\\a_rostro_301.jpg', 1),\n",
       " ('data\\\\train\\\\Carlos_Cruz\\\\a_rostro_304.jpg', 1),\n",
       " ('data\\\\train\\\\Carlos_Cruz\\\\a_rostro_315.jpg', 1),\n",
       " ('data\\\\train\\\\Carlos_Cruz\\\\a_rostro_321.jpg', 1),\n",
       " ('data\\\\train\\\\Carlos_Cruz\\\\a_rostro_33.jpg', 1),\n",
       " ('data\\\\train\\\\Carlos_Cruz\\\\a_rostro_332.jpg', 1),\n",
       " ('data\\\\train\\\\Carlos_Cruz\\\\a_rostro_336.jpg', 1),\n",
       " ('data\\\\train\\\\Carlos_Cruz\\\\a_rostro_337.jpg', 1),\n",
       " ('data\\\\train\\\\Carlos_Cruz\\\\a_rostro_35.jpg', 1),\n",
       " ('data\\\\train\\\\Carlos_Cruz\\\\a_rostro_357.jpg', 1),\n",
       " ('data\\\\train\\\\Carlos_Cruz\\\\a_rostro_359.jpg', 1),\n",
       " ('data\\\\train\\\\Carlos_Cruz\\\\a_rostro_361.jpg', 1),\n",
       " ('data\\\\train\\\\Carlos_Cruz\\\\a_rostro_368.jpg', 1),\n",
       " ('data\\\\train\\\\Carlos_Cruz\\\\a_rostro_37.jpg', 1),\n",
       " ('data\\\\train\\\\Carlos_Cruz\\\\a_rostro_371.jpg', 1),\n",
       " ('data\\\\train\\\\Carlos_Cruz\\\\a_rostro_375.jpg', 1),\n",
       " ('data\\\\train\\\\Carlos_Cruz\\\\a_rostro_38.jpg', 1),\n",
       " ('data\\\\train\\\\Carlos_Cruz\\\\a_rostro_380.jpg', 1),\n",
       " ('data\\\\train\\\\Carlos_Cruz\\\\a_rostro_383.jpg', 1),\n",
       " ('data\\\\train\\\\Carlos_Cruz\\\\a_rostro_401.jpg', 1),\n",
       " ('data\\\\train\\\\Carlos_Cruz\\\\a_rostro_405.jpg', 1),\n",
       " ('data\\\\train\\\\Carlos_Cruz\\\\a_rostro_422.jpg', 1),\n",
       " ('data\\\\train\\\\Carlos_Cruz\\\\a_rostro_426.jpg', 1),\n",
       " ('data\\\\train\\\\Carlos_Cruz\\\\a_rostro_446.jpg', 1),\n",
       " ('data\\\\train\\\\Carlos_Cruz\\\\a_rostro_447.jpg', 1),\n",
       " ('data\\\\train\\\\Carlos_Cruz\\\\a_rostro_452.jpg', 1),\n",
       " ('data\\\\train\\\\Carlos_Cruz\\\\a_rostro_467.jpg', 1),\n",
       " ('data\\\\train\\\\Carlos_Cruz\\\\a_rostro_468.jpg', 1),\n",
       " ('data\\\\train\\\\Carlos_Cruz\\\\a_rostro_474.jpg', 1),\n",
       " ('data\\\\train\\\\Carlos_Cruz\\\\a_rostro_477.jpg', 1),\n",
       " ('data\\\\train\\\\Carlos_Cruz\\\\a_rostro_484.jpg', 1),\n",
       " ('data\\\\train\\\\Carlos_Cruz\\\\a_rostro_486.jpg', 1),\n",
       " ('data\\\\train\\\\Carlos_Cruz\\\\a_rostro_494.jpg', 1),\n",
       " ('data\\\\train\\\\Carlos_Cruz\\\\a_rostro_53.jpg', 1),\n",
       " ('data\\\\train\\\\Carlos_Cruz\\\\a_rostro_6.jpg', 1),\n",
       " ('data\\\\train\\\\Carlos_Cruz\\\\a_rostro_60.jpg', 1),\n",
       " ('data\\\\train\\\\Carlos_Cruz\\\\a_rostro_83.jpg', 1),\n",
       " ('data\\\\train\\\\Carlos_Cruz\\\\a_rostro_84.jpg', 1),\n",
       " ('data\\\\train\\\\Carlos_Cruz\\\\a_rostro_86.jpg', 1),\n",
       " ('data\\\\train\\\\Carlos_Cruz\\\\rostro_0.jpg', 1),\n",
       " ('data\\\\train\\\\Carlos_Cruz\\\\rostro_102.jpg', 1),\n",
       " ('data\\\\train\\\\Carlos_Cruz\\\\rostro_103.jpg', 1),\n",
       " ('data\\\\train\\\\Carlos_Cruz\\\\rostro_105.jpg', 1),\n",
       " ('data\\\\train\\\\Carlos_Cruz\\\\rostro_106.jpg', 1),\n",
       " ('data\\\\train\\\\Carlos_Cruz\\\\rostro_108.jpg', 1),\n",
       " ('data\\\\train\\\\Carlos_Cruz\\\\rostro_109.jpg', 1),\n",
       " ('data\\\\train\\\\Carlos_Cruz\\\\rostro_11.jpg', 1),\n",
       " ('data\\\\train\\\\Carlos_Cruz\\\\rostro_110.jpg', 1),\n",
       " ('data\\\\train\\\\Carlos_Cruz\\\\rostro_112.jpg', 1),\n",
       " ('data\\\\train\\\\Carlos_Cruz\\\\rostro_113.jpg', 1),\n",
       " ('data\\\\train\\\\Carlos_Cruz\\\\rostro_115.jpg', 1),\n",
       " ('data\\\\train\\\\Carlos_Cruz\\\\rostro_116.jpg', 1),\n",
       " ('data\\\\train\\\\Carlos_Cruz\\\\rostro_117.jpg', 1),\n",
       " ('data\\\\train\\\\Carlos_Cruz\\\\rostro_118.jpg', 1),\n",
       " ('data\\\\train\\\\Carlos_Cruz\\\\rostro_120.jpg', 1),\n",
       " ('data\\\\train\\\\Carlos_Cruz\\\\rostro_121.jpg', 1),\n",
       " ('data\\\\train\\\\Carlos_Cruz\\\\rostro_122.jpg', 1),\n",
       " ('data\\\\train\\\\Carlos_Cruz\\\\rostro_123.jpg', 1),\n",
       " ('data\\\\train\\\\Carlos_Cruz\\\\rostro_128.jpg', 1),\n",
       " ('data\\\\train\\\\Carlos_Cruz\\\\rostro_129.jpg', 1),\n",
       " ('data\\\\train\\\\Carlos_Cruz\\\\rostro_13.jpg', 1),\n",
       " ('data\\\\train\\\\Carlos_Cruz\\\\rostro_132.jpg', 1),\n",
       " ('data\\\\train\\\\Carlos_Cruz\\\\rostro_133.jpg', 1),\n",
       " ('data\\\\train\\\\Carlos_Cruz\\\\rostro_134.jpg', 1),\n",
       " ('data\\\\train\\\\Carlos_Cruz\\\\rostro_135.jpg', 1),\n",
       " ('data\\\\train\\\\Carlos_Cruz\\\\rostro_137.jpg', 1),\n",
       " ('data\\\\train\\\\Carlos_Cruz\\\\rostro_138.jpg', 1),\n",
       " ('data\\\\train\\\\Carlos_Cruz\\\\rostro_139.jpg', 1),\n",
       " ('data\\\\train\\\\Carlos_Cruz\\\\rostro_14.jpg', 1),\n",
       " ('data\\\\train\\\\Carlos_Cruz\\\\rostro_140.jpg', 1),\n",
       " ('data\\\\train\\\\Carlos_Cruz\\\\rostro_142.jpg', 1),\n",
       " ('data\\\\train\\\\Carlos_Cruz\\\\rostro_143.jpg', 1),\n",
       " ('data\\\\train\\\\Carlos_Cruz\\\\rostro_146.jpg', 1),\n",
       " ('data\\\\train\\\\Carlos_Cruz\\\\rostro_147.jpg', 1),\n",
       " ('data\\\\train\\\\Carlos_Cruz\\\\rostro_149.jpg', 1),\n",
       " ('data\\\\train\\\\Carlos_Cruz\\\\rostro_15.jpg', 1),\n",
       " ('data\\\\train\\\\Carlos_Cruz\\\\rostro_150.jpg', 1),\n",
       " ('data\\\\train\\\\Carlos_Cruz\\\\rostro_151.jpg', 1),\n",
       " ('data\\\\train\\\\Carlos_Cruz\\\\rostro_152.jpg', 1),\n",
       " ('data\\\\train\\\\Carlos_Cruz\\\\rostro_154.jpg', 1),\n",
       " ('data\\\\train\\\\Carlos_Cruz\\\\rostro_156.jpg', 1),\n",
       " ('data\\\\train\\\\Carlos_Cruz\\\\rostro_159.jpg', 1),\n",
       " ('data\\\\train\\\\Carlos_Cruz\\\\rostro_163.jpg', 1),\n",
       " ('data\\\\train\\\\Carlos_Cruz\\\\rostro_165.jpg', 1),\n",
       " ('data\\\\train\\\\Carlos_Cruz\\\\rostro_167.jpg', 1),\n",
       " ('data\\\\train\\\\Carlos_Cruz\\\\rostro_168.jpg', 1),\n",
       " ('data\\\\train\\\\Carlos_Cruz\\\\rostro_169.jpg', 1),\n",
       " ('data\\\\train\\\\Carlos_Cruz\\\\rostro_17.jpg', 1),\n",
       " ('data\\\\train\\\\Carlos_Cruz\\\\rostro_171.jpg', 1),\n",
       " ('data\\\\train\\\\Carlos_Cruz\\\\rostro_172.jpg', 1),\n",
       " ('data\\\\train\\\\Carlos_Cruz\\\\rostro_174.jpg', 1),\n",
       " ('data\\\\train\\\\Carlos_Cruz\\\\rostro_175.jpg', 1),\n",
       " ('data\\\\train\\\\Carlos_Cruz\\\\rostro_176.jpg', 1),\n",
       " ('data\\\\train\\\\Carlos_Cruz\\\\rostro_177.jpg', 1),\n",
       " ('data\\\\train\\\\Carlos_Cruz\\\\rostro_178.jpg', 1),\n",
       " ('data\\\\train\\\\Carlos_Cruz\\\\rostro_179.jpg', 1),\n",
       " ('data\\\\train\\\\Carlos_Cruz\\\\rostro_18.jpg', 1),\n",
       " ('data\\\\train\\\\Carlos_Cruz\\\\rostro_180.jpg', 1),\n",
       " ('data\\\\train\\\\Carlos_Cruz\\\\rostro_181.jpg', 1),\n",
       " ('data\\\\train\\\\Carlos_Cruz\\\\rostro_183.jpg', 1),\n",
       " ('data\\\\train\\\\Carlos_Cruz\\\\rostro_184.jpg', 1),\n",
       " ('data\\\\train\\\\Carlos_Cruz\\\\rostro_185.jpg', 1),\n",
       " ('data\\\\train\\\\Carlos_Cruz\\\\rostro_186.jpg', 1),\n",
       " ('data\\\\train\\\\Carlos_Cruz\\\\rostro_187.jpg', 1),\n",
       " ('data\\\\train\\\\Carlos_Cruz\\\\rostro_19.jpg', 1),\n",
       " ('data\\\\train\\\\Carlos_Cruz\\\\rostro_190.jpg', 1),\n",
       " ('data\\\\train\\\\Carlos_Cruz\\\\rostro_192.jpg', 1),\n",
       " ('data\\\\train\\\\Carlos_Cruz\\\\rostro_197.jpg', 1),\n",
       " ('data\\\\train\\\\Carlos_Cruz\\\\rostro_198.jpg', 1),\n",
       " ('data\\\\train\\\\Carlos_Cruz\\\\rostro_199.jpg', 1),\n",
       " ('data\\\\train\\\\Carlos_Cruz\\\\rostro_2.jpg', 1),\n",
       " ('data\\\\train\\\\Carlos_Cruz\\\\rostro_20.jpg', 1),\n",
       " ('data\\\\train\\\\Carlos_Cruz\\\\rostro_202.jpg', 1),\n",
       " ('data\\\\train\\\\Carlos_Cruz\\\\rostro_203.jpg', 1),\n",
       " ('data\\\\train\\\\Carlos_Cruz\\\\rostro_204.jpg', 1),\n",
       " ('data\\\\train\\\\Carlos_Cruz\\\\rostro_205.jpg', 1),\n",
       " ('data\\\\train\\\\Carlos_Cruz\\\\rostro_208.jpg', 1),\n",
       " ('data\\\\train\\\\Carlos_Cruz\\\\rostro_209.jpg', 1),\n",
       " ('data\\\\train\\\\Carlos_Cruz\\\\rostro_210.jpg', 1),\n",
       " ('data\\\\train\\\\Carlos_Cruz\\\\rostro_211.jpg', 1),\n",
       " ('data\\\\train\\\\Carlos_Cruz\\\\rostro_214.jpg', 1),\n",
       " ('data\\\\train\\\\Carlos_Cruz\\\\rostro_215.jpg', 1),\n",
       " ('data\\\\train\\\\Carlos_Cruz\\\\rostro_216.jpg', 1),\n",
       " ('data\\\\train\\\\Carlos_Cruz\\\\rostro_217.jpg', 1),\n",
       " ('data\\\\train\\\\Carlos_Cruz\\\\rostro_219.jpg', 1),\n",
       " ('data\\\\train\\\\Carlos_Cruz\\\\rostro_22.jpg', 1),\n",
       " ('data\\\\train\\\\Carlos_Cruz\\\\rostro_220.jpg', 1),\n",
       " ('data\\\\train\\\\Carlos_Cruz\\\\rostro_224.jpg', 1),\n",
       " ('data\\\\train\\\\Carlos_Cruz\\\\rostro_226.jpg', 1),\n",
       " ('data\\\\train\\\\Carlos_Cruz\\\\rostro_228.jpg', 1),\n",
       " ('data\\\\train\\\\Carlos_Cruz\\\\rostro_229.jpg', 1),\n",
       " ('data\\\\train\\\\Carlos_Cruz\\\\rostro_23.jpg', 1),\n",
       " ('data\\\\train\\\\Carlos_Cruz\\\\rostro_230.jpg', 1),\n",
       " ('data\\\\train\\\\Carlos_Cruz\\\\rostro_231.jpg', 1),\n",
       " ('data\\\\train\\\\Carlos_Cruz\\\\rostro_233.jpg', 1),\n",
       " ('data\\\\train\\\\Carlos_Cruz\\\\rostro_234.jpg', 1),\n",
       " ('data\\\\train\\\\Carlos_Cruz\\\\rostro_235.jpg', 1),\n",
       " ('data\\\\train\\\\Carlos_Cruz\\\\rostro_236.jpg', 1),\n",
       " ('data\\\\train\\\\Carlos_Cruz\\\\rostro_237.jpg', 1),\n",
       " ('data\\\\train\\\\Carlos_Cruz\\\\rostro_239.jpg', 1),\n",
       " ('data\\\\train\\\\Carlos_Cruz\\\\rostro_24.jpg', 1),\n",
       " ('data\\\\train\\\\Carlos_Cruz\\\\rostro_240.jpg', 1),\n",
       " ('data\\\\train\\\\Carlos_Cruz\\\\rostro_241.jpg', 1),\n",
       " ('data\\\\train\\\\Carlos_Cruz\\\\rostro_242.jpg', 1),\n",
       " ('data\\\\train\\\\Carlos_Cruz\\\\rostro_243.jpg', 1),\n",
       " ('data\\\\train\\\\Carlos_Cruz\\\\rostro_245.jpg', 1),\n",
       " ('data\\\\train\\\\Carlos_Cruz\\\\rostro_246.jpg', 1),\n",
       " ('data\\\\train\\\\Carlos_Cruz\\\\rostro_249.jpg', 1),\n",
       " ('data\\\\train\\\\Carlos_Cruz\\\\rostro_25.jpg', 1),\n",
       " ('data\\\\train\\\\Carlos_Cruz\\\\rostro_250.jpg', 1),\n",
       " ('data\\\\train\\\\Carlos_Cruz\\\\rostro_251.jpg', 1),\n",
       " ('data\\\\train\\\\Carlos_Cruz\\\\rostro_253.jpg', 1),\n",
       " ('data\\\\train\\\\Carlos_Cruz\\\\rostro_256.jpg', 1),\n",
       " ('data\\\\train\\\\Carlos_Cruz\\\\rostro_257.jpg', 1),\n",
       " ('data\\\\train\\\\Carlos_Cruz\\\\rostro_258.jpg', 1),\n",
       " ('data\\\\train\\\\Carlos_Cruz\\\\rostro_259.jpg', 1),\n",
       " ('data\\\\train\\\\Carlos_Cruz\\\\rostro_260.jpg', 1),\n",
       " ('data\\\\train\\\\Carlos_Cruz\\\\rostro_262.jpg', 1),\n",
       " ('data\\\\train\\\\Carlos_Cruz\\\\rostro_263.jpg', 1),\n",
       " ('data\\\\train\\\\Carlos_Cruz\\\\rostro_264.jpg', 1),\n",
       " ('data\\\\train\\\\Carlos_Cruz\\\\rostro_265.jpg', 1),\n",
       " ('data\\\\train\\\\Carlos_Cruz\\\\rostro_267.jpg', 1),\n",
       " ('data\\\\train\\\\Carlos_Cruz\\\\rostro_268.jpg', 1),\n",
       " ('data\\\\train\\\\Carlos_Cruz\\\\rostro_269.jpg', 1),\n",
       " ('data\\\\train\\\\Carlos_Cruz\\\\rostro_270.jpg', 1),\n",
       " ('data\\\\train\\\\Carlos_Cruz\\\\rostro_271.jpg', 1),\n",
       " ('data\\\\train\\\\Carlos_Cruz\\\\rostro_272.jpg', 1),\n",
       " ('data\\\\train\\\\Carlos_Cruz\\\\rostro_274.jpg', 1),\n",
       " ('data\\\\train\\\\Carlos_Cruz\\\\rostro_276.jpg', 1),\n",
       " ('data\\\\train\\\\Carlos_Cruz\\\\rostro_278.jpg', 1),\n",
       " ('data\\\\train\\\\Carlos_Cruz\\\\rostro_279.jpg', 1),\n",
       " ('data\\\\train\\\\Carlos_Cruz\\\\rostro_280.jpg', 1),\n",
       " ('data\\\\train\\\\Carlos_Cruz\\\\rostro_282.jpg', 1),\n",
       " ('data\\\\train\\\\Carlos_Cruz\\\\rostro_286.jpg', 1),\n",
       " ('data\\\\train\\\\Carlos_Cruz\\\\rostro_287.jpg', 1),\n",
       " ('data\\\\train\\\\Carlos_Cruz\\\\rostro_288.jpg', 1),\n",
       " ('data\\\\train\\\\Carlos_Cruz\\\\rostro_289.jpg', 1),\n",
       " ('data\\\\train\\\\Carlos_Cruz\\\\rostro_290.jpg', 1),\n",
       " ('data\\\\train\\\\Carlos_Cruz\\\\rostro_291.jpg', 1),\n",
       " ('data\\\\train\\\\Carlos_Cruz\\\\rostro_292.jpg', 1),\n",
       " ('data\\\\train\\\\Carlos_Cruz\\\\rostro_293.jpg', 1),\n",
       " ('data\\\\train\\\\Carlos_Cruz\\\\rostro_295.jpg', 1),\n",
       " ('data\\\\train\\\\Carlos_Cruz\\\\rostro_296.jpg', 1),\n",
       " ('data\\\\train\\\\Carlos_Cruz\\\\rostro_298.jpg', 1),\n",
       " ('data\\\\train\\\\Carlos_Cruz\\\\rostro_299.jpg', 1),\n",
       " ('data\\\\train\\\\Carlos_Cruz\\\\rostro_3.jpg', 1),\n",
       " ('data\\\\train\\\\Carlos_Cruz\\\\rostro_30.jpg', 1),\n",
       " ('data\\\\train\\\\Carlos_Cruz\\\\rostro_301.jpg', 1),\n",
       " ('data\\\\train\\\\Carlos_Cruz\\\\rostro_304.jpg', 1),\n",
       " ('data\\\\train\\\\Carlos_Cruz\\\\rostro_305.jpg', 1),\n",
       " ('data\\\\train\\\\Carlos_Cruz\\\\rostro_306.jpg', 1),\n",
       " ('data\\\\train\\\\Carlos_Cruz\\\\rostro_308.jpg', 1),\n",
       " ('data\\\\train\\\\Carlos_Cruz\\\\rostro_310.jpg', 1),\n",
       " ('data\\\\train\\\\Carlos_Cruz\\\\rostro_312.jpg', 1),\n",
       " ('data\\\\train\\\\Carlos_Cruz\\\\rostro_313.jpg', 1),\n",
       " ('data\\\\train\\\\Carlos_Cruz\\\\rostro_314.jpg', 1),\n",
       " ('data\\\\train\\\\Carlos_Cruz\\\\rostro_315.jpg', 1),\n",
       " ('data\\\\train\\\\Carlos_Cruz\\\\rostro_316.jpg', 1),\n",
       " ('data\\\\train\\\\Carlos_Cruz\\\\rostro_318.jpg', 1),\n",
       " ('data\\\\train\\\\Carlos_Cruz\\\\rostro_319.jpg', 1),\n",
       " ('data\\\\train\\\\Carlos_Cruz\\\\rostro_321.jpg', 1),\n",
       " ('data\\\\train\\\\Carlos_Cruz\\\\rostro_326.jpg', 1),\n",
       " ('data\\\\train\\\\Carlos_Cruz\\\\rostro_329.jpg', 1),\n",
       " ('data\\\\train\\\\Carlos_Cruz\\\\rostro_33.jpg', 1),\n",
       " ('data\\\\train\\\\Carlos_Cruz\\\\rostro_330.jpg', 1),\n",
       " ('data\\\\train\\\\Carlos_Cruz\\\\rostro_331.jpg', 1),\n",
       " ('data\\\\train\\\\Carlos_Cruz\\\\rostro_332.jpg', 1),\n",
       " ('data\\\\train\\\\Carlos_Cruz\\\\rostro_333.jpg', 1),\n",
       " ('data\\\\train\\\\Carlos_Cruz\\\\rostro_335.jpg', 1),\n",
       " ('data\\\\train\\\\Carlos_Cruz\\\\rostro_336.jpg', 1),\n",
       " ('data\\\\train\\\\Carlos_Cruz\\\\rostro_337.jpg', 1),\n",
       " ('data\\\\train\\\\Carlos_Cruz\\\\rostro_338.jpg', 1),\n",
       " ('data\\\\train\\\\Carlos_Cruz\\\\rostro_339.jpg', 1),\n",
       " ('data\\\\train\\\\Carlos_Cruz\\\\rostro_34.jpg', 1),\n",
       " ('data\\\\train\\\\Carlos_Cruz\\\\rostro_340.jpg', 1),\n",
       " ('data\\\\train\\\\Carlos_Cruz\\\\rostro_341.jpg', 1),\n",
       " ('data\\\\train\\\\Carlos_Cruz\\\\rostro_343.jpg', 1),\n",
       " ('data\\\\train\\\\Carlos_Cruz\\\\rostro_344.jpg', 1),\n",
       " ('data\\\\train\\\\Carlos_Cruz\\\\rostro_346.jpg', 1),\n",
       " ('data\\\\train\\\\Carlos_Cruz\\\\rostro_347.jpg', 1),\n",
       " ('data\\\\train\\\\Carlos_Cruz\\\\rostro_348.jpg', 1),\n",
       " ('data\\\\train\\\\Carlos_Cruz\\\\rostro_35.jpg', 1),\n",
       " ('data\\\\train\\\\Carlos_Cruz\\\\rostro_351.jpg', 1),\n",
       " ('data\\\\train\\\\Carlos_Cruz\\\\rostro_352.jpg', 1),\n",
       " ('data\\\\train\\\\Carlos_Cruz\\\\rostro_353.jpg', 1),\n",
       " ('data\\\\train\\\\Carlos_Cruz\\\\rostro_354.jpg', 1),\n",
       " ('data\\\\train\\\\Carlos_Cruz\\\\rostro_356.jpg', 1),\n",
       " ('data\\\\train\\\\Carlos_Cruz\\\\rostro_357.jpg', 1),\n",
       " ('data\\\\train\\\\Carlos_Cruz\\\\rostro_359.jpg', 1),\n",
       " ('data\\\\train\\\\Carlos_Cruz\\\\rostro_361.jpg', 1),\n",
       " ('data\\\\train\\\\Carlos_Cruz\\\\rostro_362.jpg', 1),\n",
       " ('data\\\\train\\\\Carlos_Cruz\\\\rostro_367.jpg', 1),\n",
       " ('data\\\\train\\\\Carlos_Cruz\\\\rostro_368.jpg', 1),\n",
       " ('data\\\\train\\\\Carlos_Cruz\\\\rostro_369.jpg', 1),\n",
       " ('data\\\\train\\\\Carlos_Cruz\\\\rostro_37.jpg', 1),\n",
       " ('data\\\\train\\\\Carlos_Cruz\\\\rostro_370.jpg', 1),\n",
       " ('data\\\\train\\\\Carlos_Cruz\\\\rostro_371.jpg', 1),\n",
       " ('data\\\\train\\\\Carlos_Cruz\\\\rostro_372.jpg', 1),\n",
       " ('data\\\\train\\\\Carlos_Cruz\\\\rostro_373.jpg', 1),\n",
       " ('data\\\\train\\\\Carlos_Cruz\\\\rostro_375.jpg', 1),\n",
       " ('data\\\\train\\\\Carlos_Cruz\\\\rostro_376.jpg', 1),\n",
       " ('data\\\\train\\\\Carlos_Cruz\\\\rostro_378.jpg', 1),\n",
       " ('data\\\\train\\\\Carlos_Cruz\\\\rostro_38.jpg', 1),\n",
       " ('data\\\\train\\\\Carlos_Cruz\\\\rostro_380.jpg', 1),\n",
       " ('data\\\\train\\\\Carlos_Cruz\\\\rostro_382.jpg', 1),\n",
       " ('data\\\\train\\\\Carlos_Cruz\\\\rostro_383.jpg', 1),\n",
       " ('data\\\\train\\\\Carlos_Cruz\\\\rostro_384.jpg', 1),\n",
       " ('data\\\\train\\\\Carlos_Cruz\\\\rostro_385.jpg', 1),\n",
       " ('data\\\\train\\\\Carlos_Cruz\\\\rostro_386.jpg', 1),\n",
       " ('data\\\\train\\\\Carlos_Cruz\\\\rostro_387.jpg', 1),\n",
       " ('data\\\\train\\\\Carlos_Cruz\\\\rostro_388.jpg', 1),\n",
       " ('data\\\\train\\\\Carlos_Cruz\\\\rostro_389.jpg', 1),\n",
       " ('data\\\\train\\\\Carlos_Cruz\\\\rostro_391.jpg', 1),\n",
       " ('data\\\\train\\\\Carlos_Cruz\\\\rostro_394.jpg', 1),\n",
       " ('data\\\\train\\\\Carlos_Cruz\\\\rostro_395.jpg', 1),\n",
       " ('data\\\\train\\\\Carlos_Cruz\\\\rostro_396.jpg', 1),\n",
       " ('data\\\\train\\\\Carlos_Cruz\\\\rostro_397.jpg', 1),\n",
       " ('data\\\\train\\\\Carlos_Cruz\\\\rostro_4.jpg', 1),\n",
       " ('data\\\\train\\\\Carlos_Cruz\\\\rostro_401.jpg', 1),\n",
       " ('data\\\\train\\\\Carlos_Cruz\\\\rostro_402.jpg', 1),\n",
       " ('data\\\\train\\\\Carlos_Cruz\\\\rostro_404.jpg', 1),\n",
       " ('data\\\\train\\\\Carlos_Cruz\\\\rostro_405.jpg', 1),\n",
       " ('data\\\\train\\\\Carlos_Cruz\\\\rostro_406.jpg', 1),\n",
       " ('data\\\\train\\\\Carlos_Cruz\\\\rostro_407.jpg', 1),\n",
       " ('data\\\\train\\\\Carlos_Cruz\\\\rostro_408.jpg', 1),\n",
       " ('data\\\\train\\\\Carlos_Cruz\\\\rostro_41.jpg', 1),\n",
       " ('data\\\\train\\\\Carlos_Cruz\\\\rostro_411.jpg', 1),\n",
       " ('data\\\\train\\\\Carlos_Cruz\\\\rostro_414.jpg', 1),\n",
       " ('data\\\\train\\\\Carlos_Cruz\\\\rostro_415.jpg', 1),\n",
       " ('data\\\\train\\\\Carlos_Cruz\\\\rostro_416.jpg', 1),\n",
       " ('data\\\\train\\\\Carlos_Cruz\\\\rostro_417.jpg', 1),\n",
       " ('data\\\\train\\\\Carlos_Cruz\\\\rostro_418.jpg', 1),\n",
       " ('data\\\\train\\\\Carlos_Cruz\\\\rostro_419.jpg', 1),\n",
       " ('data\\\\train\\\\Carlos_Cruz\\\\rostro_420.jpg', 1),\n",
       " ('data\\\\train\\\\Carlos_Cruz\\\\rostro_421.jpg', 1),\n",
       " ('data\\\\train\\\\Carlos_Cruz\\\\rostro_422.jpg', 1),\n",
       " ('data\\\\train\\\\Carlos_Cruz\\\\rostro_423.jpg', 1),\n",
       " ('data\\\\train\\\\Carlos_Cruz\\\\rostro_424.jpg', 1),\n",
       " ('data\\\\train\\\\Carlos_Cruz\\\\rostro_426.jpg', 1),\n",
       " ('data\\\\train\\\\Carlos_Cruz\\\\rostro_427.jpg', 1),\n",
       " ('data\\\\train\\\\Carlos_Cruz\\\\rostro_430.jpg', 1),\n",
       " ('data\\\\train\\\\Carlos_Cruz\\\\rostro_431.jpg', 1),\n",
       " ('data\\\\train\\\\Carlos_Cruz\\\\rostro_432.jpg', 1),\n",
       " ('data\\\\train\\\\Carlos_Cruz\\\\rostro_434.jpg', 1),\n",
       " ('data\\\\train\\\\Carlos_Cruz\\\\rostro_436.jpg', 1),\n",
       " ('data\\\\train\\\\Carlos_Cruz\\\\rostro_437.jpg', 1),\n",
       " ('data\\\\train\\\\Carlos_Cruz\\\\rostro_438.jpg', 1),\n",
       " ('data\\\\train\\\\Carlos_Cruz\\\\rostro_44.jpg', 1),\n",
       " ('data\\\\train\\\\Carlos_Cruz\\\\rostro_440.jpg', 1),\n",
       " ('data\\\\train\\\\Carlos_Cruz\\\\rostro_442.jpg', 1),\n",
       " ('data\\\\train\\\\Carlos_Cruz\\\\rostro_444.jpg', 1),\n",
       " ('data\\\\train\\\\Carlos_Cruz\\\\rostro_445.jpg', 1),\n",
       " ('data\\\\train\\\\Carlos_Cruz\\\\rostro_446.jpg', 1),\n",
       " ('data\\\\train\\\\Carlos_Cruz\\\\rostro_447.jpg', 1),\n",
       " ('data\\\\train\\\\Carlos_Cruz\\\\rostro_449.jpg', 1),\n",
       " ('data\\\\train\\\\Carlos_Cruz\\\\rostro_45.jpg', 1),\n",
       " ('data\\\\train\\\\Carlos_Cruz\\\\rostro_452.jpg', 1),\n",
       " ('data\\\\train\\\\Carlos_Cruz\\\\rostro_453.jpg', 1),\n",
       " ('data\\\\train\\\\Carlos_Cruz\\\\rostro_454.jpg', 1),\n",
       " ('data\\\\train\\\\Carlos_Cruz\\\\rostro_457.jpg', 1),\n",
       " ('data\\\\train\\\\Carlos_Cruz\\\\rostro_458.jpg', 1),\n",
       " ('data\\\\train\\\\Carlos_Cruz\\\\rostro_459.jpg', 1),\n",
       " ('data\\\\train\\\\Carlos_Cruz\\\\rostro_46.jpg', 1),\n",
       " ('data\\\\train\\\\Carlos_Cruz\\\\rostro_462.jpg', 1),\n",
       " ('data\\\\train\\\\Carlos_Cruz\\\\rostro_466.jpg', 1),\n",
       " ('data\\\\train\\\\Carlos_Cruz\\\\rostro_467.jpg', 1),\n",
       " ('data\\\\train\\\\Carlos_Cruz\\\\rostro_468.jpg', 1),\n",
       " ('data\\\\train\\\\Carlos_Cruz\\\\rostro_469.jpg', 1),\n",
       " ('data\\\\train\\\\Carlos_Cruz\\\\rostro_47.jpg', 1),\n",
       " ('data\\\\train\\\\Carlos_Cruz\\\\rostro_472.jpg', 1),\n",
       " ('data\\\\train\\\\Carlos_Cruz\\\\rostro_473.jpg', 1),\n",
       " ('data\\\\train\\\\Carlos_Cruz\\\\rostro_474.jpg', 1),\n",
       " ('data\\\\train\\\\Carlos_Cruz\\\\rostro_476.jpg', 1),\n",
       " ('data\\\\train\\\\Carlos_Cruz\\\\rostro_477.jpg', 1),\n",
       " ('data\\\\train\\\\Carlos_Cruz\\\\rostro_478.jpg', 1),\n",
       " ('data\\\\train\\\\Carlos_Cruz\\\\rostro_479.jpg', 1),\n",
       " ('data\\\\train\\\\Carlos_Cruz\\\\rostro_48.jpg', 1),\n",
       " ('data\\\\train\\\\Carlos_Cruz\\\\rostro_481.jpg', 1),\n",
       " ('data\\\\train\\\\Carlos_Cruz\\\\rostro_482.jpg', 1),\n",
       " ('data\\\\train\\\\Carlos_Cruz\\\\rostro_483.jpg', 1),\n",
       " ('data\\\\train\\\\Carlos_Cruz\\\\rostro_484.jpg', 1),\n",
       " ('data\\\\train\\\\Carlos_Cruz\\\\rostro_486.jpg', 1),\n",
       " ('data\\\\train\\\\Carlos_Cruz\\\\rostro_488.jpg', 1),\n",
       " ('data\\\\train\\\\Carlos_Cruz\\\\rostro_489.jpg', 1),\n",
       " ('data\\\\train\\\\Carlos_Cruz\\\\rostro_49.jpg', 1),\n",
       " ('data\\\\train\\\\Carlos_Cruz\\\\rostro_491.jpg', 1),\n",
       " ('data\\\\train\\\\Carlos_Cruz\\\\rostro_492.jpg', 1),\n",
       " ('data\\\\train\\\\Carlos_Cruz\\\\rostro_494.jpg', 1),\n",
       " ('data\\\\train\\\\Carlos_Cruz\\\\rostro_495.jpg', 1),\n",
       " ('data\\\\train\\\\Carlos_Cruz\\\\rostro_496.jpg', 1),\n",
       " ('data\\\\train\\\\Carlos_Cruz\\\\rostro_499.jpg', 1),\n",
       " ('data\\\\train\\\\Carlos_Cruz\\\\rostro_50.jpg', 1),\n",
       " ('data\\\\train\\\\Carlos_Cruz\\\\rostro_51.jpg', 1),\n",
       " ('data\\\\train\\\\Carlos_Cruz\\\\rostro_52.jpg', 1),\n",
       " ('data\\\\train\\\\Carlos_Cruz\\\\rostro_53.jpg', 1),\n",
       " ('data\\\\train\\\\Carlos_Cruz\\\\rostro_54.jpg', 1),\n",
       " ('data\\\\train\\\\Carlos_Cruz\\\\rostro_55.jpg', 1),\n",
       " ('data\\\\train\\\\Carlos_Cruz\\\\rostro_57.jpg', 1),\n",
       " ('data\\\\train\\\\Carlos_Cruz\\\\rostro_58.jpg', 1),\n",
       " ('data\\\\train\\\\Carlos_Cruz\\\\rostro_6.jpg', 1),\n",
       " ('data\\\\train\\\\Carlos_Cruz\\\\rostro_60.jpg', 1),\n",
       " ('data\\\\train\\\\Carlos_Cruz\\\\rostro_61.jpg', 1),\n",
       " ('data\\\\train\\\\Carlos_Cruz\\\\rostro_63.jpg', 1),\n",
       " ('data\\\\train\\\\Carlos_Cruz\\\\rostro_64.jpg', 1),\n",
       " ('data\\\\train\\\\Carlos_Cruz\\\\rostro_65.jpg', 1),\n",
       " ('data\\\\train\\\\Carlos_Cruz\\\\rostro_66.jpg', 1),\n",
       " ('data\\\\train\\\\Carlos_Cruz\\\\rostro_67.jpg', 1),\n",
       " ('data\\\\train\\\\Carlos_Cruz\\\\rostro_68.jpg', 1),\n",
       " ('data\\\\train\\\\Carlos_Cruz\\\\rostro_69.jpg', 1),\n",
       " ('data\\\\train\\\\Carlos_Cruz\\\\rostro_70.jpg', 1),\n",
       " ('data\\\\train\\\\Carlos_Cruz\\\\rostro_71.jpg', 1),\n",
       " ('data\\\\train\\\\Carlos_Cruz\\\\rostro_72.jpg', 1),\n",
       " ('data\\\\train\\\\Carlos_Cruz\\\\rostro_73.jpg', 1),\n",
       " ('data\\\\train\\\\Carlos_Cruz\\\\rostro_74.jpg', 1),\n",
       " ('data\\\\train\\\\Carlos_Cruz\\\\rostro_79.jpg', 1),\n",
       " ('data\\\\train\\\\Carlos_Cruz\\\\rostro_80.jpg', 1),\n",
       " ('data\\\\train\\\\Carlos_Cruz\\\\rostro_81.jpg', 1),\n",
       " ('data\\\\train\\\\Carlos_Cruz\\\\rostro_82.jpg', 1),\n",
       " ('data\\\\train\\\\Carlos_Cruz\\\\rostro_83.jpg', 1),\n",
       " ('data\\\\train\\\\Carlos_Cruz\\\\rostro_84.jpg', 1),\n",
       " ('data\\\\train\\\\Carlos_Cruz\\\\rostro_85.jpg', 1),\n",
       " ('data\\\\train\\\\Carlos_Cruz\\\\rostro_86.jpg', 1),\n",
       " ('data\\\\train\\\\Carlos_Cruz\\\\rostro_87.jpg', 1),\n",
       " ('data\\\\train\\\\Carlos_Cruz\\\\rostro_9.jpg', 1),\n",
       " ('data\\\\train\\\\Carlos_Cruz\\\\rostro_91.jpg', 1),\n",
       " ('data\\\\train\\\\Carlos_Cruz\\\\rostro_92.jpg', 1),\n",
       " ('data\\\\train\\\\Carlos_Cruz\\\\rostro_94.jpg', 1),\n",
       " ('data\\\\train\\\\Carlos_Cruz\\\\rostro_95.jpg', 1),\n",
       " ('data\\\\train\\\\Carlos_Cruz\\\\rostro_97.jpg', 1),\n",
       " ('data\\\\train\\\\Carlos_Pacherres\\\\rostro_0.jpg', 2),\n",
       " ('data\\\\train\\\\Carlos_Pacherres\\\\rostro_1.jpg', 2),\n",
       " ('data\\\\train\\\\Carlos_Pacherres\\\\rostro_10.jpg', 2),\n",
       " ('data\\\\train\\\\Carlos_Pacherres\\\\rostro_100.jpg', 2),\n",
       " ('data\\\\train\\\\Carlos_Pacherres\\\\rostro_101.jpg', 2),\n",
       " ('data\\\\train\\\\Carlos_Pacherres\\\\rostro_102.jpg', 2),\n",
       " ('data\\\\train\\\\Carlos_Pacherres\\\\rostro_103.jpg', 2),\n",
       " ('data\\\\train\\\\Carlos_Pacherres\\\\rostro_105.jpg', 2),\n",
       " ('data\\\\train\\\\Carlos_Pacherres\\\\rostro_106.jpg', 2),\n",
       " ('data\\\\train\\\\Carlos_Pacherres\\\\rostro_108.jpg', 2),\n",
       " ('data\\\\train\\\\Carlos_Pacherres\\\\rostro_11.jpg', 2),\n",
       " ('data\\\\train\\\\Carlos_Pacherres\\\\rostro_110.jpg', 2),\n",
       " ('data\\\\train\\\\Carlos_Pacherres\\\\rostro_111.jpg', 2),\n",
       " ('data\\\\train\\\\Carlos_Pacherres\\\\rostro_112.jpg', 2),\n",
       " ('data\\\\train\\\\Carlos_Pacherres\\\\rostro_113.jpg', 2),\n",
       " ('data\\\\train\\\\Carlos_Pacherres\\\\rostro_114.jpg', 2),\n",
       " ('data\\\\train\\\\Carlos_Pacherres\\\\rostro_115.jpg', 2),\n",
       " ('data\\\\train\\\\Carlos_Pacherres\\\\rostro_116.jpg', 2),\n",
       " ('data\\\\train\\\\Carlos_Pacherres\\\\rostro_117.jpg', 2),\n",
       " ('data\\\\train\\\\Carlos_Pacherres\\\\rostro_119.jpg', 2),\n",
       " ('data\\\\train\\\\Carlos_Pacherres\\\\rostro_120.jpg', 2),\n",
       " ('data\\\\train\\\\Carlos_Pacherres\\\\rostro_121.jpg', 2),\n",
       " ('data\\\\train\\\\Carlos_Pacherres\\\\rostro_122.jpg', 2),\n",
       " ('data\\\\train\\\\Carlos_Pacherres\\\\rostro_125.jpg', 2),\n",
       " ('data\\\\train\\\\Carlos_Pacherres\\\\rostro_126.jpg', 2),\n",
       " ('data\\\\train\\\\Carlos_Pacherres\\\\rostro_127.jpg', 2),\n",
       " ('data\\\\train\\\\Carlos_Pacherres\\\\rostro_128.jpg', 2),\n",
       " ('data\\\\train\\\\Carlos_Pacherres\\\\rostro_129.jpg', 2),\n",
       " ('data\\\\train\\\\Carlos_Pacherres\\\\rostro_13.jpg', 2),\n",
       " ('data\\\\train\\\\Carlos_Pacherres\\\\rostro_130.jpg', 2),\n",
       " ('data\\\\train\\\\Carlos_Pacherres\\\\rostro_131.jpg', 2),\n",
       " ('data\\\\train\\\\Carlos_Pacherres\\\\rostro_132.jpg', 2),\n",
       " ('data\\\\train\\\\Carlos_Pacherres\\\\rostro_134.jpg', 2),\n",
       " ('data\\\\train\\\\Carlos_Pacherres\\\\rostro_135.jpg', 2),\n",
       " ('data\\\\train\\\\Carlos_Pacherres\\\\rostro_136.jpg', 2),\n",
       " ('data\\\\train\\\\Carlos_Pacherres\\\\rostro_137.jpg', 2),\n",
       " ('data\\\\train\\\\Carlos_Pacherres\\\\rostro_139.jpg', 2),\n",
       " ('data\\\\train\\\\Carlos_Pacherres\\\\rostro_14.jpg', 2),\n",
       " ('data\\\\train\\\\Carlos_Pacherres\\\\rostro_140.jpg', 2),\n",
       " ('data\\\\train\\\\Carlos_Pacherres\\\\rostro_141.jpg', 2),\n",
       " ('data\\\\train\\\\Carlos_Pacherres\\\\rostro_142.jpg', 2),\n",
       " ('data\\\\train\\\\Carlos_Pacherres\\\\rostro_143.jpg', 2),\n",
       " ('data\\\\train\\\\Carlos_Pacherres\\\\rostro_144.jpg', 2),\n",
       " ('data\\\\train\\\\Carlos_Pacherres\\\\rostro_145.jpg', 2),\n",
       " ('data\\\\train\\\\Carlos_Pacherres\\\\rostro_146.jpg', 2),\n",
       " ('data\\\\train\\\\Carlos_Pacherres\\\\rostro_149.jpg', 2),\n",
       " ('data\\\\train\\\\Carlos_Pacherres\\\\rostro_150.jpg', 2),\n",
       " ('data\\\\train\\\\Carlos_Pacherres\\\\rostro_151.jpg', 2),\n",
       " ('data\\\\train\\\\Carlos_Pacherres\\\\rostro_152.jpg', 2),\n",
       " ('data\\\\train\\\\Carlos_Pacherres\\\\rostro_153.jpg', 2),\n",
       " ('data\\\\train\\\\Carlos_Pacherres\\\\rostro_155.jpg', 2),\n",
       " ('data\\\\train\\\\Carlos_Pacherres\\\\rostro_157.jpg', 2),\n",
       " ('data\\\\train\\\\Carlos_Pacherres\\\\rostro_158.jpg', 2),\n",
       " ('data\\\\train\\\\Carlos_Pacherres\\\\rostro_159.jpg', 2),\n",
       " ('data\\\\train\\\\Carlos_Pacherres\\\\rostro_16.jpg', 2),\n",
       " ('data\\\\train\\\\Carlos_Pacherres\\\\rostro_161.jpg', 2),\n",
       " ('data\\\\train\\\\Carlos_Pacherres\\\\rostro_162.jpg', 2),\n",
       " ('data\\\\train\\\\Carlos_Pacherres\\\\rostro_163.jpg', 2),\n",
       " ('data\\\\train\\\\Carlos_Pacherres\\\\rostro_164.jpg', 2),\n",
       " ('data\\\\train\\\\Carlos_Pacherres\\\\rostro_165.jpg', 2),\n",
       " ('data\\\\train\\\\Carlos_Pacherres\\\\rostro_166.jpg', 2),\n",
       " ('data\\\\train\\\\Carlos_Pacherres\\\\rostro_167.jpg', 2),\n",
       " ('data\\\\train\\\\Carlos_Pacherres\\\\rostro_168.jpg', 2),\n",
       " ('data\\\\train\\\\Carlos_Pacherres\\\\rostro_169.jpg', 2),\n",
       " ('data\\\\train\\\\Carlos_Pacherres\\\\rostro_17.jpg', 2),\n",
       " ('data\\\\train\\\\Carlos_Pacherres\\\\rostro_170.jpg', 2),\n",
       " ('data\\\\train\\\\Carlos_Pacherres\\\\rostro_171.jpg', 2),\n",
       " ('data\\\\train\\\\Carlos_Pacherres\\\\rostro_175.jpg', 2),\n",
       " ('data\\\\train\\\\Carlos_Pacherres\\\\rostro_176.jpg', 2),\n",
       " ('data\\\\train\\\\Carlos_Pacherres\\\\rostro_177.jpg', 2),\n",
       " ('data\\\\train\\\\Carlos_Pacherres\\\\rostro_178.jpg', 2),\n",
       " ('data\\\\train\\\\Carlos_Pacherres\\\\rostro_179.jpg', 2),\n",
       " ('data\\\\train\\\\Carlos_Pacherres\\\\rostro_18.jpg', 2),\n",
       " ('data\\\\train\\\\Carlos_Pacherres\\\\rostro_181.jpg', 2),\n",
       " ('data\\\\train\\\\Carlos_Pacherres\\\\rostro_182.jpg', 2),\n",
       " ('data\\\\train\\\\Carlos_Pacherres\\\\rostro_183.jpg', 2),\n",
       " ('data\\\\train\\\\Carlos_Pacherres\\\\rostro_184.jpg', 2),\n",
       " ('data\\\\train\\\\Carlos_Pacherres\\\\rostro_185.jpg', 2),\n",
       " ('data\\\\train\\\\Carlos_Pacherres\\\\rostro_187.jpg', 2),\n",
       " ('data\\\\train\\\\Carlos_Pacherres\\\\rostro_188.jpg', 2),\n",
       " ('data\\\\train\\\\Carlos_Pacherres\\\\rostro_189.jpg', 2),\n",
       " ('data\\\\train\\\\Carlos_Pacherres\\\\rostro_19.jpg', 2),\n",
       " ('data\\\\train\\\\Carlos_Pacherres\\\\rostro_192.jpg', 2),\n",
       " ('data\\\\train\\\\Carlos_Pacherres\\\\rostro_193.jpg', 2),\n",
       " ('data\\\\train\\\\Carlos_Pacherres\\\\rostro_194.jpg', 2),\n",
       " ('data\\\\train\\\\Carlos_Pacherres\\\\rostro_195.jpg', 2),\n",
       " ('data\\\\train\\\\Carlos_Pacherres\\\\rostro_196.jpg', 2),\n",
       " ('data\\\\train\\\\Carlos_Pacherres\\\\rostro_197.jpg', 2),\n",
       " ('data\\\\train\\\\Carlos_Pacherres\\\\rostro_198.jpg', 2),\n",
       " ('data\\\\train\\\\Carlos_Pacherres\\\\rostro_199.jpg', 2),\n",
       " ('data\\\\train\\\\Carlos_Pacherres\\\\rostro_200.jpg', 2),\n",
       " ('data\\\\train\\\\Carlos_Pacherres\\\\rostro_201.jpg', 2),\n",
       " ('data\\\\train\\\\Carlos_Pacherres\\\\rostro_202.jpg', 2),\n",
       " ('data\\\\train\\\\Carlos_Pacherres\\\\rostro_203.jpg', 2),\n",
       " ('data\\\\train\\\\Carlos_Pacherres\\\\rostro_204.jpg', 2),\n",
       " ('data\\\\train\\\\Carlos_Pacherres\\\\rostro_205.jpg', 2),\n",
       " ('data\\\\train\\\\Carlos_Pacherres\\\\rostro_206.jpg', 2),\n",
       " ('data\\\\train\\\\Carlos_Pacherres\\\\rostro_207.jpg', 2),\n",
       " ('data\\\\train\\\\Carlos_Pacherres\\\\rostro_208.jpg', 2),\n",
       " ('data\\\\train\\\\Carlos_Pacherres\\\\rostro_209.jpg', 2),\n",
       " ('data\\\\train\\\\Carlos_Pacherres\\\\rostro_21.jpg', 2),\n",
       " ('data\\\\train\\\\Carlos_Pacherres\\\\rostro_210.jpg', 2),\n",
       " ('data\\\\train\\\\Carlos_Pacherres\\\\rostro_211.jpg', 2),\n",
       " ('data\\\\train\\\\Carlos_Pacherres\\\\rostro_212.jpg', 2),\n",
       " ('data\\\\train\\\\Carlos_Pacherres\\\\rostro_215.jpg', 2),\n",
       " ('data\\\\train\\\\Carlos_Pacherres\\\\rostro_216.jpg', 2),\n",
       " ('data\\\\train\\\\Carlos_Pacherres\\\\rostro_217.jpg', 2),\n",
       " ('data\\\\train\\\\Carlos_Pacherres\\\\rostro_22.jpg', 2),\n",
       " ('data\\\\train\\\\Carlos_Pacherres\\\\rostro_220.jpg', 2),\n",
       " ('data\\\\train\\\\Carlos_Pacherres\\\\rostro_222.jpg', 2),\n",
       " ('data\\\\train\\\\Carlos_Pacherres\\\\rostro_223.jpg', 2),\n",
       " ('data\\\\train\\\\Carlos_Pacherres\\\\rostro_224.jpg', 2),\n",
       " ('data\\\\train\\\\Carlos_Pacherres\\\\rostro_225.jpg', 2),\n",
       " ('data\\\\train\\\\Carlos_Pacherres\\\\rostro_226.jpg', 2),\n",
       " ('data\\\\train\\\\Carlos_Pacherres\\\\rostro_228.jpg', 2),\n",
       " ('data\\\\train\\\\Carlos_Pacherres\\\\rostro_229.jpg', 2),\n",
       " ('data\\\\train\\\\Carlos_Pacherres\\\\rostro_230.jpg', 2),\n",
       " ('data\\\\train\\\\Carlos_Pacherres\\\\rostro_232.jpg', 2),\n",
       " ('data\\\\train\\\\Carlos_Pacherres\\\\rostro_233.jpg', 2),\n",
       " ('data\\\\train\\\\Carlos_Pacherres\\\\rostro_234.jpg', 2),\n",
       " ('data\\\\train\\\\Carlos_Pacherres\\\\rostro_236.jpg', 2),\n",
       " ('data\\\\train\\\\Carlos_Pacherres\\\\rostro_237.jpg', 2),\n",
       " ('data\\\\train\\\\Carlos_Pacherres\\\\rostro_238.jpg', 2),\n",
       " ('data\\\\train\\\\Carlos_Pacherres\\\\rostro_239.jpg', 2),\n",
       " ('data\\\\train\\\\Carlos_Pacherres\\\\rostro_24.jpg', 2),\n",
       " ('data\\\\train\\\\Carlos_Pacherres\\\\rostro_240.jpg', 2),\n",
       " ('data\\\\train\\\\Carlos_Pacherres\\\\rostro_241.jpg', 2),\n",
       " ('data\\\\train\\\\Carlos_Pacherres\\\\rostro_242.jpg', 2),\n",
       " ('data\\\\train\\\\Carlos_Pacherres\\\\rostro_244.jpg', 2),\n",
       " ('data\\\\train\\\\Carlos_Pacherres\\\\rostro_245.jpg', 2),\n",
       " ('data\\\\train\\\\Carlos_Pacherres\\\\rostro_246.jpg', 2),\n",
       " ('data\\\\train\\\\Carlos_Pacherres\\\\rostro_248.jpg', 2),\n",
       " ('data\\\\train\\\\Carlos_Pacherres\\\\rostro_249.jpg', 2),\n",
       " ('data\\\\train\\\\Carlos_Pacherres\\\\rostro_25.jpg', 2),\n",
       " ('data\\\\train\\\\Carlos_Pacherres\\\\rostro_250.jpg', 2),\n",
       " ('data\\\\train\\\\Carlos_Pacherres\\\\rostro_251.jpg', 2),\n",
       " ('data\\\\train\\\\Carlos_Pacherres\\\\rostro_252.jpg', 2),\n",
       " ('data\\\\train\\\\Carlos_Pacherres\\\\rostro_253.jpg', 2),\n",
       " ('data\\\\train\\\\Carlos_Pacherres\\\\rostro_254.jpg', 2),\n",
       " ('data\\\\train\\\\Carlos_Pacherres\\\\rostro_256.jpg', 2),\n",
       " ('data\\\\train\\\\Carlos_Pacherres\\\\rostro_257.jpg', 2),\n",
       " ('data\\\\train\\\\Carlos_Pacherres\\\\rostro_258.jpg', 2),\n",
       " ('data\\\\train\\\\Carlos_Pacherres\\\\rostro_26.jpg', 2),\n",
       " ('data\\\\train\\\\Carlos_Pacherres\\\\rostro_260.jpg', 2),\n",
       " ('data\\\\train\\\\Carlos_Pacherres\\\\rostro_262.jpg', 2),\n",
       " ('data\\\\train\\\\Carlos_Pacherres\\\\rostro_266.jpg', 2),\n",
       " ('data\\\\train\\\\Carlos_Pacherres\\\\rostro_267.jpg', 2),\n",
       " ('data\\\\train\\\\Carlos_Pacherres\\\\rostro_268.jpg', 2),\n",
       " ('data\\\\train\\\\Carlos_Pacherres\\\\rostro_269.jpg', 2),\n",
       " ('data\\\\train\\\\Carlos_Pacherres\\\\rostro_27.jpg', 2),\n",
       " ('data\\\\train\\\\Carlos_Pacherres\\\\rostro_270.jpg', 2),\n",
       " ('data\\\\train\\\\Carlos_Pacherres\\\\rostro_271.jpg', 2),\n",
       " ('data\\\\train\\\\Carlos_Pacherres\\\\rostro_272.jpg', 2),\n",
       " ('data\\\\train\\\\Carlos_Pacherres\\\\rostro_273.jpg', 2),\n",
       " ('data\\\\train\\\\Carlos_Pacherres\\\\rostro_274.jpg', 2),\n",
       " ('data\\\\train\\\\Carlos_Pacherres\\\\rostro_275.jpg', 2),\n",
       " ('data\\\\train\\\\Carlos_Pacherres\\\\rostro_276.jpg', 2),\n",
       " ('data\\\\train\\\\Carlos_Pacherres\\\\rostro_277.jpg', 2),\n",
       " ('data\\\\train\\\\Carlos_Pacherres\\\\rostro_278.jpg', 2),\n",
       " ('data\\\\train\\\\Carlos_Pacherres\\\\rostro_279.jpg', 2),\n",
       " ('data\\\\train\\\\Carlos_Pacherres\\\\rostro_28.jpg', 2),\n",
       " ('data\\\\train\\\\Carlos_Pacherres\\\\rostro_280.jpg', 2),\n",
       " ('data\\\\train\\\\Carlos_Pacherres\\\\rostro_281.jpg', 2),\n",
       " ('data\\\\train\\\\Carlos_Pacherres\\\\rostro_282.jpg', 2),\n",
       " ('data\\\\train\\\\Carlos_Pacherres\\\\rostro_284.jpg', 2),\n",
       " ('data\\\\train\\\\Carlos_Pacherres\\\\rostro_285.jpg', 2),\n",
       " ('data\\\\train\\\\Carlos_Pacherres\\\\rostro_286.jpg', 2),\n",
       " ('data\\\\train\\\\Carlos_Pacherres\\\\rostro_289.jpg', 2),\n",
       " ('data\\\\train\\\\Carlos_Pacherres\\\\rostro_29.jpg', 2),\n",
       " ('data\\\\train\\\\Carlos_Pacherres\\\\rostro_290.jpg', 2),\n",
       " ('data\\\\train\\\\Carlos_Pacherres\\\\rostro_291.jpg', 2),\n",
       " ('data\\\\train\\\\Carlos_Pacherres\\\\rostro_293.jpg', 2),\n",
       " ('data\\\\train\\\\Carlos_Pacherres\\\\rostro_294.jpg', 2),\n",
       " ('data\\\\train\\\\Carlos_Pacherres\\\\rostro_295.jpg', 2),\n",
       " ('data\\\\train\\\\Carlos_Pacherres\\\\rostro_296.jpg', 2),\n",
       " ('data\\\\train\\\\Carlos_Pacherres\\\\rostro_297.jpg', 2),\n",
       " ('data\\\\train\\\\Carlos_Pacherres\\\\rostro_298.jpg', 2),\n",
       " ('data\\\\train\\\\Carlos_Pacherres\\\\rostro_299.jpg', 2),\n",
       " ('data\\\\train\\\\Carlos_Pacherres\\\\rostro_3.jpg', 2),\n",
       " ('data\\\\train\\\\Carlos_Pacherres\\\\rostro_30.jpg', 2),\n",
       " ('data\\\\train\\\\Carlos_Pacherres\\\\rostro_300.jpg', 2),\n",
       " ('data\\\\train\\\\Carlos_Pacherres\\\\rostro_301.jpg', 2),\n",
       " ('data\\\\train\\\\Carlos_Pacherres\\\\rostro_302.jpg', 2),\n",
       " ('data\\\\train\\\\Carlos_Pacherres\\\\rostro_303.jpg', 2),\n",
       " ('data\\\\train\\\\Carlos_Pacherres\\\\rostro_304.jpg', 2),\n",
       " ('data\\\\train\\\\Carlos_Pacherres\\\\rostro_305.jpg', 2),\n",
       " ('data\\\\train\\\\Carlos_Pacherres\\\\rostro_306.jpg', 2),\n",
       " ('data\\\\train\\\\Carlos_Pacherres\\\\rostro_308.jpg', 2),\n",
       " ('data\\\\train\\\\Carlos_Pacherres\\\\rostro_31.jpg', 2),\n",
       " ('data\\\\train\\\\Carlos_Pacherres\\\\rostro_310.jpg', 2),\n",
       " ('data\\\\train\\\\Carlos_Pacherres\\\\rostro_311.jpg', 2),\n",
       " ('data\\\\train\\\\Carlos_Pacherres\\\\rostro_313.jpg', 2),\n",
       " ('data\\\\train\\\\Carlos_Pacherres\\\\rostro_314.jpg', 2),\n",
       " ('data\\\\train\\\\Carlos_Pacherres\\\\rostro_316.jpg', 2),\n",
       " ('data\\\\train\\\\Carlos_Pacherres\\\\rostro_317.jpg', 2),\n",
       " ('data\\\\train\\\\Carlos_Pacherres\\\\rostro_318.jpg', 2),\n",
       " ('data\\\\train\\\\Carlos_Pacherres\\\\rostro_319.jpg', 2),\n",
       " ('data\\\\train\\\\Carlos_Pacherres\\\\rostro_32.jpg', 2),\n",
       " ('data\\\\train\\\\Carlos_Pacherres\\\\rostro_322.jpg', 2),\n",
       " ('data\\\\train\\\\Carlos_Pacherres\\\\rostro_323.jpg', 2),\n",
       " ...]"
      ]
     },
     "execution_count": 20,
     "metadata": {},
     "output_type": "execute_result"
    }
   ],
   "source": [
    "train_data.samples"
   ]
  },
  {
   "cell_type": "markdown",
   "metadata": {},
   "source": [
    "## Split the data"
   ]
  },
  {
   "cell_type": "code",
   "execution_count": 105,
   "metadata": {},
   "outputs": [],
   "source": [
    "BATCH_SIZE=32"
   ]
  },
  {
   "cell_type": "code",
   "execution_count": 106,
   "metadata": {},
   "outputs": [
    {
     "data": {
      "text/plain": [
       "{'Brayan': 0,\n",
       " 'Carlos_Cruz': 1,\n",
       " 'Carlos_Pacherres': 2,\n",
       " 'Cinthia': 3,\n",
       " 'Eduardo_Crisanto': 4,\n",
       " 'Elvis': 5,\n",
       " 'Irene_Alvarado': 6,\n",
       " 'Pamela': 7,\n",
       " 'Rodrigo': 8,\n",
       " 'William': 9,\n",
       " 'William_Ipanaque': 10}"
      ]
     },
     "execution_count": 106,
     "metadata": {},
     "output_type": "execute_result"
    }
   ],
   "source": [
    "train_data.class_to_idx"
   ]
  },
  {
   "cell_type": "code",
   "execution_count": 107,
   "metadata": {},
   "outputs": [
    {
     "data": {
      "text/plain": [
       "Dataset ImageFolder\n",
       "    Number of datapoints: 1100\n",
       "    Root location: data\\test\n",
       "    StandardTransform\n",
       "Transform: Compose(\n",
       "               Resize(size=(224, 224), interpolation=bilinear, max_size=None, antialias=True)\n",
       "               ToTensor()\n",
       "           )"
      ]
     },
     "execution_count": 107,
     "metadata": {},
     "output_type": "execute_result"
    }
   ],
   "source": [
    "test_data"
   ]
  },
  {
   "cell_type": "code",
   "execution_count": 108,
   "metadata": {},
   "outputs": [],
   "source": [
    "train_loader=DataLoader(dataset=train_data,\n",
    "                        batch_size=BATCH_SIZE,\n",
    "                        num_workers=2,\n",
    "                        shuffle=True)\n",
    "\n",
    "test_loader=DataLoader(dataset=test_data,\n",
    "                        batch_size=BATCH_SIZE,\n",
    "                        num_workers=2,\n",
    "                        shuffle=False)"
   ]
  },
  {
   "cell_type": "code",
   "execution_count": 109,
   "metadata": {},
   "outputs": [
    {
     "data": {
      "text/plain": [
       "138"
      ]
     },
     "execution_count": 109,
     "metadata": {},
     "output_type": "execute_result"
    }
   ],
   "source": [
    "len(train_loader)"
   ]
  },
  {
   "cell_type": "code",
   "execution_count": 79,
   "metadata": {},
   "outputs": [],
   "source": [
    "image_batch,label_batch=next(iter(train_loader))"
   ]
  },
  {
   "cell_type": "code",
   "execution_count": 80,
   "metadata": {},
   "outputs": [
    {
     "data": {
      "text/plain": [
       "440"
      ]
     },
     "execution_count": 80,
     "metadata": {},
     "output_type": "execute_result"
    }
   ],
   "source": [
    "len(train_loader)"
   ]
  },
  {
   "cell_type": "code",
   "execution_count": 81,
   "metadata": {},
   "outputs": [
    {
     "data": {
      "text/plain": [
       "tensor([ 0,  2,  7,  6,  9, 10,  2, 10,  3,  7])"
      ]
     },
     "execution_count": 81,
     "metadata": {},
     "output_type": "execute_result"
    }
   ],
   "source": [
    "label_batch"
   ]
  },
  {
   "cell_type": "code",
   "execution_count": 110,
   "metadata": {},
   "outputs": [],
   "source": [
    "optimizer=optim.Adam(params=model_1.parameters(),\n",
    "                    lr=0.1)\n",
    "loss_fn=nn.TripletMarginLoss(margin=0.2,p=2)"
   ]
  },
  {
   "cell_type": "code",
   "execution_count": 83,
   "metadata": {},
   "outputs": [
    {
     "data": {
      "text/plain": [
       "{'Brayan': 0,\n",
       " 'Carlos_Cruz': 1,\n",
       " 'Carlos_Pacherres': 2,\n",
       " 'Cinthia': 3,\n",
       " 'Eduardo_Crisanto': 4,\n",
       " 'Elvis': 5,\n",
       " 'Irene_Alvarado': 6,\n",
       " 'Pamela': 7,\n",
       " 'Rodrigo': 8,\n",
       " 'William': 9,\n",
       " 'William_Ipanaque': 10}"
      ]
     },
     "execution_count": 83,
     "metadata": {},
     "output_type": "execute_result"
    }
   ],
   "source": [
    "train_data.class_to_idx"
   ]
  },
  {
   "cell_type": "code",
   "execution_count": 84,
   "metadata": {},
   "outputs": [
    {
     "data": {
      "text/plain": [
       "{0: [], 1: [], 2: [], 3: [], 4: [], 5: [], 6: [], 7: [], 8: [], 9: [], 10: []}"
      ]
     },
     "execution_count": 84,
     "metadata": {},
     "output_type": "execute_result"
    }
   ],
   "source": [
    "dict_reference=dict()\n",
    "for key,value in train_data.class_to_idx.items():\n",
    "    dict_reference[value]=[]\n",
    "\n",
    "dict_reference"
   ]
  },
  {
   "cell_type": "code",
   "execution_count": 85,
   "metadata": {},
   "outputs": [
    {
     "data": {
      "text/plain": [
       "range(0, 11)"
      ]
     },
     "execution_count": 85,
     "metadata": {},
     "output_type": "execute_result"
    }
   ],
   "source": [
    "range(len(dict_reference.keys()))"
   ]
  },
  {
   "cell_type": "code",
   "execution_count": 86,
   "metadata": {},
   "outputs": [
    {
     "data": {
      "text/plain": [
       "tensor([ 2,  3,  1,  3,  4, 10,  7,  7,  9,  2])"
      ]
     },
     "execution_count": 86,
     "metadata": {},
     "output_type": "execute_result"
    }
   ],
   "source": [
    "batch_images,batch_labels=next(iter(train_loader))\n",
    "batch_labels"
   ]
  },
  {
   "cell_type": "code",
   "execution_count": 87,
   "metadata": {},
   "outputs": [],
   "source": [
    "from copy import deepcopy\n",
    "import random"
   ]
  },
  {
   "cell_type": "code",
   "execution_count": 88,
   "metadata": {},
   "outputs": [],
   "source": [
    "from pytorch_metric_learning.distances import CosineSimilarity\n",
    "from pytorch_metric_learning.reducers import ThresholdReducer\n",
    "from pytorch_metric_learning.regularizers import LpRegularizer\n",
    "from pytorch_metric_learning import losses\n",
    "from pytorch_metric_learning.miners import TripletMarginMiner\n",
    "\n",
    "distance=CosineSimilarity()\n",
    "reducer = ThresholdReducer(high=0.3)\n",
    "embedding_regularizer = LpRegularizer()"
   ]
  },
  {
   "cell_type": "code",
   "execution_count": 111,
   "metadata": {},
   "outputs": [],
   "source": [
    "loss_func = losses.TripletMarginLoss(distance = CosineSimilarity(), \n",
    "                                    reducer = ThresholdReducer(high=0.3), \n",
    "                                    embedding_regularizer = LpRegularizer())"
   ]
  },
  {
   "cell_type": "code",
   "execution_count": 112,
   "metadata": {},
   "outputs": [],
   "source": [
    "minig_func=TripletMarginMiner(margin=0.2,distance=distance,type_of_triplets='hard')"
   ]
  },
  {
   "cell_type": "code",
   "execution_count": 113,
   "metadata": {},
   "outputs": [],
   "source": [
    "def train_step(\n",
    "        model:torch.nn.Module,\n",
    "        dataloader:torch.utils.data.dataloader,\n",
    "        loss_fn:torch.nn.Module,\n",
    "        optimizer:torch.optim.Optimizer,\n",
    "        mining_func,\n",
    "        device):\n",
    "    \n",
    "    model.train()\n",
    "\n",
    "    train_loss,train_acc=0,0\n",
    "\n",
    "    for batch, (X,y) in enumerate(dataloader):\n",
    "        #Send data to the target device\n",
    "        X,y=X.to(device),y.to(device)\n",
    "\n",
    "        #1. Forward pass\n",
    "        embeddings=model(X) #Output model logits\n",
    "\n",
    "        indices_tuple=mining_func(embeddings,y)\n",
    "\n",
    "        #2. Calculate the loss\n",
    "\n",
    "        anchors=embeddings[indices_tuple[0]]\n",
    "        positives=embeddings[indices_tuple[1]]\n",
    "        negatives=embeddings[indices_tuple[2]]\n",
    "\n",
    "        loss=loss_fn(anchors,positives,negatives)\n",
    "\n",
    "        loss=torch.nan_to_num(loss,nan=0.0)\n",
    "\n",
    "        train_loss+=loss.item()\n",
    "\n",
    "        #3.Optimizer zero grad\n",
    "        optimizer.zero_grad()\n",
    "\n",
    "        #4. Loss backward\n",
    "        loss.backward()\n",
    "\n",
    "        #5. Optimizer step\n",
    "        optimizer.step()\n",
    "\n",
    "        #Calculate accuracy metric\n",
    "        # y_pred_class=torch.argmax(torch.softmax(embeddings,dim=1),dim=1)\n",
    "        # train_acc+= (y_pred_class == y).sum().item() / len(embeddings)\n",
    "\n",
    "    #Adjust metrics to get average loss and accuracy per batch\n",
    "    train_loss= train_loss/len(dataloader)\n",
    "    #train_acc=train_acc / len(dataloader)\n",
    "    print(train_loss)\n",
    "    #return train_loss,train_acc\n",
    "    return train_loss"
   ]
  },
  {
   "cell_type": "code",
   "execution_count": 119,
   "metadata": {},
   "outputs": [],
   "source": [
    "def test_step(\n",
    "        model:torch.nn.Module,\n",
    "        dataloader:torch.utils.data.dataloader,\n",
    "        loss_fn:torch.nn.Module,\n",
    "        mining_func,\n",
    "        device=device):\n",
    "    \n",
    "    #Put model in eval mode\n",
    "    model.eval()\n",
    "\n",
    "    test_loss,test_acc=0,0\n",
    "\n",
    "    with torch.inference_mode():\n",
    "        #Loop through DataLoader batches\n",
    "\n",
    "        for batch, (X,y) in enumerate(dataloader):\n",
    "            #Send data to the target device\n",
    "            X,y=X.to(device),y.to(device)\n",
    "\n",
    "            #1. Forward pass\n",
    "            embeddings=model(X)\n",
    "\n",
    "            indices_tuple=mining_func(embeddings,y)\n",
    "\n",
    "            anchors=embeddings[indices_tuple[0]]\n",
    "            positives=embeddings[indices_tuple[1]]\n",
    "            negatives=embeddings[indices_tuple[2]]\n",
    "\n",
    "            #2. Calculate the loss\n",
    "            loss=loss_fn(anchors,positives,negatives)\n",
    "\n",
    "            loss=torch.nan_to_num(loss,nan=0.0)\n",
    "\n",
    "            test_loss+=loss.item()\n",
    "\n",
    "            #3. Calculate the accuracy\n",
    "            # test_preds_labels=torch.argmax(torch.softmax(embeddings,dim=1),dim=1)\n",
    "            # test_acc+= (test_preds_labels==y).sum().item() / len(test_preds_labels)\n",
    "\n",
    "    #Adjust the metrics to get averague loss and accuracy per batch\n",
    "    test_loss=test_loss / len(dataloader)\n",
    "    #test_acc=test_acc / len(dataloader)\n",
    "\n",
    "    #return test_loss,test_acc\n",
    "    return test_loss"
   ]
  },
  {
   "cell_type": "code",
   "execution_count": 120,
   "metadata": {},
   "outputs": [],
   "source": [
    "def train_model(model:torch.nn.Module,\n",
    "        train_dataloader:torch.utils.data.dataloader,\n",
    "        test_dataloader:torch.utils.data.dataloader,\n",
    "        optimizer:torch.optim.Optimizer,\n",
    "        loss_fn:torch.nn.Module,\n",
    "        minig_func,\n",
    "        epochs=5,\n",
    "        device=device):\n",
    "\n",
    "        #2. Create empty results dictionary\n",
    "        # results={\"train_loss\":[],\n",
    "        #         \"train_acc\":[],\n",
    "        #         \"test_loss\":[],\n",
    "        #         \"test_acc\":[]}\n",
    "\n",
    "        results={\"train_loss\":[],\n",
    "                \"test_loss\":[]}\n",
    "\n",
    "        #3. Loop through training and testing step for a number of epochs\n",
    "        for epoch in tqdm(range(epochs)):\n",
    "                train_loss=train_step(model=model,\n",
    "                                dataloader=train_dataloader,\n",
    "                                loss_fn=loss_fn,\n",
    "                                optimizer=optimizer,\n",
    "                                mining_func=minig_func,\n",
    "                                device=device)\n",
    "                test_loss=test_step(model=model,\n",
    "                                dataloader=test_dataloader,\n",
    "                                loss_fn=loss_fn,\n",
    "                                mining_func=minig_func,\n",
    "                                device=device)\n",
    "        \n",
    "                #4. Print out what's happening\n",
    "                #print('Train loss',train_loss)\n",
    "                #print('Test loss',test_loss)\n",
    "                print(f\"Epoch: {epoch} | Train loss:{train_loss:.4f} | Test loss : {test_loss:.4f}\")\n",
    "                #5. Update results diccionary\n",
    "                results[\"train_loss\"].append(train_loss)\n",
    "                results[\"test_loss\"].append(test_loss)\n",
    "\n",
    "        return results"
   ]
  },
  {
   "cell_type": "code",
   "execution_count": 121,
   "metadata": {},
   "outputs": [],
   "source": [
    "model_1 = NN2(in_channels=3).to(device)\n",
    "optimizer=optim.Adam(params=model_1.parameters(),\n",
    "                    lr=0.1)\n",
    "loss_fn=nn.TripletMarginLoss(margin=0.2,p=2)"
   ]
  },
  {
   "cell_type": "code",
   "execution_count": 130,
   "metadata": {},
   "outputs": [
    {
     "name": "stderr",
     "output_type": "stream",
     "text": [
      "  0%|          | 0/200 [00:00<?, ?it/s]"
     ]
    },
    {
     "name": "stdout",
     "output_type": "stream",
     "text": [
      "0.034830067576705544\n"
     ]
    },
    {
     "name": "stderr",
     "output_type": "stream",
     "text": [
      "  0%|          | 1/200 [00:22<1:14:15, 22.39s/it]"
     ]
    },
    {
     "name": "stdout",
     "output_type": "stream",
     "text": [
      "Epoch: 0 | Train loss:0.0348 | Test loss : 0.0000\n",
      "0.05080522877582605\n"
     ]
    },
    {
     "name": "stderr",
     "output_type": "stream",
     "text": [
      "  1%|          | 2/200 [00:43<1:11:13, 21.58s/it]"
     ]
    },
    {
     "name": "stdout",
     "output_type": "stream",
     "text": [
      "Epoch: 1 | Train loss:0.0508 | Test loss : 0.0229\n",
      "0.07258281198100767\n"
     ]
    },
    {
     "name": "stderr",
     "output_type": "stream",
     "text": [
      "  2%|▏         | 3/200 [01:03<1:09:03, 21.03s/it]"
     ]
    },
    {
     "name": "stdout",
     "output_type": "stream",
     "text": [
      "Epoch: 2 | Train loss:0.0726 | Test loss : 0.0115\n",
      "0.014508834459643433\n"
     ]
    },
    {
     "name": "stderr",
     "output_type": "stream",
     "text": [
      "  2%|▏         | 4/200 [01:24<1:07:40, 20.72s/it]"
     ]
    },
    {
     "name": "stdout",
     "output_type": "stream",
     "text": [
      "Epoch: 3 | Train loss:0.0145 | Test loss : 0.0000\n",
      "0.02175878441852072\n"
     ]
    },
    {
     "name": "stderr",
     "output_type": "stream",
     "text": [
      "  2%|▎         | 5/200 [01:44<1:07:09, 20.66s/it]"
     ]
    },
    {
     "name": "stdout",
     "output_type": "stream",
     "text": [
      "Epoch: 4 | Train loss:0.0218 | Test loss : 0.0000\n",
      "0.004353216916754626\n"
     ]
    },
    {
     "name": "stderr",
     "output_type": "stream",
     "text": [
      "  3%|▎         | 6/200 [02:04<1:06:29, 20.57s/it]"
     ]
    },
    {
     "name": "stdout",
     "output_type": "stream",
     "text": [
      "Epoch: 5 | Train loss:0.0044 | Test loss : 0.0057\n",
      "0.0319455970024717\n"
     ]
    },
    {
     "name": "stderr",
     "output_type": "stream",
     "text": [
      "  4%|▎         | 7/200 [02:25<1:06:00, 20.52s/it]"
     ]
    },
    {
     "name": "stdout",
     "output_type": "stream",
     "text": [
      "Epoch: 6 | Train loss:0.0319 | Test loss : 0.0057\n",
      "0.030484071568302486\n"
     ]
    },
    {
     "name": "stderr",
     "output_type": "stream",
     "text": [
      "  4%|▍         | 8/200 [02:45<1:05:32, 20.48s/it]"
     ]
    },
    {
     "name": "stdout",
     "output_type": "stream",
     "text": [
      "Epoch: 7 | Train loss:0.0305 | Test loss : 0.0172\n",
      "0.020315237775229027\n"
     ]
    },
    {
     "name": "stderr",
     "output_type": "stream",
     "text": [
      "  4%|▍         | 9/200 [03:07<1:06:16, 20.82s/it]"
     ]
    },
    {
     "name": "stdout",
     "output_type": "stream",
     "text": [
      "Epoch: 8 | Train loss:0.0203 | Test loss : 0.0000\n",
      "0.05950021527815556\n"
     ]
    },
    {
     "name": "stderr",
     "output_type": "stream",
     "text": [
      "  5%|▌         | 10/200 [03:27<1:05:42, 20.75s/it]"
     ]
    },
    {
     "name": "stdout",
     "output_type": "stream",
     "text": [
      "Epoch: 9 | Train loss:0.0595 | Test loss : 0.0000\n",
      "0.026118287249751713\n"
     ]
    },
    {
     "name": "stderr",
     "output_type": "stream",
     "text": [
      "  6%|▌         | 11/200 [03:49<1:05:40, 20.85s/it]"
     ]
    },
    {
     "name": "stdout",
     "output_type": "stream",
     "text": [
      "Epoch: 10 | Train loss:0.0261 | Test loss : 0.0057\n",
      "0.02757320067156916\n"
     ]
    },
    {
     "name": "stderr",
     "output_type": "stream",
     "text": [
      "  6%|▌         | 12/200 [04:09<1:04:46, 20.68s/it]"
     ]
    },
    {
     "name": "stdout",
     "output_type": "stream",
     "text": [
      "Epoch: 11 | Train loss:0.0276 | Test loss : 0.0057\n",
      "0.0159577424975409\n"
     ]
    },
    {
     "name": "stderr",
     "output_type": "stream",
     "text": [
      "  6%|▋         | 13/200 [04:30<1:04:51, 20.81s/it]"
     ]
    },
    {
     "name": "stdout",
     "output_type": "stream",
     "text": [
      "Epoch: 12 | Train loss:0.0160 | Test loss : 0.0000\n",
      "0.02030539253483648\n"
     ]
    },
    {
     "name": "stderr",
     "output_type": "stream",
     "text": [
      "  7%|▋         | 14/200 [04:50<1:04:06, 20.68s/it]"
     ]
    },
    {
     "name": "stdout",
     "output_type": "stream",
     "text": [
      "Epoch: 13 | Train loss:0.0203 | Test loss : 0.0057\n",
      "0.014504707053951595\n"
     ]
    },
    {
     "name": "stderr",
     "output_type": "stream",
     "text": [
      "  8%|▊         | 15/200 [05:11<1:03:59, 20.76s/it]"
     ]
    },
    {
     "name": "stdout",
     "output_type": "stream",
     "text": [
      "Epoch: 14 | Train loss:0.0145 | Test loss : 0.0057\n",
      "0.04642543758171192\n"
     ]
    },
    {
     "name": "stderr",
     "output_type": "stream",
     "text": [
      "  8%|▊         | 16/200 [05:32<1:03:21, 20.66s/it]"
     ]
    },
    {
     "name": "stdout",
     "output_type": "stream",
     "text": [
      "Epoch: 15 | Train loss:0.0464 | Test loss : 0.0229\n",
      "0.031915582068588425\n"
     ]
    },
    {
     "name": "stderr",
     "output_type": "stream",
     "text": [
      "  8%|▊         | 17/200 [05:52<1:02:44, 20.57s/it]"
     ]
    },
    {
     "name": "stdout",
     "output_type": "stream",
     "text": [
      "Epoch: 16 | Train loss:0.0319 | Test loss : 0.0057\n",
      "0.02901885431745778\n"
     ]
    },
    {
     "name": "stderr",
     "output_type": "stream",
     "text": [
      "  9%|▉         | 18/200 [06:12<1:02:04, 20.46s/it]"
     ]
    },
    {
     "name": "stdout",
     "output_type": "stream",
     "text": [
      "Epoch: 17 | Train loss:0.0290 | Test loss : 0.0000\n",
      "0.011604594579641369\n"
     ]
    },
    {
     "name": "stderr",
     "output_type": "stream",
     "text": [
      " 10%|▉         | 19/200 [06:33<1:01:40, 20.44s/it]"
     ]
    },
    {
     "name": "stdout",
     "output_type": "stream",
     "text": [
      "Epoch: 18 | Train loss:0.0116 | Test loss : 0.0057\n",
      "0.04352760833242665\n"
     ]
    },
    {
     "name": "stderr",
     "output_type": "stream",
     "text": [
      " 10%|█         | 20/200 [06:53<1:01:12, 20.40s/it]"
     ]
    },
    {
     "name": "stdout",
     "output_type": "stream",
     "text": [
      "Epoch: 19 | Train loss:0.0435 | Test loss : 0.0114\n",
      "0.030471424693646637\n"
     ]
    },
    {
     "name": "stderr",
     "output_type": "stream",
     "text": [
      " 10%|█         | 21/200 [07:13<1:00:51, 20.40s/it]"
     ]
    },
    {
     "name": "stdout",
     "output_type": "stream",
     "text": [
      "Epoch: 20 | Train loss:0.0305 | Test loss : 0.0114\n",
      "0.03916419448627942\n"
     ]
    },
    {
     "name": "stderr",
     "output_type": "stream",
     "text": [
      " 11%|█         | 22/200 [07:34<1:00:26, 20.38s/it]"
     ]
    },
    {
     "name": "stdout",
     "output_type": "stream",
     "text": [
      "Epoch: 21 | Train loss:0.0392 | Test loss : 0.0172\n",
      "0.007248805592889371\n"
     ]
    },
    {
     "name": "stderr",
     "output_type": "stream",
     "text": [
      " 12%|█▏        | 23/200 [07:54<1:00:05, 20.37s/it]"
     ]
    },
    {
     "name": "stdout",
     "output_type": "stream",
     "text": [
      "Epoch: 22 | Train loss:0.0072 | Test loss : 0.0000\n",
      "0.008702618596346481\n"
     ]
    },
    {
     "name": "stderr",
     "output_type": "stream",
     "text": [
      " 12%|█▏        | 24/200 [08:14<59:37, 20.33s/it]  "
     ]
    },
    {
     "name": "stdout",
     "output_type": "stream",
     "text": [
      "Epoch: 23 | Train loss:0.0087 | Test loss : 0.0114\n",
      "0.014508619040682695\n"
     ]
    },
    {
     "name": "stderr",
     "output_type": "stream",
     "text": [
      " 12%|█▎        | 25/200 [08:35<59:36, 20.44s/it]"
     ]
    },
    {
     "name": "stdout",
     "output_type": "stream",
     "text": [
      "Epoch: 24 | Train loss:0.0145 | Test loss : 0.0000\n",
      "0.007250488128351129\n"
     ]
    },
    {
     "name": "stderr",
     "output_type": "stream",
     "text": [
      " 13%|█▎        | 26/200 [08:55<59:07, 20.39s/it]"
     ]
    },
    {
     "name": "stdout",
     "output_type": "stream",
     "text": [
      "Epoch: 25 | Train loss:0.0073 | Test loss : 0.0000\n",
      "0.04061762448670207\n"
     ]
    },
    {
     "name": "stderr",
     "output_type": "stream",
     "text": [
      " 14%|█▎        | 27/200 [09:16<58:54, 20.43s/it]"
     ]
    },
    {
     "name": "stdout",
     "output_type": "stream",
     "text": [
      "Epoch: 26 | Train loss:0.0406 | Test loss : 0.0057\n",
      "0.04641026927941087\n"
     ]
    },
    {
     "name": "stderr",
     "output_type": "stream",
     "text": [
      " 14%|█▍        | 28/200 [09:36<58:24, 20.37s/it]"
     ]
    },
    {
     "name": "stdout",
     "output_type": "stream",
     "text": [
      "Epoch: 27 | Train loss:0.0464 | Test loss : 0.0000\n",
      "0.0159535708202832\n"
     ]
    },
    {
     "name": "stderr",
     "output_type": "stream",
     "text": [
      " 14%|█▍        | 29/200 [09:56<57:59, 20.35s/it]"
     ]
    },
    {
     "name": "stdout",
     "output_type": "stream",
     "text": [
      "Epoch: 28 | Train loss:0.0160 | Test loss : 0.0057\n",
      "0.024654618747856304\n"
     ]
    },
    {
     "name": "stderr",
     "output_type": "stream",
     "text": [
      " 15%|█▌        | 30/200 [10:17<57:45, 20.39s/it]"
     ]
    },
    {
     "name": "stdout",
     "output_type": "stream",
     "text": [
      "Epoch: 29 | Train loss:0.0247 | Test loss : 0.0000\n",
      "0.039170580497686416\n"
     ]
    },
    {
     "name": "stderr",
     "output_type": "stream",
     "text": [
      " 16%|█▌        | 31/200 [10:37<57:36, 20.45s/it]"
     ]
    },
    {
     "name": "stdout",
     "output_type": "stream",
     "text": [
      "Epoch: 30 | Train loss:0.0392 | Test loss : 0.0114\n",
      "0.008702496039694634\n"
     ]
    },
    {
     "name": "stderr",
     "output_type": "stream",
     "text": [
      " 16%|█▌        | 32/200 [10:58<57:41, 20.60s/it]"
     ]
    },
    {
     "name": "stdout",
     "output_type": "stream",
     "text": [
      "Epoch: 31 | Train loss:0.0087 | Test loss : 0.0000\n",
      "0.02030212788478188\n"
     ]
    },
    {
     "name": "stderr",
     "output_type": "stream",
     "text": [
      " 16%|█▋        | 33/200 [11:19<57:13, 20.56s/it]"
     ]
    },
    {
     "name": "stdout",
     "output_type": "stream",
     "text": [
      "Epoch: 32 | Train loss:0.0203 | Test loss : 0.0000\n",
      "0.00869793401680131\n"
     ]
    },
    {
     "name": "stderr",
     "output_type": "stream",
     "text": [
      " 17%|█▋        | 34/200 [11:39<56:33, 20.45s/it]"
     ]
    },
    {
     "name": "stdout",
     "output_type": "stream",
     "text": [
      "Epoch: 33 | Train loss:0.0087 | Test loss : 0.0000\n",
      "0.010150393282157787\n"
     ]
    },
    {
     "name": "stderr",
     "output_type": "stream",
     "text": [
      " 18%|█▊        | 35/200 [12:00<56:19, 20.48s/it]"
     ]
    },
    {
     "name": "stdout",
     "output_type": "stream",
     "text": [
      "Epoch: 34 | Train loss:0.0102 | Test loss : 0.0000\n",
      "0.020311185307260872\n"
     ]
    },
    {
     "name": "stderr",
     "output_type": "stream",
     "text": [
      " 18%|█▊        | 36/200 [12:20<56:04, 20.51s/it]"
     ]
    },
    {
     "name": "stdout",
     "output_type": "stream",
     "text": [
      "Epoch: 35 | Train loss:0.0203 | Test loss : 0.0057\n",
      "0.01015003932558972\n"
     ]
    },
    {
     "name": "stderr",
     "output_type": "stream",
     "text": [
      " 18%|█▊        | 37/200 [12:41<56:05, 20.65s/it]"
     ]
    },
    {
     "name": "stdout",
     "output_type": "stream",
     "text": [
      "Epoch: 36 | Train loss:0.0102 | Test loss : 0.0000\n",
      "0.01884809427935144\n"
     ]
    },
    {
     "name": "stderr",
     "output_type": "stream",
     "text": [
      " 19%|█▉        | 38/200 [13:01<55:25, 20.53s/it]"
     ]
    },
    {
     "name": "stdout",
     "output_type": "stream",
     "text": [
      "Epoch: 37 | Train loss:0.0188 | Test loss : 0.0057\n",
      "0.023199959725573444\n"
     ]
    },
    {
     "name": "stderr",
     "output_type": "stream",
     "text": [
      " 20%|█▉        | 39/200 [13:22<55:14, 20.59s/it]"
     ]
    },
    {
     "name": "stdout",
     "output_type": "stream",
     "text": [
      "Epoch: 38 | Train loss:0.0232 | Test loss : 0.0057\n",
      "0.02900381785803947\n"
     ]
    },
    {
     "name": "stderr",
     "output_type": "stream",
     "text": [
      " 20%|██        | 40/200 [13:42<54:41, 20.51s/it]"
     ]
    },
    {
     "name": "stdout",
     "output_type": "stream",
     "text": [
      "Epoch: 39 | Train loss:0.0290 | Test loss : 0.0057\n",
      "0.04061077988666037\n"
     ]
    },
    {
     "name": "stderr",
     "output_type": "stream",
     "text": [
      " 20%|██        | 41/200 [14:03<54:14, 20.47s/it]"
     ]
    },
    {
     "name": "stdout",
     "output_type": "stream",
     "text": [
      "Epoch: 40 | Train loss:0.0406 | Test loss : 0.0229\n",
      "0.043510954449142235\n"
     ]
    },
    {
     "name": "stderr",
     "output_type": "stream",
     "text": [
      " 21%|██        | 42/200 [14:23<53:50, 20.45s/it]"
     ]
    },
    {
     "name": "stdout",
     "output_type": "stream",
     "text": [
      "Epoch: 41 | Train loss:0.0435 | Test loss : 0.0114\n",
      "0.02030222970938337\n"
     ]
    },
    {
     "name": "stderr",
     "output_type": "stream",
     "text": [
      " 22%|██▏       | 43/200 [14:43<53:23, 20.40s/it]"
     ]
    },
    {
     "name": "stdout",
     "output_type": "stream",
     "text": [
      "Epoch: 42 | Train loss:0.0203 | Test loss : 0.0000\n",
      "0.0\n"
     ]
    },
    {
     "name": "stderr",
     "output_type": "stream",
     "text": [
      " 22%|██▏       | 44/200 [15:04<53:01, 20.39s/it]"
     ]
    },
    {
     "name": "stdout",
     "output_type": "stream",
     "text": [
      "Epoch: 43 | Train loss:0.0000 | Test loss : 0.0000\n",
      "0.0\n"
     ]
    },
    {
     "name": "stderr",
     "output_type": "stream",
     "text": [
      " 22%|██▎       | 45/200 [15:24<52:36, 20.37s/it]"
     ]
    },
    {
     "name": "stdout",
     "output_type": "stream",
     "text": [
      "Epoch: 44 | Train loss:0.0000 | Test loss : 0.0000\n",
      "0.007249025762944982\n"
     ]
    },
    {
     "name": "stderr",
     "output_type": "stream",
     "text": [
      " 23%|██▎       | 46/200 [15:45<52:51, 20.59s/it]"
     ]
    },
    {
     "name": "stdout",
     "output_type": "stream",
     "text": [
      "Epoch: 45 | Train loss:0.0072 | Test loss : 0.0114\n",
      "0.037700800900010094\n"
     ]
    },
    {
     "name": "stderr",
     "output_type": "stream",
     "text": [
      " 24%|██▎       | 47/200 [16:05<52:15, 20.49s/it]"
     ]
    },
    {
     "name": "stdout",
     "output_type": "stream",
     "text": [
      "Epoch: 46 | Train loss:0.0377 | Test loss : 0.0057\n",
      "0.06090821260991304\n"
     ]
    },
    {
     "name": "stderr",
     "output_type": "stream",
     "text": [
      " 24%|██▍       | 48/200 [16:26<51:48, 20.45s/it]"
     ]
    },
    {
     "name": "stdout",
     "output_type": "stream",
     "text": [
      "Epoch: 47 | Train loss:0.0609 | Test loss : 0.0172\n",
      "0.04060858077761056\n"
     ]
    },
    {
     "name": "stderr",
     "output_type": "stream",
     "text": [
      " 24%|██▍       | 49/200 [16:46<51:32, 20.48s/it]"
     ]
    },
    {
     "name": "stdout",
     "output_type": "stream",
     "text": [
      "Epoch: 48 | Train loss:0.0406 | Test loss : 0.0172\n",
      "0.029007263049699257\n"
     ]
    },
    {
     "name": "stderr",
     "output_type": "stream",
     "text": [
      " 25%|██▌       | 50/200 [17:07<51:00, 20.40s/it]"
     ]
    },
    {
     "name": "stdout",
     "output_type": "stream",
     "text": [
      "Epoch: 49 | Train loss:0.0290 | Test loss : 0.0000\n",
      "0.005798700171104376\n"
     ]
    },
    {
     "name": "stderr",
     "output_type": "stream",
     "text": [
      " 26%|██▌       | 51/200 [17:27<50:32, 20.35s/it]"
     ]
    },
    {
     "name": "stdout",
     "output_type": "stream",
     "text": [
      "Epoch: 50 | Train loss:0.0058 | Test loss : 0.0000\n",
      "0.001449361875437308\n"
     ]
    },
    {
     "name": "stderr",
     "output_type": "stream",
     "text": [
      " 26%|██▌       | 52/200 [17:47<50:08, 20.33s/it]"
     ]
    },
    {
     "name": "stdout",
     "output_type": "stream",
     "text": [
      "Epoch: 51 | Train loss:0.0014 | Test loss : 0.0000\n",
      "0.0014497555684352267\n"
     ]
    },
    {
     "name": "stderr",
     "output_type": "stream",
     "text": [
      " 26%|██▋       | 53/200 [18:08<50:03, 20.43s/it]"
     ]
    },
    {
     "name": "stdout",
     "output_type": "stream",
     "text": [
      "Epoch: 52 | Train loss:0.0014 | Test loss : 0.0000\n",
      "0.011596325730931932\n"
     ]
    },
    {
     "name": "stderr",
     "output_type": "stream",
     "text": [
      " 27%|██▋       | 54/200 [18:28<49:53, 20.50s/it]"
     ]
    },
    {
     "name": "stdout",
     "output_type": "stream",
     "text": [
      "Epoch: 53 | Train loss:0.0116 | Test loss : 0.0057\n",
      "0.010148084142069885\n"
     ]
    },
    {
     "name": "stderr",
     "output_type": "stream",
     "text": [
      " 28%|██▊       | 55/200 [18:49<49:34, 20.52s/it]"
     ]
    },
    {
     "name": "stdout",
     "output_type": "stream",
     "text": [
      "Epoch: 54 | Train loss:0.0101 | Test loss : 0.0057\n",
      "0.023199133898900902\n"
     ]
    },
    {
     "name": "stderr",
     "output_type": "stream",
     "text": [
      " 28%|██▊       | 56/200 [19:09<49:10, 20.49s/it]"
     ]
    },
    {
     "name": "stdout",
     "output_type": "stream",
     "text": [
      "Epoch: 55 | Train loss:0.0232 | Test loss : 0.0000\n",
      "0.03335154510062674\n"
     ]
    },
    {
     "name": "stderr",
     "output_type": "stream",
     "text": [
      " 28%|██▊       | 57/200 [19:30<48:50, 20.49s/it]"
     ]
    },
    {
     "name": "stdout",
     "output_type": "stream",
     "text": [
      "Epoch: 56 | Train loss:0.0334 | Test loss : 0.0000\n",
      "0.028992519322512806\n"
     ]
    },
    {
     "name": "stderr",
     "output_type": "stream",
     "text": [
      " 29%|██▉       | 58/200 [19:50<48:26, 20.47s/it]"
     ]
    },
    {
     "name": "stdout",
     "output_type": "stream",
     "text": [
      "Epoch: 57 | Train loss:0.0290 | Test loss : 0.0000\n",
      "0.010145028216251429\n"
     ]
    },
    {
     "name": "stderr",
     "output_type": "stream",
     "text": [
      " 30%|██▉       | 59/200 [20:11<48:06, 20.47s/it]"
     ]
    },
    {
     "name": "stdout",
     "output_type": "stream",
     "text": [
      "Epoch: 58 | Train loss:0.0101 | Test loss : 0.0057\n",
      "0.03624612114567687\n"
     ]
    },
    {
     "name": "stderr",
     "output_type": "stream",
     "text": [
      " 30%|███       | 60/200 [20:31<47:52, 20.52s/it]"
     ]
    },
    {
     "name": "stdout",
     "output_type": "stream",
     "text": [
      "Epoch: 59 | Train loss:0.0362 | Test loss : 0.0057\n",
      "0.030451491151167\n"
     ]
    },
    {
     "name": "stderr",
     "output_type": "stream",
     "text": [
      " 30%|███       | 61/200 [20:52<47:39, 20.57s/it]"
     ]
    },
    {
     "name": "stdout",
     "output_type": "stream",
     "text": [
      "Epoch: 60 | Train loss:0.0305 | Test loss : 0.0229\n",
      "0.015947537145752838\n"
     ]
    },
    {
     "name": "stderr",
     "output_type": "stream",
     "text": [
      " 31%|███       | 62/200 [21:13<47:14, 20.54s/it]"
     ]
    },
    {
     "name": "stdout",
     "output_type": "stream",
     "text": [
      "Epoch: 61 | Train loss:0.0159 | Test loss : 0.0000\n",
      "0.0057989036043485\n"
     ]
    },
    {
     "name": "stderr",
     "output_type": "stream",
     "text": [
      " 32%|███▏      | 63/200 [21:33<47:00, 20.58s/it]"
     ]
    },
    {
     "name": "stdout",
     "output_type": "stream",
     "text": [
      "Epoch: 62 | Train loss:0.0058 | Test loss : 0.0000\n",
      "0.02898754989323409\n"
     ]
    },
    {
     "name": "stderr",
     "output_type": "stream",
     "text": [
      " 32%|███▏      | 64/200 [21:54<46:41, 20.60s/it]"
     ]
    },
    {
     "name": "stdout",
     "output_type": "stream",
     "text": [
      "Epoch: 63 | Train loss:0.0290 | Test loss : 0.0286\n",
      "0.04204931077749833\n"
     ]
    },
    {
     "name": "stderr",
     "output_type": "stream",
     "text": [
      " 32%|███▎      | 65/200 [22:14<46:19, 20.59s/it]"
     ]
    },
    {
     "name": "stdout",
     "output_type": "stream",
     "text": [
      "Epoch: 64 | Train loss:0.0420 | Test loss : 0.0057\n",
      "0.024646387907905853\n"
     ]
    },
    {
     "name": "stderr",
     "output_type": "stream",
     "text": [
      " 33%|███▎      | 66/200 [22:35<45:53, 20.55s/it]"
     ]
    },
    {
     "name": "stdout",
     "output_type": "stream",
     "text": [
      "Epoch: 65 | Train loss:0.0246 | Test loss : 0.0057\n",
      "0.013046480067398237\n"
     ]
    },
    {
     "name": "stderr",
     "output_type": "stream",
     "text": [
      " 34%|███▎      | 67/200 [22:55<45:28, 20.52s/it]"
     ]
    },
    {
     "name": "stdout",
     "output_type": "stream",
     "text": [
      "Epoch: 66 | Train loss:0.0130 | Test loss : 0.0057\n",
      "0.002899523014607637\n"
     ]
    },
    {
     "name": "stderr",
     "output_type": "stream",
     "text": [
      " 34%|███▍      | 68/200 [23:16<45:01, 20.46s/it]"
     ]
    },
    {
     "name": "stdout",
     "output_type": "stream",
     "text": [
      "Epoch: 67 | Train loss:0.0029 | Test loss : 0.0000\n",
      "0.011598896073258442\n"
     ]
    },
    {
     "name": "stderr",
     "output_type": "stream",
     "text": [
      " 34%|███▍      | 69/200 [23:36<44:40, 20.46s/it]"
     ]
    },
    {
     "name": "stdout",
     "output_type": "stream",
     "text": [
      "Epoch: 68 | Train loss:0.0116 | Test loss : 0.0000\n",
      "0.007252902656361676\n"
     ]
    },
    {
     "name": "stderr",
     "output_type": "stream",
     "text": [
      " 35%|███▌      | 70/200 [23:57<44:29, 20.53s/it]"
     ]
    },
    {
     "name": "stdout",
     "output_type": "stream",
     "text": [
      "Epoch: 69 | Train loss:0.0073 | Test loss : 0.0057\n",
      "0.0\n"
     ]
    },
    {
     "name": "stderr",
     "output_type": "stream",
     "text": [
      " 36%|███▌      | 71/200 [24:17<44:10, 20.55s/it]"
     ]
    },
    {
     "name": "stdout",
     "output_type": "stream",
     "text": [
      "Epoch: 70 | Train loss:0.0000 | Test loss : 0.0057\n",
      "0.011600097452384838\n"
     ]
    },
    {
     "name": "stderr",
     "output_type": "stream",
     "text": [
      " 36%|███▌      | 72/200 [24:38<43:44, 20.50s/it]"
     ]
    },
    {
     "name": "stdout",
     "output_type": "stream",
     "text": [
      "Epoch: 71 | Train loss:0.0116 | Test loss : 0.0171\n",
      "0.018845928643924603\n"
     ]
    },
    {
     "name": "stderr",
     "output_type": "stream",
     "text": [
      " 36%|███▋      | 73/200 [24:59<43:34, 20.59s/it]"
     ]
    },
    {
     "name": "stdout",
     "output_type": "stream",
     "text": [
      "Epoch: 72 | Train loss:0.0188 | Test loss : 0.0114\n",
      "0.04494732369979223\n"
     ]
    },
    {
     "name": "stderr",
     "output_type": "stream",
     "text": [
      " 37%|███▋      | 74/200 [25:19<43:05, 20.52s/it]"
     ]
    },
    {
     "name": "stdout",
     "output_type": "stream",
     "text": [
      "Epoch: 73 | Train loss:0.0449 | Test loss : 0.0229\n",
      "0.023191453106161476\n"
     ]
    },
    {
     "name": "stderr",
     "output_type": "stream",
     "text": [
      " 38%|███▊      | 75/200 [25:39<42:41, 20.49s/it]"
     ]
    },
    {
     "name": "stdout",
     "output_type": "stream",
     "text": [
      "Epoch: 74 | Train loss:0.0232 | Test loss : 0.0000\n",
      "0.007249185140582098\n"
     ]
    },
    {
     "name": "stderr",
     "output_type": "stream",
     "text": [
      " 38%|███▊      | 76/200 [25:59<42:00, 20.33s/it]"
     ]
    },
    {
     "name": "stdout",
     "output_type": "stream",
     "text": [
      "Epoch: 75 | Train loss:0.0072 | Test loss : 0.0057\n",
      "0.0028991910858430724\n"
     ]
    },
    {
     "name": "stderr",
     "output_type": "stream",
     "text": [
      " 38%|███▊      | 77/200 [43:34<11:18:02, 330.76s/it]"
     ]
    },
    {
     "name": "stdout",
     "output_type": "stream",
     "text": [
      "Epoch: 76 | Train loss:0.0029 | Test loss : 0.0000\n",
      "0.01304695690455644\n"
     ]
    },
    {
     "name": "stderr",
     "output_type": "stream",
     "text": [
      " 39%|███▉      | 78/200 [43:56<8:03:40, 237.88s/it] "
     ]
    },
    {
     "name": "stdout",
     "output_type": "stream",
     "text": [
      "Epoch: 77 | Train loss:0.0130 | Test loss : 0.0000\n",
      "0.013046851732592651\n"
     ]
    },
    {
     "name": "stderr",
     "output_type": "stream",
     "text": [
      " 40%|███▉      | 79/200 [44:16<5:48:21, 172.74s/it]"
     ]
    },
    {
     "name": "stdout",
     "output_type": "stream",
     "text": [
      "Epoch: 78 | Train loss:0.0130 | Test loss : 0.0000\n",
      "0.0159501972189848\n"
     ]
    },
    {
     "name": "stderr",
     "output_type": "stream",
     "text": [
      " 40%|████      | 80/200 [44:37<4:13:59, 126.99s/it]"
     ]
    },
    {
     "name": "stdout",
     "output_type": "stream",
     "text": [
      "Epoch: 79 | Train loss:0.0160 | Test loss : 0.0000\n",
      "0.014497348471828129\n"
     ]
    },
    {
     "name": "stderr",
     "output_type": "stream",
     "text": [
      " 40%|████      | 81/200 [44:57<3:08:30, 95.05s/it] "
     ]
    },
    {
     "name": "stdout",
     "output_type": "stream",
     "text": [
      "Epoch: 80 | Train loss:0.0145 | Test loss : 0.0172\n",
      "0.011599485317002172\n"
     ]
    },
    {
     "name": "stderr",
     "output_type": "stream",
     "text": [
      " 41%|████      | 82/200 [45:17<2:22:49, 72.62s/it]"
     ]
    },
    {
     "name": "stdout",
     "output_type": "stream",
     "text": [
      "Epoch: 81 | Train loss:0.0116 | Test loss : 0.0057\n",
      "0.02609925727913345\n"
     ]
    },
    {
     "name": "stderr",
     "output_type": "stream",
     "text": [
      " 42%|████▏     | 83/200 [45:38<1:50:58, 56.91s/it]"
     ]
    },
    {
     "name": "stdout",
     "output_type": "stream",
     "text": [
      "Epoch: 82 | Train loss:0.0261 | Test loss : 0.0000\n",
      "0.024649854155554287\n"
     ]
    },
    {
     "name": "stderr",
     "output_type": "stream",
     "text": [
      " 42%|████▏     | 84/200 [45:58<1:28:52, 45.97s/it]"
     ]
    },
    {
     "name": "stdout",
     "output_type": "stream",
     "text": [
      "Epoch: 83 | Train loss:0.0246 | Test loss : 0.0057\n",
      "0.010150708474110866\n"
     ]
    },
    {
     "name": "stderr",
     "output_type": "stream",
     "text": [
      " 42%|████▎     | 85/200 [46:18<1:13:21, 38.28s/it]"
     ]
    },
    {
     "name": "stdout",
     "output_type": "stream",
     "text": [
      "Epoch: 84 | Train loss:0.0102 | Test loss : 0.0000\n",
      "0.004350021049596261\n"
     ]
    },
    {
     "name": "stderr",
     "output_type": "stream",
     "text": [
      " 43%|████▎     | 86/200 [46:39<1:02:31, 32.90s/it]"
     ]
    },
    {
     "name": "stdout",
     "output_type": "stream",
     "text": [
      "Epoch: 85 | Train loss:0.0044 | Test loss : 0.0000\n",
      "0.004350251909615337\n"
     ]
    },
    {
     "name": "stderr",
     "output_type": "stream",
     "text": [
      " 44%|████▎     | 87/200 [47:00<55:05, 29.25s/it]  "
     ]
    },
    {
     "name": "stdout",
     "output_type": "stream",
     "text": [
      "Epoch: 86 | Train loss:0.0044 | Test loss : 0.0000\n",
      "0.0014494101422420447\n"
     ]
    },
    {
     "name": "stderr",
     "output_type": "stream",
     "text": [
      " 44%|████▍     | 88/200 [47:20<49:42, 26.63s/it]"
     ]
    },
    {
     "name": "stdout",
     "output_type": "stream",
     "text": [
      "Epoch: 87 | Train loss:0.0014 | Test loss : 0.0000\n",
      "0.0\n"
     ]
    },
    {
     "name": "stderr",
     "output_type": "stream",
     "text": [
      " 44%|████▍     | 89/200 [47:40<45:45, 24.73s/it]"
     ]
    },
    {
     "name": "stdout",
     "output_type": "stream",
     "text": [
      "Epoch: 88 | Train loss:0.0000 | Test loss : 0.0000\n",
      "0.004348010472629381\n"
     ]
    },
    {
     "name": "stderr",
     "output_type": "stream",
     "text": [
      " 45%|████▌     | 90/200 [48:01<43:06, 23.51s/it]"
     ]
    },
    {
     "name": "stdout",
     "output_type": "stream",
     "text": [
      "Epoch: 89 | Train loss:0.0043 | Test loss : 0.0286\n",
      "0.020296820479890575\n"
     ]
    },
    {
     "name": "stderr",
     "output_type": "stream",
     "text": [
      " 46%|████▌     | 91/200 [48:22<41:25, 22.80s/it]"
     ]
    },
    {
     "name": "stdout",
     "output_type": "stream",
     "text": [
      "Epoch: 90 | Train loss:0.0203 | Test loss : 0.0000\n",
      "0.0028989477002102394\n"
     ]
    },
    {
     "name": "stderr",
     "output_type": "stream",
     "text": [
      " 46%|████▌     | 92/200 [48:43<39:49, 22.12s/it]"
     ]
    },
    {
     "name": "stdout",
     "output_type": "stream",
     "text": [
      "Epoch: 91 | Train loss:0.0029 | Test loss : 0.0172\n",
      "0.020303508401780888\n"
     ]
    },
    {
     "name": "stderr",
     "output_type": "stream",
     "text": [
      " 46%|████▋     | 93/200 [49:04<38:54, 21.82s/it]"
     ]
    },
    {
     "name": "stdout",
     "output_type": "stream",
     "text": [
      "Epoch: 92 | Train loss:0.0203 | Test loss : 0.0114\n",
      "0.008695410321588102\n"
     ]
    },
    {
     "name": "stderr",
     "output_type": "stream",
     "text": [
      " 47%|████▋     | 94/200 [49:24<37:50, 21.42s/it]"
     ]
    },
    {
     "name": "stdout",
     "output_type": "stream",
     "text": [
      "Epoch: 93 | Train loss:0.0087 | Test loss : 0.0000\n",
      "0.0028993166659189305\n"
     ]
    },
    {
     "name": "stderr",
     "output_type": "stream",
     "text": [
      " 48%|████▊     | 95/200 [49:45<36:58, 21.12s/it]"
     ]
    },
    {
     "name": "stdout",
     "output_type": "stream",
     "text": [
      "Epoch: 94 | Train loss:0.0029 | Test loss : 0.0000\n",
      "0.013048305675603342\n"
     ]
    },
    {
     "name": "stderr",
     "output_type": "stream",
     "text": [
      " 48%|████▊     | 96/200 [50:05<36:24, 21.01s/it]"
     ]
    },
    {
     "name": "stdout",
     "output_type": "stream",
     "text": [
      "Epoch: 95 | Train loss:0.0130 | Test loss : 0.0057\n",
      "0.007249028462430705\n"
     ]
    },
    {
     "name": "stderr",
     "output_type": "stream",
     "text": [
      " 48%|████▊     | 97/200 [50:26<35:56, 20.93s/it]"
     ]
    },
    {
     "name": "stdout",
     "output_type": "stream",
     "text": [
      "Epoch: 96 | Train loss:0.0072 | Test loss : 0.0000\n",
      "0.002898665873900704\n"
     ]
    },
    {
     "name": "stderr",
     "output_type": "stream",
     "text": [
      " 49%|████▉     | 98/200 [50:47<35:26, 20.85s/it]"
     ]
    },
    {
     "name": "stdout",
     "output_type": "stream",
     "text": [
      "Epoch: 97 | Train loss:0.0029 | Test loss : 0.0000\n",
      "0.004348064894261567\n"
     ]
    },
    {
     "name": "stderr",
     "output_type": "stream",
     "text": [
      " 50%|████▉     | 99/200 [51:07<34:53, 20.72s/it]"
     ]
    },
    {
     "name": "stdout",
     "output_type": "stream",
     "text": [
      "Epoch: 98 | Train loss:0.0043 | Test loss : 0.0057\n",
      "0.0014495862566906474\n"
     ]
    },
    {
     "name": "stderr",
     "output_type": "stream",
     "text": [
      " 50%|█████     | 100/200 [51:28<34:29, 20.69s/it]"
     ]
    },
    {
     "name": "stdout",
     "output_type": "stream",
     "text": [
      "Epoch: 99 | Train loss:0.0014 | Test loss : 0.0000\n",
      "0.005797794547633848\n"
     ]
    },
    {
     "name": "stderr",
     "output_type": "stream",
     "text": [
      " 50%|█████     | 101/200 [51:49<34:16, 20.77s/it]"
     ]
    },
    {
     "name": "stdout",
     "output_type": "stream",
     "text": [
      "Epoch: 100 | Train loss:0.0058 | Test loss : 0.0000\n",
      "0.021756475710350533\n"
     ]
    },
    {
     "name": "stderr",
     "output_type": "stream",
     "text": [
      " 51%|█████     | 102/200 [52:10<34:08, 20.90s/it]"
     ]
    },
    {
     "name": "stdout",
     "output_type": "stream",
     "text": [
      "Epoch: 101 | Train loss:0.0218 | Test loss : 0.0000\n",
      "0.0232101243691168\n"
     ]
    },
    {
     "name": "stderr",
     "output_type": "stream",
     "text": [
      " 52%|█████▏    | 103/200 [52:31<33:34, 20.77s/it]"
     ]
    },
    {
     "name": "stdout",
     "output_type": "stream",
     "text": [
      "Epoch: 102 | Train loss:0.0232 | Test loss : 0.0057\n",
      "0.014496317376261171\n"
     ]
    },
    {
     "name": "stderr",
     "output_type": "stream",
     "text": [
      " 52%|█████▏    | 104/200 [52:51<33:00, 20.63s/it]"
     ]
    },
    {
     "name": "stdout",
     "output_type": "stream",
     "text": [
      "Epoch: 103 | Train loss:0.0145 | Test loss : 0.0000\n",
      "0.004346169207407081\n"
     ]
    },
    {
     "name": "stderr",
     "output_type": "stream",
     "text": [
      " 52%|█████▎    | 105/200 [53:11<32:28, 20.51s/it]"
     ]
    },
    {
     "name": "stdout",
     "output_type": "stream",
     "text": [
      "Epoch: 104 | Train loss:0.0043 | Test loss : 0.0000\n",
      "0.0\n"
     ]
    },
    {
     "name": "stderr",
     "output_type": "stream",
     "text": [
      " 53%|█████▎    | 106/200 [53:31<32:02, 20.45s/it]"
     ]
    },
    {
     "name": "stdout",
     "output_type": "stream",
     "text": [
      "Epoch: 105 | Train loss:0.0000 | Test loss : 0.0000\n",
      "0.0014481908385304437\n"
     ]
    },
    {
     "name": "stderr",
     "output_type": "stream",
     "text": [
      " 54%|█████▎    | 107/200 [53:52<31:36, 20.39s/it]"
     ]
    },
    {
     "name": "stdout",
     "output_type": "stream",
     "text": [
      "Epoch: 106 | Train loss:0.0014 | Test loss : 0.0057\n",
      "0.008700031841146772\n"
     ]
    },
    {
     "name": "stderr",
     "output_type": "stream",
     "text": [
      " 54%|█████▍    | 108/200 [54:12<31:20, 20.44s/it]"
     ]
    },
    {
     "name": "stdout",
     "output_type": "stream",
     "text": [
      "Epoch: 107 | Train loss:0.0087 | Test loss : 0.0057\n",
      "0.002899502066598422\n"
     ]
    },
    {
     "name": "stderr",
     "output_type": "stream",
     "text": [
      " 55%|█████▍    | 109/200 [54:32<30:53, 20.37s/it]"
     ]
    },
    {
     "name": "stdout",
     "output_type": "stream",
     "text": [
      "Epoch: 108 | Train loss:0.0029 | Test loss : 0.0057\n",
      "0.01304600873719091\n"
     ]
    },
    {
     "name": "stderr",
     "output_type": "stream",
     "text": [
      " 55%|█████▌    | 110/200 [54:53<30:31, 20.35s/it]"
     ]
    },
    {
     "name": "stdout",
     "output_type": "stream",
     "text": [
      "Epoch: 109 | Train loss:0.0130 | Test loss : 0.0000\n",
      "0.0028982098767722864\n"
     ]
    },
    {
     "name": "stderr",
     "output_type": "stream",
     "text": [
      " 56%|█████▌    | 111/200 [55:13<30:05, 20.29s/it]"
     ]
    },
    {
     "name": "stdout",
     "output_type": "stream",
     "text": [
      "Epoch: 110 | Train loss:0.0029 | Test loss : 0.0000\n",
      "0.002898762731448464\n"
     ]
    },
    {
     "name": "stderr",
     "output_type": "stream",
     "text": [
      " 56%|█████▌    | 112/200 [55:33<29:44, 20.28s/it]"
     ]
    },
    {
     "name": "stdout",
     "output_type": "stream",
     "text": [
      "Epoch: 111 | Train loss:0.0029 | Test loss : 0.0000\n",
      "0.0014480412870213606\n"
     ]
    },
    {
     "name": "stderr",
     "output_type": "stream",
     "text": [
      " 56%|█████▋    | 113/200 [55:53<29:21, 20.25s/it]"
     ]
    },
    {
     "name": "stdout",
     "output_type": "stream",
     "text": [
      "Epoch: 112 | Train loss:0.0014 | Test loss : 0.0000\n",
      "0.010144929415073948\n"
     ]
    },
    {
     "name": "stderr",
     "output_type": "stream",
     "text": [
      " 57%|█████▋    | 114/200 [56:14<29:06, 20.31s/it]"
     ]
    },
    {
     "name": "stdout",
     "output_type": "stream",
     "text": [
      "Epoch: 113 | Train loss:0.0101 | Test loss : 0.0057\n",
      "0.03190193843582402\n"
     ]
    },
    {
     "name": "stderr",
     "output_type": "stream",
     "text": [
      " 57%|█████▊    | 115/200 [56:34<28:44, 20.29s/it]"
     ]
    },
    {
     "name": "stdout",
     "output_type": "stream",
     "text": [
      "Epoch: 114 | Train loss:0.0319 | Test loss : 0.0114\n",
      "0.01594729246436686\n"
     ]
    },
    {
     "name": "stderr",
     "output_type": "stream",
     "text": [
      " 58%|█████▊    | 116/200 [56:55<28:46, 20.55s/it]"
     ]
    },
    {
     "name": "stdout",
     "output_type": "stream",
     "text": [
      "Epoch: 115 | Train loss:0.0159 | Test loss : 0.0000\n",
      "0.008699440545793892\n"
     ]
    },
    {
     "name": "stderr",
     "output_type": "stream",
     "text": [
      " 58%|█████▊    | 117/200 [57:16<28:27, 20.58s/it]"
     ]
    },
    {
     "name": "stdout",
     "output_type": "stream",
     "text": [
      "Epoch: 116 | Train loss:0.0087 | Test loss : 0.0057\n",
      "0.004349174274914507\n"
     ]
    },
    {
     "name": "stderr",
     "output_type": "stream",
     "text": [
      " 59%|█████▉    | 118/200 [57:36<28:03, 20.53s/it]"
     ]
    },
    {
     "name": "stdout",
     "output_type": "stream",
     "text": [
      "Epoch: 117 | Train loss:0.0043 | Test loss : 0.0000\n",
      "0.00725090698055599\n"
     ]
    },
    {
     "name": "stderr",
     "output_type": "stream",
     "text": [
      " 60%|█████▉    | 119/200 [57:57<27:38, 20.48s/it]"
     ]
    },
    {
     "name": "stdout",
     "output_type": "stream",
     "text": [
      "Epoch: 118 | Train loss:0.0073 | Test loss : 0.0057\n",
      "0.001449736564055733\n"
     ]
    },
    {
     "name": "stderr",
     "output_type": "stream",
     "text": [
      " 60%|██████    | 120/200 [58:17<27:15, 20.45s/it]"
     ]
    },
    {
     "name": "stdout",
     "output_type": "stream",
     "text": [
      "Epoch: 119 | Train loss:0.0014 | Test loss : 0.0057\n",
      "0.004349963820498922\n"
     ]
    },
    {
     "name": "stderr",
     "output_type": "stream",
     "text": [
      " 60%|██████    | 121/200 [58:37<26:48, 20.36s/it]"
     ]
    },
    {
     "name": "stdout",
     "output_type": "stream",
     "text": [
      "Epoch: 120 | Train loss:0.0043 | Test loss : 0.0000\n",
      "0.0\n"
     ]
    },
    {
     "name": "stderr",
     "output_type": "stream",
     "text": [
      " 61%|██████    | 122/200 [58:57<26:25, 20.32s/it]"
     ]
    },
    {
     "name": "stdout",
     "output_type": "stream",
     "text": [
      "Epoch: 121 | Train loss:0.0000 | Test loss : 0.0000\n",
      "0.0\n"
     ]
    },
    {
     "name": "stderr",
     "output_type": "stream",
     "text": [
      " 62%|██████▏   | 123/200 [59:18<26:10, 20.39s/it]"
     ]
    },
    {
     "name": "stdout",
     "output_type": "stream",
     "text": [
      "Epoch: 122 | Train loss:0.0000 | Test loss : 0.0000\n",
      "0.001450228518333988\n"
     ]
    },
    {
     "name": "stderr",
     "output_type": "stream",
     "text": [
      " 62%|██████▏   | 124/200 [59:38<25:50, 20.40s/it]"
     ]
    },
    {
     "name": "stdout",
     "output_type": "stream",
     "text": [
      "Epoch: 123 | Train loss:0.0015 | Test loss : 0.0000\n",
      "0.002901023388772771\n"
     ]
    },
    {
     "name": "stderr",
     "output_type": "stream",
     "text": [
      " 62%|██████▎   | 125/200 [59:59<25:28, 20.38s/it]"
     ]
    },
    {
     "name": "stdout",
     "output_type": "stream",
     "text": [
      "Epoch: 124 | Train loss:0.0029 | Test loss : 0.0000\n",
      "0.002901275628718777\n"
     ]
    },
    {
     "name": "stderr",
     "output_type": "stream",
     "text": [
      " 63%|██████▎   | 126/200 [1:00:19<25:09, 20.40s/it]"
     ]
    },
    {
     "name": "stdout",
     "output_type": "stream",
     "text": [
      "Epoch: 125 | Train loss:0.0029 | Test loss : 0.0000\n",
      "0.0\n"
     ]
    },
    {
     "name": "stderr",
     "output_type": "stream",
     "text": [
      " 64%|██████▎   | 127/200 [1:00:39<24:48, 20.39s/it]"
     ]
    },
    {
     "name": "stdout",
     "output_type": "stream",
     "text": [
      "Epoch: 126 | Train loss:0.0000 | Test loss : 0.0000\n",
      "0.0\n"
     ]
    },
    {
     "name": "stderr",
     "output_type": "stream",
     "text": [
      " 64%|██████▍   | 128/200 [1:01:00<24:33, 20.47s/it]"
     ]
    },
    {
     "name": "stdout",
     "output_type": "stream",
     "text": [
      "Epoch: 127 | Train loss:0.0000 | Test loss : 0.0000\n",
      "0.0\n"
     ]
    },
    {
     "name": "stderr",
     "output_type": "stream",
     "text": [
      " 64%|██████▍   | 129/200 [1:01:20<24:06, 20.38s/it]"
     ]
    },
    {
     "name": "stdout",
     "output_type": "stream",
     "text": [
      "Epoch: 128 | Train loss:0.0000 | Test loss : 0.0000\n",
      "0.0\n"
     ]
    },
    {
     "name": "stderr",
     "output_type": "stream",
     "text": [
      " 65%|██████▌   | 130/200 [1:01:41<23:44, 20.35s/it]"
     ]
    },
    {
     "name": "stdout",
     "output_type": "stream",
     "text": [
      "Epoch: 129 | Train loss:0.0000 | Test loss : 0.0000\n",
      "0.0\n"
     ]
    },
    {
     "name": "stderr",
     "output_type": "stream",
     "text": [
      " 66%|██████▌   | 131/200 [1:02:01<23:20, 20.30s/it]"
     ]
    },
    {
     "name": "stdout",
     "output_type": "stream",
     "text": [
      "Epoch: 130 | Train loss:0.0000 | Test loss : 0.0000\n",
      "0.0\n"
     ]
    },
    {
     "name": "stderr",
     "output_type": "stream",
     "text": [
      " 66%|██████▌   | 132/200 [1:02:21<22:58, 20.27s/it]"
     ]
    },
    {
     "name": "stdout",
     "output_type": "stream",
     "text": [
      "Epoch: 131 | Train loss:0.0000 | Test loss : 0.0000\n",
      "0.0\n"
     ]
    },
    {
     "name": "stderr",
     "output_type": "stream",
     "text": [
      " 66%|██████▋   | 133/200 [1:02:41<22:40, 20.31s/it]"
     ]
    },
    {
     "name": "stdout",
     "output_type": "stream",
     "text": [
      "Epoch: 132 | Train loss:0.0000 | Test loss : 0.0000\n",
      "0.0\n"
     ]
    },
    {
     "name": "stderr",
     "output_type": "stream",
     "text": [
      " 67%|██████▋   | 134/200 [1:03:02<22:20, 20.31s/it]"
     ]
    },
    {
     "name": "stdout",
     "output_type": "stream",
     "text": [
      "Epoch: 133 | Train loss:0.0000 | Test loss : 0.0000\n",
      "0.0\n"
     ]
    },
    {
     "name": "stderr",
     "output_type": "stream",
     "text": [
      " 68%|██████▊   | 135/200 [1:03:22<21:57, 20.27s/it]"
     ]
    },
    {
     "name": "stdout",
     "output_type": "stream",
     "text": [
      "Epoch: 134 | Train loss:0.0000 | Test loss : 0.0000\n",
      "0.0\n"
     ]
    },
    {
     "name": "stderr",
     "output_type": "stream",
     "text": [
      " 68%|██████▊   | 136/200 [1:03:42<21:37, 20.27s/it]"
     ]
    },
    {
     "name": "stdout",
     "output_type": "stream",
     "text": [
      "Epoch: 135 | Train loss:0.0000 | Test loss : 0.0000\n",
      "0.0\n"
     ]
    },
    {
     "name": "stderr",
     "output_type": "stream",
     "text": [
      " 68%|██████▊   | 137/200 [1:04:02<21:14, 20.24s/it]"
     ]
    },
    {
     "name": "stdout",
     "output_type": "stream",
     "text": [
      "Epoch: 136 | Train loss:0.0000 | Test loss : 0.0000\n",
      "0.0\n"
     ]
    },
    {
     "name": "stderr",
     "output_type": "stream",
     "text": [
      " 69%|██████▉   | 138/200 [1:04:23<20:56, 20.27s/it]"
     ]
    },
    {
     "name": "stdout",
     "output_type": "stream",
     "text": [
      "Epoch: 137 | Train loss:0.0000 | Test loss : 0.0000\n",
      "0.0\n"
     ]
    },
    {
     "name": "stderr",
     "output_type": "stream",
     "text": [
      " 70%|██████▉   | 139/200 [1:04:43<20:35, 20.25s/it]"
     ]
    },
    {
     "name": "stdout",
     "output_type": "stream",
     "text": [
      "Epoch: 138 | Train loss:0.0000 | Test loss : 0.0000\n",
      "0.0\n"
     ]
    },
    {
     "name": "stderr",
     "output_type": "stream",
     "text": [
      " 70%|███████   | 140/200 [1:05:03<20:13, 20.23s/it]"
     ]
    },
    {
     "name": "stdout",
     "output_type": "stream",
     "text": [
      "Epoch: 139 | Train loss:0.0000 | Test loss : 0.0000\n",
      "0.0\n"
     ]
    },
    {
     "name": "stderr",
     "output_type": "stream",
     "text": [
      " 70%|███████   | 141/200 [1:05:23<19:53, 20.23s/it]"
     ]
    },
    {
     "name": "stdout",
     "output_type": "stream",
     "text": [
      "Epoch: 140 | Train loss:0.0000 | Test loss : 0.0000\n",
      "0.0\n"
     ]
    },
    {
     "name": "stderr",
     "output_type": "stream",
     "text": [
      " 71%|███████   | 142/200 [1:05:44<19:34, 20.25s/it]"
     ]
    },
    {
     "name": "stdout",
     "output_type": "stream",
     "text": [
      "Epoch: 141 | Train loss:0.0000 | Test loss : 0.0000\n",
      "0.0\n"
     ]
    },
    {
     "name": "stderr",
     "output_type": "stream",
     "text": [
      " 72%|███████▏  | 143/200 [1:06:04<19:12, 20.21s/it]"
     ]
    },
    {
     "name": "stdout",
     "output_type": "stream",
     "text": [
      "Epoch: 142 | Train loss:0.0000 | Test loss : 0.0000\n",
      "0.0\n"
     ]
    },
    {
     "name": "stderr",
     "output_type": "stream",
     "text": [
      " 72%|███████▏  | 144/200 [1:06:24<18:50, 20.19s/it]"
     ]
    },
    {
     "name": "stdout",
     "output_type": "stream",
     "text": [
      "Epoch: 143 | Train loss:0.0000 | Test loss : 0.0000\n",
      "0.0\n"
     ]
    },
    {
     "name": "stderr",
     "output_type": "stream",
     "text": [
      " 72%|███████▎  | 145/200 [1:06:44<18:32, 20.22s/it]"
     ]
    },
    {
     "name": "stdout",
     "output_type": "stream",
     "text": [
      "Epoch: 144 | Train loss:0.0000 | Test loss : 0.0000\n",
      "0.0\n"
     ]
    },
    {
     "name": "stderr",
     "output_type": "stream",
     "text": [
      " 73%|███████▎  | 146/200 [1:07:04<18:11, 20.21s/it]"
     ]
    },
    {
     "name": "stdout",
     "output_type": "stream",
     "text": [
      "Epoch: 145 | Train loss:0.0000 | Test loss : 0.0000\n",
      "0.0\n"
     ]
    },
    {
     "name": "stderr",
     "output_type": "stream",
     "text": [
      " 74%|███████▎  | 147/200 [1:07:25<17:53, 20.25s/it]"
     ]
    },
    {
     "name": "stdout",
     "output_type": "stream",
     "text": [
      "Epoch: 146 | Train loss:0.0000 | Test loss : 0.0000\n",
      "0.0\n"
     ]
    },
    {
     "name": "stderr",
     "output_type": "stream",
     "text": [
      " 74%|███████▍  | 148/200 [1:07:45<17:31, 20.22s/it]"
     ]
    },
    {
     "name": "stdout",
     "output_type": "stream",
     "text": [
      "Epoch: 147 | Train loss:0.0000 | Test loss : 0.0000\n",
      "0.0\n"
     ]
    },
    {
     "name": "stderr",
     "output_type": "stream",
     "text": [
      " 74%|███████▍  | 149/200 [1:08:05<17:09, 20.18s/it]"
     ]
    },
    {
     "name": "stdout",
     "output_type": "stream",
     "text": [
      "Epoch: 148 | Train loss:0.0000 | Test loss : 0.0000\n",
      "0.0\n"
     ]
    },
    {
     "name": "stderr",
     "output_type": "stream",
     "text": [
      " 75%|███████▌  | 150/200 [1:08:25<16:49, 20.19s/it]"
     ]
    },
    {
     "name": "stdout",
     "output_type": "stream",
     "text": [
      "Epoch: 149 | Train loss:0.0000 | Test loss : 0.0000\n",
      "0.0\n"
     ]
    },
    {
     "name": "stderr",
     "output_type": "stream",
     "text": [
      " 76%|███████▌  | 151/200 [1:08:45<16:30, 20.22s/it]"
     ]
    },
    {
     "name": "stdout",
     "output_type": "stream",
     "text": [
      "Epoch: 150 | Train loss:0.0000 | Test loss : 0.0000\n",
      "0.0\n"
     ]
    },
    {
     "name": "stderr",
     "output_type": "stream",
     "text": [
      " 76%|███████▌  | 152/200 [1:09:06<16:12, 20.26s/it]"
     ]
    },
    {
     "name": "stdout",
     "output_type": "stream",
     "text": [
      "Epoch: 151 | Train loss:0.0000 | Test loss : 0.0000\n",
      "0.0\n"
     ]
    },
    {
     "name": "stderr",
     "output_type": "stream",
     "text": [
      " 76%|███████▋  | 153/200 [1:09:26<15:54, 20.31s/it]"
     ]
    },
    {
     "name": "stdout",
     "output_type": "stream",
     "text": [
      "Epoch: 152 | Train loss:0.0000 | Test loss : 0.0000\n",
      "0.05367191157479217\n"
     ]
    },
    {
     "name": "stderr",
     "output_type": "stream",
     "text": [
      " 77%|███████▋  | 154/200 [1:09:46<15:33, 20.28s/it]"
     ]
    },
    {
     "name": "stdout",
     "output_type": "stream",
     "text": [
      "Epoch: 153 | Train loss:0.0537 | Test loss : 0.0515\n",
      "0.11015784006187881\n"
     ]
    },
    {
     "name": "stderr",
     "output_type": "stream",
     "text": [
      " 78%|███████▊  | 155/200 [1:10:07<15:16, 20.36s/it]"
     ]
    },
    {
     "name": "stdout",
     "output_type": "stream",
     "text": [
      "Epoch: 154 | Train loss:0.1102 | Test loss : 0.0114\n",
      "0.02609237121499103\n"
     ]
    },
    {
     "name": "stderr",
     "output_type": "stream",
     "text": [
      " 78%|███████▊  | 156/200 [1:10:27<14:56, 20.36s/it]"
     ]
    },
    {
     "name": "stdout",
     "output_type": "stream",
     "text": [
      "Epoch: 155 | Train loss:0.0261 | Test loss : 0.0057\n",
      "0.011593733360801918\n"
     ]
    },
    {
     "name": "stderr",
     "output_type": "stream",
     "text": [
      " 78%|███████▊  | 157/200 [1:10:48<14:34, 20.34s/it]"
     ]
    },
    {
     "name": "stdout",
     "output_type": "stream",
     "text": [
      "Epoch: 156 | Train loss:0.0116 | Test loss : 0.0000\n",
      "0.008698284841965939\n"
     ]
    },
    {
     "name": "stderr",
     "output_type": "stream",
     "text": [
      " 79%|███████▉  | 158/200 [1:11:08<14:12, 20.30s/it]"
     ]
    },
    {
     "name": "stdout",
     "output_type": "stream",
     "text": [
      "Epoch: 157 | Train loss:0.0087 | Test loss : 0.0000\n",
      "0.001448174209698387\n"
     ]
    },
    {
     "name": "stderr",
     "output_type": "stream",
     "text": [
      " 80%|███████▉  | 159/200 [1:11:28<13:51, 20.28s/it]"
     ]
    },
    {
     "name": "stdout",
     "output_type": "stream",
     "text": [
      "Epoch: 158 | Train loss:0.0014 | Test loss : 0.0000\n",
      "0.0014486669198326442\n"
     ]
    },
    {
     "name": "stderr",
     "output_type": "stream",
     "text": [
      " 80%|████████  | 160/200 [1:11:48<13:29, 20.23s/it]"
     ]
    },
    {
     "name": "stdout",
     "output_type": "stream",
     "text": [
      "Epoch: 159 | Train loss:0.0014 | Test loss : 0.0057\n",
      "0.0014487412096797557\n"
     ]
    },
    {
     "name": "stderr",
     "output_type": "stream",
     "text": [
      " 80%|████████  | 161/200 [1:12:08<13:07, 20.19s/it]"
     ]
    },
    {
     "name": "stdout",
     "output_type": "stream",
     "text": [
      "Epoch: 160 | Train loss:0.0014 | Test loss : 0.0000\n",
      "0.0014491275600765061\n"
     ]
    },
    {
     "name": "stderr",
     "output_type": "stream",
     "text": [
      " 81%|████████  | 162/200 [1:12:28<12:47, 20.19s/it]"
     ]
    },
    {
     "name": "stdout",
     "output_type": "stream",
     "text": [
      "Epoch: 161 | Train loss:0.0014 | Test loss : 0.0000\n",
      "0.005796935787235481\n"
     ]
    },
    {
     "name": "stderr",
     "output_type": "stream",
     "text": [
      " 82%|████████▏ | 163/200 [1:12:49<12:30, 20.27s/it]"
     ]
    },
    {
     "name": "stdout",
     "output_type": "stream",
     "text": [
      "Epoch: 162 | Train loss:0.0058 | Test loss : 0.0000\n",
      "0.02319604169199432\n"
     ]
    },
    {
     "name": "stderr",
     "output_type": "stream",
     "text": [
      " 82%|████████▏ | 164/200 [1:13:09<12:10, 20.30s/it]"
     ]
    },
    {
     "name": "stdout",
     "output_type": "stream",
     "text": [
      "Epoch: 163 | Train loss:0.0232 | Test loss : 0.0000\n",
      "0.011599046488602957\n"
     ]
    },
    {
     "name": "stderr",
     "output_type": "stream",
     "text": [
      " 82%|████████▎ | 165/200 [1:13:30<11:50, 20.29s/it]"
     ]
    },
    {
     "name": "stdout",
     "output_type": "stream",
     "text": [
      "Epoch: 164 | Train loss:0.0116 | Test loss : 0.0000\n",
      "0.005794733006885086\n"
     ]
    },
    {
     "name": "stderr",
     "output_type": "stream",
     "text": [
      " 83%|████████▎ | 166/200 [1:13:50<11:29, 20.27s/it]"
     ]
    },
    {
     "name": "stdout",
     "output_type": "stream",
     "text": [
      "Epoch: 165 | Train loss:0.0058 | Test loss : 0.0000\n",
      "0.0028990057931430097\n"
     ]
    },
    {
     "name": "stderr",
     "output_type": "stream",
     "text": [
      " 84%|████████▎ | 167/200 [1:14:10<11:08, 20.27s/it]"
     ]
    },
    {
     "name": "stdout",
     "output_type": "stream",
     "text": [
      "Epoch: 166 | Train loss:0.0029 | Test loss : 0.0000\n",
      "0.0\n"
     ]
    },
    {
     "name": "stderr",
     "output_type": "stream",
     "text": [
      " 84%|████████▍ | 168/200 [1:14:30<10:48, 20.27s/it]"
     ]
    },
    {
     "name": "stdout",
     "output_type": "stream",
     "text": [
      "Epoch: 167 | Train loss:0.0000 | Test loss : 0.0000\n",
      "0.0\n"
     ]
    },
    {
     "name": "stderr",
     "output_type": "stream",
     "text": [
      " 84%|████████▍ | 169/200 [1:14:51<10:29, 20.29s/it]"
     ]
    },
    {
     "name": "stdout",
     "output_type": "stream",
     "text": [
      "Epoch: 168 | Train loss:0.0000 | Test loss : 0.0000\n",
      "0.0014494100342626157\n"
     ]
    },
    {
     "name": "stderr",
     "output_type": "stream",
     "text": [
      " 85%|████████▌ | 170/200 [1:15:11<10:06, 20.22s/it]"
     ]
    },
    {
     "name": "stdout",
     "output_type": "stream",
     "text": [
      "Epoch: 169 | Train loss:0.0014 | Test loss : 0.0000\n",
      "0.0028995933092158775\n"
     ]
    },
    {
     "name": "stderr",
     "output_type": "stream",
     "text": [
      " 86%|████████▌ | 171/200 [1:15:31<09:46, 20.23s/it]"
     ]
    },
    {
     "name": "stdout",
     "output_type": "stream",
     "text": [
      "Epoch: 170 | Train loss:0.0029 | Test loss : 0.0000\n",
      "0.020297214172888493\n"
     ]
    },
    {
     "name": "stderr",
     "output_type": "stream",
     "text": [
      " 86%|████████▌ | 172/200 [1:15:51<09:25, 20.21s/it]"
     ]
    },
    {
     "name": "stdout",
     "output_type": "stream",
     "text": [
      "Epoch: 171 | Train loss:0.0203 | Test loss : 0.0057\n",
      "0.015947163968846417\n"
     ]
    },
    {
     "name": "stderr",
     "output_type": "stream",
     "text": [
      " 86%|████████▋ | 173/200 [1:16:11<09:05, 20.19s/it]"
     ]
    },
    {
     "name": "stdout",
     "output_type": "stream",
     "text": [
      "Epoch: 172 | Train loss:0.0159 | Test loss : 0.0114\n",
      "0.0072477326013039856\n"
     ]
    },
    {
     "name": "stderr",
     "output_type": "stream",
     "text": [
      " 87%|████████▋ | 174/200 [1:16:32<08:45, 20.22s/it]"
     ]
    },
    {
     "name": "stdout",
     "output_type": "stream",
     "text": [
      "Epoch: 173 | Train loss:0.0072 | Test loss : 0.0057\n",
      "0.004349953238514887\n"
     ]
    },
    {
     "name": "stderr",
     "output_type": "stream",
     "text": [
      " 88%|████████▊ | 175/200 [1:16:52<08:26, 20.24s/it]"
     ]
    },
    {
     "name": "stdout",
     "output_type": "stream",
     "text": [
      "Epoch: 174 | Train loss:0.0043 | Test loss : 0.0000\n",
      "0.0014490720586500306\n"
     ]
    },
    {
     "name": "stderr",
     "output_type": "stream",
     "text": [
      " 88%|████████▊ | 176/200 [1:17:12<08:05, 20.23s/it]"
     ]
    },
    {
     "name": "stdout",
     "output_type": "stream",
     "text": [
      "Epoch: 175 | Train loss:0.0014 | Test loss : 0.0000\n",
      "0.0\n"
     ]
    },
    {
     "name": "stderr",
     "output_type": "stream",
     "text": [
      " 88%|████████▊ | 177/200 [1:17:33<07:49, 20.41s/it]"
     ]
    },
    {
     "name": "stdout",
     "output_type": "stream",
     "text": [
      "Epoch: 176 | Train loss:0.0000 | Test loss : 0.0000\n",
      "0.0\n"
     ]
    },
    {
     "name": "stderr",
     "output_type": "stream",
     "text": [
      " 89%|████████▉ | 178/200 [1:17:54<07:31, 20.51s/it]"
     ]
    },
    {
     "name": "stdout",
     "output_type": "stream",
     "text": [
      "Epoch: 177 | Train loss:0.0000 | Test loss : 0.0000\n",
      "0.0\n"
     ]
    },
    {
     "name": "stderr",
     "output_type": "stream",
     "text": [
      " 90%|████████▉ | 179/200 [1:18:14<07:09, 20.46s/it]"
     ]
    },
    {
     "name": "stdout",
     "output_type": "stream",
     "text": [
      "Epoch: 178 | Train loss:0.0000 | Test loss : 0.0000\n",
      "0.0\n"
     ]
    },
    {
     "name": "stderr",
     "output_type": "stream",
     "text": [
      " 90%|█████████ | 180/200 [1:18:34<06:49, 20.45s/it]"
     ]
    },
    {
     "name": "stdout",
     "output_type": "stream",
     "text": [
      "Epoch: 179 | Train loss:0.0000 | Test loss : 0.0000\n",
      "0.0\n"
     ]
    },
    {
     "name": "stderr",
     "output_type": "stream",
     "text": [
      " 90%|█████████ | 181/200 [1:18:55<06:28, 20.47s/it]"
     ]
    },
    {
     "name": "stdout",
     "output_type": "stream",
     "text": [
      "Epoch: 180 | Train loss:0.0000 | Test loss : 0.0000\n",
      "0.0\n"
     ]
    },
    {
     "name": "stderr",
     "output_type": "stream",
     "text": [
      " 91%|█████████ | 182/200 [1:19:17<06:17, 20.99s/it]"
     ]
    },
    {
     "name": "stdout",
     "output_type": "stream",
     "text": [
      "Epoch: 181 | Train loss:0.0000 | Test loss : 0.0000\n",
      "0.0\n"
     ]
    },
    {
     "name": "stderr",
     "output_type": "stream",
     "text": [
      " 92%|█████████▏| 183/200 [1:19:39<05:59, 21.13s/it]"
     ]
    },
    {
     "name": "stdout",
     "output_type": "stream",
     "text": [
      "Epoch: 182 | Train loss:0.0000 | Test loss : 0.0000\n",
      "0.0\n"
     ]
    },
    {
     "name": "stderr",
     "output_type": "stream",
     "text": [
      " 92%|█████████▏| 184/200 [1:19:59<05:35, 20.97s/it]"
     ]
    },
    {
     "name": "stdout",
     "output_type": "stream",
     "text": [
      "Epoch: 183 | Train loss:0.0000 | Test loss : 0.0000\n",
      "0.0\n"
     ]
    },
    {
     "name": "stderr",
     "output_type": "stream",
     "text": [
      " 92%|█████████▎| 185/200 [1:20:20<05:12, 20.80s/it]"
     ]
    },
    {
     "name": "stdout",
     "output_type": "stream",
     "text": [
      "Epoch: 184 | Train loss:0.0000 | Test loss : 0.0000\n",
      "0.0\n"
     ]
    },
    {
     "name": "stderr",
     "output_type": "stream",
     "text": [
      " 93%|█████████▎| 186/200 [1:20:40<04:48, 20.62s/it]"
     ]
    },
    {
     "name": "stdout",
     "output_type": "stream",
     "text": [
      "Epoch: 185 | Train loss:0.0000 | Test loss : 0.0000\n",
      "0.0\n"
     ]
    },
    {
     "name": "stderr",
     "output_type": "stream",
     "text": [
      " 94%|█████████▎| 187/200 [1:21:00<04:26, 20.50s/it]"
     ]
    },
    {
     "name": "stdout",
     "output_type": "stream",
     "text": [
      "Epoch: 186 | Train loss:0.0000 | Test loss : 0.0000\n",
      "0.0\n"
     ]
    },
    {
     "name": "stderr",
     "output_type": "stream",
     "text": [
      " 94%|█████████▍| 188/200 [1:21:21<04:06, 20.51s/it]"
     ]
    },
    {
     "name": "stdout",
     "output_type": "stream",
     "text": [
      "Epoch: 187 | Train loss:0.0000 | Test loss : 0.0000\n",
      "0.0\n"
     ]
    },
    {
     "name": "stderr",
     "output_type": "stream",
     "text": [
      " 94%|█████████▍| 189/200 [1:21:41<03:44, 20.44s/it]"
     ]
    },
    {
     "name": "stdout",
     "output_type": "stream",
     "text": [
      "Epoch: 188 | Train loss:0.0000 | Test loss : 0.0000\n",
      "0.0\n"
     ]
    },
    {
     "name": "stderr",
     "output_type": "stream",
     "text": [
      " 95%|█████████▌| 190/200 [1:22:01<03:24, 20.45s/it]"
     ]
    },
    {
     "name": "stdout",
     "output_type": "stream",
     "text": [
      "Epoch: 189 | Train loss:0.0000 | Test loss : 0.0000\n",
      "0.0\n"
     ]
    },
    {
     "name": "stderr",
     "output_type": "stream",
     "text": [
      " 96%|█████████▌| 191/200 [1:22:22<03:05, 20.56s/it]"
     ]
    },
    {
     "name": "stdout",
     "output_type": "stream",
     "text": [
      "Epoch: 190 | Train loss:0.0000 | Test loss : 0.0000\n",
      "0.0\n"
     ]
    },
    {
     "name": "stderr",
     "output_type": "stream",
     "text": [
      " 96%|█████████▌| 192/200 [1:22:43<02:44, 20.53s/it]"
     ]
    },
    {
     "name": "stdout",
     "output_type": "stream",
     "text": [
      "Epoch: 191 | Train loss:0.0000 | Test loss : 0.0000\n",
      "0.0\n"
     ]
    },
    {
     "name": "stderr",
     "output_type": "stream",
     "text": [
      " 96%|█████████▋| 193/200 [1:23:03<02:24, 20.58s/it]"
     ]
    },
    {
     "name": "stdout",
     "output_type": "stream",
     "text": [
      "Epoch: 192 | Train loss:0.0000 | Test loss : 0.0000\n",
      "0.0\n"
     ]
    },
    {
     "name": "stderr",
     "output_type": "stream",
     "text": [
      " 97%|█████████▋| 194/200 [1:23:24<02:03, 20.53s/it]"
     ]
    },
    {
     "name": "stdout",
     "output_type": "stream",
     "text": [
      "Epoch: 193 | Train loss:0.0000 | Test loss : 0.0000\n",
      "0.0\n"
     ]
    },
    {
     "name": "stderr",
     "output_type": "stream",
     "text": [
      " 98%|█████████▊| 195/200 [1:23:44<01:42, 20.48s/it]"
     ]
    },
    {
     "name": "stdout",
     "output_type": "stream",
     "text": [
      "Epoch: 194 | Train loss:0.0000 | Test loss : 0.0000\n",
      "0.0\n"
     ]
    },
    {
     "name": "stderr",
     "output_type": "stream",
     "text": [
      " 98%|█████████▊| 196/200 [1:24:04<01:21, 20.44s/it]"
     ]
    },
    {
     "name": "stdout",
     "output_type": "stream",
     "text": [
      "Epoch: 195 | Train loss:0.0000 | Test loss : 0.0000\n",
      "0.0\n"
     ]
    },
    {
     "name": "stderr",
     "output_type": "stream",
     "text": [
      " 98%|█████████▊| 197/200 [1:24:25<01:01, 20.41s/it]"
     ]
    },
    {
     "name": "stdout",
     "output_type": "stream",
     "text": [
      "Epoch: 196 | Train loss:0.0000 | Test loss : 0.0000\n",
      "0.0\n"
     ]
    },
    {
     "name": "stderr",
     "output_type": "stream",
     "text": [
      " 99%|█████████▉| 198/200 [1:24:45<00:40, 20.37s/it]"
     ]
    },
    {
     "name": "stdout",
     "output_type": "stream",
     "text": [
      "Epoch: 197 | Train loss:0.0000 | Test loss : 0.0000\n",
      "0.0\n"
     ]
    },
    {
     "name": "stderr",
     "output_type": "stream",
     "text": [
      "100%|█████████▉| 199/200 [1:25:05<00:20, 20.40s/it]"
     ]
    },
    {
     "name": "stdout",
     "output_type": "stream",
     "text": [
      "Epoch: 198 | Train loss:0.0000 | Test loss : 0.0000\n",
      "0.0\n"
     ]
    },
    {
     "name": "stderr",
     "output_type": "stream",
     "text": [
      "100%|██████████| 200/200 [1:25:26<00:00, 25.63s/it]"
     ]
    },
    {
     "name": "stdout",
     "output_type": "stream",
     "text": [
      "Epoch: 199 | Train loss:0.0000 | Test loss : 0.0000\n"
     ]
    },
    {
     "name": "stderr",
     "output_type": "stream",
     "text": [
      "\n"
     ]
    }
   ],
   "source": [
    "results_model_1=train_model(\n",
    "    model=model_1,\n",
    "    train_dataloader=train_loader,\n",
    "    test_dataloader=test_loader,\n",
    "    optimizer=optimizer,\n",
    "    loss_fn=loss_fn,\n",
    "    minig_func=minig_func,\n",
    "    epochs=200,\n",
    "    device=device\n",
    ")"
   ]
  },
  {
   "cell_type": "markdown",
   "metadata": {},
   "source": []
  },
  {
   "cell_type": "code",
   "execution_count": 125,
   "metadata": {},
   "outputs": [],
   "source": [
    "from typing import Dict,List"
   ]
  },
  {
   "cell_type": "code",
   "execution_count": 128,
   "metadata": {},
   "outputs": [],
   "source": [
    "def plot_loss_curves(results:Dict[str,List[float]]):\n",
    "    \"\"\"\n",
    "    Plots training curves of a results dictionary.\n",
    "    \"\"\"\n",
    "    #Get the loss values of the results dictionary (training and test)\n",
    "    loss=results[\"train_loss\"]\n",
    "    test_loss=results[\"test_loss\"]\n",
    "\n",
    "    #Get the accuracy values of the results dictionary (training and test)\n",
    "    #acc=results[\"train_acc\"]\n",
    "    #test_acc=results[\"test_acc\"]\n",
    "\n",
    "    #Figure out how many epochs there where\n",
    "    epochs=range(len(results[\"train_loss\"]))\n",
    "\n",
    "    plt.figure(figsize=(15,7))\n",
    "\n",
    "    #Plot the loss\n",
    "    plt.subplot(1,2,1)\n",
    "    plt.plot(epochs,loss,label='train_loss')\n",
    "    plt.plot(epochs,test_loss,label='test_loss')\n",
    "    plt.title(\"Loss\")\n",
    "    plt.xlabel(\"Epochs\")\n",
    "    plt.legend()\n",
    "\n",
    "    #Plot the accuracy\n",
    "    #plt.subplot(1,2,2)\n",
    "    #plt.plot(epochs,acc,label='train_acc')\n",
    "    #plt.plot(epochs,test_acc,label='test_acc')\n",
    "    #plt.title(\"Accuracy\")\n",
    "    #plt.xlabel(\"Epochs\")\n",
    "    #plt.legend()"
   ]
  },
  {
   "cell_type": "code",
   "execution_count": 131,
   "metadata": {},
   "outputs": [
    {
     "data": {
      "image/png": "[encoded data removed]",
      "text/plain": [
       "<Figure size 1500x700 with 1 Axes>"
      ]
     },
     "metadata": {},
     "output_type": "display_data"
    }
   ],
   "source": [
    "plot_loss_curves(results_model_1)"
   ]
  },
  {
   "cell_type": "code",
   "execution_count": null,
   "metadata": {},
   "outputs": [],
   "source": []
  }
 ],
 "metadata": {
  "kernelspec": {
   "display_name": "venv2",
   "language": "python",
   "name": "python3"
  },
  "language_info": {
   "codemirror_mode": {
    "name": "ipython",
    "version": 3
   },
   "file_extension": ".py",
   "mimetype": "text/x-python",
   "name": "python",
   "nbconvert_exporter": "python",
   "pygments_lexer": "ipython3",
   "version": "3.10.11"
  }
 },
 "nbformat": 4,
 "nbformat_minor": 2
}
