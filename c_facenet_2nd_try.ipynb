{
 "cells": [
  {
   "cell_type": "code",
   "execution_count": 65,
   "metadata": {},
   "outputs": [],
   "source": [
    "import time\n",
    "import copy\n",
    "\n",
    "import torch\n",
    "import torch.nn as nn\n",
    "import torch.optim as optim\n",
    "import torchvision\n",
    "import torchvision.transforms as transforms\n",
    "\n",
    "import numpy as np\n",
    "import pandas as pd\n",
    "import matplotlib.pyplot as plt\n",
    "\n",
    "from torch import nn\n",
    "from torch.utils.data import DataLoader\n",
    "from torchvision.utils import make_grid\n",
    "\n",
    "import tqdm\n",
    "from tqdm.auto import tqdm;"
   ]
  },
  {
   "cell_type": "code",
   "execution_count": 66,
   "metadata": {},
   "outputs": [],
   "source": [
    "# Make a device agnostic code\n",
    "device = \"cuda\" if torch.cuda.is_available() else \"cpu\""
   ]
  },
  {
   "cell_type": "code",
   "execution_count": 82,
   "metadata": {},
   "outputs": [
    {
     "data": {
      "text/plain": [
       "'cuda'"
      ]
     },
     "execution_count": 82,
     "metadata": {},
     "output_type": "execute_result"
    }
   ],
   "source": [
    "device"
   ]
  },
  {
   "cell_type": "code",
   "execution_count": 67,
   "metadata": {},
   "outputs": [
    {
     "name": "stdout",
     "output_type": "stream",
     "text": [
      "Number of gpus: 1\n"
     ]
    }
   ],
   "source": [
    "#GPUS\n",
    "n_gpus = torch.cuda.device_count()\n",
    "print(f\"Number of gpus: {n_gpus}\")"
   ]
  },
  {
   "cell_type": "code",
   "execution_count": 68,
   "metadata": {},
   "outputs": [],
   "source": [
    "class ConvBlock (nn.Module):\n",
    "    def __init__(self,\n",
    "                in_channels: int,\n",
    "                out_channels: int,\n",
    "                 **kwargs): # this means that the key arguments are arbitrary\n",
    "        super().__init__()\n",
    "\n",
    "        self.relu = nn.ReLU()\n",
    "        self.conv = nn.Conv2d(in_channels=in_channels,\n",
    "                            out_channels=out_channels,\n",
    "                              **kwargs,\n",
    "                            device=device)\n",
    "        self.batchnorm = nn.BatchNorm2d(num_features=out_channels) # to improve performance\n",
    "    \n",
    "    def forward(self,x):\n",
    "        x = self.conv(x)\n",
    "        x = self.batchnorm(x)\n",
    "        x = self.relu(x)\n",
    "        return x"
   ]
  },
  {
   "cell_type": "code",
   "execution_count": 69,
   "metadata": {},
   "outputs": [],
   "source": [
    "class L2NormLayer(nn.Module):\n",
    "    def __init__(self,dim=1):\n",
    "        super().__init__()\n",
    "        self.dim=dim\n",
    "    \n",
    "    def forward(self,x):\n",
    "        return nn.functional.normalize(x,p=2,dim=self.dim)"
   ]
  },
  {
   "cell_type": "code",
   "execution_count": 70,
   "metadata": {},
   "outputs": [],
   "source": [
    "class InceptionBlock (nn.Module):\n",
    "        def __init__(self,\n",
    "                in_channels: int,\n",
    "                out_1x1: int,\n",
    "\n",
    "                red_3x3: int,\n",
    "                out_3x3: int,\n",
    "\n",
    "                red_5x5: int,\n",
    "                out_5x5: int,\n",
    "\n",
    "                out_1x1pool: int,\n",
    "                \n",
    "                l2_mode:bool=False):\n",
    "        \n",
    "                super().__init__()\n",
    "\n",
    "                self.branch1 = ConvBlock(in_channels=in_channels,\n",
    "                                        out_channels=out_1x1,\n",
    "                                        kernel_size=1)\n",
    "                \n",
    "                self.branch2 = nn.Sequential(\n",
    "                        ConvBlock(in_channels=in_channels,\n",
    "                                out_channels=red_3x3,\n",
    "                                kernel_size=1),\n",
    "                        ConvBlock(in_channels=red_3x3,\n",
    "                                out_channels=out_3x3,\n",
    "                                kernel_size=3,\n",
    "                                padding=1) # ojo (btw no ponemos el S bc por defecto es 1)\n",
    "                )\n",
    "                \n",
    "                self.branch3 = nn.Sequential(\n",
    "                        ConvBlock(in_channels=in_channels,\n",
    "                                out_channels=red_5x5,\n",
    "                                kernel_size=1),\n",
    "                        ConvBlock(in_channels=red_5x5,\n",
    "                                out_channels=out_5x5,\n",
    "                                kernel_size=5,\n",
    "                                padding=2) # ojo (btw no ponemos el S bc por defecto es 1)\n",
    "                )\n",
    "\n",
    "                if l2_mode:\n",
    "                        self.branch4=nn.Sequential(\n",
    "                                L2NormLayer(dim=1),\n",
    "                                ConvBlock(in_channels=in_channels,\n",
    "                                out_channels=out_1x1pool,\n",
    "                                kernel_size=1)\n",
    "                        )\n",
    "                else:\n",
    "                        self.branch4 = nn.Sequential(\n",
    "                                nn.MaxPool2d(kernel_size=3,stride=1,padding=1),\n",
    "                                ConvBlock(in_channels=in_channels,\n",
    "                                        out_channels=out_1x1pool,\n",
    "                                        kernel_size=1)\n",
    "                        )\n",
    "\n",
    "        def forward(self,x):\n",
    "        # N x filters x 28 x 28 → 0th x 1st x 2nd x 3rd dimension (we use 1)\n",
    "                return torch.cat([self.branch1(x),self.branch2(x),self.branch3(x),self.branch4(x)],1)"
   ]
  },
  {
   "cell_type": "code",
   "execution_count": 71,
   "metadata": {},
   "outputs": [],
   "source": [
    "class InceptionBlock_2(nn.Module):\n",
    "    def __init__(self, \n",
    "                in_channels:int, \n",
    "                red_3x3:int,\n",
    "                out_3x3:int) -> None:\n",
    "        super().__init__()\n",
    "        self.branch=nn.Sequential(\n",
    "            ConvBlock(in_channels=in_channels,\n",
    "                    out_channels=red_3x3,\n",
    "                    kernel_size=1),\n",
    "            ConvBlock(in_channels=red_3x3,\n",
    "                    out_channels=out_3x3,\n",
    "                    kernel_size=3)\n",
    "        )\n",
    "    def forward(self,x):\n",
    "        return self.branch(x)"
   ]
  },
  {
   "cell_type": "code",
   "execution_count": 202,
   "metadata": {},
   "outputs": [],
   "source": [
    "class InceptionBlock_m_3x3 (nn.Module):\n",
    "        def __init__(self,\n",
    "                in_channels: int,\n",
    "\n",
    "                red_3x3: int,\n",
    "                out_3x3: int,\n",
    "\n",
    "                red_5x5: int,\n",
    "                out_5x5: int):\n",
    "        \n",
    "                super().__init__()\n",
    "\n",
    "                self.branch2 = nn.Sequential(\n",
    "                        ConvBlock(in_channels=in_channels,\n",
    "                                out_channels=red_3x3,\n",
    "                                kernel_size=1),\n",
    "                        ConvBlock(in_channels=red_3x3,\n",
    "                                out_channels=out_3x3,\n",
    "                                kernel_size=3,\n",
    "                                padding=1,\n",
    "                                stride=2) # ojo (btw no ponemos el S bc por defecto es 1)\n",
    "                )\n",
    "                \n",
    "                self.branch3 = nn.Sequential(\n",
    "                        ConvBlock(in_channels=in_channels,\n",
    "                                out_channels=red_5x5,\n",
    "                                kernel_size=1),\n",
    "                        ConvBlock(in_channels=red_5x5,\n",
    "                                out_channels=out_5x5,\n",
    "                                kernel_size=5,\n",
    "                                padding=2,\n",
    "                                stride=2) # ojo (btw no ponemos el S bc por defecto es 1)\n",
    "                )\n",
    "\n",
    "                self.branch4 = nn.Sequential(\n",
    "                        nn.MaxPool2d(kernel_size=3,stride=2,padding=1), #TODO: VERIFICAR LO DEL PADDING CON JAVIER\n",
    "                )\n",
    "\n",
    "        def forward(self,x):\n",
    "        # N x filters x 28 x 28 → 0th x 1st x 2nd x 3rd dimension (we use 1)\n",
    "                return torch.cat([self.branch2(x),self.branch3(x),self.branch4(x)],1)"
   ]
  },
  {
   "cell_type": "code",
   "execution_count": 218,
   "metadata": {},
   "outputs": [],
   "source": [
    "class NN2 (nn.Module):\n",
    "    def __init__(self,\n",
    "                in_channels = 3):\n",
    "        super().__init__()\n",
    "\n",
    "        self.conv1 = ConvBlock(in_channels=in_channels,\n",
    "                            out_channels=64,\n",
    "                            kernel_size=7,\n",
    "                            stride=2,\n",
    "                            padding=3)\n",
    "        \n",
    "        self.inception2 = InceptionBlock_2(in_channels=64, #la cantidad de canales que entran y salen es la misma. ¿esto es correcto?\n",
    "                                        red_3x3=64,\n",
    "                                        out_3x3=192)\n",
    "        \n",
    "        self.inception3a = InceptionBlock( in_channels= 192, out_1x1= 64, red_3x3= 96, out_3x3= 128, red_5x5= 16,out_5x5= 32, out_1x1pool= 32)#ok\n",
    "        self.inception3b = InceptionBlock( in_channels= 256, out_1x1= 64, red_3x3= 96, out_3x3= 128, red_5x5= 32,out_5x5= 64, out_1x1pool= 64,l2_mode=True)\n",
    "        #modificar desactivando branch 1 y 4\n",
    "        self.inception3c = InceptionBlock_m_3x3( in_channels= 320, red_3x3= 128, out_3x3= 256, red_5x5= 32,out_5x5= 64)\n",
    "        \n",
    "        self.inception4a = InceptionBlock( in_channels= 640, out_1x1= 256, red_3x3= 96, out_3x3= 192, red_5x5= 32,out_5x5= 64, out_1x1pool= 128,l2_mode=True)\n",
    "        self.inception4b = InceptionBlock( in_channels= 640, out_1x1= 224, red_3x3= 112, out_3x3= 224, red_5x5= 32,out_5x5= 64, out_1x1pool= 128,l2_mode=True)\n",
    "        self.inception4c = InceptionBlock( in_channels= 640, out_1x1= 192, red_3x3= 128, out_3x3= 256, red_5x5= 32,out_5x5= 64, out_1x1pool= 128,l2_mode=True)\n",
    "        self.inception4d = InceptionBlock( in_channels= 640, out_1x1= 160, red_3x3= 144, out_3x3= 288, red_5x5= 32,out_5x5= 64, out_1x1pool= 128,l2_mode=True)\n",
    "        #modificar desactivando branch 1 y 4\n",
    "        self.inception4e = InceptionBlock_m_3x3( in_channels= 640, red_3x3= 160, out_3x3= 256, red_5x5= 64,out_5x5= 128)\n",
    "        \n",
    "        self.inception5a = InceptionBlock( in_channels= 1024, out_1x1= 384, red_3x3= 192, out_3x3= 384, red_5x5= 48,out_5x5= 128, out_1x1pool= 128,l2_mode=True)\n",
    "        self.inception5b = InceptionBlock( in_channels= 1024, out_1x1= 384, red_3x3= 192, out_3x3= 384, red_5x5= 48,out_5x5= 128, out_1x1pool= 128)#ok\n",
    "        \n",
    "        self.maxpool = nn.MaxPool2d(kernel_size=3,stride=2,padding=1) #por que se aplico un max pool?\n",
    "\n",
    "        self.avgpool = nn.AvgPool2d(kernel_size=7) # stride? padding?\n",
    "        \n",
    "        self.FC = nn.Linear(1024,128)\n",
    "\n",
    "        self.norm=nn.BatchNorm2d(num_features=64)\n",
    "\n",
    "\n",
    "    def forward(self,x):\n",
    "        x = self.conv1(x)\n",
    "        x = self.maxpool(x)\n",
    "\n",
    "        x=self.norm(x)\n",
    "\n",
    "        x = self.inception2(x)\n",
    "        x = self.maxpool(x)\n",
    "\n",
    "        x = self.inception3a(x)\n",
    "        x = self.inception3b(x)\n",
    "        x = self.inception3c(x)\n",
    "\n",
    "        x = self.inception4a(x)\n",
    "        x = self.inception4b(x)\n",
    "        x = self.inception4c(x)\n",
    "        x = self.inception4d(x)\n",
    "        x = self.inception4e(x)\n",
    "\n",
    "        x = self.inception5a(x)\n",
    "        x = self.inception5b(x)\n",
    "        #print('Despues del inception 5b',x.shape)\n",
    "        x = self.avgpool(x)\n",
    "        #print('Despues del avg pool',x.shape)\n",
    "\n",
    "        x=x.view(x.shape[0],-1)\n",
    "\n",
    "        x = self.FC(x)\n",
    "        #print('Despues de fully connected layer',x.shape)\n",
    "        x = nn.functional.normalize(x,p=2,dim=1)\n",
    "\n",
    "        return x"
   ]
  },
  {
   "cell_type": "code",
   "execution_count": 214,
   "metadata": {},
   "outputs": [],
   "source": [
    "torch.manual_seed(42)\n",
    "model_1 = NN2(in_channels=3).to(device)"
   ]
  },
  {
   "cell_type": "code",
   "execution_count": 215,
   "metadata": {},
   "outputs": [],
   "source": [
    "#Sample de prueba\n",
    "\n",
    "sample=torch.randn(size=(1,3,224,224)).to(device)"
   ]
  },
  {
   "cell_type": "code",
   "execution_count": 216,
   "metadata": {},
   "outputs": [
    {
     "data": {
      "text/plain": [
       "torch.Size([1, 3, 224, 224])"
      ]
     },
     "execution_count": 216,
     "metadata": {},
     "output_type": "execute_result"
    }
   ],
   "source": [
    "sample.shape"
   ]
  },
  {
   "cell_type": "code",
   "execution_count": 217,
   "metadata": {},
   "outputs": [
    {
     "name": "stdout",
     "output_type": "stream",
     "text": [
      "Despues del inception 5b torch.Size([1, 1024, 7, 7])\n",
      "Despues del avg pool torch.Size([1, 1024, 1, 1])\n",
      "Despues de fully connected layer torch.Size([1, 128])\n"
     ]
    }
   ],
   "source": [
    "model_1.eval()\n",
    "with torch.inference_mode():\n",
    "    model_1(sample)"
   ]
  },
  {
   "cell_type": "code",
   "execution_count": null,
   "metadata": {},
   "outputs": [],
   "source": []
  }
 ],
 "metadata": {
  "kernelspec": {
   "display_name": "venv2",
   "language": "python",
   "name": "python3"
  },
  "language_info": {
   "codemirror_mode": {
    "name": "ipython",
    "version": 3
   },
   "file_extension": ".py",
   "mimetype": "text/x-python",
   "name": "python",
   "nbconvert_exporter": "python",
   "pygments_lexer": "ipython3",
   "version": "3.10.11"
  }
 },
 "nbformat": 4,
 "nbformat_minor": 2
}
